{
 "cells": [
  {
   "cell_type": "code",
   "execution_count": 1,
   "metadata": {},
   "outputs": [
    {
     "name": "stdout",
     "output_type": "stream",
     "text": [
      "C:\\Users\\Vincent\\Game-Revenant\\Where-Shadows-Slumber\\App-Store-Analysis\n"
     ]
    }
   ],
   "source": [
    "# Autoreload to accomodate script updates without restarting notebook\n",
    "%load_ext autoreload\n",
    "%autoreload 2\n",
    "# Move to main directory of the Customer-Segmentation project\n",
    "%cd .."
   ]
  },
  {
   "cell_type": "code",
   "execution_count": 2,
   "metadata": {},
   "outputs": [],
   "source": [
    "import pandas as pd\n",
    "import sqlalchemy as sa\n",
    "from pathlib import Path\n",
    "\n",
    "# Pull interim data from SQLite DB\n",
    "\n",
    "DB_NAME = 'app-store'\n",
    "e = sa.create_engine('sqlite:///./data/interim/app-store.sqlite')\n",
    "query = '''\n",
    "        SELECT *, 'action' AS genre FROM iosaction UNION\n",
    "        SELECT *, 'adventure' FROM iosadventure UNION\n",
    "        SELECT *, 'board' FROM iosboard UNION\n",
    "        SELECT *, 'card' FROM ioscard UNION \n",
    "        SELECT *, 'casino' FROM ioscasino UNION\n",
    "        SELECT *, 'casual' FROM ioscasual UNION\n",
    "        SELECT *, 'family' FROM iosfamily UNION\n",
    "        SELECT *, 'music' FROM iosmusic UNION\n",
    "        SELECT *, 'puzzle' FROM iospuzzle UNION\n",
    "        SELECT *, 'racing' FROM iosracing UNION\n",
    "        SELECT *, 'rpg' FROM iosrpg UNION\n",
    "        SELECT *, 'simulation' FROM iossimulation UNION\n",
    "        SELECT *, 'sports' FROM iossports UNION \n",
    "        SELECT *, 'strategy'FROM iosstrategy UNION \n",
    "        SELECT *, 'trivia' FROM iostrivia UNION\n",
    "        SELECT *, 'word' FROM iosword\n",
    "        '''\n",
    "apps = pd.read_sql_query(query, e)"
   ]
  },
  {
   "cell_type": "code",
   "execution_count": 3,
   "metadata": {},
   "outputs": [
    {
     "name": "stdout",
     "output_type": "stream",
     "text": [
      "<class 'pandas.core.frame.DataFrame'>\n",
      "RangeIndex: 380969 entries, 0 to 380968\n",
      "Data columns (total 20 columns):\n",
      "age          380969 non-null object\n",
      "age_copy     380969 non-null object\n",
      "author       380690 non-null object\n",
      "category     380969 non-null object\n",
      "compat       380969 non-null object\n",
      "desc         380969 non-null object\n",
      "editor       1384 non-null object\n",
      "iap          148075 non-null object\n",
      "lang         380969 non-null object\n",
      "list_rank    11006 non-null object\n",
      "nrating      234417 non-null object\n",
      "price        380896 non-null object\n",
      "score        234417 non-null object\n",
      "seller       380969 non-null object\n",
      "size         380969 non-null object\n",
      "stars        234417 non-null object\n",
      "subtitle     121114 non-null object\n",
      "support      380969 non-null object\n",
      "title        380969 non-null object\n",
      "genre        380969 non-null object\n",
      "dtypes: object(20)\n",
      "memory usage: 58.1+ MB\n"
     ]
    }
   ],
   "source": [
    "apps.info()"
   ]
  },
  {
   "cell_type": "code",
   "execution_count": 4,
   "metadata": {},
   "outputs": [],
   "source": [
    "import re\n",
    "import numpy as np\n",
    "\n",
    "# age (categorical)\n",
    "# Age rating for game. Dummy encoded.\n",
    "# Categories are 4+, 9+, 12+, 17+\n",
    "\n",
    "age_encoded = pd.get_dummies(apps['age'])\n",
    "age_encoded.columns = ['age_' + col.replace('+','') for col in age_encoded.columns]\n",
    "apps = pd.concat([apps, age_encoded], axis=1)\n",
    "apps = apps.drop(columns=['age'])\n",
    "\n",
    "# age_copy (str)\n",
    "# Long string containing a variety information, including age rating, memory size, copyright information. \n",
    "# Was initially scraped to get the copyright year, to give estimate of release date. \n",
    "# Copyright year is not included frequently enough, however, so this category was dropped\n",
    "\n",
    "apps = apps.drop(columns=['age_copy'])\n",
    "\n",
    "# author (str)\n",
    "# Author of game. Can be used to consolidate duplicate game titles\n",
    "\n",
    "# category (categorical)\n",
    "# Category of app. Data was scrapped from game storefront, so everything should be listed as 'Games'\n",
    "# There are a few cases where this was not true (e.g. classified as 'Education', or 'Music')\n",
    "# Only concerned with game releases, so we filter for these specifically\n",
    "\n",
    "apps = apps[apps['category'] == 'Games']\n",
    "apps = apps.drop(columns=['category'])\n",
    "\n",
    "# compat (ordinal)\n",
    "# Compatibility of the app. Interested primarily in the minimum OS release requirements. \n",
    "# There are 409 different OS version releases (including minor releases), so we confine our search to major software versions\n",
    "\n",
    "# Very few cases don't contain compatibility information; filter these out\n",
    "apps = apps.dropna(subset=['compat']) \n",
    "# All version requirements starts with the phrase, 'Requires iOS x.x. or later'. First filter for that phrase\n",
    "apps['compat'] = apps['compat'].apply(lambda compat: re.findall(r'Requires\\siOS\\s\\d+', compat)) \n",
    "# Pull out just the major iOS release version. \n",
    "apps['compat'] = apps['compat'].apply(lambda compat: int(re.findall(r'\\d+', compat[0])[0]) if compat else None)\n",
    "# Also filter out apps that are not on iOS (few Apple TV apps)\n",
    "apps = apps.dropna(subset=['compat']) \n",
    "\n",
    "# desc (str)\n",
    "# Description of app. May be interesting to analyze for keywords in the future.\n",
    "# Out-of-scope for this analysis, so it's dropped\n",
    "\n",
    "apps = apps.drop(columns=['desc'])\n",
    "\n",
    "# editor (boolean)\n",
    "# Indicates whether the game was notable enough to receive an 'Editor's Choice' or 'Editor's Note' designation\n",
    "# These recognized games are on the front page most often, and the App Store will promote these apps particularly\n",
    "\n",
    "apps['editor'] = apps['editor'].apply(lambda editor: True if editor else False)\n",
    "\n",
    "# genre (categorical)\n",
    "# Genre of game, based on the page on which the title was scrapped from. Dummy encoded\n",
    "# Note that games can be a part of multiple genres\n",
    "# This was assigned in the SQL code a previous cell. \n",
    "\n",
    "genre_encoded = pd.get_dummies(apps['genre'])\n",
    "genre_encoded.columns = ['gen_' + col.lower() for col in genre_encoded.columns]\n",
    "apps = pd.concat([apps, genre_encoded], axis=1)\n",
    "apps = apps.drop(columns=['genre'])\n",
    "\n",
    "# iap (boolean)\n",
    "# Indicates whether the game contains in-app purchases\n",
    "\n",
    "apps['iap'] = apps['iap'].replace('Offers In-App Purchases', True).fillna(False)\n",
    "\n",
    "# lang (categorical)\n",
    "# Languages the game is available in. Dummy encoded\n",
    "# Hyperparameter 'thresh' limits the number of language categories based on popularity\n",
    "\n",
    "# new category counts number of languages the game is available in\n",
    "apps['lang_cnt'] = apps['lang'].apply(lambda lang: len(lang.split(', ')))\n",
    "\n",
    "lang_encoded = apps['lang'].str.get_dummies(', ')\n",
    "thresh = 0.05 * len(apps)\n",
    "thresh_list = (lang_encoded.sum(axis=0) < thresh).to_list()\n",
    "ind_drop = np.where(thresh_list)\n",
    "lang_encoded = lang_encoded.drop(lang_encoded.columns[ind_drop], axis=1)\n",
    "lang_encoded.columns = ['lang_' + col.replace(' ','_').lower() for col in lang_encoded.columns]\n",
    "\n",
    "apps = pd.concat([apps, lang_encoded], axis=1)\n",
    "apps = apps.drop(columns=['lang'])\n",
    "\n",
    "# list_rank (boolean)\n",
    "# Typically the rank of the game within a given category (assuming the game is ranked)\n",
    "# Field is not strictly limited to rank: it can also contain hardware restrictions ('Only for Apple TV'). \n",
    "# Anticipated release dates can also be found in this field.\n",
    "# Initially seemed like a promising predictive feature, but upon inspection of the data, the ranking system is not consistent.\n",
    "# Games can appear in different genre pages, and be ranked in other genres. Value of rank is inconsistent as well.\n",
    "# Due to the inconsistency of this metric, it was simplified into a boolean: ranked, or not\n",
    "\n",
    "apps['list_rank'] = apps['list_rank'].fillna('').apply(lambda rank: True if re.findall(r'#', rank) else False)\n",
    "\n",
    "# nrating (numeric)\n",
    "# Number ratings the game received\n",
    "\n",
    "apps['nrating'] = apps['nrating'].fillna('0.0') # account for games that haven't been rated\n",
    "# In raw form, if the review count is over a thousand or a million, the abbreviation 'K' or 'M' is used\n",
    "apps['in_K'] = apps['nrating'].apply(lambda nrating: True if re.findall(r'K', nrating) else False)\n",
    "apps['in_M'] = apps['nrating'].apply(lambda nrating: True if re.findall(r'M', nrating) else False)\n",
    "apps['nrating'] = apps['nrating'].apply(lambda nrating: float(re.findall(r'[\\d\\.]+', nrating)[0]))\n",
    "apps['nrating'] = apps.apply(lambda app: 1e3*app['nrating'] \n",
    "                             if app['in_K'] == True \n",
    "                             else app['nrating'], axis=1)\n",
    "apps['nrating'] = apps.apply(lambda app: 1e6*app['nrating'] \n",
    "                             if app['in_M'] == True \n",
    "                             else app['nrating'], axis=1)\n",
    "apps = apps.drop(columns=['in_K', 'in_M'])\n",
    "\n",
    "# price (numeric)\n",
    "# Price of game\n",
    "\n",
    "# we also drop a few cases (73) where a price wasn't listed\n",
    "apps = apps.dropna(subset=['price'])\n",
    "apps['price'] = apps['price'].apply(lambda price: float(re.findall(r'[\\d\\.]+', price)[0]) \n",
    "                                    if price != 'Free' \n",
    "                                    else 0.0)\n",
    "\n",
    "# score (numeric)\n",
    "# Mean score across all ratings. Games that have not been rated will have a NaN assigned in this field\n",
    "\n",
    "apps['score'] = apps['score'].fillna(np.nan).apply(float)\n",
    "\n",
    "# seller (str)\n",
    "# Party that sells the game, usually same as author. Dropped in this project\n",
    "\n",
    "apps = apps.drop(columns=['seller'])\n",
    "\n",
    "# size (float)\n",
    "# Size of game, in MB. Games that are in KB are rounded to 1.0 MB\n",
    "\n",
    "apps['in_KB'] = apps['size'].apply(lambda nrating: True if re.findall(r'KB', nrating) else False)\n",
    "apps['in_GB'] = apps['size'].apply(lambda nrating: True if re.findall(r'GB', nrating) else False)\n",
    "apps['size'] = apps['size'].apply(lambda nrating: float(re.findall(r'[\\d\\.]+', nrating)[0]))\n",
    "apps['size'] = apps.apply(lambda app: 1.0\n",
    "                             if app['in_KB'] == True \n",
    "                             else app['size'], axis=1)\n",
    "apps['size'] = apps.apply(lambda app: 1e3*app['size'] \n",
    "                             if app['in_GB'] == True \n",
    "                             else app['size'], axis=1)\n",
    "apps = apps.drop(columns=['in_KB', 'in_GB'])\n",
    "\n",
    "# stars (numerical)\n",
    "# Rating breakdown for the game\n",
    "# Split into multiple categories, one for each possible rating\n",
    "\n",
    "apps['stars'] = apps['stars'].apply(lambda rating: re.findall(r'\\d+', rating)\n",
    "                                    if rating is not None \n",
    "                                    else [0, 0, 0, 0, 0])\n",
    "apps['star5'] = apps['stars'].apply(lambda rating: float(rating[0]))\n",
    "apps['star4'] = apps['stars'].apply(lambda rating: float(rating[1]))\n",
    "apps['star3'] = apps['stars'].apply(lambda rating: float(rating[2]))\n",
    "apps['star2'] = apps['stars'].apply(lambda rating: float(rating[3]))\n",
    "apps['star1'] = apps['stars'].apply(lambda rating: float(rating[4]))\n",
    "apps = apps.drop(columns=['stars'])\n",
    "\n",
    "# subtitle (str)\n",
    "# Subtitle of game, if it exists. \n",
    "# Could be useful in the future of keyword analysis, but dropped for now\n",
    "\n",
    "apps = apps.drop(columns=['subtitle'])\n",
    "\n",
    "# support (categorical)\n",
    "# iOS supports features such as 'Family Center' and 'Game Center' which can augment a user's experience\n",
    "\n",
    "# one-hot enocde supports category\n",
    "supports_encoded = apps['support'].str.get_dummies(',')\n",
    "supports_encoded.columns = ['sup_' + col.replace(' ','_').lower() for col in supports_encoded.columns]\n",
    "apps = pd.concat([apps, supports_encoded], axis=1)\n",
    "apps = apps.drop(columns=['support'])\n",
    "\n",
    "# title (str)\n",
    "# Title of game\n",
    "# Games can be scrapped multiple times since they can be posted on multiple genre pages\n",
    "# Title can be used to consolidate these duplicates\n",
    "\n",
    "def agg_func(x):\n",
    "    '''Dictate the aggregate function to apply based on the data object type\n",
    "\n",
    "    param x: DataFrame groupby object\n",
    "    '''\n",
    "    if x.dtype in ('float64', 'object'):\n",
    "        return x.mean()\n",
    "    elif x.dtype in ('bool', 'uint8', 'int64'):\n",
    "        return x.max()\n",
    "    else:\n",
    "        print('Unrecognized dtype!')\n",
    "\n",
    "# Duplicate game titles can contain different rating and star values. These are will be averaged\n",
    "# Boolean and integer values are dummy categories, so we mark as True/1 if so in at least one row\n",
    "apps = apps.groupby(['title','author']).agg(agg_func).reset_index()\n",
    "\n",
    "\n",
    "# Once date has been cleaned, we can save the data set to a DB\n",
    "e = sa.create_engine('sqlite:///./data/processed/app-store-clean.sqlite')\n",
    "apps.to_sql('ios', e, if_exists='replace')"
   ]
  },
  {
   "cell_type": "code",
   "execution_count": 5,
   "metadata": {},
   "outputs": [
    {
     "name": "stdout",
     "output_type": "stream",
     "text": [
      "<class 'pandas.core.frame.DataFrame'>\n",
      "RangeIndex: 195732 entries, 0 to 195731\n",
      "Data columns (total 57 columns):\n",
      "index                       195732 non-null int64\n",
      "title                       195732 non-null object\n",
      "author                      195732 non-null object\n",
      "compat                      195732 non-null float64\n",
      "editor                      195732 non-null int64\n",
      "iap                         195732 non-null int64\n",
      "list_rank                   195732 non-null int64\n",
      "nrating                     195732 non-null float64\n",
      "price                       195732 non-null float64\n",
      "score                       119988 non-null float64\n",
      "size                        195732 non-null float64\n",
      "age_12                      195732 non-null int64\n",
      "age_17                      195732 non-null int64\n",
      "age_4                       195732 non-null int64\n",
      "age_9                       195732 non-null int64\n",
      "gen_action                  195732 non-null int64\n",
      "gen_adventure               195732 non-null int64\n",
      "gen_board                   195732 non-null int64\n",
      "gen_card                    195732 non-null int64\n",
      "gen_casino                  195732 non-null int64\n",
      "gen_casual                  195732 non-null int64\n",
      "gen_family                  195732 non-null int64\n",
      "gen_music                   195732 non-null int64\n",
      "gen_puzzle                  195732 non-null int64\n",
      "gen_racing                  195732 non-null int64\n",
      "gen_rpg                     195732 non-null int64\n",
      "gen_simulation              195732 non-null int64\n",
      "gen_sports                  195732 non-null int64\n",
      "gen_strategy                195732 non-null int64\n",
      "gen_trivia                  195732 non-null int64\n",
      "gen_word                    195732 non-null int64\n",
      "lang_cnt                    195732 non-null int64\n",
      "lang_dutch                  195732 non-null int64\n",
      "lang_english                195732 non-null int64\n",
      "lang_french                 195732 non-null int64\n",
      "lang_german                 195732 non-null int64\n",
      "lang_italian                195732 non-null int64\n",
      "lang_japanese               195732 non-null int64\n",
      "lang_korean                 195732 non-null int64\n",
      "lang_polish                 195732 non-null int64\n",
      "lang_portuguese             195732 non-null int64\n",
      "lang_russian                195732 non-null int64\n",
      "lang_simplified_chinese     195732 non-null int64\n",
      "lang_spanish                195732 non-null int64\n",
      "lang_swedish                195732 non-null int64\n",
      "lang_traditional_chinese    195732 non-null int64\n",
      "lang_turkish                195732 non-null int64\n",
      "star5                       195732 non-null float64\n",
      "star4                       195732 non-null float64\n",
      "star3                       195732 non-null float64\n",
      "star2                       195732 non-null float64\n",
      "star1                       195732 non-null float64\n",
      "sup_family_sharing          195732 non-null int64\n",
      "sup_game_center             195732 non-null int64\n",
      "sup_game_controllers        195732 non-null int64\n",
      "sup_siri                    195732 non-null int64\n",
      "sup_wallet                  195732 non-null int64\n",
      "dtypes: float64(10), int64(45), object(2)\n",
      "memory usage: 85.1+ MB\n"
     ]
    }
   ],
   "source": [
    "e = sa.create_engine('sqlite:///./data/interim/app-store.sqlite')\n",
    "apps = pd.read_sql_query('SELECT * FROM ios', e)\n",
    "apps.info()"
   ]
  },
  {
   "cell_type": "markdown",
   "metadata": {},
   "source": [
    "Data is heavily skewed, which will be a problem down the line. Most games are far from successful!"
   ]
  },
  {
   "cell_type": "code",
   "execution_count": 51,
   "metadata": {},
   "outputs": [
    {
     "data": {
      "text/plain": [
       "count    1.956360e+05\n",
       "mean     6.536435e+02\n",
       "std      1.787708e+04\n",
       "min      0.000000e+00\n",
       "25%      0.000000e+00\n",
       "50%      1.000000e+00\n",
       "75%      8.000000e+00\n",
       "max      4.500000e+06\n",
       "Name: nrating, dtype: float64"
      ]
     },
     "execution_count": 51,
     "metadata": {},
     "output_type": "execute_result"
    },
    {
     "data": {
      "image/png": "[encoded data removed]",
      "text/plain": [
       "<Figure size 432x288 with 1 Axes>"
      ]
     },
     "metadata": {
      "needs_background": "light"
     },
     "output_type": "display_data"
    }
   ],
   "source": [
    "apps['nrating'].hist(bins=50)\n",
    "apps['nrating'].describe()"
   ]
  },
  {
   "cell_type": "markdown",
   "metadata": {},
   "source": [
    "CUt down the data set. Shadows has 175 reviews; lets aim for that at 50%"
   ]
  },
  {
   "cell_type": "code",
   "execution_count": 59,
   "metadata": {},
   "outputs": [
    {
     "data": {
      "text/html": [
       "<div>\n",
       "<style scoped>\n",
       "    .dataframe tbody tr th:only-of-type {\n",
       "        vertical-align: middle;\n",
       "    }\n",
       "\n",
       "    .dataframe tbody tr th {\n",
       "        vertical-align: top;\n",
       "    }\n",
       "\n",
       "    .dataframe thead th {\n",
       "        text-align: right;\n",
       "    }\n",
       "</style>\n",
       "<table border=\"1\" class=\"dataframe\">\n",
       "  <thead>\n",
       "    <tr style=\"text-align: right;\">\n",
       "      <th></th>\n",
       "      <th>title</th>\n",
       "      <th>nrating</th>\n",
       "    </tr>\n",
       "  </thead>\n",
       "  <tbody>\n",
       "    <tr>\n",
       "      <th>187663</th>\n",
       "      <td>Where Shadows Slumber</td>\n",
       "      <td>175.0</td>\n",
       "    </tr>\n",
       "  </tbody>\n",
       "</table>\n",
       "</div>"
      ],
      "text/plain": [
       "                        title  nrating\n",
       "187663  Where Shadows Slumber    175.0"
      ]
     },
     "execution_count": 59,
     "metadata": {},
     "output_type": "execute_result"
    }
   ],
   "source": [
    "apps[apps['title']=='Where Shadows Slumber'][['title','nrating']]"
   ]
  },
  {
   "cell_type": "code",
   "execution_count": 60,
   "metadata": {},
   "outputs": [
    {
     "data": {
      "text/plain": [
       "count    2.559300e+04\n",
       "mean     4.974343e+03\n",
       "std      4.920964e+04\n",
       "min      3.650000e+01\n",
       "25%      7.100000e+01\n",
       "50%      1.760000e+02\n",
       "75%      7.255000e+02\n",
       "max      4.500000e+06\n",
       "Name: nrating, dtype: float64"
      ]
     },
     "execution_count": 60,
     "metadata": {},
     "output_type": "execute_result"
    }
   ],
   "source": [
    "apps = apps[apps['nrating']>36]\n",
    "apps['nrating'].describe()"
   ]
  },
  {
   "cell_type": "code",
   "execution_count": 65,
   "metadata": {},
   "outputs": [
    {
     "data": {
      "text/plain": [
       "<matplotlib.axes._subplots.AxesSubplot at 0x7c1aa588>"
      ]
     },
     "execution_count": 65,
     "metadata": {},
     "output_type": "execute_result"
    },
    {
     "data": {
      "image/png": "[encoded data removed]",
      "text/plain": [
       "<Figure size 432x288 with 1 Axes>"
      ]
     },
     "metadata": {
      "needs_background": "light"
     },
     "output_type": "display_data"
    }
   ],
   "source": [
    "apps['nrating'].hist(bins=100)"
   ]
  },
  {
   "cell_type": "code",
   "execution_count": 75,
   "metadata": {},
   "outputs": [
    {
     "data": {
      "text/plain": [
       "(286.0, 1100.0]        5257\n",
       "(61.2, 118.0]          5148\n",
       "(36.499, 61.2]         5119\n",
       "(118.0, 286.0]         5098\n",
       "(1100.0, 4500000.0]    4971\n",
       "Name: nrating, dtype: int64"
      ]
     },
     "execution_count": 75,
     "metadata": {},
     "output_type": "execute_result"
    }
   ],
   "source": [
    "pd.qcut(apps['nrating'], 5).value_counts()"
   ]
  },
  {
   "cell_type": "code",
   "execution_count": 52,
   "metadata": {},
   "outputs": [
    {
     "data": {
      "image/png": "[encoded data removed]",
      "text/plain": [
       "<Figure size 432x288 with 1 Axes>"
      ]
     },
     "metadata": {
      "needs_background": "light"
     },
     "output_type": "display_data"
    }
   ],
   "source": [
    "import seaborn as sns\n",
    "\n",
    "bins = [-1, 35, apps['nrating'].max()+1]\n",
    "labels = ['not rated', 'rated']\n",
    "have_rating = pd.cut(apps['nrating'], bins=bins, labels=labels)\n",
    "ax = sns.countplot(x=have_rating)"
   ]
  },
  {
   "cell_type": "code",
   "execution_count": null,
   "metadata": {},
   "outputs": [],
   "source": [
    "apps[apps['nrating']>36][['score','nrating']].describe()"
   ]
  },
  {
   "cell_type": "code",
   "execution_count": 6,
   "metadata": {},
   "outputs": [],
   "source": [
    "# Filter out games >= $60\n",
    "# 96 games with exorbitant pricing, mostly by one developer, Andrew Kudrin, who prices all his games at $179.99\n",
    "# Highest number of ratings in this price range is 3; most have 0\n",
    "# Maybe the business model is to trick small kids into inadvertantly buying a poorly designed 3D animal game?\n",
    "apps = apps[apps['price']<60]\n",
    "\n"
   ]
  },
  {
   "cell_type": "code",
   "execution_count": 7,
   "metadata": {},
   "outputs": [
    {
     "data": {
      "text/plain": [
       "<matplotlib.axes._subplots.AxesSubplot at 0x8238a9e8>"
      ]
     },
     "execution_count": 7,
     "metadata": {},
     "output_type": "execute_result"
    }
   ],
   "source": [
    "apps[(apps['nrating']>100) & (apps['nrating']<2e3)]['nrating'].hist(bins=100)"
   ]
  },
  {
   "cell_type": "code",
   "execution_count": 8,
   "metadata": {},
   "outputs": [
    {
     "data": {
      "text/plain": [
       "<matplotlib.axes._subplots.AxesSubplot at 0x7d8d9dd8>"
      ]
     },
     "execution_count": 8,
     "metadata": {},
     "output_type": "execute_result"
    },
    {
     "data": {
      "image/png": "[encoded data removed]",
      "text/plain": [
       "<Figure size 432x288 with 1 Axes>"
      ]
     },
     "metadata": {
      "needs_background": "light"
     },
     "output_type": "display_data"
    }
   ],
   "source": [
    "apps[apps['price']>0]['price'].hist(bins=100)"
   ]
  },
  {
   "cell_type": "code",
   "execution_count": 9,
   "metadata": {},
   "outputs": [
    {
     "data": {
      "text/plain": [
       "array([[<matplotlib.axes._subplots.AxesSubplot object at 0x000000007D401F60>,\n",
       "        <matplotlib.axes._subplots.AxesSubplot object at 0x000000007DE0DEF0>],\n",
       "       [<matplotlib.axes._subplots.AxesSubplot object at 0x000000007D72E390>,\n",
       "        <matplotlib.axes._subplots.AxesSubplot object at 0x000000007D704908>],\n",
       "       [<matplotlib.axes._subplots.AxesSubplot object at 0x000000007DCDCE80>,\n",
       "        <matplotlib.axes._subplots.AxesSubplot object at 0x000000007DC75438>]],\n",
       "      dtype=object)"
      ]
     },
     "execution_count": 9,
     "metadata": {},
     "output_type": "execute_result"
    },
    {
     "data": {
      "image/png": "[encoded data removed]",
      "text/plain": [
       "<Figure size 432x288 with 6 Axes>"
      ]
     },
     "metadata": {
      "needs_background": "light"
     },
     "output_type": "display_data"
    }
   ],
   "source": [
    "apps[apps['nrating']>0][['star1','star2','star3','star4','star5']].hist()"
   ]
  },
  {
   "cell_type": "code",
   "execution_count": 10,
   "metadata": {},
   "outputs": [
    {
     "data": {
      "text/plain": [
       "<matplotlib.axes._subplots.AxesSubplot at 0x7d1c7748>"
      ]
     },
     "execution_count": 10,
     "metadata": {},
     "output_type": "execute_result"
    },
    {
     "data": {
      "image/png": "[encoded data removed]",
      "text/plain": [
       "<Figure size 432x288 with 1 Axes>"
      ]
     },
     "metadata": {
      "needs_background": "light"
     },
     "output_type": "display_data"
    }
   ],
   "source": [
    "apps[apps['price']>2]['price'].hist(bins=100)"
   ]
  },
  {
   "cell_type": "code",
   "execution_count": 11,
   "metadata": {},
   "outputs": [
    {
     "data": {
      "text/html": [
       "<div>\n",
       "<style scoped>\n",
       "    .dataframe tbody tr th:only-of-type {\n",
       "        vertical-align: middle;\n",
       "    }\n",
       "\n",
       "    .dataframe tbody tr th {\n",
       "        vertical-align: top;\n",
       "    }\n",
       "\n",
       "    .dataframe thead th {\n",
       "        text-align: right;\n",
       "    }\n",
       "</style>\n",
       "<table border=\"1\" class=\"dataframe\">\n",
       "  <thead>\n",
       "    <tr style=\"text-align: right;\">\n",
       "      <th></th>\n",
       "      <th>title</th>\n",
       "      <th>author</th>\n",
       "    </tr>\n",
       "  </thead>\n",
       "  <tbody>\n",
       "    <tr>\n",
       "      <th>7454</th>\n",
       "      <td>Agnes Bernauer :: SC</td>\n",
       "      <td>Enigram Games</td>\n",
       "    </tr>\n",
       "    <tr>\n",
       "      <th>14572</th>\n",
       "      <td>Aunt Mary Ann :: SC</td>\n",
       "      <td>Enigram Games</td>\n",
       "    </tr>\n",
       "    <tr>\n",
       "      <th>18396</th>\n",
       "      <td>BankoHallen</td>\n",
       "      <td>Frank Kalhoj</td>\n",
       "    </tr>\n",
       "    <tr>\n",
       "      <th>56540</th>\n",
       "      <td>Double Klondike :: SC</td>\n",
       "      <td>Enigram Games</td>\n",
       "    </tr>\n",
       "    <tr>\n",
       "      <th>60756</th>\n",
       "      <td>Eight Off :: SC</td>\n",
       "      <td>Enigram Games</td>\n",
       "    </tr>\n",
       "    <tr>\n",
       "      <th>76881</th>\n",
       "      <td>GOTO Bridge 19</td>\n",
       "      <td>GOTO Games</td>\n",
       "    </tr>\n",
       "    <tr>\n",
       "      <th>99091</th>\n",
       "      <td>Kangaroo :: SC</td>\n",
       "      <td>Enigram Games</td>\n",
       "    </tr>\n",
       "    <tr>\n",
       "      <th>121516</th>\n",
       "      <td>Napoleon's Square One :: SC</td>\n",
       "      <td>Enigram Games</td>\n",
       "    </tr>\n",
       "    <tr>\n",
       "      <th>148001</th>\n",
       "      <td>Russian Solitaire :: SC</td>\n",
       "      <td>Enigram Games</td>\n",
       "    </tr>\n",
       "    <tr>\n",
       "      <th>161588</th>\n",
       "      <td>Spider Two Suits :: SC</td>\n",
       "      <td>Enigram Games</td>\n",
       "    </tr>\n",
       "    <tr>\n",
       "      <th>193133</th>\n",
       "      <td>Yukon :: SC</td>\n",
       "      <td>Enigram Games</td>\n",
       "    </tr>\n",
       "  </tbody>\n",
       "</table>\n",
       "</div>"
      ],
      "text/plain": [
       "                              title         author\n",
       "7454           Agnes Bernauer :: SC  Enigram Games\n",
       "14572           Aunt Mary Ann :: SC  Enigram Games\n",
       "18396                   BankoHallen   Frank Kalhoj\n",
       "56540         Double Klondike :: SC  Enigram Games\n",
       "60756               Eight Off :: SC  Enigram Games\n",
       "76881                GOTO Bridge 19     GOTO Games\n",
       "99091                Kangaroo :: SC  Enigram Games\n",
       "121516  Napoleon's Square One :: SC  Enigram Games\n",
       "148001      Russian Solitaire :: SC  Enigram Games\n",
       "161588       Spider Two Suits :: SC  Enigram Games\n",
       "193133                  Yukon :: SC  Enigram Games"
      ]
     },
     "execution_count": 11,
     "metadata": {},
     "output_type": "execute_result"
    }
   ],
   "source": [
    "apps[apps['price']==59.99][['title','author']]"
   ]
  },
  {
   "cell_type": "code",
   "execution_count": 34,
   "metadata": {},
   "outputs": [
    {
     "data": {
      "text/html": [
       "<div>\n",
       "<style scoped>\n",
       "    .dataframe tbody tr th:only-of-type {\n",
       "        vertical-align: middle;\n",
       "    }\n",
       "\n",
       "    .dataframe tbody tr th {\n",
       "        vertical-align: top;\n",
       "    }\n",
       "\n",
       "    .dataframe thead th {\n",
       "        text-align: right;\n",
       "    }\n",
       "</style>\n",
       "<table border=\"1\" class=\"dataframe\">\n",
       "  <thead>\n",
       "    <tr style=\"text-align: right;\">\n",
       "      <th></th>\n",
       "      <th>score</th>\n",
       "      <th>nrating</th>\n",
       "    </tr>\n",
       "  </thead>\n",
       "  <tbody>\n",
       "    <tr>\n",
       "      <th>count</th>\n",
       "      <td>25593.000000</td>\n",
       "      <td>2.559300e+04</td>\n",
       "    </tr>\n",
       "    <tr>\n",
       "      <th>mean</th>\n",
       "      <td>4.254652</td>\n",
       "      <td>4.974343e+03</td>\n",
       "    </tr>\n",
       "    <tr>\n",
       "      <th>std</th>\n",
       "      <td>0.548423</td>\n",
       "      <td>4.920964e+04</td>\n",
       "    </tr>\n",
       "    <tr>\n",
       "      <th>min</th>\n",
       "      <td>1.000000</td>\n",
       "      <td>3.650000e+01</td>\n",
       "    </tr>\n",
       "    <tr>\n",
       "      <th>25%</th>\n",
       "      <td>4.050000</td>\n",
       "      <td>7.100000e+01</td>\n",
       "    </tr>\n",
       "    <tr>\n",
       "      <th>50%</th>\n",
       "      <td>4.400000</td>\n",
       "      <td>1.760000e+02</td>\n",
       "    </tr>\n",
       "    <tr>\n",
       "      <th>75%</th>\n",
       "      <td>4.600000</td>\n",
       "      <td>7.255000e+02</td>\n",
       "    </tr>\n",
       "    <tr>\n",
       "      <th>max</th>\n",
       "      <td>5.000000</td>\n",
       "      <td>4.500000e+06</td>\n",
       "    </tr>\n",
       "  </tbody>\n",
       "</table>\n",
       "</div>"
      ],
      "text/plain": [
       "              score       nrating\n",
       "count  25593.000000  2.559300e+04\n",
       "mean       4.254652  4.974343e+03\n",
       "std        0.548423  4.920964e+04\n",
       "min        1.000000  3.650000e+01\n",
       "25%        4.050000  7.100000e+01\n",
       "50%        4.400000  1.760000e+02\n",
       "75%        4.600000  7.255000e+02\n",
       "max        5.000000  4.500000e+06"
      ]
     },
     "execution_count": 34,
     "metadata": {},
     "output_type": "execute_result"
    }
   ],
   "source": [
    "apps[apps['nrating']>36][['score','nrating']].describe()"
   ]
  }
 ],
 "metadata": {
  "kernelspec": {
   "display_name": "Python 3",
   "language": "python",
   "name": "python3"
  },
  "language_info": {
   "codemirror_mode": {
    "name": "ipython",
    "version": 3
   },
   "file_extension": ".py",
   "mimetype": "text/x-python",
   "name": "python",
   "nbconvert_exporter": "python",
   "pygments_lexer": "ipython3",
   "version": "3.7.3"
  }
 },
 "nbformat": 4,
 "nbformat_minor": 2
}
