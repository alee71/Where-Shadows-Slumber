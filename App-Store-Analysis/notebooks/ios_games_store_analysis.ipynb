{
 "cells": [
  {
   "cell_type": "markdown",
   "metadata": {},
   "source": [
    "## Motivation\n",
    "\n",
    "## Methods and Results\n",
    "\n",
    "Profiles of games on the iTunes App Store (https://apps.apple.com/us/genre/ios-games/id6014) were scraped using the python package Scrapy. Game profiles were stored in a SQLite database, in a table named after the genre section they were scrapped from. Note that a game can appear in multiple genre sections. The web scraping code may be found in []."
   ]
  },
  {
   "cell_type": "code",
   "execution_count": null,
   "metadata": {},
   "outputs": [],
   "source": [
    "# Autoreload to accomodate script updates without restarting notebook\n",
    "%load_ext autoreload\n",
    "%autoreload 2\n",
    "# Move to main directory of the Customer-Segmentation project\n",
    "%cd .."
   ]
  },
  {
   "cell_type": "code",
   "execution_count": 2,
   "metadata": {},
   "outputs": [],
   "source": [
    "import pandas as pd\n",
    "import sqlalchemy as sa\n",
    "from pathlib import Path\n",
    "\n",
    "# Pull interim data from SQLite DB\n",
    "\n",
    "DB_NAME = 'app-store'\n",
    "e = sa.create_engine('sqlite:///./data/interim/app-store.sqlite')\n",
    "query = '''\n",
    "        SELECT *, 'action' AS genre FROM iosaction UNION\n",
    "        SELECT *, 'adventure' FROM iosadventure UNION\n",
    "        SELECT *, 'board' FROM iosboard UNION\n",
    "        SELECT *, 'card' FROM ioscard UNION \n",
    "        SELECT *, 'casino' FROM ioscasino UNION\n",
    "        SELECT *, 'casual' FROM ioscasual UNION\n",
    "        SELECT *, 'family' FROM iosfamily UNION\n",
    "        SELECT *, 'music' FROM iosmusic UNION\n",
    "        SELECT *, 'puzzle' FROM iospuzzle UNION\n",
    "        SELECT *, 'racing' FROM iosracing UNION\n",
    "        SELECT *, 'rpg' FROM iosrpg UNION\n",
    "        SELECT *, 'simulation' FROM iossimulation UNION\n",
    "        SELECT *, 'sports' FROM iossports UNION \n",
    "        SELECT *, 'strategy'FROM iosstrategy UNION \n",
    "        SELECT *, 'trivia' FROM iostrivia UNION\n",
    "        SELECT *, 'word' FROM iosword\n",
    "        '''\n",
    "apps = pd.read_sql_query(query, e)"
   ]
  },
  {
   "cell_type": "markdown",
   "metadata": {},
   "source": [
    "Loading the data, it is apparent that the data needs be cleaned. Each field is populated by strings, and not all entries were available for each game profile. A sample of the raw data is shown below. "
   ]
  },
  {
   "cell_type": "code",
   "execution_count": 513,
   "metadata": {},
   "outputs": [
    {
     "name": "stdout",
     "output_type": "stream",
     "text": [
      "<class 'pandas.core.frame.DataFrame'>\n",
      "Int64Index: 25593 entries, 2 to 195701\n",
      "Data columns (total 57 columns):\n",
      "title                       25593 non-null object\n",
      "author                      25593 non-null object\n",
      "compat                      25593 non-null float64\n",
      "editor                      25593 non-null int64\n",
      "iap                         25593 non-null int64\n",
      "list_rank                   25593 non-null int64\n",
      "nrating                     25593 non-null float64\n",
      "price                       25593 non-null float64\n",
      "score                       25593 non-null float64\n",
      "size                        25593 non-null float64\n",
      "age_12                      25593 non-null int64\n",
      "age_17                      25593 non-null int64\n",
      "age_4                       25593 non-null int64\n",
      "age_9                       25593 non-null int64\n",
      "gen_action                  25593 non-null int64\n",
      "gen_adventure               25593 non-null int64\n",
      "gen_board                   25593 non-null int64\n",
      "gen_card                    25593 non-null int64\n",
      "gen_casino                  25593 non-null int64\n",
      "gen_casual                  25593 non-null int64\n",
      "gen_family                  25593 non-null int64\n",
      "gen_music                   25593 non-null int64\n",
      "gen_puzzle                  25593 non-null int64\n",
      "gen_racing                  25593 non-null int64\n",
      "gen_rpg                     25593 non-null int64\n",
      "gen_simulation              25593 non-null int64\n",
      "gen_sports                  25593 non-null int64\n",
      "gen_strategy                25593 non-null int64\n",
      "gen_trivia                  25593 non-null int64\n",
      "gen_word                    25593 non-null int64\n",
      "lang_cnt                    25593 non-null int64\n",
      "lang_dutch                  25593 non-null int64\n",
      "lang_english                25593 non-null int64\n",
      "lang_french                 25593 non-null int64\n",
      "lang_german                 25593 non-null int64\n",
      "lang_italian                25593 non-null int64\n",
      "lang_japanese               25593 non-null int64\n",
      "lang_korean                 25593 non-null int64\n",
      "lang_polish                 25593 non-null int64\n",
      "lang_portuguese             25593 non-null int64\n",
      "lang_russian                25593 non-null int64\n",
      "lang_simplified_chinese     25593 non-null int64\n",
      "lang_spanish                25593 non-null int64\n",
      "lang_swedish                25593 non-null int64\n",
      "lang_traditional_chinese    25593 non-null int64\n",
      "lang_turkish                25593 non-null int64\n",
      "star5                       25593 non-null float64\n",
      "star4                       25593 non-null float64\n",
      "star3                       25593 non-null float64\n",
      "star2                       25593 non-null float64\n",
      "star1                       25593 non-null float64\n",
      "sup_family_sharing          25593 non-null int64\n",
      "sup_game_center             25593 non-null int64\n",
      "sup_game_controllers        25593 non-null int64\n",
      "sup_siri                    25593 non-null int64\n",
      "sup_wallet                  25593 non-null int64\n",
      "nrating_cut                 25593 non-null category\n",
      "dtypes: category(1), float64(10), int64(44), object(2)\n",
      "memory usage: 11.2+ MB\n"
     ]
    }
   ],
   "source": [
    "apps.head()\n",
    "apps.info()"
   ]
  },
  {
   "cell_type": "markdown",
   "metadata": {},
   "source": [
    "### Data cleaning\n",
    "\n",
    "Each feature is defined and described in the code cell below, as well as the processing required to organize the raw data into continuous and categorical variables. Cleaning can take some time, to the formatted data set is saved into a database at the end of the code cell."
   ]
  },
  {
   "cell_type": "code",
   "execution_count": 4,
   "metadata": {},
   "outputs": [],
   "source": [
    "import re\n",
    "import numpy as np\n",
    "\n",
    "# age (categorical)\n",
    "# Age rating for game. Dummy encoded.\n",
    "# Categories are 4+, 9+, 12+, 17+\n",
    "\n",
    "age_encoded = pd.get_dummies(apps['age'])\n",
    "age_encoded.columns = ['age_' + col.replace('+','') for col in age_encoded.columns]\n",
    "apps = pd.concat([apps, age_encoded], axis=1)\n",
    "apps = apps.drop(columns=['age'])\n",
    "\n",
    "# age_copy (str)\n",
    "# Long string containing a variety information, including age rating, memory size, copyright information. \n",
    "# Was initially scraped to get the copyright year, to give estimate of release date. \n",
    "# Copyright year is not included frequently enough, however, so this category was dropped\n",
    "\n",
    "apps = apps.drop(columns=['age_copy'])\n",
    "\n",
    "# author (str)\n",
    "# Author of game. Can be used to consolidate duplicate game titles\n",
    "\n",
    "# category (categorical)\n",
    "# Category of app. Data was scrapped from game storefront, so everything should be listed as 'Games'\n",
    "# There are a few cases where this was not true (e.g. classified as 'Education', or 'Music')\n",
    "# Only concerned with game releases, so we filter for these specifically\n",
    "\n",
    "apps = apps[apps['category'] == 'Games']\n",
    "apps = apps.drop(columns=['category'])\n",
    "\n",
    "# compat (ordinal)\n",
    "# Compatibility of the app. Interested primarily in the minimum OS release requirements. \n",
    "# There are 409 different OS version releases (including minor releases), so we confine our search to major software versions\n",
    "\n",
    "# Very few cases don't contain compatibility information; filter these out\n",
    "apps = apps.dropna(subset=['compat']) \n",
    "# All version requirements starts with the phrase, 'Requires iOS x.x. or later'. First filter for that phrase\n",
    "apps['compat'] = apps['compat'].apply(lambda compat: re.findall(r'Requires\\siOS\\s\\d+', compat)) \n",
    "# Pull out just the major iOS release version. \n",
    "apps['compat'] = apps['compat'].apply(lambda compat: int(re.findall(r'\\d+', compat[0])[0]) if compat else None)\n",
    "# Also filter out apps that are not on iOS (few Apple TV apps)\n",
    "apps = apps.dropna(subset=['compat']) \n",
    "\n",
    "# desc (str)\n",
    "# Description of app. May be interesting to analyze for keywords in the future.\n",
    "# Out-of-scope for this analysis, so it's dropped\n",
    "\n",
    "apps = apps.drop(columns=['desc'])\n",
    "\n",
    "# editor (boolean)\n",
    "# Indicates whether the game was notable enough to receive an 'Editor's Choice' or 'Editor's Note' designation\n",
    "# These recognized games are on the front page most often, and the App Store will promote these apps particularly\n",
    "\n",
    "apps['editor'] = apps['editor'].apply(lambda editor: True if editor else False)\n",
    "\n",
    "# genre (categorical)\n",
    "# Genre of game, based on the page on which the title was scrapped from. Dummy encoded\n",
    "# Note that games can be a part of multiple genres\n",
    "# This was assigned in the SQL code a previous cell. \n",
    "\n",
    "genre_encoded = pd.get_dummies(apps['genre'])\n",
    "genre_encoded.columns = ['gen_' + col.lower() for col in genre_encoded.columns]\n",
    "apps = pd.concat([apps, genre_encoded], axis=1)\n",
    "apps = apps.drop(columns=['genre'])\n",
    "\n",
    "# iap (boolean)\n",
    "# Indicates whether the game contains in-app purchases\n",
    "\n",
    "apps['iap'] = apps['iap'].replace('Offers In-App Purchases', True).fillna(False)\n",
    "\n",
    "# lang (categorical)\n",
    "# Languages the game is available in. Dummy encoded\n",
    "# Hyperparameter 'thresh' limits the number of language categories based on popularity\n",
    "\n",
    "# new category counts number of languages the game is available in\n",
    "apps['lang_cnt'] = apps['lang'].apply(lambda lang: len(lang.split(', ')))\n",
    "\n",
    "lang_encoded = apps['lang'].str.get_dummies(', ')\n",
    "thresh = 0.05 * len(apps)\n",
    "thresh_list = (lang_encoded.sum(axis=0) < thresh).to_list()\n",
    "ind_drop = np.where(thresh_list)\n",
    "lang_encoded = lang_encoded.drop(lang_encoded.columns[ind_drop], axis=1)\n",
    "lang_encoded.columns = ['lang_' + col.replace(' ','_').lower() for col in lang_encoded.columns]\n",
    "\n",
    "apps = pd.concat([apps, lang_encoded], axis=1)\n",
    "apps = apps.drop(columns=['lang'])\n",
    "\n",
    "# list_rank (boolean)\n",
    "# Typically the rank of the game within a given category (assuming the game is ranked)\n",
    "# Field is not strictly limited to rank: it can also contain hardware restrictions ('Only for Apple TV'). \n",
    "# Anticipated release dates can also be found in this field.\n",
    "# Initially seemed like a promising predictive feature, but upon inspection of the data, the ranking system is not consistent.\n",
    "# Games can appear in different genre pages, and be ranked in other genres. Value of rank is inconsistent as well.\n",
    "# Due to the inconsistency of this metric, it was simplified into a boolean: ranked, or not\n",
    "\n",
    "apps['list_rank'] = apps['list_rank'].fillna('').apply(lambda rank: True if re.findall(r'#', rank) else False)\n",
    "\n",
    "# nrating (numeric)\n",
    "# Number ratings the game received\n",
    "\n",
    "apps['nrating'] = apps['nrating'].fillna('0.0') # account for games that haven't been rated\n",
    "# In raw form, if the review count is over a thousand or a million, the abbreviation 'K' or 'M' is used\n",
    "apps['in_K'] = apps['nrating'].apply(lambda nrating: True if re.findall(r'K', nrating) else False)\n",
    "apps['in_M'] = apps['nrating'].apply(lambda nrating: True if re.findall(r'M', nrating) else False)\n",
    "apps['nrating'] = apps['nrating'].apply(lambda nrating: float(re.findall(r'[\\d\\.]+', nrating)[0]))\n",
    "apps['nrating'] = apps.apply(lambda app: 1e3*app['nrating'] \n",
    "                             if app['in_K'] == True \n",
    "                             else app['nrating'], axis=1)\n",
    "apps['nrating'] = apps.apply(lambda app: 1e6*app['nrating'] \n",
    "                             if app['in_M'] == True \n",
    "                             else app['nrating'], axis=1)\n",
    "apps = apps.drop(columns=['in_K', 'in_M'])\n",
    "\n",
    "# price (numeric)\n",
    "# Price of game\n",
    "\n",
    "# we also drop a few cases (73) where a price wasn't listed\n",
    "apps = apps.dropna(subset=['price'])\n",
    "apps['price'] = apps['price'].apply(lambda price: float(re.findall(r'[\\d\\.]+', price)[0]) \n",
    "                                    if price != 'Free' \n",
    "                                    else 0.0)\n",
    "\n",
    "# score (numeric)\n",
    "# Mean score across all ratings. Games that have not been rated will have a NaN assigned in this field\n",
    "\n",
    "apps['score'] = apps['score'].fillna(np.nan).apply(float)\n",
    "\n",
    "# seller (str)\n",
    "# Party that sells the game, usually same as author. Dropped in this project\n",
    "\n",
    "apps = apps.drop(columns=['seller'])\n",
    "\n",
    "# size (float)\n",
    "# Size of game, in MB. Games that are in KB are rounded to 1.0 MB\n",
    "\n",
    "apps['in_KB'] = apps['size'].apply(lambda nrating: True if re.findall(r'KB', nrating) else False)\n",
    "apps['in_GB'] = apps['size'].apply(lambda nrating: True if re.findall(r'GB', nrating) else False)\n",
    "apps['size'] = apps['size'].apply(lambda nrating: float(re.findall(r'[\\d\\.]+', nrating)[0]))\n",
    "apps['size'] = apps.apply(lambda app: 1.0\n",
    "                             if app['in_KB'] == True \n",
    "                             else app['size'], axis=1)\n",
    "apps['size'] = apps.apply(lambda app: 1e3*app['size'] \n",
    "                             if app['in_GB'] == True \n",
    "                             else app['size'], axis=1)\n",
    "apps = apps.drop(columns=['in_KB', 'in_GB'])\n",
    "\n",
    "# stars (numerical)\n",
    "# Rating breakdown for the game\n",
    "# Split into multiple categories, one for each possible rating\n",
    "\n",
    "apps['stars'] = apps['stars'].apply(lambda rating: re.findall(r'\\d+', rating)\n",
    "                                    if rating is not None \n",
    "                                    else [0, 0, 0, 0, 0])\n",
    "apps['star5'] = apps['stars'].apply(lambda rating: float(rating[0]))\n",
    "apps['star4'] = apps['stars'].apply(lambda rating: float(rating[1]))\n",
    "apps['star3'] = apps['stars'].apply(lambda rating: float(rating[2]))\n",
    "apps['star2'] = apps['stars'].apply(lambda rating: float(rating[3]))\n",
    "apps['star1'] = apps['stars'].apply(lambda rating: float(rating[4]))\n",
    "apps = apps.drop(columns=['stars'])\n",
    "\n",
    "# subtitle (str)\n",
    "# Subtitle of game, if it exists. \n",
    "# Could be useful in the future of keyword analysis, but dropped for now\n",
    "\n",
    "apps = apps.drop(columns=['subtitle'])\n",
    "\n",
    "# support (categorical)\n",
    "# iOS supports features such as 'Family Center' and 'Game Center' which can augment a user's experience\n",
    "\n",
    "# one-hot enocde supports category\n",
    "supports_encoded = apps['support'].str.get_dummies(',')\n",
    "supports_encoded.columns = ['sup_' + col.replace(' ','_').lower() for col in supports_encoded.columns]\n",
    "apps = pd.concat([apps, supports_encoded], axis=1)\n",
    "apps = apps.drop(columns=['support'])\n",
    "\n",
    "# title (str)\n",
    "# Title of game\n",
    "# Games can be scrapped multiple times since they can be posted on multiple genre pages\n",
    "# Title can be used to consolidate these duplicates\n",
    "\n",
    "def agg_func(x):\n",
    "    '''Dictate the aggregate function to apply based on the data object type\n",
    "\n",
    "    param x: DataFrame groupby object\n",
    "    '''\n",
    "    if x.dtype in ('float64', 'object'):\n",
    "        return x.mean()\n",
    "    elif x.dtype in ('bool', 'uint8', 'int64'):\n",
    "        return x.max()\n",
    "    else:\n",
    "        print('Unrecognized dtype!')\n",
    "\n",
    "# Duplicate game titles can contain different rating and star values. These are will be averaged\n",
    "# Boolean and integer values are dummy categories, so we mark as True/1 if so in at least one row\n",
    "apps = apps.groupby(['title','author']).agg(agg_func).reset_index()\n",
    "\n",
    "\n",
    "# Once date has been cleaned, we can save the data set to a DB\n",
    "e = sa.create_engine('sqlite:///./data/interim/app-store.sqlite')\n",
    "apps.to_sql('iosformatted', e, if_exists='replace', index=False)"
   ]
  },
  {
   "cell_type": "markdown",
   "metadata": {},
   "source": [
    "### Preliminary inspection of data\n",
    "\n",
    "Summary of the formatted data shows that, except for the title and author of the game, each feature has been transformed into a continuous variable (dtype=float64) or a dummy-encoded categorical variable (dtype=int64). Furthermore, the missing values have been accounted for or filled in. Note "
   ]
  },
  {
   "cell_type": "code",
   "execution_count": 578,
   "metadata": {},
   "outputs": [
    {
     "name": "stdout",
     "output_type": "stream",
     "text": [
      "<class 'pandas.core.frame.DataFrame'>\n",
      "RangeIndex: 195732 entries, 0 to 195731\n",
      "Data columns (total 56 columns):\n",
      "title                       195732 non-null object\n",
      "author                      195732 non-null object\n",
      "compat                      195732 non-null float64\n",
      "editor                      195732 non-null int64\n",
      "iap                         195732 non-null int64\n",
      "list_rank                   195732 non-null int64\n",
      "nrating                     195732 non-null float64\n",
      "price                       195732 non-null float64\n",
      "score                       119988 non-null float64\n",
      "size                        195732 non-null float64\n",
      "age_12                      195732 non-null int64\n",
      "age_17                      195732 non-null int64\n",
      "age_4                       195732 non-null int64\n",
      "age_9                       195732 non-null int64\n",
      "gen_action                  195732 non-null int64\n",
      "gen_adventure               195732 non-null int64\n",
      "gen_board                   195732 non-null int64\n",
      "gen_card                    195732 non-null int64\n",
      "gen_casino                  195732 non-null int64\n",
      "gen_casual                  195732 non-null int64\n",
      "gen_family                  195732 non-null int64\n",
      "gen_music                   195732 non-null int64\n",
      "gen_puzzle                  195732 non-null int64\n",
      "gen_racing                  195732 non-null int64\n",
      "gen_rpg                     195732 non-null int64\n",
      "gen_simulation              195732 non-null int64\n",
      "gen_sports                  195732 non-null int64\n",
      "gen_strategy                195732 non-null int64\n",
      "gen_trivia                  195732 non-null int64\n",
      "gen_word                    195732 non-null int64\n",
      "lang_cnt                    195732 non-null int64\n",
      "lang_dutch                  195732 non-null int64\n",
      "lang_english                195732 non-null int64\n",
      "lang_french                 195732 non-null int64\n",
      "lang_german                 195732 non-null int64\n",
      "lang_italian                195732 non-null int64\n",
      "lang_japanese               195732 non-null int64\n",
      "lang_korean                 195732 non-null int64\n",
      "lang_polish                 195732 non-null int64\n",
      "lang_portuguese             195732 non-null int64\n",
      "lang_russian                195732 non-null int64\n",
      "lang_simplified_chinese     195732 non-null int64\n",
      "lang_spanish                195732 non-null int64\n",
      "lang_swedish                195732 non-null int64\n",
      "lang_traditional_chinese    195732 non-null int64\n",
      "lang_turkish                195732 non-null int64\n",
      "star5                       195732 non-null float64\n",
      "star4                       195732 non-null float64\n",
      "star3                       195732 non-null float64\n",
      "star2                       195732 non-null float64\n",
      "star1                       195732 non-null float64\n",
      "sup_family_sharing          195732 non-null int64\n",
      "sup_game_center             195732 non-null int64\n",
      "sup_game_controllers        195732 non-null int64\n",
      "sup_siri                    195732 non-null int64\n",
      "sup_wallet                  195732 non-null int64\n",
      "dtypes: float64(10), int64(44), object(2)\n",
      "memory usage: 83.6+ MB\n"
     ]
    }
   ],
   "source": [
    "e = sa.create_engine('sqlite:///./data/interim/app-store.sqlite')\n",
    "apps = pd.read_sql_query('SELECT * FROM iosformatted', e)\n",
    "apps.info()"
   ]
  },
  {
   "cell_type": "markdown",
   "metadata": {},
   "source": [
    "Data is heavily skewed, which will be a problem down the line. Most games are far from successful!"
   ]
  },
  {
   "cell_type": "code",
   "execution_count": 579,
   "metadata": {},
   "outputs": [
    {
     "data": {
      "text/plain": [
       "count    1.957320e+05\n",
       "mean     6.533230e+02\n",
       "std      1.787270e+04\n",
       "min      0.000000e+00\n",
       "25%      0.000000e+00\n",
       "50%      1.000000e+00\n",
       "75%      8.000000e+00\n",
       "max      4.500000e+06\n",
       "Name: nrating, dtype: float64"
      ]
     },
     "execution_count": 579,
     "metadata": {},
     "output_type": "execute_result"
    },
    {
     "data": {
      "image/png": "[encoded data removed]",
      "text/plain": [
       "<Figure size 432x288 with 1 Axes>"
      ]
     },
     "metadata": {
      "needs_background": "light"
     },
     "output_type": "display_data"
    }
   ],
   "source": [
    "apps['nrating'].hist(bins=50)\n",
    "apps['nrating'].describe()"
   ]
  },
  {
   "cell_type": "markdown",
   "metadata": {},
   "source": [
    "CUt down the data set. Shadows has 175 reviews; lets aim for that at 50%"
   ]
  },
  {
   "cell_type": "code",
   "execution_count": 580,
   "metadata": {},
   "outputs": [
    {
     "data": {
      "text/html": [
       "<div>\n",
       "<style scoped>\n",
       "    .dataframe tbody tr th:only-of-type {\n",
       "        vertical-align: middle;\n",
       "    }\n",
       "\n",
       "    .dataframe tbody tr th {\n",
       "        vertical-align: top;\n",
       "    }\n",
       "\n",
       "    .dataframe thead th {\n",
       "        text-align: right;\n",
       "    }\n",
       "</style>\n",
       "<table border=\"1\" class=\"dataframe\">\n",
       "  <thead>\n",
       "    <tr style=\"text-align: right;\">\n",
       "      <th></th>\n",
       "      <th>title</th>\n",
       "      <th>nrating</th>\n",
       "    </tr>\n",
       "  </thead>\n",
       "  <tbody>\n",
       "    <tr>\n",
       "      <th>187663</th>\n",
       "      <td>Where Shadows Slumber</td>\n",
       "      <td>175.0</td>\n",
       "    </tr>\n",
       "  </tbody>\n",
       "</table>\n",
       "</div>"
      ],
      "text/plain": [
       "                        title  nrating\n",
       "187663  Where Shadows Slumber    175.0"
      ]
     },
     "execution_count": 580,
     "metadata": {},
     "output_type": "execute_result"
    }
   ],
   "source": [
    "apps[apps['title']=='Where Shadows Slumber'][['title','nrating']]"
   ]
  },
  {
   "cell_type": "code",
   "execution_count": 581,
   "metadata": {},
   "outputs": [
    {
     "data": {
      "text/plain": [
       "count    2.559300e+04\n",
       "mean     4.974343e+03\n",
       "std      4.920964e+04\n",
       "min      3.650000e+01\n",
       "25%      7.100000e+01\n",
       "50%      1.760000e+02\n",
       "75%      7.255000e+02\n",
       "max      4.500000e+06\n",
       "Name: nrating, dtype: float64"
      ]
     },
     "execution_count": 581,
     "metadata": {},
     "output_type": "execute_result"
    }
   ],
   "source": [
    "apps = apps[apps['nrating']>36]\n",
    "apps['nrating'].describe()"
   ]
  },
  {
   "cell_type": "code",
   "execution_count": 582,
   "metadata": {},
   "outputs": [
    {
     "data": {
      "text/plain": [
       "2    0.440706\n",
       "1    0.355332\n",
       "3    0.148986\n",
       "4    0.054976\n",
       "Name: nrating_cut, dtype: float64"
      ]
     },
     "execution_count": 582,
     "metadata": {},
     "output_type": "execute_result"
    }
   ],
   "source": [
    "bins = [36, 100, 1000, 10000, np.inf]\n",
    "labels=[1, 2, 3, 4]\n",
    "apps['nrating_cut'] = pd.cut(apps['nrating'], bins=bins, labels=labels)\n",
    "apps['nrating_cut'].value_counts() / len(apps)"
   ]
  },
  {
   "cell_type": "code",
   "execution_count": 583,
   "metadata": {},
   "outputs": [
    {
     "data": {
      "text/plain": [
       "2    0.440711\n",
       "1    0.355343\n",
       "3    0.149053\n",
       "4    0.054894\n",
       "Name: nrating_cut, dtype: float64"
      ]
     },
     "execution_count": 583,
     "metadata": {},
     "output_type": "execute_result"
    }
   ],
   "source": [
    "from sklearn.model_selection import StratifiedShuffleSplit\n",
    "\n",
    "split = StratifiedShuffleSplit(n_splits=1, test_size=0.2, random_state=42)\n",
    "for train_ind, test_ind in split.split(apps, apps['nrating_cut']):\n",
    "    train_set, test_set = apps.iloc[train_ind], apps.iloc[test_ind]\n",
    "\n",
    "test_set['nrating_cut'].value_counts() / len(test_set)"
   ]
  },
  {
   "cell_type": "code",
   "execution_count": 584,
   "metadata": {},
   "outputs": [
    {
     "data": {
      "text/html": [
       "<div>\n",
       "<style scoped>\n",
       "    .dataframe tbody tr th:only-of-type {\n",
       "        vertical-align: middle;\n",
       "    }\n",
       "\n",
       "    .dataframe tbody tr th {\n",
       "        vertical-align: top;\n",
       "    }\n",
       "\n",
       "    .dataframe thead th {\n",
       "        text-align: right;\n",
       "    }\n",
       "</style>\n",
       "<table border=\"1\" class=\"dataframe\">\n",
       "  <thead>\n",
       "    <tr style=\"text-align: right;\">\n",
       "      <th></th>\n",
       "      <th>title</th>\n",
       "      <th>author</th>\n",
       "    </tr>\n",
       "  </thead>\n",
       "  <tbody>\n",
       "    <tr>\n",
       "      <th>count</th>\n",
       "      <td>20474</td>\n",
       "      <td>20474</td>\n",
       "    </tr>\n",
       "    <tr>\n",
       "      <th>unique</th>\n",
       "      <td>20459</td>\n",
       "      <td>7960</td>\n",
       "    </tr>\n",
       "    <tr>\n",
       "      <th>top</th>\n",
       "      <td>Mannequin Challenge</td>\n",
       "      <td>Big Fish Games, Inc</td>\n",
       "    </tr>\n",
       "    <tr>\n",
       "      <th>freq</th>\n",
       "      <td>2</td>\n",
       "      <td>238</td>\n",
       "    </tr>\n",
       "  </tbody>\n",
       "</table>\n",
       "</div>"
      ],
      "text/plain": [
       "                      title               author\n",
       "count                 20474                20474\n",
       "unique                20459                 7960\n",
       "top     Mannequin Challenge  Big Fish Games, Inc\n",
       "freq                      2                  238"
      ]
     },
     "execution_count": 584,
     "metadata": {},
     "output_type": "execute_result"
    }
   ],
   "source": [
    "train_set[['title','author']].describe()"
   ]
  },
  {
   "cell_type": "code",
   "execution_count": 585,
   "metadata": {},
   "outputs": [],
   "source": [
    "\n",
    "\n",
    "e = sa.create_engine('sqlite:///./data/processed/app-store.sqlite')\n",
    "test_set.to_sql('test_set', e, if_exists='replace')\n",
    "train_set.to_sql('train_set', e, if_exists='replace')"
   ]
  },
  {
   "cell_type": "code",
   "execution_count": 586,
   "metadata": {},
   "outputs": [],
   "source": [
    "test_label = test_set['nrating'].copy()\n",
    "test_identity = test_set[['title','author']].copy()\n",
    "test_set = test_set.drop(columns=['nrating_cut','nrating','title','author'])\n",
    "\n",
    "train_label = train_set['nrating'].copy()\n",
    "train_identity = train_set[['title','author']].copy()\n",
    "train_set = train_set.drop(columns=['nrating_cut','nrating','title','author'])"
   ]
  },
  {
   "cell_type": "code",
   "execution_count": 568,
   "metadata": {},
   "outputs": [],
   "source": [
    "\n",
    "train_label = train_set['nrating'].copy()\n",
    "train_set = train_set.drop(columns='nrating')\n",
    "\n",
    "numeric_feat = train_set.dtypes[train_set.dtypes == 'float64'].index\n",
    "\n"
   ]
  },
  {
   "cell_type": "code",
   "execution_count": 497,
   "metadata": {},
   "outputs": [
    {
     "data": {
      "text/plain": [
       "array([[<matplotlib.axes._subplots.AxesSubplot object at 0x00000000756283C8>,\n",
       "        <matplotlib.axes._subplots.AxesSubplot object at 0x0000000072BC4320>,\n",
       "        <matplotlib.axes._subplots.AxesSubplot object at 0x0000000072B9C860>],\n",
       "       [<matplotlib.axes._subplots.AxesSubplot object at 0x000000007531ADD8>,\n",
       "        <matplotlib.axes._subplots.AxesSubplot object at 0x000000003BB99390>,\n",
       "        <matplotlib.axes._subplots.AxesSubplot object at 0x000000003BB76908>],\n",
       "       [<matplotlib.axes._subplots.AxesSubplot object at 0x0000000058772E80>,\n",
       "        <matplotlib.axes._subplots.AxesSubplot object at 0x000000007907B470>,\n",
       "        <matplotlib.axes._subplots.AxesSubplot object at 0x000000007907B4A8>]],\n",
       "      dtype=object)"
      ]
     },
     "execution_count": 497,
     "metadata": {},
     "output_type": "execute_result"
    },
    {
     "data": {
      "image/png": "[encoded data removed]",
      "text/plain": [
       "<Figure size 576x576 with 9 Axes>"
      ]
     },
     "metadata": {
      "needs_background": "light"
     },
     "output_type": "display_data"
    }
   ],
   "source": [
    "train_set[numeric_feat].hist(bins=10, figsize=(8,8))"
   ]
  },
  {
   "cell_type": "raw",
   "metadata": {},
   "source": []
  },
  {
   "cell_type": "code",
   "execution_count": 479,
   "metadata": {},
   "outputs": [],
   "source": [
    "from sklearn.base import BaseEstimator, TransformerMixin\n",
    "from scipy.stats import skew\n",
    "from scipy.stats import boxcox\n",
    "\n",
    "\n",
    "class SkewCorrector(BaseEstimator, TransformerMixin):\n",
    "    \n",
    "    def __init__(self, skew_bound=0.2): # skew_bound is amount of skew that is acceptable\n",
    "        self.skew_bound = skew_bound\n",
    "        \n",
    "    def fit(self, X, y=None):\n",
    "        return self\n",
    "    \n",
    "    def transform(self, X, y=None):\n",
    "        X_val = X.to_numpy()\n",
    "        \n",
    "        # different distributions require different transforms; indicies are defined below for specific data types\n",
    "        ind_skewed = np.absolute(skew(X_val)) > self.skew_bound\n",
    "        ind_right_skew = skew(X_val) > 0\n",
    "        ind_left_skew = skew(X_val) < 0\n",
    "        ind_no_zeros = [0 not in X_val[:,col] for col in np.arange(X_val.shape[1])]\n",
    "        ind_has_zeros = [0 in X_val[:,col] for col in np.arange(X_val.shape[1])]\n",
    "        # if all elements in a feature column are positive, the sum of all those should be equal to the number of rows in that feature matrix\n",
    "        ind_positive = [np.sign(X_val[:,col]).sum() == X_val.shape[0] for col in np.arange(X_val.shape[1])]\n",
    "\n",
    "        # transform right and left skewed data that does not include zero values with boxcox\n",
    "        X_trans, _ = np.apply_along_axis(boxcox, 0, X_val[:,ind_skewed & ind_no_zeros & ind_positive]) # returns list of arrays\n",
    "        X_val[:,ind_skewed & ind_no_zeros & ind_positive] = np.vstack(X_trans).T\n",
    "        \n",
    "        # transform right skewed data that contains zero values with log plus one\n",
    "        X_trans = np.log1p(X_val[:,ind_skewed & ind_right_skew & ind_has_zeros])\n",
    "        X_val[:,ind_skewed * ind_right_skew * ind_has_zeros] = X_trans\n",
    "        \n",
    "        # transform left skewed data that contains zero values by increasing power incrementally\n",
    "        for pwr in range(2, 5): #arbitarily set the power limit to 5; maybe make this a user-defined parameter?\n",
    "            X_trans = X_val[:,ind_skewed * ind_left_skew * ind_has_zeros]**pwr\n",
    "            if skew(X_trans) < self.skew_bound:\n",
    "                break\n",
    "        \n",
    "        X_val[:,ind_skewed * ind_left_skew * ind_has_zeros] = X_trans\n",
    "        \n",
    "        # Update the input data frame with transformed values\n",
    "        X_out = pd.DataFrame(X_val, index=X.index, columns=X.columns)\n",
    "        return X_out\n",
    "        \n",
    "        "
   ]
  },
  {
   "cell_type": "code",
   "execution_count": 486,
   "metadata": {},
   "outputs": [],
   "source": [
    "from sklearn.pipeline import Pipeline\n",
    "from sklearn.preprocessing import StandardScaler\n",
    "from sklearn.compose import ColumnTransformer\n",
    "\n",
    "num_pipeline = Pipeline([\n",
    "    ('trans_skew', SkewCorrector(skew_bound=0.2)),\n",
    "    ('std_scaler', StandardScaler())\n",
    "])\n",
    "\n",
    "numeric_feat = train_set.dtypes[train_set.dtypes == 'float64'].index\n",
    "cat_feat = train_set.dtypes[train_set.dtypes != 'float64'].index\n",
    "\n",
    "\n",
    "full_pipeline = ColumnTransformer([\n",
    "    ('num', num_pipeline, numeric_feat)\n",
    "])"
   ]
  },
  {
   "cell_type": "code",
   "execution_count": 496,
   "metadata": {},
   "outputs": [
    {
     "data": {
      "text/plain": [
       "array([[<matplotlib.axes._subplots.AxesSubplot object at 0x000000005A2415C0>,\n",
       "        <matplotlib.axes._subplots.AxesSubplot object at 0x000000004DD63828>,\n",
       "        <matplotlib.axes._subplots.AxesSubplot object at 0x0000000066B6DDA0>],\n",
       "       [<matplotlib.axes._subplots.AxesSubplot object at 0x000000004AA8B358>,\n",
       "        <matplotlib.axes._subplots.AxesSubplot object at 0x000000004AA978D0>,\n",
       "        <matplotlib.axes._subplots.AxesSubplot object at 0x0000000076EF9E48>],\n",
       "       [<matplotlib.axes._subplots.AxesSubplot object at 0x0000000058220400>,\n",
       "        <matplotlib.axes._subplots.AxesSubplot object at 0x00000000582139B0>,\n",
       "        <matplotlib.axes._subplots.AxesSubplot object at 0x00000000582139E8>]],\n",
       "      dtype=object)"
      ]
     },
     "execution_count": 496,
     "metadata": {},
     "output_type": "execute_result"
    },
    {
     "data": {
      "image/png": "[encoded data removed]",
      "text/plain": [
       "<Figure size 576x576 with 9 Axes>"
      ]
     },
     "metadata": {
      "needs_background": "light"
     },
     "output_type": "display_data"
    }
   ],
   "source": [
    "train_set_processed = train_set.copy()\n",
    "\n",
    "train_set_processed[numeric_feat] = full_pipeline.fit_transform(train_set[numeric_feat])\n",
    "train_set_processed[numeric_feat].hist(bins=10, figsize=(8,8))"
   ]
  },
  {
   "cell_type": "markdown",
   "metadata": {},
   "source": [
    "Once the processing pipeline is complete, the training data can now be fitted. A number of different models were tried, mostly using the default hyperparameters. \n",
    "\n",
    "The following regressors were evaluated: linear regression, elastic net, stochastic gradient descent, linear support vector, k-nearest neighbor, random forest, and gradient tree boosting. "
   ]
  },
  {
   "cell_type": "code",
   "execution_count": 20,
   "metadata": {},
   "outputs": [],
   "source": [
    "from sklearn.model_selection import cross_val_score\n",
    "\n",
    "def show_cv_result(scores):\n",
    "    '''Print mean and standard deviation of an array of cross validation scores'''\n",
    "    print(f'Cross validation mean score is : {np.mean(scores)} ± {np.std(scores)}')"
   ]
  },
  {
   "cell_type": "code",
   "execution_count": 500,
   "metadata": {},
   "outputs": [
    {
     "name": "stdout",
     "output_type": "stream",
     "text": [
      "Cross validation mean score is : 8936.187354307613 ± 386.89372868964784\n"
     ]
    }
   ],
   "source": [
    "from sklearn.linear_model import LinearRegression\n",
    "\n",
    "reg = LinearRegression()\n",
    "reg.fit(train_set_processed, train_label)\n",
    "\n",
    "scores = cross_val_score(reg, train_set_processed, train_label, scoring='neg_mean_absolute_error', cv=10)\n",
    "show_cv_result(-scores)"
   ]
  },
  {
   "cell_type": "code",
   "execution_count": 501,
   "metadata": {},
   "outputs": [
    {
     "name": "stdout",
     "output_type": "stream",
     "text": [
      "Cross validation mean score is : 7605.436540629622 ± 471.15271783392114\n"
     ]
    }
   ],
   "source": [
    "from sklearn.linear_model import ElasticNet\n",
    "\n",
    "reg = ElasticNet()\n",
    "reg.fit(train_set_processed, train_label)\n",
    "\n",
    "scores = cross_val_score(reg, train_set_processed, train_label, scoring='neg_mean_absolute_error', cv=10)\n",
    "show_cv_result(-scores)"
   ]
  },
  {
   "cell_type": "code",
   "execution_count": 503,
   "metadata": {},
   "outputs": [
    {
     "name": "stdout",
     "output_type": "stream",
     "text": [
      "Cross validation mean score is : 4559.014655659934 ± 663.0066933862485\n"
     ]
    }
   ],
   "source": [
    "from sklearn.linear_model import SGDRegressor\n",
    "\n",
    "reg = SGDRegressor(loss='huber',max_iter=1000, tol=1e-3)\n",
    "reg.fit(train_set_processed, train_label)\n",
    "\n",
    "scores = cross_val_score(reg, train_set_processed, train_label, scoring='neg_mean_absolute_error', cv=10)\n",
    "show_cv_result(-scores)"
   ]
  },
  {
   "cell_type": "code",
   "execution_count": 505,
   "metadata": {},
   "outputs": [
    {
     "name": "stdout",
     "output_type": "stream",
     "text": [
      "Cross validation mean score is : 4521.5175046609165 ± 660.8778698301672\n"
     ]
    }
   ],
   "source": [
    "from sklearn.svm import LinearSVR\n",
    "\n",
    "reg = LinearSVR()\n",
    "reg.fit(train_set_processed, train_label)\n",
    "\n",
    "scores = cross_val_score(reg, train_set_processed, train_label, scoring='neg_mean_absolute_error', cv=10)\n",
    "show_cv_result(-scores)"
   ]
  },
  {
   "cell_type": "code",
   "execution_count": 506,
   "metadata": {},
   "outputs": [
    {
     "name": "stdout",
     "output_type": "stream",
     "text": [
      "Cross validation mean score is : 6146.97995669237 ± 441.870128251233\n"
     ]
    }
   ],
   "source": [
    "from sklearn.neighbors import KNeighborsRegressor\n",
    "\n",
    "reg = KNeighborsRegressor()\n",
    "reg.fit(train_set_processed, train_label)\n",
    "\n",
    "scores = cross_val_score(reg, train_set_processed, train_label, scoring='neg_mean_absolute_error', cv=10)\n",
    "show_cv_result(-scores)"
   ]
  },
  {
   "cell_type": "markdown",
   "metadata": {},
   "source": [
    "Since random forest and gradient tree boosting both rely on decision trees (non-parametric), there is no need to standardize the input data, or correct for skew. "
   ]
  },
  {
   "cell_type": "code",
   "execution_count": 507,
   "metadata": {},
   "outputs": [
    {
     "name": "stdout",
     "output_type": "stream",
     "text": [
      "Cross validation mean score is : 5829.337069163397 ± 383.14539686508374\n"
     ]
    }
   ],
   "source": [
    "from sklearn.ensemble import RandomForestRegressor\n",
    "\n",
    "reg = RandomForestRegressor(n_estimators=100)\n",
    "reg.fit(train_set, train_label)\n",
    "\n",
    "scores = cross_val_score(reg, train_set, train_label, scoring='neg_mean_absolute_error', cv=10)\n",
    "show_cv_result(-scores)"
   ]
  },
  {
   "cell_type": "code",
   "execution_count": 652,
   "metadata": {},
   "outputs": [
    {
     "name": "stdout",
     "output_type": "stream",
     "text": [
      "Cross validation mean score is : 4296.625103862308 ± 623.1070420393522\n"
     ]
    }
   ],
   "source": [
    "from sklearn.ensemble import GradientBoostingRegressor\n",
    "\n",
    "reg = GradientBoostingRegressor(loss='huber')\n",
    "reg.fit(train_set, train_label)\n",
    "\n",
    "scores = cross_val_score(reg, train_set, train_label, scoring='neg_mean_absolute_error', cv=10)\n",
    "show_cv_result(-scores)"
   ]
  },
  {
   "cell_type": "markdown",
   "metadata": {},
   "source": [
    "With the lowest MAE, the best models to optimize further are stochastic gradient descent regression, linear support vector regression, and gradient boosted regression trees.  A grid search was performed to find the optimal hyperparameters. "
   ]
  },
  {
   "cell_type": "code",
   "execution_count": 510,
   "metadata": {},
   "outputs": [
    {
     "data": {
      "text/plain": [
       "4544.319789206268"
      ]
     },
     "execution_count": 510,
     "metadata": {},
     "output_type": "execute_result"
    }
   ],
   "source": [
    "from sklearn.model_selection import GridSearchCV\n",
    "\n",
    "param_grid = [\n",
    "    {\n",
    "        'penalty': ['none', 'elasticnet'],\n",
    "        'loss': ['huber', 'epsilon_insensitive'],\n",
    "        'alpha': [1, 0.1, 1e-2, 1e-3, 1e-4],\n",
    "        'learning_rate': ['invscaling', 'adaptive']\n",
    "    }\n",
    "]\n",
    "\n",
    "reg = SGDRegressor(max_iter=2000, tol=1e-3, early_stopping=True)\n",
    "\n",
    "sgd_grid = GridSearchCV(reg, param_grid, cv=5, scoring='neg_mean_absolute_error', return_train_score=True)\n",
    "sgd_grid.fit(train_set_processed, train_label)\n",
    "-sgd_grid.best_score_"
   ]
  },
  {
   "cell_type": "code",
   "execution_count": 511,
   "metadata": {},
   "outputs": [
    {
     "data": {
      "text/plain": [
       "4507.641075104035"
      ]
     },
     "execution_count": 511,
     "metadata": {},
     "output_type": "execute_result"
    }
   ],
   "source": [
    "param_grid = [\n",
    "    {\n",
    "        'epsilon': [0, .1, 1, 10, 100],\n",
    "        'C': [1, 10, 100, 1000]\n",
    "    }\n",
    "]\n",
    "\n",
    "reg = LinearSVR(max_iter=10000)\n",
    "\n",
    "svr_grid = GridSearchCV(reg, param_grid, cv=5, scoring='neg_mean_absolute_error', return_train_score=True)\n",
    "svr_grid.fit(train_set_processed, train_label)\n",
    "-svr_grid.best_score_"
   ]
  },
  {
   "cell_type": "code",
   "execution_count": 631,
   "metadata": {},
   "outputs": [
    {
     "data": {
      "text/plain": [
       "4166.171120076264"
      ]
     },
     "execution_count": 631,
     "metadata": {},
     "output_type": "execute_result"
    }
   ],
   "source": [
    "param_grid = [\n",
    "    {\n",
    "        'max_depth': [3, 9],\n",
    "        'learning_rate': [0.01, 0.1, 1],\n",
    "        'loss' : ['huber', 'lad']\n",
    "    }\n",
    "]\n",
    "\n",
    "reg = GradientBoostingRegressor()\n",
    "\n",
    "gbr_grid = GridSearchCV(reg, param_grid, cv=5, scoring='neg_mean_absolute_error', return_train_score=True)\n",
    "gbr_grid.fit(train_set, train_label)\n",
    "-gbr_grid.best_score_"
   ]
  },
  {
   "cell_type": "code",
   "execution_count": 633,
   "metadata": {},
   "outputs": [],
   "source": [
    "sgd_predict = sgd_grid.best_estimator_.predict(train_set_processed)\n",
    "svr_predict = svr_grid.best_estimator_.predict(train_set_processed)\n",
    "gbr_predict = gbr_grid.best_estimator_.predict(train_set)\n",
    "\n"
   ]
  },
  {
   "cell_type": "code",
   "execution_count": 643,
   "metadata": {},
   "outputs": [
    {
     "data": {
      "text/plain": [
       "4009.363581592267"
      ]
     },
     "execution_count": 643,
     "metadata": {},
     "output_type": "execute_result"
    }
   ],
   "source": [
    "from sklearn.metrics import mean_absolute_error\n",
    "\n",
    "mean_absolute_error(train_label, gbr_predict)"
   ]
  },
  {
   "cell_type": "code",
   "execution_count": 640,
   "metadata": {},
   "outputs": [
    {
     "data": {
      "text/plain": [
       "160623        65.0\n",
       "166999        56.0\n",
       "45625       4700.0\n",
       "62876        536.0\n",
       "186893        45.0\n",
       "2070         314.0\n",
       "67425        101.0\n",
       "119446      1100.0\n",
       "130642     38300.0\n",
       "144544        50.0\n",
       "173944       329.0\n",
       "186884        41.0\n",
       "22588         62.5\n",
       "21241      10050.0\n",
       "92322         81.0\n",
       "94352        551.0\n",
       "21378       1500.0\n",
       "150224       257.0\n",
       "168208        77.5\n",
       "140996        88.5\n",
       "19844       3300.0\n",
       "149824        72.0\n",
       "101718        53.0\n",
       "549          565.0\n",
       "164828       348.5\n",
       "48155         53.0\n",
       "15859         70.0\n",
       "182823        47.0\n",
       "28360         84.0\n",
       "172539       334.0\n",
       "            ...   \n",
       "31726        139.0\n",
       "98585        866.0\n",
       "127580       163.0\n",
       "7574         364.0\n",
       "102500       424.0\n",
       "158342        46.0\n",
       "81439       1900.0\n",
       "151056        60.5\n",
       "169352        59.0\n",
       "141127       413.0\n",
       "73680         82.0\n",
       "18929       7500.0\n",
       "140418        61.0\n",
       "167601       226.0\n",
       "102484        66.0\n",
       "104606        49.0\n",
       "152588       250.0\n",
       "7349         215.5\n",
       "133676       157.5\n",
       "107371       384.5\n",
       "77121     136250.0\n",
       "160636     64700.0\n",
       "21710        209.0\n",
       "78052       2800.0\n",
       "108041      1400.0\n",
       "158789       273.0\n",
       "158784      2400.0\n",
       "189710       103.0\n",
       "281          244.0\n",
       "75762        156.0\n",
       "Name: nrating, Length: 20474, dtype: float64"
      ]
     },
     "execution_count": 640,
     "metadata": {},
     "output_type": "execute_result"
    }
   ],
   "source": [
    "train_label"
   ]
  },
  {
   "cell_type": "code",
   "execution_count": 641,
   "metadata": {},
   "outputs": [
    {
     "data": {
      "text/plain": [
       "array([   84.58844831,   243.79674016, 14254.48850252,   410.79655393,\n",
       "         105.62904425,   943.46659101,   139.66615128,   302.72178406,\n",
       "        2843.65311319,    60.4147998 ])"
      ]
     },
     "execution_count": 641,
     "metadata": {},
     "output_type": "execute_result"
    }
   ],
   "source": [
    "gbr_predict[0:10]"
   ]
  },
  {
   "cell_type": "code",
   "execution_count": 642,
   "metadata": {},
   "outputs": [
    {
     "data": {
      "text/plain": [
       "160623       65.0\n",
       "166999       56.0\n",
       "45625      4700.0\n",
       "62876       536.0\n",
       "186893       45.0\n",
       "2070        314.0\n",
       "67425       101.0\n",
       "119446     1100.0\n",
       "130642    38300.0\n",
       "144544       50.0\n",
       "Name: nrating, dtype: float64"
      ]
     },
     "execution_count": 642,
     "metadata": {},
     "output_type": "execute_result"
    }
   ],
   "source": [
    "train_label.head(10)"
   ]
  },
  {
   "cell_type": "code",
   "execution_count": 637,
   "metadata": {},
   "outputs": [
    {
     "data": {
      "text/plain": [
       "4514.379583068911"
      ]
     },
     "execution_count": 637,
     "metadata": {},
     "output_type": "execute_result"
    }
   ],
   "source": [
    "mean_absolute_error(np.vstack((sgd_predict, svr_predict, gbr_predict)).mean(axis=0), train_label)"
   ]
  },
  {
   "cell_type": "code",
   "execution_count": null,
   "metadata": {},
   "outputs": [],
   "source": [
    "test_set = test_set.drop(columns=['nrating_cut','title','author'])\n",
    "train_identity = train_set[['title','author']]\n",
    "train_set = train_set.drop(columns=['nrating_cut','title','author'])\n",
    "\n",
    "train_set_processed = train_set.copy()\n",
    "\n",
    "train_set_processed[numeric_feat] = full_pipeline.fit_transform(train_set[numeric_feat])\n",
    "train_set_processed[numeric_feat].hist(bins=10, figsize=(8,8))\n",
    "\n"
   ]
  },
  {
   "cell_type": "code",
   "execution_count": 653,
   "metadata": {},
   "outputs": [
    {
     "data": {
      "text/plain": [
       "5944.916306942973"
      ]
     },
     "execution_count": 653,
     "metadata": {},
     "output_type": "execute_result"
    },
    {
     "data": {
      "image/png": "[encoded data removed]",
      "text/plain": [
       "<Figure size 576x576 with 9 Axes>"
      ]
     },
     "metadata": {
      "needs_background": "light"
     },
     "output_type": "display_data"
    }
   ],
   "source": [
    "test_set_processed = test_set.copy()\n",
    "\n",
    "test_set_processed[numeric_feat] = full_pipeline.fit_transform(test_set[numeric_feat])\n",
    "test_set_processed[numeric_feat].hist(bins=10, figsize=(8,8))\n",
    "\n",
    "\n",
    "test_predict = gbr_grid.best_estimator_.predict(test_set)\n",
    "\n",
    "mean_absolute_error(test_label, test_predict)"
   ]
  },
  {
   "cell_type": "code",
   "execution_count": 655,
   "metadata": {},
   "outputs": [
    {
     "data": {
      "text/plain": [
       "array([787.43234331])"
      ]
     },
     "execution_count": 655,
     "metadata": {},
     "output_type": "execute_result"
    }
   ],
   "source": [
    "test_predict[test_identity['title']=='Where Shadows Slumber']"
   ]
  },
  {
   "cell_type": "code",
   "execution_count": 683,
   "metadata": {},
   "outputs": [
    {
     "data": {
      "text/plain": [
       "array([202.2650004])"
      ]
     },
     "execution_count": 683,
     "metadata": {},
     "output_type": "execute_result"
    }
   ],
   "source": [
    "wss = test_set[test_identity['title']=='Where Shadows Slumber'].copy()\n",
    "\n",
    "# wss['editor'] = True\n",
    "wss['price'] = 0\n",
    "wss['star']\n",
    "gbr_grid.best_estimator_.predict(wss)\n"
   ]
  },
  {
   "cell_type": "code",
   "execution_count": 666,
   "metadata": {},
   "outputs": [
    {
     "data": {
      "text/html": [
       "<div>\n",
       "<style scoped>\n",
       "    .dataframe tbody tr th:only-of-type {\n",
       "        vertical-align: middle;\n",
       "    }\n",
       "\n",
       "    .dataframe tbody tr th {\n",
       "        vertical-align: top;\n",
       "    }\n",
       "\n",
       "    .dataframe thead th {\n",
       "        text-align: right;\n",
       "    }\n",
       "</style>\n",
       "<table border=\"1\" class=\"dataframe\">\n",
       "  <thead>\n",
       "    <tr style=\"text-align: right;\">\n",
       "      <th></th>\n",
       "      <th>compat</th>\n",
       "      <th>editor</th>\n",
       "      <th>iap</th>\n",
       "      <th>list_rank</th>\n",
       "      <th>price</th>\n",
       "      <th>score</th>\n",
       "      <th>size</th>\n",
       "      <th>age_12</th>\n",
       "      <th>age_17</th>\n",
       "      <th>age_4</th>\n",
       "      <th>...</th>\n",
       "      <th>star5</th>\n",
       "      <th>star4</th>\n",
       "      <th>star3</th>\n",
       "      <th>star2</th>\n",
       "      <th>star1</th>\n",
       "      <th>sup_family_sharing</th>\n",
       "      <th>sup_game_center</th>\n",
       "      <th>sup_game_controllers</th>\n",
       "      <th>sup_siri</th>\n",
       "      <th>sup_wallet</th>\n",
       "    </tr>\n",
       "  </thead>\n",
       "  <tbody>\n",
       "    <tr>\n",
       "      <th>187663</th>\n",
       "      <td>9.0</td>\n",
       "      <td>0</td>\n",
       "      <td>0</td>\n",
       "      <td>0</td>\n",
       "      <td>2.99</td>\n",
       "      <td>4.5</td>\n",
       "      <td>513.5</td>\n",
       "      <td>1</td>\n",
       "      <td>0</td>\n",
       "      <td>0</td>\n",
       "      <td>...</td>\n",
       "      <td>77.0</td>\n",
       "      <td>10.0</td>\n",
       "      <td>5.0</td>\n",
       "      <td>5.0</td>\n",
       "      <td>4.0</td>\n",
       "      <td>1</td>\n",
       "      <td>0</td>\n",
       "      <td>0</td>\n",
       "      <td>0</td>\n",
       "      <td>0</td>\n",
       "    </tr>\n",
       "  </tbody>\n",
       "</table>\n",
       "<p>1 rows × 53 columns</p>\n",
       "</div>"
      ],
      "text/plain": [
       "        compat  editor  iap  list_rank  price  score   size  age_12  age_17  \\\n",
       "187663     9.0       0    0          0   2.99    4.5  513.5       1       0   \n",
       "\n",
       "        age_4  ...  star5  star4  star3  star2  star1  sup_family_sharing  \\\n",
       "187663      0  ...   77.0   10.0    5.0    5.0    4.0                   1   \n",
       "\n",
       "        sup_game_center  sup_game_controllers  sup_siri  sup_wallet  \n",
       "187663                0                     0         0           0  \n",
       "\n",
       "[1 rows x 53 columns]"
      ]
     },
     "execution_count": 666,
     "metadata": {},
     "output_type": "execute_result"
    }
   ],
   "source": [
    "wss"
   ]
  },
  {
   "cell_type": "code",
   "execution_count": 668,
   "metadata": {},
   "outputs": [
    {
     "data": {
      "text/plain": [
       "187663    175.0\n",
       "Name: nrating, dtype: float64"
      ]
     },
     "execution_count": 668,
     "metadata": {},
     "output_type": "execute_result"
    }
   ],
   "source": [
    "test_label[test_identity['title']=='Where Shadows Slumber']"
   ]
  },
  {
   "cell_type": "code",
   "execution_count": 684,
   "metadata": {},
   "outputs": [],
   "source": [
    "test_predict = gbr_grid.best_estimator_.predict(test_set)\n"
   ]
  },
  {
   "cell_type": "code",
   "execution_count": 685,
   "metadata": {},
   "outputs": [
    {
     "data": {
      "text/plain": [
       "array([47.78676063])"
      ]
     },
     "execution_count": 685,
     "metadata": {},
     "output_type": "execute_result"
    }
   ],
   "source": [
    "test_predict[test_identity['title']=='Where Shadows Slumber']"
   ]
  }
 ],
 "metadata": {
  "kernelspec": {
   "display_name": "Python 3",
   "language": "python",
   "name": "python3"
  },
  "language_info": {
   "codemirror_mode": {
    "name": "ipython",
    "version": 3
   },
   "file_extension": ".py",
   "mimetype": "text/x-python",
   "name": "python",
   "nbconvert_exporter": "python",
   "pygments_lexer": "ipython3",
   "version": "3.7.3"
  }
 },
 "nbformat": 4,
 "nbformat_minor": 2
}
