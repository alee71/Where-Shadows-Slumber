{
 "cells": [
  {
   "cell_type": "markdown",
   "metadata": {},
   "source": [
    "## Motivation\n",
    "Proper audience targeting is a critical component of a successful advertising campaign. This study aims to identify customer demographics that may be particularly receptive to Game Revenant's (GR) advertising, specifically to optimize social media-based campaigns.\n",
    "\n",
    "Due to their large reach and popularity, Facebook, Instagram, and Twitter can be an effective means of reaching new audiences. Facebook (which own Instagram) and Twitter both offer APIs that allow businesses to target their advertisements based on a number of demographic features, such as age, gender, language, location, and interests. There are a few differences in the targeting options available between Facebook and Twitter. Facebook can target by profession and behavior, while Twitter can target based on a list of Twitter profiles. [fill in\n",
    "\n",
    "here we target based on interest\n",
    "\n",
    "Analysis is performed on unstructured social media data, specifically from Twitter. Compared to other social media, Twitter's API allows greater access to user data, enabling more effective data mining. GR currently has too few followers on Twitter to allow for productive data mining. However, the Twitter accounts of rival companies can be analyzed as well. Where Shadows Slumber (WSS) is frequently compared to Monument Valley, a mobile puzzle game produced by USTWO Games, by game critics and customer reviewers. As of this writing, @ustwogames has over 126k followers.\n",
    "\n",
    "Customer interests were estimated by 1) examining the profile description of @ustogames followers, and 2) examining the most popular friends among @ustogames followers. Preprocessed descriptions were examined via two clustering approches, K-modes and DBSCAN. In Twitter's official terminology, a 'friend' is an account a user follows. The most popular friends were clustered via K-modes. The rationale behind the unorthodox application of K-modes will be explained later in the notebook\n",
    "\n",
    "## Methods and Results\n",
    "\n",
    "Profiles of games on the iTunes App Store (https://apps.apple.com/us/genre/ios-games/id6014) were scraped using the python package Scrapy. Game profiles were stored in a SQLite database, in a table named after the genre section they were scrapped from. Note that a game can appear in multiple genre sections. The web scraping code may be found in []."
   ]
  },
  {
   "cell_type": "code",
   "execution_count": 47,
   "metadata": {},
   "outputs": [],
   "source": [
    "import pandas as pd\n",
    "import numpy as np\n",
    "import matplotlib.pyplot as plt\n",
    "import sqlalchemy as sa\n"
   ]
  },
  {
   "cell_type": "code",
   "execution_count": 2,
   "metadata": {},
   "outputs": [
    {
     "name": "stdout",
     "output_type": "stream",
     "text": [
      "C:\\Users\\Vincent\\Game-Revenant\\Where-Shadows-Slumber\\App-Store-Analysis\n"
     ]
    }
   ],
   "source": [
    "# Autoreload to accomodate script updates without restarting notebook\n",
    "%load_ext autoreload\n",
    "%autoreload 2 \n",
    "# Move to main directory of the Customer-Segmentation project\n",
    "%cd .."
   ]
  },
  {
   "cell_type": "code",
   "execution_count": 2,
   "metadata": {},
   "outputs": [],
   "source": [
    "from pathlib import Path\n",
    "\n",
    "# Pull interim data from SQLite DB\n",
    "\n",
    "DB_NAME = 'app-store'\n",
    "e = sa.create_engine('sqlite:///./data/interim/app-store.sqlite')\n",
    "query = '''\n",
    "        SELECT *, 'action' AS genre FROM iosaction UNION\n",
    "        SELECT *, 'adventure' FROM iosadventure UNION\n",
    "        SELECT *, 'board' FROM iosboard UNION\n",
    "        SELECT *, 'card' FROM ioscard UNION \n",
    "        SELECT *, 'casino' FROM ioscasino UNION\n",
    "        SELECT *, 'casual' FROM ioscasual UNION\n",
    "        SELECT *, 'family' FROM iosfamily UNION\n",
    "        SELECT *, 'music' FROM iosmusic UNION\n",
    "        SELECT *, 'puzzle' FROM iospuzzle UNION\n",
    "        SELECT *, 'racing' FROM iosracing UNION\n",
    "        SELECT *, 'rpg' FROM iosrpg UNION\n",
    "        SELECT *, 'simulation' FROM iossimulation UNION\n",
    "        SELECT *, 'sports' FROM iossports UNION \n",
    "        SELECT *, 'strategy'FROM iosstrategy UNION \n",
    "        SELECT *, 'trivia' FROM iostrivia UNION\n",
    "        SELECT *, 'word' FROM iosword\n",
    "        '''\n",
    "apps = pd.read_sql_query(query, e)"
   ]
  },
  {
   "cell_type": "markdown",
   "metadata": {},
   "source": [
    "Loading the data, it is apparent that the data needs be cleaned. Each field is populated by strings, and not all entries were available for each game profile. A sample of the raw data is shown below. "
   ]
  },
  {
   "cell_type": "code",
   "execution_count": 3,
   "metadata": {},
   "outputs": [
    {
     "name": "stdout",
     "output_type": "stream",
     "text": [
      "<class 'pandas.core.frame.DataFrame'>\n",
      "RangeIndex: 380969 entries, 0 to 380968\n",
      "Data columns (total 20 columns):\n",
      "age          380969 non-null object\n",
      "age_copy     380969 non-null object\n",
      "author       380690 non-null object\n",
      "category     380969 non-null object\n",
      "compat       380969 non-null object\n",
      "desc         380969 non-null object\n",
      "editor       1384 non-null object\n",
      "iap          148075 non-null object\n",
      "lang         380969 non-null object\n",
      "list_rank    11006 non-null object\n",
      "nrating      234417 non-null object\n",
      "price        380896 non-null object\n",
      "score        234417 non-null object\n",
      "seller       380969 non-null object\n",
      "size         380969 non-null object\n",
      "stars        234417 non-null object\n",
      "subtitle     121114 non-null object\n",
      "support      380969 non-null object\n",
      "title        380969 non-null object\n",
      "genre        380969 non-null object\n",
      "dtypes: object(20)\n",
      "memory usage: 58.1+ MB\n"
     ]
    }
   ],
   "source": [
    "apps.head()\n",
    "apps.info()"
   ]
  },
  {
   "cell_type": "markdown",
   "metadata": {},
   "source": [
    "### Data cleaning\n",
    "\n",
    "Each feature is defined and described in the code cell below, as well as the processing required to organize the raw data into continuous and categorical variables. Cleaning can take some time, to the formatted data set is saved into a database at the end of the code cell."
   ]
  },
  {
   "cell_type": "code",
   "execution_count": 11,
   "metadata": {},
   "outputs": [
    {
     "ename": "KeyError",
     "evalue": "'age'",
     "output_type": "error",
     "traceback": [
      "\u001b[1;31m---------------------------------------------------------------------------\u001b[0m",
      "\u001b[1;31mKeyError\u001b[0m                                  Traceback (most recent call last)",
      "\u001b[1;32m~\\Anaconda3\\envs\\shadows\\lib\\site-packages\\pandas\\core\\indexes\\base.py\u001b[0m in \u001b[0;36mget_loc\u001b[1;34m(self, key, method, tolerance)\u001b[0m\n\u001b[0;32m   2656\u001b[0m             \u001b[1;32mtry\u001b[0m\u001b[1;33m:\u001b[0m\u001b[1;33m\u001b[0m\u001b[1;33m\u001b[0m\u001b[0m\n\u001b[1;32m-> 2657\u001b[1;33m                 \u001b[1;32mreturn\u001b[0m \u001b[0mself\u001b[0m\u001b[1;33m.\u001b[0m\u001b[0m_engine\u001b[0m\u001b[1;33m.\u001b[0m\u001b[0mget_loc\u001b[0m\u001b[1;33m(\u001b[0m\u001b[0mkey\u001b[0m\u001b[1;33m)\u001b[0m\u001b[1;33m\u001b[0m\u001b[1;33m\u001b[0m\u001b[0m\n\u001b[0m\u001b[0;32m   2658\u001b[0m             \u001b[1;32mexcept\u001b[0m \u001b[0mKeyError\u001b[0m\u001b[1;33m:\u001b[0m\u001b[1;33m\u001b[0m\u001b[1;33m\u001b[0m\u001b[0m\n",
      "\u001b[1;32mpandas/_libs/index.pyx\u001b[0m in \u001b[0;36mpandas._libs.index.IndexEngine.get_loc\u001b[1;34m()\u001b[0m\n",
      "\u001b[1;32mpandas/_libs/index.pyx\u001b[0m in \u001b[0;36mpandas._libs.index.IndexEngine.get_loc\u001b[1;34m()\u001b[0m\n",
      "\u001b[1;32mpandas/_libs/hashtable_class_helper.pxi\u001b[0m in \u001b[0;36mpandas._libs.hashtable.PyObjectHashTable.get_item\u001b[1;34m()\u001b[0m\n",
      "\u001b[1;32mpandas/_libs/hashtable_class_helper.pxi\u001b[0m in \u001b[0;36mpandas._libs.hashtable.PyObjectHashTable.get_item\u001b[1;34m()\u001b[0m\n",
      "\u001b[1;31mKeyError\u001b[0m: 'age'",
      "\nDuring handling of the above exception, another exception occurred:\n",
      "\u001b[1;31mKeyError\u001b[0m                                  Traceback (most recent call last)",
      "\u001b[1;32m<ipython-input-11-3ab8ecd2a93b>\u001b[0m in \u001b[0;36m<module>\u001b[1;34m\u001b[0m\n\u001b[0;32m      5\u001b[0m \u001b[1;31m# Categories are 4+, 9+, 12+, 17+\u001b[0m\u001b[1;33m\u001b[0m\u001b[1;33m\u001b[0m\u001b[1;33m\u001b[0m\u001b[0m\n\u001b[0;32m      6\u001b[0m \u001b[1;33m\u001b[0m\u001b[0m\n\u001b[1;32m----> 7\u001b[1;33m \u001b[0mage_encoded\u001b[0m \u001b[1;33m=\u001b[0m \u001b[0mpd\u001b[0m\u001b[1;33m.\u001b[0m\u001b[0mget_dummies\u001b[0m\u001b[1;33m(\u001b[0m\u001b[0mapps\u001b[0m\u001b[1;33m[\u001b[0m\u001b[1;34m'age'\u001b[0m\u001b[1;33m]\u001b[0m\u001b[1;33m)\u001b[0m\u001b[1;33m\u001b[0m\u001b[1;33m\u001b[0m\u001b[0m\n\u001b[0m\u001b[0;32m      8\u001b[0m \u001b[0mage_encoded\u001b[0m\u001b[1;33m.\u001b[0m\u001b[0mcolumns\u001b[0m \u001b[1;33m=\u001b[0m \u001b[1;33m[\u001b[0m\u001b[1;34m'age_'\u001b[0m \u001b[1;33m+\u001b[0m \u001b[0mcol\u001b[0m\u001b[1;33m.\u001b[0m\u001b[0mreplace\u001b[0m\u001b[1;33m(\u001b[0m\u001b[1;34m'+'\u001b[0m\u001b[1;33m,\u001b[0m\u001b[1;34m''\u001b[0m\u001b[1;33m)\u001b[0m \u001b[1;32mfor\u001b[0m \u001b[0mcol\u001b[0m \u001b[1;32min\u001b[0m \u001b[0mage_encoded\u001b[0m\u001b[1;33m.\u001b[0m\u001b[0mcolumns\u001b[0m\u001b[1;33m]\u001b[0m\u001b[1;33m\u001b[0m\u001b[1;33m\u001b[0m\u001b[0m\n\u001b[0;32m      9\u001b[0m \u001b[0mapps\u001b[0m \u001b[1;33m=\u001b[0m \u001b[0mpd\u001b[0m\u001b[1;33m.\u001b[0m\u001b[0mconcat\u001b[0m\u001b[1;33m(\u001b[0m\u001b[1;33m[\u001b[0m\u001b[0mapps\u001b[0m\u001b[1;33m,\u001b[0m \u001b[0mage_encoded\u001b[0m\u001b[1;33m]\u001b[0m\u001b[1;33m,\u001b[0m \u001b[0maxis\u001b[0m\u001b[1;33m=\u001b[0m\u001b[1;36m1\u001b[0m\u001b[1;33m)\u001b[0m\u001b[1;33m\u001b[0m\u001b[1;33m\u001b[0m\u001b[0m\n",
      "\u001b[1;32m~\\Anaconda3\\envs\\shadows\\lib\\site-packages\\pandas\\core\\frame.py\u001b[0m in \u001b[0;36m__getitem__\u001b[1;34m(self, key)\u001b[0m\n\u001b[0;32m   2925\u001b[0m             \u001b[1;32mif\u001b[0m \u001b[0mself\u001b[0m\u001b[1;33m.\u001b[0m\u001b[0mcolumns\u001b[0m\u001b[1;33m.\u001b[0m\u001b[0mnlevels\u001b[0m \u001b[1;33m>\u001b[0m \u001b[1;36m1\u001b[0m\u001b[1;33m:\u001b[0m\u001b[1;33m\u001b[0m\u001b[1;33m\u001b[0m\u001b[0m\n\u001b[0;32m   2926\u001b[0m                 \u001b[1;32mreturn\u001b[0m \u001b[0mself\u001b[0m\u001b[1;33m.\u001b[0m\u001b[0m_getitem_multilevel\u001b[0m\u001b[1;33m(\u001b[0m\u001b[0mkey\u001b[0m\u001b[1;33m)\u001b[0m\u001b[1;33m\u001b[0m\u001b[1;33m\u001b[0m\u001b[0m\n\u001b[1;32m-> 2927\u001b[1;33m             \u001b[0mindexer\u001b[0m \u001b[1;33m=\u001b[0m \u001b[0mself\u001b[0m\u001b[1;33m.\u001b[0m\u001b[0mcolumns\u001b[0m\u001b[1;33m.\u001b[0m\u001b[0mget_loc\u001b[0m\u001b[1;33m(\u001b[0m\u001b[0mkey\u001b[0m\u001b[1;33m)\u001b[0m\u001b[1;33m\u001b[0m\u001b[1;33m\u001b[0m\u001b[0m\n\u001b[0m\u001b[0;32m   2928\u001b[0m             \u001b[1;32mif\u001b[0m \u001b[0mis_integer\u001b[0m\u001b[1;33m(\u001b[0m\u001b[0mindexer\u001b[0m\u001b[1;33m)\u001b[0m\u001b[1;33m:\u001b[0m\u001b[1;33m\u001b[0m\u001b[1;33m\u001b[0m\u001b[0m\n\u001b[0;32m   2929\u001b[0m                 \u001b[0mindexer\u001b[0m \u001b[1;33m=\u001b[0m \u001b[1;33m[\u001b[0m\u001b[0mindexer\u001b[0m\u001b[1;33m]\u001b[0m\u001b[1;33m\u001b[0m\u001b[1;33m\u001b[0m\u001b[0m\n",
      "\u001b[1;32m~\\Anaconda3\\envs\\shadows\\lib\\site-packages\\pandas\\core\\indexes\\base.py\u001b[0m in \u001b[0;36mget_loc\u001b[1;34m(self, key, method, tolerance)\u001b[0m\n\u001b[0;32m   2657\u001b[0m                 \u001b[1;32mreturn\u001b[0m \u001b[0mself\u001b[0m\u001b[1;33m.\u001b[0m\u001b[0m_engine\u001b[0m\u001b[1;33m.\u001b[0m\u001b[0mget_loc\u001b[0m\u001b[1;33m(\u001b[0m\u001b[0mkey\u001b[0m\u001b[1;33m)\u001b[0m\u001b[1;33m\u001b[0m\u001b[1;33m\u001b[0m\u001b[0m\n\u001b[0;32m   2658\u001b[0m             \u001b[1;32mexcept\u001b[0m \u001b[0mKeyError\u001b[0m\u001b[1;33m:\u001b[0m\u001b[1;33m\u001b[0m\u001b[1;33m\u001b[0m\u001b[0m\n\u001b[1;32m-> 2659\u001b[1;33m                 \u001b[1;32mreturn\u001b[0m \u001b[0mself\u001b[0m\u001b[1;33m.\u001b[0m\u001b[0m_engine\u001b[0m\u001b[1;33m.\u001b[0m\u001b[0mget_loc\u001b[0m\u001b[1;33m(\u001b[0m\u001b[0mself\u001b[0m\u001b[1;33m.\u001b[0m\u001b[0m_maybe_cast_indexer\u001b[0m\u001b[1;33m(\u001b[0m\u001b[0mkey\u001b[0m\u001b[1;33m)\u001b[0m\u001b[1;33m)\u001b[0m\u001b[1;33m\u001b[0m\u001b[1;33m\u001b[0m\u001b[0m\n\u001b[0m\u001b[0;32m   2660\u001b[0m         \u001b[0mindexer\u001b[0m \u001b[1;33m=\u001b[0m \u001b[0mself\u001b[0m\u001b[1;33m.\u001b[0m\u001b[0mget_indexer\u001b[0m\u001b[1;33m(\u001b[0m\u001b[1;33m[\u001b[0m\u001b[0mkey\u001b[0m\u001b[1;33m]\u001b[0m\u001b[1;33m,\u001b[0m \u001b[0mmethod\u001b[0m\u001b[1;33m=\u001b[0m\u001b[0mmethod\u001b[0m\u001b[1;33m,\u001b[0m \u001b[0mtolerance\u001b[0m\u001b[1;33m=\u001b[0m\u001b[0mtolerance\u001b[0m\u001b[1;33m)\u001b[0m\u001b[1;33m\u001b[0m\u001b[1;33m\u001b[0m\u001b[0m\n\u001b[0;32m   2661\u001b[0m         \u001b[1;32mif\u001b[0m \u001b[0mindexer\u001b[0m\u001b[1;33m.\u001b[0m\u001b[0mndim\u001b[0m \u001b[1;33m>\u001b[0m \u001b[1;36m1\u001b[0m \u001b[1;32mor\u001b[0m \u001b[0mindexer\u001b[0m\u001b[1;33m.\u001b[0m\u001b[0msize\u001b[0m \u001b[1;33m>\u001b[0m \u001b[1;36m1\u001b[0m\u001b[1;33m:\u001b[0m\u001b[1;33m\u001b[0m\u001b[1;33m\u001b[0m\u001b[0m\n",
      "\u001b[1;32mpandas/_libs/index.pyx\u001b[0m in \u001b[0;36mpandas._libs.index.IndexEngine.get_loc\u001b[1;34m()\u001b[0m\n",
      "\u001b[1;32mpandas/_libs/index.pyx\u001b[0m in \u001b[0;36mpandas._libs.index.IndexEngine.get_loc\u001b[1;34m()\u001b[0m\n",
      "\u001b[1;32mpandas/_libs/hashtable_class_helper.pxi\u001b[0m in \u001b[0;36mpandas._libs.hashtable.PyObjectHashTable.get_item\u001b[1;34m()\u001b[0m\n",
      "\u001b[1;32mpandas/_libs/hashtable_class_helper.pxi\u001b[0m in \u001b[0;36mpandas._libs.hashtable.PyObjectHashTable.get_item\u001b[1;34m()\u001b[0m\n",
      "\u001b[1;31mKeyError\u001b[0m: 'age'"
     ]
    }
   ],
   "source": [
    "import re\n",
    "\n",
    "# age (categorical)\n",
    "# Age rating for game. Dummy encoded.\n",
    "# Categories are 4+, 9+, 12+, 17+\n",
    "\n",
    "age_encoded = pd.get_dummies(apps['age'])\n",
    "age_encoded.columns = ['age_' + col.replace('+','') for col in age_encoded.columns]\n",
    "apps = pd.concat([apps, age_encoded], axis=1)\n",
    "apps = apps.drop(columns=['age'])\n",
    "\n",
    "# age_copy (str)\n",
    "# Long string containing a variety information, including age rating, memory size, copyright information. \n",
    "# Was initially scraped to get the copyright year, to give estimate of release date. \n",
    "# Copyright year is not included frequently enough, however, so this category was dropped\n",
    "\n",
    "apps = apps.drop(columns=['age_copy'])\n",
    "\n",
    "# author (str)\n",
    "# Author of game. Can be used to consolidate duplicate game titles\n",
    "\n",
    "# category (categorical)\n",
    "# Category of app. Data was scrapped from game storefront, so everything should be listed as 'Games'\n",
    "# There are a few cases where this was not true (e.g. classified as 'Education', or 'Music')\n",
    "# Only concerned with game releases, so we filter for these specifically\n",
    "\n",
    "apps = apps[apps['category'] == 'Games']\n",
    "apps = apps.drop(columns=['category'])\n",
    "\n",
    "# compat (ordinal)\n",
    "# Compatibility of the app. Interested primarily in the minimum OS release requirements. \n",
    "# There are 409 different OS version releases (including minor releases), so we confine our search to major software versions\n",
    "\n",
    "# Very few cases don't contain compatibility information; filter these out\n",
    "apps = apps.dropna(subset=['compat']) \n",
    "# All version requirements starts with the phrase, 'Requires iOS x.x. or later'. First filter for that phrase\n",
    "apps['compat'] = apps['compat'].apply(lambda compat: re.findall(r'Requires\\siOS\\s\\d+', compat)) \n",
    "# Pull out just the major iOS release version. \n",
    "apps['compat'] = apps['compat'].apply(lambda compat: int(re.findall(r'\\d+', compat[0])[0]) if compat else None)\n",
    "# Also filter out apps that are not on iOS (few Apple TV apps)\n",
    "apps = apps.dropna(subset=['compat']) \n",
    "\n",
    "# desc (str)\n",
    "# Description of app. May be interesting to analyze for keywords in the future.\n",
    "# Out-of-scope for this analysis, so it's dropped\n",
    "\n",
    "apps = apps.drop(columns=['desc'])\n",
    "\n",
    "# editor (boolean)\n",
    "# Indicates whether the game was notable enough to receive an 'Editor's Choice' or 'Editor's Note' designation\n",
    "# These recognized games are on the front page most often, and the App Store will promote these apps particularly\n",
    "\n",
    "apps['editor'] = apps['editor'].apply(lambda editor: True if editor else False)\n",
    "\n",
    "# genre (categorical)\n",
    "# Genre of game, based on the page on which the title was scrapped from. Dummy encoded\n",
    "# Note that games can be a part of multiple genres\n",
    "# This was assigned in the SQL code a previous cell. \n",
    "\n",
    "genre_encoded = pd.get_dummies(apps['genre'])\n",
    "genre_encoded.columns = ['gen_' + col.lower() for col in genre_encoded.columns]\n",
    "apps = pd.concat([apps, genre_encoded], axis=1)\n",
    "apps = apps.drop(columns=['genre'])\n",
    "\n",
    "# iap (boolean)\n",
    "# Indicates whether the game contains in-app purchases\n",
    "\n",
    "apps['iap'] = apps['iap'].replace('Offers In-App Purchases', True).fillna(False)\n",
    "\n",
    "# lang (categorical)\n",
    "# Languages the game is available in. Dummy encoded\n",
    "# Hyperparameter 'thresh' limits the number of language categories based on popularity\n",
    "\n",
    "# new category counts number of languages the game is available in\n",
    "apps['lang_cnt'] = apps['lang'].apply(lambda lang: len(lang.split(', ')))\n",
    "\n",
    "lang_encoded = apps['lang'].str.get_dummies(', ')\n",
    "thresh = 0.05 * len(apps)\n",
    "thresh_list = (lang_encoded.sum(axis=0) < thresh).to_list()\n",
    "ind_drop = np.where(thresh_list)\n",
    "lang_encoded = lang_encoded.drop(lang_encoded.columns[ind_drop], axis=1)\n",
    "lang_encoded.columns = ['lang_' + col.replace(' ','_').lower() for col in lang_encoded.columns]\n",
    "\n",
    "apps = pd.concat([apps, lang_encoded], axis=1)\n",
    "apps = apps.drop(columns=['lang'])\n",
    "\n",
    "# list_rank (boolean)\n",
    "# Typically the rank of the game within a given category (assuming the game is ranked)\n",
    "# Field is not strictly limited to rank: it can also contain hardware restrictions ('Only for Apple TV'). \n",
    "# Anticipated release dates can also be found in this field.\n",
    "# Initially seemed like a promising predictive feature, but upon inspection of the data, the ranking system is not consistent.\n",
    "# Games can appear in different genre pages, and be ranked in other genres. Value of rank is inconsistent as well.\n",
    "# Due to the inconsistency of this metric, it was simplified into a boolean: ranked, or not\n",
    "\n",
    "apps['list_rank'] = apps['list_rank'].fillna('').apply(lambda rank: True if re.findall(r'#', rank) else False)\n",
    "\n",
    "# nrating (numeric)\n",
    "# Number ratings the game received\n",
    "\n",
    "apps['nrating'] = apps['nrating'].fillna('0.0') # account for games that haven't been rated\n",
    "# In raw form, if the review count is over a thousand or a million, the abbreviation 'K' or 'M' is used\n",
    "apps['in_K'] = apps['nrating'].apply(lambda nrating: True if re.findall(r'K', nrating) else False)\n",
    "apps['in_M'] = apps['nrating'].apply(lambda nrating: True if re.findall(r'M', nrating) else False)\n",
    "apps['nrating'] = apps['nrating'].apply(lambda nrating: float(re.findall(r'[\\d\\.]+', nrating)[0]))\n",
    "apps['nrating'] = apps.apply(lambda app: 1e3*app['nrating'] \n",
    "                             if app['in_K'] == True \n",
    "                             else app['nrating'], axis=1)\n",
    "apps['nrating'] = apps.apply(lambda app: 1e6*app['nrating'] \n",
    "                             if app['in_M'] == True \n",
    "                             else app['nrating'], axis=1)\n",
    "apps = apps.drop(columns=['in_K', 'in_M'])\n",
    "\n",
    "# price (numeric)\n",
    "# Price of game\n",
    "\n",
    "# we also drop a few cases (73) where a price wasn't listed\n",
    "apps = apps.dropna(subset=['price'])\n",
    "apps['price'] = apps['price'].apply(lambda price: float(re.findall(r'[\\d\\.]+', price)[0]) \n",
    "                                    if price != 'Free' \n",
    "                                    else 0.0)\n",
    "\n",
    "# score (numeric)\n",
    "# Mean score across all ratings. Games that have not been rated will have a NaN assigned in this field\n",
    "\n",
    "apps['score'] = apps['score'].fillna(np.nan).apply(float)\n",
    "\n",
    "# seller (str)\n",
    "# Party that sells the game, usually same as author. Dropped in this project\n",
    "\n",
    "apps = apps.drop(columns=['seller'])\n",
    "\n",
    "# size (float)\n",
    "# Size of game, in MB. Games that are in KB are rounded to 1.0 MB\n",
    "\n",
    "apps['in_KB'] = apps['size'].apply(lambda nrating: True if re.findall(r'KB', nrating) else False)\n",
    "apps['in_GB'] = apps['size'].apply(lambda nrating: True if re.findall(r'GB', nrating) else False)\n",
    "apps['size'] = apps['size'].apply(lambda nrating: float(re.findall(r'[\\d\\.]+', nrating)[0]))\n",
    "apps['size'] = apps.apply(lambda app: 1.0\n",
    "                             if app['in_KB'] == True \n",
    "                             else app['size'], axis=1)\n",
    "apps['size'] = apps.apply(lambda app: 1e3*app['size'] \n",
    "                             if app['in_GB'] == True \n",
    "                             else app['size'], axis=1)\n",
    "apps = apps.drop(columns=['in_KB', 'in_GB'])\n",
    "\n",
    "# stars (numerical)\n",
    "# Rating breakdown for the game\n",
    "# Split into multiple categories, one for each possible rating\n",
    "\n",
    "apps['stars'] = apps['stars'].apply(lambda rating: re.findall(r'\\d+', rating)\n",
    "                                    if rating is not None \n",
    "                                    else [0, 0, 0, 0, 0])\n",
    "apps['star5'] = apps['stars'].apply(lambda rating: float(rating[0]))\n",
    "apps['star4'] = apps['stars'].apply(lambda rating: float(rating[1]))\n",
    "apps['star3'] = apps['stars'].apply(lambda rating: float(rating[2]))\n",
    "apps['star2'] = apps['stars'].apply(lambda rating: float(rating[3]))\n",
    "apps['star1'] = apps['stars'].apply(lambda rating: float(rating[4]))\n",
    "apps = apps.drop(columns=['stars'])\n",
    "\n",
    "# subtitle (str)\n",
    "# Subtitle of game, if it exists. \n",
    "# Could be useful in the future of keyword analysis, but dropped for now\n",
    "\n",
    "apps = apps.drop(columns=['subtitle'])\n",
    "\n",
    "# support (categorical)\n",
    "# iOS supports features such as 'Family Center' and 'Game Center' which can augment a user's experience\n",
    "\n",
    "# one-hot enocde supports category\n",
    "supports_encoded = apps['support'].str.get_dummies(',')\n",
    "supports_encoded.columns = ['sup_' + col.replace(' ','_').lower() for col in supports_encoded.columns]\n",
    "apps = pd.concat([apps, supports_encoded], axis=1)\n",
    "apps = apps.drop(columns=['support'])\n",
    "\n",
    "# title (str)\n",
    "# Title of game\n",
    "# Games can be scrapped multiple times since they can be posted on multiple genre pages\n",
    "# Title can be used to consolidate these duplicates\n",
    "\n",
    "def agg_func(x):\n",
    "    '''Dictate the aggregate function to apply based on the data object type\n",
    "\n",
    "    param x: DataFrame groupby object\n",
    "    '''\n",
    "    if x.dtype in ('float64', 'object'):\n",
    "        return x.mean()\n",
    "    elif x.dtype in ('bool', 'uint8', 'int64'):\n",
    "        return x.max()\n",
    "    else:\n",
    "        print('Unrecognized dtype!')\n",
    "\n",
    "# Duplicate game titles can contain different rating and star values. These are will be averaged\n",
    "# Boolean and integer values are dummy categories, so we mark as True/1 if so in at least one row\n",
    "apps = apps.groupby(['title','author']).agg(agg_func).reset_index()\n",
    "\n",
    "\n",
    "# Once date has been cleaned, we can save the data set to a DB\n",
    "e = sa.create_engine('sqlite:///./data/interim/app-store.sqlite')\n",
    "apps.to_sql('iosformatted', e, if_exists='replace', index=False)"
   ]
  },
  {
   "cell_type": "markdown",
   "metadata": {},
   "source": [
    "### Generating training and testing sets\n",
    "\n",
    "Summary of the formatted data shows that, except for the title and author of the game, each feature has been transformed into a continuous variable (dtype=float64) or a dummy-encoded categorical variable (dtype=int64). Furthermore, the missing values have been accounted for or filled in, and every conlumn (except for *score*) contains the same number of value. The *score* feature contains NaN values for games that received no ratings. "
   ]
  },
  {
   "cell_type": "code",
   "execution_count": 444,
   "metadata": {},
   "outputs": [
    {
     "name": "stdout",
     "output_type": "stream",
     "text": [
      "<class 'pandas.core.frame.DataFrame'>\n",
      "RangeIndex: 195732 entries, 0 to 195731\n",
      "Data columns (total 56 columns):\n",
      "title                       195732 non-null object\n",
      "author                      195732 non-null object\n",
      "compat                      195732 non-null float64\n",
      "editor                      195732 non-null int64\n",
      "iap                         195732 non-null int64\n",
      "list_rank                   195732 non-null int64\n",
      "nrating                     195732 non-null float64\n",
      "price                       195732 non-null float64\n",
      "score                       119988 non-null float64\n",
      "size                        195732 non-null float64\n",
      "age_12                      195732 non-null int64\n",
      "age_17                      195732 non-null int64\n",
      "age_4                       195732 non-null int64\n",
      "age_9                       195732 non-null int64\n",
      "gen_action                  195732 non-null int64\n",
      "gen_adventure               195732 non-null int64\n",
      "gen_board                   195732 non-null int64\n",
      "gen_card                    195732 non-null int64\n",
      "gen_casino                  195732 non-null int64\n",
      "gen_casual                  195732 non-null int64\n",
      "gen_family                  195732 non-null int64\n",
      "gen_music                   195732 non-null int64\n",
      "gen_puzzle                  195732 non-null int64\n",
      "gen_racing                  195732 non-null int64\n",
      "gen_rpg                     195732 non-null int64\n",
      "gen_simulation              195732 non-null int64\n",
      "gen_sports                  195732 non-null int64\n",
      "gen_strategy                195732 non-null int64\n",
      "gen_trivia                  195732 non-null int64\n",
      "gen_word                    195732 non-null int64\n",
      "lang_cnt                    195732 non-null int64\n",
      "lang_dutch                  195732 non-null int64\n",
      "lang_english                195732 non-null int64\n",
      "lang_french                 195732 non-null int64\n",
      "lang_german                 195732 non-null int64\n",
      "lang_italian                195732 non-null int64\n",
      "lang_japanese               195732 non-null int64\n",
      "lang_korean                 195732 non-null int64\n",
      "lang_polish                 195732 non-null int64\n",
      "lang_portuguese             195732 non-null int64\n",
      "lang_russian                195732 non-null int64\n",
      "lang_simplified_chinese     195732 non-null int64\n",
      "lang_spanish                195732 non-null int64\n",
      "lang_swedish                195732 non-null int64\n",
      "lang_traditional_chinese    195732 non-null int64\n",
      "lang_turkish                195732 non-null int64\n",
      "star5                       195732 non-null float64\n",
      "star4                       195732 non-null float64\n",
      "star3                       195732 non-null float64\n",
      "star2                       195732 non-null float64\n",
      "star1                       195732 non-null float64\n",
      "sup_family_sharing          195732 non-null int64\n",
      "sup_game_center             195732 non-null int64\n",
      "sup_game_controllers        195732 non-null int64\n",
      "sup_siri                    195732 non-null int64\n",
      "sup_wallet                  195732 non-null int64\n",
      "dtypes: float64(10), int64(44), object(2)\n",
      "memory usage: 83.6+ MB\n"
     ]
    }
   ],
   "source": [
    "e = sa.create_engine('sqlite:///./data/interim/app-store.sqlite')\n",
    "apps = pd.read_sql_query('SELECT * FROM iosformatted', e)\n",
    "apps.info()"
   ]
  },
  {
   "cell_type": "markdown",
   "metadata": {},
   "source": [
    "The target variable in this analysis is the number of ratings the game received (*nrating*). Quartile analysis can give quick overview of the data distribution of *nrating*."
   ]
  },
  {
   "cell_type": "code",
   "execution_count": 445,
   "metadata": {},
   "outputs": [
    {
     "data": {
      "text/plain": [
       "count    1.957320e+05\n",
       "mean     6.533230e+02\n",
       "std      1.787270e+04\n",
       "min      0.000000e+00\n",
       "25%      0.000000e+00\n",
       "50%      1.000000e+00\n",
       "75%      8.000000e+00\n",
       "max      4.500000e+06\n",
       "Name: nrating, dtype: float64"
      ]
     },
     "execution_count": 445,
     "metadata": {},
     "output_type": "execute_result"
    },
    {
     "data": {
      "image/png": "[encoded data removed]",
      "text/plain": [
       "<Figure size 432x288 with 1 Axes>"
      ]
     },
     "metadata": {
      "needs_background": "light"
     },
     "output_type": "display_data"
    }
   ],
   "source": [
    "apps['nrating'].hist(bins=50)\n",
    "apps['nrating'].describe()"
   ]
  },
  {
   "cell_type": "markdown",
   "metadata": {},
   "source": [
    "The target variable is heavily skewed, with most games receiving very few reviews (if they receive any reviews at all). \n",
    "\n",
    "Incorporating such a large number of unpopular games into the analysis may hamper the model's ability to predict a games popularity by pulling the target values to be lower. Furthermore, we're primarily interested in WSS's performance against games with a similiar or greater level of success (as measured by ratings count). The data was filtered only to include games that had more than 36 reviews. At this threshold, the number of WSS ratings (175) would approximately be located at the median of the ratings distribution. "
   ]
  },
  {
   "cell_type": "code",
   "execution_count": 446,
   "metadata": {},
   "outputs": [
    {
     "data": {
      "text/html": [
       "<div>\n",
       "<style scoped>\n",
       "    .dataframe tbody tr th:only-of-type {\n",
       "        vertical-align: middle;\n",
       "    }\n",
       "\n",
       "    .dataframe tbody tr th {\n",
       "        vertical-align: top;\n",
       "    }\n",
       "\n",
       "    .dataframe thead th {\n",
       "        text-align: right;\n",
       "    }\n",
       "</style>\n",
       "<table border=\"1\" class=\"dataframe\">\n",
       "  <thead>\n",
       "    <tr style=\"text-align: right;\">\n",
       "      <th></th>\n",
       "      <th>title</th>\n",
       "      <th>nrating</th>\n",
       "    </tr>\n",
       "  </thead>\n",
       "  <tbody>\n",
       "    <tr>\n",
       "      <th>187663</th>\n",
       "      <td>Where Shadows Slumber</td>\n",
       "      <td>175.0</td>\n",
       "    </tr>\n",
       "  </tbody>\n",
       "</table>\n",
       "</div>"
      ],
      "text/plain": [
       "                        title  nrating\n",
       "187663  Where Shadows Slumber    175.0"
      ]
     },
     "execution_count": 446,
     "metadata": {},
     "output_type": "execute_result"
    }
   ],
   "source": [
    "apps[apps['title']=='Where Shadows Slumber'][['title','nrating']]"
   ]
  },
  {
   "cell_type": "code",
   "execution_count": 447,
   "metadata": {},
   "outputs": [
    {
     "data": {
      "text/plain": [
       "count    2.559300e+04\n",
       "mean     4.974343e+03\n",
       "std      4.920964e+04\n",
       "min      3.650000e+01\n",
       "25%      7.100000e+01\n",
       "50%      1.760000e+02\n",
       "75%      7.255000e+02\n",
       "max      4.500000e+06\n",
       "Name: nrating, dtype: float64"
      ]
     },
     "execution_count": 447,
     "metadata": {},
     "output_type": "execute_result"
    }
   ],
   "source": [
    "apps = apps[ (apps['nrating']>36)]\n",
    "apps['nrating'].describe()"
   ]
  },
  {
   "cell_type": "markdown",
   "metadata": {},
   "source": [
    "Given the skewness of the ratings distribution, it's critical that stratified sampling be employed when splitting the data into training and testing sets. The data is separated into five bins. "
   ]
  },
  {
   "cell_type": "code",
   "execution_count": 448,
   "metadata": {},
   "outputs": [],
   "source": [
    "from sklearn.model_selection import StratifiedShuffleSplit\n",
    "\n",
    "bins = [36, 100, 1000, 10000, 100000, np.inf]\n",
    "labels=[1, 2, 3, 4, 5]\n",
    "# create a new column containing the ratings bin the game is associated with\n",
    "apps['nrating_cut'] = pd.cut(apps['nrating'], bins=bins, labels=labels)\n",
    "\n",
    "# split data into training (80%) and testing (20%) sets\n",
    "split = StratifiedShuffleSplit(n_splits=1, test_size=0.2, random_state=42)\n",
    "for train_ind, test_ind in split.split(apps, apps['nrating_cut']):\n",
    "    train_set, test_set = apps.iloc[train_ind], apps.iloc[test_ind]"
   ]
  },
  {
   "cell_type": "code",
   "execution_count": 385,
   "metadata": {},
   "outputs": [],
   "source": [
    "# optionally save training and testing sets to database\n",
    "\n",
    "# e = sa.create_engine('sqlite:///./data/processed/app-store.sqlite')\n",
    "# test_set.to_sql('test_set', e, if_exists='replace')\n",
    "# train_set.to_sql('train_set', e, if_exists='replace')"
   ]
  },
  {
   "cell_type": "markdown",
   "metadata": {},
   "source": [
    "The target variable is separated from the feature set, as well as the string features (title and author) that will not be used for prediction. "
   ]
  },
  {
   "cell_type": "code",
   "execution_count": 478,
   "metadata": {},
   "outputs": [],
   "source": [
    "test_label = test_set['nrating'].copy()\n",
    "test_identity = test_set[['title','author']].copy()\n",
    "test_set = test_set.drop(columns=['nrating_cut','nrating','title','author','list_rank'])\n",
    "\n",
    "train_label = train_set['nrating'].copy()\n",
    "train_identity = train_set[['title','author']].copy()\n",
    "train_set_binned = train_set['nrating_cut'].copy() # label identifying the ratings bin the game occupies\n",
    "train_set = train_set.drop(columns=['nrating_cut','nrating','title','author','list_rank']) \n",
    "\n",
    "# get index of numeric features (as opposed to categorical features) that will need to be preprocesse\n",
    "numeric_feat = train_set.dtypes[train_set.dtypes == 'float64'].index"
   ]
  },
  {
   "cell_type": "markdown",
   "metadata": {},
   "source": [
    "### Processing Pipeline"
   ]
  },
  {
   "cell_type": "markdown",
   "metadata": {},
   "source": [
    "The distribution of the numeric features is highly skewed. Most models operate best when the features are normally distributed, so corrections must be applied on these features. "
   ]
  },
  {
   "cell_type": "code",
   "execution_count": 232,
   "metadata": {},
   "outputs": [
    {
     "data": {
      "text/plain": [
       "array([[<matplotlib.axes._subplots.AxesSubplot object at 0x000000003E522470>,\n",
       "        <matplotlib.axes._subplots.AxesSubplot object at 0x00000000402B80F0>,\n",
       "        <matplotlib.axes._subplots.AxesSubplot object at 0x000000004B4C7550>],\n",
       "       [<matplotlib.axes._subplots.AxesSubplot object at 0x000000003F1E6198>,\n",
       "        <matplotlib.axes._subplots.AxesSubplot object at 0x0000000050F7A588>,\n",
       "        <matplotlib.axes._subplots.AxesSubplot object at 0x000000004DA574E0>],\n",
       "       [<matplotlib.axes._subplots.AxesSubplot object at 0x000000003B32AD30>,\n",
       "        <matplotlib.axes._subplots.AxesSubplot object at 0x0000000043886978>,\n",
       "        <matplotlib.axes._subplots.AxesSubplot object at 0x00000000438867F0>]],\n",
       "      dtype=object)"
      ]
     },
     "execution_count": 232,
     "metadata": {},
     "output_type": "execute_result"
    },
    {
     "data": {
      "image/png": "[encoded data removed]",
      "text/plain": [
       "<Figure size 576x576 with 9 Axes>"
      ]
     },
     "metadata": {
      "needs_background": "light"
     },
     "output_type": "display_data"
    }
   ],
   "source": [
    "train_set[numeric_feat].hist(bins=10, figsize=(8,8))"
   ]
  },
  {
   "cell_type": "markdown",
   "metadata": {},
   "source": [
    "To streamline skew correction, a custom transformer is created in conjunction with a data pipeline. The pipeline also implements StandardScalar, which normalizes the features to have a mean of 0 and standard deviation of 1. "
   ]
  },
  {
   "cell_type": "code",
   "execution_count": 221,
   "metadata": {},
   "outputs": [],
   "source": [
    "from sklearn.base import BaseEstimator, TransformerMixin\n",
    "from scipy.stats import skew\n",
    "from scipy.stats import boxcox\n",
    "\n",
    "\n",
    "class SkewCorrector(BaseEstimator, TransformerMixin):\n",
    "    \n",
    "    def __init__(self, skew_bound=0.2): # skew_bound is amount of skew that is acceptable\n",
    "        self.skew_bound = skew_bound\n",
    "        \n",
    "    def fit(self, X, y=None):\n",
    "        return self\n",
    "    \n",
    "    def transform(self, X, y=None):\n",
    "        X_val = X.to_numpy()\n",
    "        \n",
    "        # different distributions require different transforms; indicies are defined below for specific data types\n",
    "        ind_skewed = np.absolute(skew(X_val)) > self.skew_bound\n",
    "        ind_right_skew = skew(X_val) > 0\n",
    "        ind_left_skew = skew(X_val) < 0\n",
    "        ind_no_zeros = [0 not in X_val[:,col] for col in np.arange(X_val.shape[1])]\n",
    "        ind_has_zeros = [0 in X_val[:,col] for col in np.arange(X_val.shape[1])]\n",
    "        # if all elements in a feature column are positive, the sum of all those should be equal to the number of rows in that feature matrix\n",
    "        ind_positive = [np.sign(X_val[:,col]).sum() == X_val.shape[0] for col in np.arange(X_val.shape[1])]\n",
    "\n",
    "        # transform right and left skewed data that does not include zero values with boxcox\n",
    "        X_trans, _ = np.apply_along_axis(boxcox, 0, X_val[:,ind_skewed & ind_no_zeros & ind_positive]) # returns list of arrays\n",
    "        X_val[:,ind_skewed & ind_no_zeros & ind_positive] = np.vstack(X_trans).T\n",
    "        \n",
    "        # transform right skewed data that contains zero values with log plus one\n",
    "        X_trans = np.log1p(X_val[:,ind_skewed & ind_right_skew & ind_has_zeros])\n",
    "        X_val[:,ind_skewed * ind_right_skew * ind_has_zeros] = X_trans\n",
    "        \n",
    "        # transform left skewed data that contains zero values by increasing power incrementally\n",
    "        for pwr in range(2, 5): #arbitarily set the power limit to 5; maybe make this a user-defined parameter?\n",
    "            X_trans = X_val[:,ind_skewed * ind_left_skew * ind_has_zeros]**pwr\n",
    "            if skew(X_trans) < self.skew_bound:\n",
    "                break\n",
    "        \n",
    "        X_val[:,ind_skewed * ind_left_skew * ind_has_zeros] = X_trans\n",
    "        \n",
    "        # Update the input data frame with transformed values\n",
    "        X_out = pd.DataFrame(X_val, index=X.index, columns=X.columns)\n",
    "        return X_out\n",
    "        \n",
    "        "
   ]
  },
  {
   "cell_type": "code",
   "execution_count": 222,
   "metadata": {},
   "outputs": [],
   "source": [
    "from sklearn.pipeline import Pipeline\n",
    "from sklearn.preprocessing import StandardScaler\n",
    "from sklearn.compose import ColumnTransformer\n",
    "\n",
    "num_pipeline = Pipeline([\n",
    "    ('trans_skew', SkewCorrector(skew_bound=0.2)),\n",
    "    ('std_scaler', StandardScaler())\n",
    "])\n",
    "\n",
    "numeric_feat = train_set.dtypes[train_set.dtypes == 'float64'].index\n",
    "cat_feat = train_set.dtypes[train_set.dtypes != 'float64'].index\n",
    "\n",
    "\n",
    "full_pipeline = ColumnTransformer([\n",
    "    ('num', num_pipeline, numeric_feat)\n",
    "])"
   ]
  },
  {
   "cell_type": "markdown",
   "metadata": {},
   "source": [
    "Plotting the numeric features after preprocessing indicates that most of the distributions have become approximately normal. Note that *price* is still heavily skewed: almost all games have a price of $0.00."
   ]
  },
  {
   "cell_type": "code",
   "execution_count": 223,
   "metadata": {},
   "outputs": [
    {
     "data": {
      "text/plain": [
       "array([[<matplotlib.axes._subplots.AxesSubplot object at 0x0000000050B29A90>,\n",
       "        <matplotlib.axes._subplots.AxesSubplot object at 0x000000005088E048>,\n",
       "        <matplotlib.axes._subplots.AxesSubplot object at 0x000000004C4A9898>],\n",
       "       [<matplotlib.axes._subplots.AxesSubplot object at 0x000000004B3C8550>,\n",
       "        <matplotlib.axes._subplots.AxesSubplot object at 0x000000004A782860>,\n",
       "        <matplotlib.axes._subplots.AxesSubplot object at 0x00000000466F1DD8>],\n",
       "       [<matplotlib.axes._subplots.AxesSubplot object at 0x000000004719D630>,\n",
       "        <matplotlib.axes._subplots.AxesSubplot object at 0x000000003F8B6C50>,\n",
       "        <matplotlib.axes._subplots.AxesSubplot object at 0x000000003F8B6C18>]],\n",
       "      dtype=object)"
      ]
     },
     "execution_count": 223,
     "metadata": {},
     "output_type": "execute_result"
    },
    {
     "data": {
      "image/png": "[encoded data removed]",
      "text/plain": [
       "<Figure size 576x576 with 9 Axes>"
      ]
     },
     "metadata": {
      "needs_background": "light"
     },
     "output_type": "display_data"
    }
   ],
   "source": [
    "train_set_processed = train_set.copy()\n",
    "\n",
    "train_set_processed[numeric_feat] = full_pipeline.fit_transform(train_set[numeric_feat])\n",
    "train_set_processed[numeric_feat].hist(bins=10, figsize=(8,8))\n",
    "\n",
    "# train_set_processed = train_set_processed.drop(columns=['nrating_cut'])"
   ]
  },
  {
   "cell_type": "markdown",
   "metadata": {},
   "source": [
    "### Model training and selection\n",
    "\n",
    "Once the processing pipeline is complete, the training data can now be fitted. A number of different models were tried, mostly using the default hyperparameters. \n",
    "\n",
    "The following regressors were evaluated: linear regression, elastic net, stochastic gradient descent, linear support vector, k-nearest neighbor, random forest, and gradient tree boosting. \n",
    "\n",
    "Prior to cross validation, stratified sampling was used to ensure that the training and validation folds had similiar ratings distributions (in the same way stratified sampling was used to separate the initial data set into training and testing sets). "
   ]
  },
  {
   "cell_type": "code",
   "execution_count": 224,
   "metadata": {},
   "outputs": [],
   "source": [
    "from sklearn.model_selection import cross_val_score, StratifiedKFold\n",
    "from functools import partial\n",
    "    \n",
    "def init_cv_gen():\n",
    "    '''Helper function that returns a generator for cross-validation'''\n",
    "    skf = StratifiedKFold(10, shuffle=True, random_state=42).split(train_set_processed, train_set_binned)\n",
    "    return skf\n",
    "\n",
    "def cv_score(estimator):\n",
    "    '''Generates cross validation scores; used to keep code clean when testing different models (estimator)'''\n",
    "    cv = init_cv_gen()\n",
    "    cv_score = cross_val_score(estimator=estimator, X=train_set_processed, y=train_label, cv=cv, scoring='neg_mean_absolute_error', n_jobs=-1)\n",
    "    return cv_score\n",
    "\n",
    "def show_cv_result(scores):\n",
    "    '''Print mean and standard deviation of an array of cross validation scores'''\n",
    "    print(f'Cross validation mean score is : {np.mean(scores)} ± {np.std(scores)}')"
   ]
  },
  {
   "cell_type": "code",
   "execution_count": 225,
   "metadata": {},
   "outputs": [
    {
     "name": "stdout",
     "output_type": "stream",
     "text": [
      "Cross validation mean score is : 9625.72908227699 ± 1092.4114319889288\n"
     ]
    }
   ],
   "source": [
    "from sklearn.linear_model import LinearRegression\n",
    "\n",
    "reg = LinearRegression()\n",
    "reg.fit(train_set_processed, train_label)\n",
    "\n",
    "scores = cv_score(reg)\n",
    "show_cv_result(-scores)"
   ]
  },
  {
   "cell_type": "code",
   "execution_count": 227,
   "metadata": {},
   "outputs": [
    {
     "name": "stdout",
     "output_type": "stream",
     "text": [
      "Cross validation mean score is : 8432.095107069374 ± 1190.279950225911\n"
     ]
    }
   ],
   "source": [
    "from sklearn.linear_model import ElasticNet\n",
    "\n",
    "reg = ElasticNet()\n",
    "reg.fit(train_set_processed, train_label)\n",
    "\n",
    "scores = cv_score(reg)\n",
    "show_cv_result(-scores)"
   ]
  },
  {
   "cell_type": "code",
   "execution_count": 228,
   "metadata": {
    "scrolled": true
   },
   "outputs": [
    {
     "name": "stdout",
     "output_type": "stream",
     "text": [
      "Cross validation mean score is : 4851.962420516677 ± 1350.811456471748\n"
     ]
    }
   ],
   "source": [
    "from sklearn.linear_model import SGDRegressor\n",
    "\n",
    "reg = SGDRegressor(loss='huber',max_iter=5000, tol=1e-3)\n",
    "reg.fit(train_set_processed, train_label)\n",
    "\n",
    "scores = cv_score(reg)\n",
    "show_cv_result(-scores)"
   ]
  },
  {
   "cell_type": "code",
   "execution_count": 229,
   "metadata": {},
   "outputs": [
    {
     "name": "stdout",
     "output_type": "stream",
     "text": [
      "Cross validation mean score is : 4838.414045309972 ± 1351.7218636195014\n"
     ]
    }
   ],
   "source": [
    "from sklearn.svm import LinearSVR\n",
    "\n",
    "reg = LinearSVR()\n",
    "reg.fit(train_set_processed, train_label)\n",
    "\n",
    "scores = cv_score(reg)\n",
    "show_cv_result(-scores)"
   ]
  },
  {
   "cell_type": "code",
   "execution_count": 230,
   "metadata": {},
   "outputs": [
    {
     "name": "stdout",
     "output_type": "stream",
     "text": [
      "Cross validation mean score is : 8024.674210477603 ± 1293.9347722438456\n"
     ]
    }
   ],
   "source": [
    "from sklearn.neighbors import KNeighborsRegressor\n",
    "\n",
    "reg = KNeighborsRegressor()\n",
    "reg.fit(train_set_processed, train_label)\n",
    "\n",
    "scores = cv_score(reg)\n",
    "show_cv_result(-scores)"
   ]
  },
  {
   "cell_type": "markdown",
   "metadata": {},
   "source": [
    "Since random forest and gradient tree boosting both rely on decision trees (non-parametric), there is no need to standardize the input data, or correct for skew. "
   ]
  },
  {
   "cell_type": "code",
   "execution_count": 231,
   "metadata": {},
   "outputs": [
    {
     "name": "stdout",
     "output_type": "stream",
     "text": [
      "Cross validation mean score is : 8237.154023476382 ± 1318.3117935473385\n"
     ]
    }
   ],
   "source": [
    "from sklearn.ensemble import RandomForestRegressor\n",
    "\n",
    "reg = RandomForestRegressor(n_estimators=100, random_state=42)\n",
    "reg.fit(train_set, train_label)\n",
    "\n",
    "scores = cv_score(reg)\n",
    "show_cv_result(-scores)"
   ]
  },
  {
   "cell_type": "code",
   "execution_count": 233,
   "metadata": {},
   "outputs": [
    {
     "name": "stdout",
     "output_type": "stream",
     "text": [
      "Cross validation mean score is : 4830.591203630448 ± 1358.657263015344\n"
     ]
    }
   ],
   "source": [
    "from sklearn.ensemble import GradientBoostingRegressor\n",
    "\n",
    "reg = GradientBoostingRegressor(loss='huber', random_state=42)\n",
    "reg.fit(train_set, train_label)\n",
    "\n",
    "scores = cv_score(reg)\n",
    "show_cv_result(-scores)"
   ]
  },
  {
   "cell_type": "markdown",
   "metadata": {},
   "source": [
    "With the lowest MAE, the best models to optimize further are stochastic gradient descent regression, linear support vector regression, and gradient boosted regression trees.  A grid search was performed to find the optimal hyperparameters. "
   ]
  },
  {
   "cell_type": "code",
   "execution_count": 28,
   "metadata": {},
   "outputs": [
    {
     "data": {
      "text/plain": [
       "4832.8851397750195"
      ]
     },
     "execution_count": 28,
     "metadata": {},
     "output_type": "execute_result"
    }
   ],
   "source": [
    "from sklearn.model_selection import GridSearchCV\n",
    "\n",
    "param_grid = [\n",
    "    {\n",
    "        'penalty': ['none', 'elasticnet'],\n",
    "        'loss': ['huber', 'epsilon_insensitive'],\n",
    "        'alpha': [1, 0.1, 1e-2, 1e-3, 1e-4],\n",
    "        'learning_rate': ['invscaling', 'adaptive']\n",
    "    }\n",
    "]\n",
    "\n",
    "reg = SGDRegressor(max_iter=2000, tol=1e-3, early_stopping=True)\n",
    "\n",
    "sgd_grid = GridSearchCV(reg, param_grid, cv=5, scoring='neg_mean_absolute_error', return_train_score=True, n_jobs=-1)\n",
    "sgd_grid.fit(train_set_processed, train_label)\n",
    "-sgd_grid.best_score_"
   ]
  },
  {
   "cell_type": "code",
   "execution_count": 402,
   "metadata": {},
   "outputs": [
    {
     "data": {
      "text/plain": [
       "4799.612892292647"
      ]
     },
     "execution_count": 402,
     "metadata": {},
     "output_type": "execute_result"
    }
   ],
   "source": [
    "param_grid = [\n",
    "    {\n",
    "        'epsilon': [0, .1, 1, 10, 100],\n",
    "        'C': [1, 10, 100, 1000]\n",
    "    }\n",
    "]\n",
    "\n",
    "reg = LinearSVR(max_iter=10000)\n",
    "\n",
    "svr_grid = GridSearchCV(reg, param_grid, cv=5, scoring='neg_mean_absolute_error', return_train_score=True, n_jobs=-1)\n",
    "svr_grid.fit(train_set_processed, train_label)\n",
    "-svr_grid.best_score_"
   ]
  },
  {
   "cell_type": "code",
   "execution_count": 234,
   "metadata": {},
   "outputs": [
    {
     "data": {
      "text/plain": [
       "4717.617765740548"
      ]
     },
     "execution_count": 234,
     "metadata": {},
     "output_type": "execute_result"
    }
   ],
   "source": [
    "param_grid = [\n",
    "    {\n",
    "        'max_depth': [3, 9],\n",
    "        'learning_rate': [0.01, 0.1, 1],\n",
    "        'loss' : ['huber', 'lad']\n",
    "    }\n",
    "]\n",
    "\n",
    "reg = GradientBoostingRegressor(random_state=42)\n",
    "\n",
    "gbr_grid = GridSearchCV(reg, param_grid, cv=5, scoring='neg_mean_absolute_error', return_train_score=True, n_jobs=-1)\n",
    "gbr_grid.fit(train_set, train_label)\n",
    "-gbr_grid.best_score_"
   ]
  },
  {
   "cell_type": "markdown",
   "metadata": {},
   "source": [
    "With the lowest MAE, the best model to implement is **gradient tree boosting**. "
   ]
  },
  {
   "cell_type": "code",
   "execution_count": 250,
   "metadata": {},
   "outputs": [],
   "source": [
    "estimator = gbr_grid.best_estimator_"
   ]
  },
  {
   "cell_type": "markdown",
   "metadata": {},
   "source": [
    "### Evaluating model performance on the test set\n",
    "\n",
    "The performance of the model on the training and testing sets are compared by mean absolute error and median absolute error. "
   ]
  },
  {
   "cell_type": "code",
   "execution_count": 251,
   "metadata": {},
   "outputs": [
    {
     "name": "stdout",
     "output_type": "stream",
     "text": [
      "Training set mean absolute error and median absolute error is 4617.986717385484 and 117.84051815230045, respectively\n",
      "Test set mean absolute error and median absolute error is 4864.716624022137 and 152.5135322160359, respectively\n"
     ]
    }
   ],
   "source": [
    "from sklearn.metrics import mean_absolute_error, median_absolute_error\n",
    "\n",
    "\n",
    "# sgd_predict = sgd_grid.best_estimator_.predict(train_set_processed)\n",
    "# svr_predict = svr_grid.best_estimator_.predict(train_set_processed)\n",
    "train_predict = estimator.predict(train_set)\n",
    "test_predict = estimator.predict(test_set)\n",
    "\n",
    "# mean absolute error calculation\n",
    "mae_train = mean_absolute_error(train_label, train_predict)\n",
    "mae_test = mean_absolute_error(test_label, test_predict)\n",
    "\n",
    "# median absolute error calculation\n",
    "medae_train = median_absolute_error(train_label, train_predict)\n",
    "medae_test = median_absolute_error(test_label, test_predict)\n",
    "\n",
    "# print results\n",
    "print(f'Training set mean absolute error and median absolute error is {mae_train} and {medae_train}, respectively')\n",
    "print(f'Test set mean absolute error and median absolute error is {mae_test} and {medae_test}, respectively')"
   ]
  },
  {
   "cell_type": "markdown",
   "metadata": {},
   "source": [
    "Testing error is slightly higher compared to the training error, which was anticipated. Note that both mean and absolute errors were presented given the outliers in this dataset, wherein a small number of games have a number of ratings serveral magnitudes greater than most other apps."
   ]
  },
  {
   "cell_type": "code",
   "execution_count": 479,
   "metadata": {},
   "outputs": [
    {
     "data": {
      "image/png": "[encoded data removed]",
      "text/plain": [
       "<Figure size 1152x1152 with 1 Axes>"
      ]
     },
     "metadata": {
      "needs_background": "light"
     },
     "output_type": "display_data"
    }
   ],
   "source": [
    "from sklearn.inspection import permutation_importance\n",
    "\n",
    "\n",
    "result = permutation_importance(estimator, test_set, test_label, n_repeats=10,\n",
    "                                random_state=42)\n",
    "sorted_idx = result.importances_mean.argsort()\n",
    "\n",
    "fig, ax = plt.subplots(figsize=(16,16))\n",
    "\n",
    "ax.boxplot(result.importances[sorted_idx].T,\n",
    "           vert=False, labels=test_set.columns[sorted_idx])\n",
    "ax.set_title(\"Permutation Importances (test set)\")\n",
    "plt.show()"
   ]
  },
  {
   "cell_type": "code",
   "execution_count": 449,
   "metadata": {},
   "outputs": [
    {
     "data": {
      "text/html": [
       "<div>\n",
       "<style scoped>\n",
       "    .dataframe tbody tr th:only-of-type {\n",
       "        vertical-align: middle;\n",
       "    }\n",
       "\n",
       "    .dataframe tbody tr th {\n",
       "        vertical-align: top;\n",
       "    }\n",
       "\n",
       "    .dataframe thead th {\n",
       "        text-align: right;\n",
       "    }\n",
       "</style>\n",
       "<table border=\"1\" class=\"dataframe\">\n",
       "  <thead>\n",
       "    <tr style=\"text-align: right;\">\n",
       "      <th></th>\n",
       "      <th>title</th>\n",
       "      <th>author</th>\n",
       "      <th>nrating</th>\n",
       "      <th>predicted_nrating</th>\n",
       "    </tr>\n",
       "  </thead>\n",
       "  <tbody>\n",
       "    <tr>\n",
       "      <th>97032</th>\n",
       "      <td>Journey</td>\n",
       "      <td>Annapurna Interactive</td>\n",
       "      <td>61.0</td>\n",
       "      <td>185.647939</td>\n",
       "    </tr>\n",
       "    <tr>\n",
       "      <th>102552</th>\n",
       "      <td>LIMBO</td>\n",
       "      <td>Playdead</td>\n",
       "      <td>2100.0</td>\n",
       "      <td>2981.833358</td>\n",
       "    </tr>\n",
       "    <tr>\n",
       "      <th>117338</th>\n",
       "      <td>Monument Valley</td>\n",
       "      <td>ustwo games</td>\n",
       "      <td>3300.0</td>\n",
       "      <td>4274.849801</td>\n",
       "    </tr>\n",
       "    <tr>\n",
       "      <th>148024</th>\n",
       "      <td>Rusty Lake Paradise</td>\n",
       "      <td>Rusty Lake</td>\n",
       "      <td>1100.0</td>\n",
       "      <td>784.839240</td>\n",
       "    </tr>\n",
       "    <tr>\n",
       "      <th>187663</th>\n",
       "      <td>Where Shadows Slumber</td>\n",
       "      <td>Game Revenant Ltd</td>\n",
       "      <td>175.0</td>\n",
       "      <td>334.115471</td>\n",
       "    </tr>\n",
       "  </tbody>\n",
       "</table>\n",
       "</div>"
      ],
      "text/plain": [
       "                        title                 author  nrating  \\\n",
       "97032                 Journey  Annapurna Interactive     61.0   \n",
       "102552                  LIMBO               Playdead   2100.0   \n",
       "117338        Monument Valley            ustwo games   3300.0   \n",
       "148024    Rusty Lake Paradise             Rusty Lake   1100.0   \n",
       "187663  Where Shadows Slumber      Game Revenant Ltd    175.0   \n",
       "\n",
       "        predicted_nrating  \n",
       "97032          185.647939  \n",
       "102552        2981.833358  \n",
       "117338        4274.849801  \n",
       "148024         784.839240  \n",
       "187663         334.115471  "
      ]
     },
     "execution_count": 449,
     "metadata": {},
     "output_type": "execute_result"
    }
   ],
   "source": [
    "examples = ['Where Shadows Slumber', 'Monument Valley',\n",
    "            'LIMBO', 'Journey', 'Rusty Lake Paradise']\n",
    "\n",
    "ex = apps[apps['title'].isin(examples)].copy()\n",
    "\n",
    "ex_summary = ex[['title','author','nrating']].copy()\n",
    "ex_feat = ex.drop(columns=['nrating','title','author','nrating_cut','list_rank'])\n",
    "ex_summary['predicted_nrating'] = estimator.predict(ex_feat)\n",
    "\n",
    "ex_summary"
   ]
  },
  {
   "cell_type": "code",
   "execution_count": 474,
   "metadata": {
    "scrolled": true
   },
   "outputs": [
    {
     "data": {
      "text/plain": [
       "<matplotlib.legend.Legend at 0x42e59908>"
      ]
     },
     "execution_count": 474,
     "metadata": {},
     "output_type": "execute_result"
    },
    {
     "data": {
      "image/png": "[encoded data removed]",
      "text/plain": [
       "<Figure size 432x864 with 10 Axes>"
      ]
     },
     "metadata": {
      "needs_background": "light"
     },
     "output_type": "display_data"
    }
   ],
   "source": [
    "fig, axs = plt.subplots(5,2, figsize=(6, 12))\n",
    "\n",
    "star_feats = ['star2', \n",
    "              'star3',\n",
    "              'size',\n",
    "              'star4',\n",
    "              'compat',\n",
    "              'star1',\n",
    "              'score',\n",
    "              'star5',\n",
    "              'price',\n",
    "              'lang_cnt']\n",
    "\n",
    "float_feats = ['size',\n",
    "               'compat',\n",
    "               'score',\n",
    "               'price']\n",
    "\n",
    "axs = axs.flatten()\n",
    "\n",
    "for feat_ind, feat in enumerate(star_feats):\n",
    "        \n",
    "    ex_feat = ex.drop(columns=['nrating','title','author','nrating_cut','list_rank'])\n",
    "#     ex_feat['price'] = 0.00\n",
    "    \n",
    "    if feat in float_feats: \n",
    "        low_bnd = apps[[feat]].quantile(q=0.15, axis=0).item()\n",
    "        up_bnd = apps[[feat]].quantile(q=0.85, axis=0).item()\n",
    "        \n",
    "        if feat == 'price':\n",
    "            low_bnd = apps[[feat]].quantile(q=0.01, axis=0).item()\n",
    "            up_bnd = apps[[feat]].quantile(q=0.99, axis=0).item()\n",
    "        \n",
    "        x_rng = np.linspace(low_bnd, up_bnd, num=10)\n",
    "    \n",
    "    else:\n",
    "        low_bnd = apps[[feat]].quantile(q=0.15, axis=0).item()\n",
    "        up_bnd = apps[[feat]].quantile(q=0.85, axis=0).item()\n",
    "        x_rng = list(range(int(low_bnd), int(up_bnd)))\n",
    "\n",
    "    predictions = np.zeros((len(x_rng), len(ex_feat)))\n",
    "\n",
    "    for ind, val in enumerate(x_rng):\n",
    "        ex_feat[feat] = val\n",
    "        predictions[ind,:] = estimator.predict(ex_feat)\n",
    "    \n",
    "    fig.tight_layout()\n",
    "    axs[feat_ind].plot(x_rng, predictions, linestyle='--', marker='o')\n",
    "    axs[feat_ind].set_title(feat)\n",
    "\n",
    "fig.legend(examples, loc='upper center', \n",
    "                     ncol=3,\n",
    "                     bbox_to_anchor=(0.5, 1.03))"
   ]
  },
  {
   "cell_type": "code",
   "execution_count": 486,
   "metadata": {},
   "outputs": [],
   "source": [
    "# fig, axs = plt.subplots(5,2, figsize=(6, 12))\n",
    "\n",
    "cat_feats = ['editor',\n",
    "              'iap',\n",
    "              'lang_russian']\n",
    "\n",
    "axs = axs.flatten()\n",
    "\n",
    "for feat_ind, feat in enumerate(cat_feats):\n",
    "    \n",
    "    ex_feat = ex.drop(columns=['nrating','title','author','nrating_cut','list_rank'])\n",
    "\n",
    "    \n",
    "    predictions = np.zeros((2, len(ex_feat))) #binary category\n",
    "\n",
    "    for ind, val in enumerate(x_rng):\n",
    "        ex_feat[feat] = 0\n",
    "        predictions[0,:] = estimator.predict(ex_feat)\n",
    "        ex_feat[feat] = 1\n",
    "        predictions[1,:] = estimator.predict(ex_feat)\n",
    "    \n",
    "#     fig.tight_layout()\n",
    "#     axs[feat_ind].plot(x_rng, predictions, linestyle='--', marker='o')\n",
    "#     axs[feat_ind].set_title(feat)\n",
    "\n",
    "# fig.legend(examples, loc='upper center', \n",
    "#                      ncol=3,\n",
    "#                      bbox_to_anchor=(0.5, 1.03))\n",
    "\n"
   ]
  },
  {
   "cell_type": "code",
   "execution_count": 518,
   "metadata": {},
   "outputs": [
    {
     "data": {
      "text/plain": [
       "['Journey',\n",
       " 'LIMBO',\n",
       " 'Monument Valley',\n",
       " 'Rusty Lake Paradise',\n",
       " 'Where Shadows Slumber']"
      ]
     },
     "execution_count": 518,
     "metadata": {},
     "output_type": "execute_result"
    }
   ],
   "source": [
    "\n",
    "ex_summary['title'].tolist()"
   ]
  },
  {
   "cell_type": "code",
   "execution_count": 523,
   "metadata": {},
   "outputs": [
    {
     "data": {
      "text/plain": [
       "<seaborn.axisgrid.FacetGrid at 0x4a97cc88>"
      ]
     },
     "execution_count": 523,
     "metadata": {},
     "output_type": "execute_result"
    },
    {
     "data": {
      "image/png": "[encoded data removed]",
      "text/plain": [
       "<Figure size 494.125x432 with 1 Axes>"
      ]
     },
     "metadata": {
      "needs_background": "light"
     },
     "output_type": "display_data"
    }
   ],
   "source": [
    "import seaborn as sns\n",
    "\n",
    "\n",
    "bar_data = ex.drop(columns=['nrating','title','author','nrating_cut','list_rank'])\n",
    "\n",
    "# bar_data['games'] = examples\n",
    "\n",
    "bar_data_false = bar_data.copy()\n",
    "bar_data_false['editor'] = False\n",
    "bar_data_true = bar_data.copy()\n",
    "bar_data_true['editor'] = True\n",
    "\n",
    "bar_data_pred = bar_data_true.append(bar_data_false)\n",
    "bar_data_pred['predicted_nratings'] = estimator.predict(bar_data_pred)\n",
    "\n",
    "bar_data_pred['games'] = 2 * ex_summary['title'].tolist()\n",
    "# bar_data_false['editor'] = bar\n",
    "\n",
    "\n",
    "# ex_cat_false = ex_feat.copy()\n",
    "# ex_cat_false['iap'] = 0\n",
    "# ex_cat_true = ex_feat.copy()\n",
    "# ex_cat_true['iap'] = 1\n",
    "\n",
    "\n",
    "# data = {'games': examples,\n",
    "#         'False': estimator.predict(ex_cat_false),\n",
    "#         'True': estimator.predict(ex_cat_true)}\n",
    "\n",
    "# df = pd.DataFrame(data)\n",
    "\n",
    "g = sns.catplot(x='games', y='predicted_nratings', hue='editor', \n",
    "            data=bar_data_pred, kind='bar', height=6)\n",
    "\n",
    "g.set_xticklabels(rotation=45)"
   ]
  },
  {
   "cell_type": "code",
   "execution_count": 507,
   "metadata": {},
   "outputs": [
    {
     "data": {
      "text/html": [
       "<div>\n",
       "<style scoped>\n",
       "    .dataframe tbody tr th:only-of-type {\n",
       "        vertical-align: middle;\n",
       "    }\n",
       "\n",
       "    .dataframe tbody tr th {\n",
       "        vertical-align: top;\n",
       "    }\n",
       "\n",
       "    .dataframe thead th {\n",
       "        text-align: right;\n",
       "    }\n",
       "</style>\n",
       "<table border=\"1\" class=\"dataframe\">\n",
       "  <thead>\n",
       "    <tr style=\"text-align: right;\">\n",
       "      <th></th>\n",
       "      <th>compat</th>\n",
       "      <th>editor</th>\n",
       "      <th>iap</th>\n",
       "      <th>price</th>\n",
       "      <th>score</th>\n",
       "      <th>size</th>\n",
       "      <th>age_12</th>\n",
       "      <th>age_17</th>\n",
       "      <th>age_4</th>\n",
       "      <th>age_9</th>\n",
       "      <th>...</th>\n",
       "      <th>star3</th>\n",
       "      <th>star2</th>\n",
       "      <th>star1</th>\n",
       "      <th>sup_family_sharing</th>\n",
       "      <th>sup_game_center</th>\n",
       "      <th>sup_game_controllers</th>\n",
       "      <th>sup_siri</th>\n",
       "      <th>sup_wallet</th>\n",
       "      <th>predicted_nratings</th>\n",
       "      <th>games</th>\n",
       "    </tr>\n",
       "  </thead>\n",
       "  <tbody>\n",
       "    <tr>\n",
       "      <th>97032</th>\n",
       "      <td>12.0</td>\n",
       "      <td>1</td>\n",
       "      <td>0</td>\n",
       "      <td>4.99</td>\n",
       "      <td>4.1</td>\n",
       "      <td>1100.0</td>\n",
       "      <td>0</td>\n",
       "      <td>0</td>\n",
       "      <td>1</td>\n",
       "      <td>0</td>\n",
       "      <td>...</td>\n",
       "      <td>8.0</td>\n",
       "      <td>3.5</td>\n",
       "      <td>12.0</td>\n",
       "      <td>1</td>\n",
       "      <td>1</td>\n",
       "      <td>0</td>\n",
       "      <td>0</td>\n",
       "      <td>0</td>\n",
       "      <td>185.647939</td>\n",
       "      <td>Where Shadows Slumber</td>\n",
       "    </tr>\n",
       "    <tr>\n",
       "      <th>102552</th>\n",
       "      <td>9.0</td>\n",
       "      <td>1</td>\n",
       "      <td>0</td>\n",
       "      <td>3.99</td>\n",
       "      <td>4.6</td>\n",
       "      <td>136.0</td>\n",
       "      <td>1</td>\n",
       "      <td>0</td>\n",
       "      <td>0</td>\n",
       "      <td>0</td>\n",
       "      <td>...</td>\n",
       "      <td>4.0</td>\n",
       "      <td>2.0</td>\n",
       "      <td>4.0</td>\n",
       "      <td>1</td>\n",
       "      <td>1</td>\n",
       "      <td>0</td>\n",
       "      <td>0</td>\n",
       "      <td>0</td>\n",
       "      <td>2981.833358</td>\n",
       "      <td>Monument Valley</td>\n",
       "    </tr>\n",
       "    <tr>\n",
       "      <th>117338</th>\n",
       "      <td>9.0</td>\n",
       "      <td>1</td>\n",
       "      <td>1</td>\n",
       "      <td>3.99</td>\n",
       "      <td>4.6</td>\n",
       "      <td>700.1</td>\n",
       "      <td>0</td>\n",
       "      <td>0</td>\n",
       "      <td>1</td>\n",
       "      <td>0</td>\n",
       "      <td>...</td>\n",
       "      <td>3.0</td>\n",
       "      <td>3.0</td>\n",
       "      <td>4.0</td>\n",
       "      <td>1</td>\n",
       "      <td>0</td>\n",
       "      <td>0</td>\n",
       "      <td>0</td>\n",
       "      <td>0</td>\n",
       "      <td>4274.849801</td>\n",
       "      <td>LIMBO</td>\n",
       "    </tr>\n",
       "    <tr>\n",
       "      <th>148024</th>\n",
       "      <td>8.0</td>\n",
       "      <td>1</td>\n",
       "      <td>0</td>\n",
       "      <td>2.99</td>\n",
       "      <td>4.7</td>\n",
       "      <td>124.0</td>\n",
       "      <td>1</td>\n",
       "      <td>0</td>\n",
       "      <td>0</td>\n",
       "      <td>0</td>\n",
       "      <td>...</td>\n",
       "      <td>3.0</td>\n",
       "      <td>2.0</td>\n",
       "      <td>2.0</td>\n",
       "      <td>1</td>\n",
       "      <td>0</td>\n",
       "      <td>0</td>\n",
       "      <td>0</td>\n",
       "      <td>0</td>\n",
       "      <td>1344.606789</td>\n",
       "      <td>Journey</td>\n",
       "    </tr>\n",
       "    <tr>\n",
       "      <th>187663</th>\n",
       "      <td>9.0</td>\n",
       "      <td>1</td>\n",
       "      <td>0</td>\n",
       "      <td>2.99</td>\n",
       "      <td>4.5</td>\n",
       "      <td>513.5</td>\n",
       "      <td>1</td>\n",
       "      <td>0</td>\n",
       "      <td>0</td>\n",
       "      <td>0</td>\n",
       "      <td>...</td>\n",
       "      <td>5.0</td>\n",
       "      <td>5.0</td>\n",
       "      <td>4.0</td>\n",
       "      <td>1</td>\n",
       "      <td>0</td>\n",
       "      <td>0</td>\n",
       "      <td>0</td>\n",
       "      <td>0</td>\n",
       "      <td>225.326872</td>\n",
       "      <td>Rusty Lake Paradise</td>\n",
       "    </tr>\n",
       "    <tr>\n",
       "      <th>97032</th>\n",
       "      <td>12.0</td>\n",
       "      <td>0</td>\n",
       "      <td>0</td>\n",
       "      <td>4.99</td>\n",
       "      <td>4.1</td>\n",
       "      <td>1100.0</td>\n",
       "      <td>0</td>\n",
       "      <td>0</td>\n",
       "      <td>1</td>\n",
       "      <td>0</td>\n",
       "      <td>...</td>\n",
       "      <td>8.0</td>\n",
       "      <td>3.5</td>\n",
       "      <td>12.0</td>\n",
       "      <td>1</td>\n",
       "      <td>1</td>\n",
       "      <td>0</td>\n",
       "      <td>0</td>\n",
       "      <td>0</td>\n",
       "      <td>188.957594</td>\n",
       "      <td>Where Shadows Slumber</td>\n",
       "    </tr>\n",
       "    <tr>\n",
       "      <th>102552</th>\n",
       "      <td>9.0</td>\n",
       "      <td>0</td>\n",
       "      <td>0</td>\n",
       "      <td>3.99</td>\n",
       "      <td>4.6</td>\n",
       "      <td>136.0</td>\n",
       "      <td>1</td>\n",
       "      <td>0</td>\n",
       "      <td>0</td>\n",
       "      <td>0</td>\n",
       "      <td>...</td>\n",
       "      <td>4.0</td>\n",
       "      <td>2.0</td>\n",
       "      <td>4.0</td>\n",
       "      <td>1</td>\n",
       "      <td>1</td>\n",
       "      <td>0</td>\n",
       "      <td>0</td>\n",
       "      <td>0</td>\n",
       "      <td>568.948983</td>\n",
       "      <td>Monument Valley</td>\n",
       "    </tr>\n",
       "    <tr>\n",
       "      <th>117338</th>\n",
       "      <td>9.0</td>\n",
       "      <td>0</td>\n",
       "      <td>1</td>\n",
       "      <td>3.99</td>\n",
       "      <td>4.6</td>\n",
       "      <td>700.1</td>\n",
       "      <td>0</td>\n",
       "      <td>0</td>\n",
       "      <td>1</td>\n",
       "      <td>0</td>\n",
       "      <td>...</td>\n",
       "      <td>3.0</td>\n",
       "      <td>3.0</td>\n",
       "      <td>4.0</td>\n",
       "      <td>1</td>\n",
       "      <td>0</td>\n",
       "      <td>0</td>\n",
       "      <td>0</td>\n",
       "      <td>0</td>\n",
       "      <td>1592.952782</td>\n",
       "      <td>LIMBO</td>\n",
       "    </tr>\n",
       "    <tr>\n",
       "      <th>148024</th>\n",
       "      <td>8.0</td>\n",
       "      <td>0</td>\n",
       "      <td>0</td>\n",
       "      <td>2.99</td>\n",
       "      <td>4.7</td>\n",
       "      <td>124.0</td>\n",
       "      <td>1</td>\n",
       "      <td>0</td>\n",
       "      <td>0</td>\n",
       "      <td>0</td>\n",
       "      <td>...</td>\n",
       "      <td>3.0</td>\n",
       "      <td>2.0</td>\n",
       "      <td>2.0</td>\n",
       "      <td>1</td>\n",
       "      <td>0</td>\n",
       "      <td>0</td>\n",
       "      <td>0</td>\n",
       "      <td>0</td>\n",
       "      <td>784.839240</td>\n",
       "      <td>Journey</td>\n",
       "    </tr>\n",
       "    <tr>\n",
       "      <th>187663</th>\n",
       "      <td>9.0</td>\n",
       "      <td>0</td>\n",
       "      <td>0</td>\n",
       "      <td>2.99</td>\n",
       "      <td>4.5</td>\n",
       "      <td>513.5</td>\n",
       "      <td>1</td>\n",
       "      <td>0</td>\n",
       "      <td>0</td>\n",
       "      <td>0</td>\n",
       "      <td>...</td>\n",
       "      <td>5.0</td>\n",
       "      <td>5.0</td>\n",
       "      <td>4.0</td>\n",
       "      <td>1</td>\n",
       "      <td>0</td>\n",
       "      <td>0</td>\n",
       "      <td>0</td>\n",
       "      <td>0</td>\n",
       "      <td>334.115471</td>\n",
       "      <td>Rusty Lake Paradise</td>\n",
       "    </tr>\n",
       "  </tbody>\n",
       "</table>\n",
       "<p>10 rows × 54 columns</p>\n",
       "</div>"
      ],
      "text/plain": [
       "        compat  editor  iap  price  score    size  age_12  age_17  age_4  \\\n",
       "97032     12.0       1    0   4.99    4.1  1100.0       0       0      1   \n",
       "102552     9.0       1    0   3.99    4.6   136.0       1       0      0   \n",
       "117338     9.0       1    1   3.99    4.6   700.1       0       0      1   \n",
       "148024     8.0       1    0   2.99    4.7   124.0       1       0      0   \n",
       "187663     9.0       1    0   2.99    4.5   513.5       1       0      0   \n",
       "97032     12.0       0    0   4.99    4.1  1100.0       0       0      1   \n",
       "102552     9.0       0    0   3.99    4.6   136.0       1       0      0   \n",
       "117338     9.0       0    1   3.99    4.6   700.1       0       0      1   \n",
       "148024     8.0       0    0   2.99    4.7   124.0       1       0      0   \n",
       "187663     9.0       0    0   2.99    4.5   513.5       1       0      0   \n",
       "\n",
       "        age_9  ...  star3  star2  star1  sup_family_sharing  sup_game_center  \\\n",
       "97032       0  ...    8.0    3.5   12.0                   1                1   \n",
       "102552      0  ...    4.0    2.0    4.0                   1                1   \n",
       "117338      0  ...    3.0    3.0    4.0                   1                0   \n",
       "148024      0  ...    3.0    2.0    2.0                   1                0   \n",
       "187663      0  ...    5.0    5.0    4.0                   1                0   \n",
       "97032       0  ...    8.0    3.5   12.0                   1                1   \n",
       "102552      0  ...    4.0    2.0    4.0                   1                1   \n",
       "117338      0  ...    3.0    3.0    4.0                   1                0   \n",
       "148024      0  ...    3.0    2.0    2.0                   1                0   \n",
       "187663      0  ...    5.0    5.0    4.0                   1                0   \n",
       "\n",
       "        sup_game_controllers  sup_siri  sup_wallet  predicted_nratings  \\\n",
       "97032                      0         0           0          185.647939   \n",
       "102552                     0         0           0         2981.833358   \n",
       "117338                     0         0           0         4274.849801   \n",
       "148024                     0         0           0         1344.606789   \n",
       "187663                     0         0           0          225.326872   \n",
       "97032                      0         0           0          188.957594   \n",
       "102552                     0         0           0          568.948983   \n",
       "117338                     0         0           0         1592.952782   \n",
       "148024                     0         0           0          784.839240   \n",
       "187663                     0         0           0          334.115471   \n",
       "\n",
       "                        games  \n",
       "97032   Where Shadows Slumber  \n",
       "102552        Monument Valley  \n",
       "117338                  LIMBO  \n",
       "148024                Journey  \n",
       "187663    Rusty Lake Paradise  \n",
       "97032   Where Shadows Slumber  \n",
       "102552        Monument Valley  \n",
       "117338                  LIMBO  \n",
       "148024                Journey  \n",
       "187663    Rusty Lake Paradise  \n",
       "\n",
       "[10 rows x 54 columns]"
      ]
     },
     "execution_count": 507,
     "metadata": {},
     "output_type": "execute_result"
    }
   ],
   "source": [
    "bar_data_pred"
   ]
  },
  {
   "cell_type": "code",
   "execution_count": 500,
   "metadata": {},
   "outputs": [
    {
     "data": {
      "text/html": [
       "<div>\n",
       "<style scoped>\n",
       "    .dataframe tbody tr th:only-of-type {\n",
       "        vertical-align: middle;\n",
       "    }\n",
       "\n",
       "    .dataframe tbody tr th {\n",
       "        vertical-align: top;\n",
       "    }\n",
       "\n",
       "    .dataframe thead th {\n",
       "        text-align: right;\n",
       "    }\n",
       "</style>\n",
       "<table border=\"1\" class=\"dataframe\">\n",
       "  <thead>\n",
       "    <tr style=\"text-align: right;\">\n",
       "      <th></th>\n",
       "      <th>compat</th>\n",
       "      <th>editor</th>\n",
       "      <th>iap</th>\n",
       "      <th>price</th>\n",
       "      <th>score</th>\n",
       "      <th>size</th>\n",
       "      <th>age_12</th>\n",
       "      <th>age_17</th>\n",
       "      <th>age_4</th>\n",
       "      <th>age_9</th>\n",
       "      <th>...</th>\n",
       "      <th>star4</th>\n",
       "      <th>star3</th>\n",
       "      <th>star2</th>\n",
       "      <th>star1</th>\n",
       "      <th>sup_family_sharing</th>\n",
       "      <th>sup_game_center</th>\n",
       "      <th>sup_game_controllers</th>\n",
       "      <th>sup_siri</th>\n",
       "      <th>sup_wallet</th>\n",
       "      <th>games</th>\n",
       "    </tr>\n",
       "  </thead>\n",
       "  <tbody>\n",
       "    <tr>\n",
       "      <th>97032</th>\n",
       "      <td>12.0</td>\n",
       "      <td>1</td>\n",
       "      <td>0</td>\n",
       "      <td>4.99</td>\n",
       "      <td>4.1</td>\n",
       "      <td>1100.0</td>\n",
       "      <td>0</td>\n",
       "      <td>0</td>\n",
       "      <td>1</td>\n",
       "      <td>0</td>\n",
       "      <td>...</td>\n",
       "      <td>15.0</td>\n",
       "      <td>8.0</td>\n",
       "      <td>3.5</td>\n",
       "      <td>12.0</td>\n",
       "      <td>1</td>\n",
       "      <td>1</td>\n",
       "      <td>0</td>\n",
       "      <td>0</td>\n",
       "      <td>0</td>\n",
       "      <td>Where Shadows Slumber</td>\n",
       "    </tr>\n",
       "    <tr>\n",
       "      <th>102552</th>\n",
       "      <td>9.0</td>\n",
       "      <td>1</td>\n",
       "      <td>0</td>\n",
       "      <td>3.99</td>\n",
       "      <td>4.6</td>\n",
       "      <td>136.0</td>\n",
       "      <td>1</td>\n",
       "      <td>0</td>\n",
       "      <td>0</td>\n",
       "      <td>0</td>\n",
       "      <td>...</td>\n",
       "      <td>8.0</td>\n",
       "      <td>4.0</td>\n",
       "      <td>2.0</td>\n",
       "      <td>4.0</td>\n",
       "      <td>1</td>\n",
       "      <td>1</td>\n",
       "      <td>0</td>\n",
       "      <td>0</td>\n",
       "      <td>0</td>\n",
       "      <td>Monument Valley</td>\n",
       "    </tr>\n",
       "    <tr>\n",
       "      <th>117338</th>\n",
       "      <td>9.0</td>\n",
       "      <td>1</td>\n",
       "      <td>1</td>\n",
       "      <td>3.99</td>\n",
       "      <td>4.6</td>\n",
       "      <td>700.1</td>\n",
       "      <td>0</td>\n",
       "      <td>0</td>\n",
       "      <td>1</td>\n",
       "      <td>0</td>\n",
       "      <td>...</td>\n",
       "      <td>6.0</td>\n",
       "      <td>3.0</td>\n",
       "      <td>3.0</td>\n",
       "      <td>4.0</td>\n",
       "      <td>1</td>\n",
       "      <td>0</td>\n",
       "      <td>0</td>\n",
       "      <td>0</td>\n",
       "      <td>0</td>\n",
       "      <td>LIMBO</td>\n",
       "    </tr>\n",
       "    <tr>\n",
       "      <th>148024</th>\n",
       "      <td>8.0</td>\n",
       "      <td>0</td>\n",
       "      <td>0</td>\n",
       "      <td>2.99</td>\n",
       "      <td>4.7</td>\n",
       "      <td>124.0</td>\n",
       "      <td>1</td>\n",
       "      <td>0</td>\n",
       "      <td>0</td>\n",
       "      <td>0</td>\n",
       "      <td>...</td>\n",
       "      <td>6.0</td>\n",
       "      <td>3.0</td>\n",
       "      <td>2.0</td>\n",
       "      <td>2.0</td>\n",
       "      <td>1</td>\n",
       "      <td>0</td>\n",
       "      <td>0</td>\n",
       "      <td>0</td>\n",
       "      <td>0</td>\n",
       "      <td>Journey</td>\n",
       "    </tr>\n",
       "    <tr>\n",
       "      <th>187663</th>\n",
       "      <td>9.0</td>\n",
       "      <td>0</td>\n",
       "      <td>0</td>\n",
       "      <td>2.99</td>\n",
       "      <td>4.5</td>\n",
       "      <td>513.5</td>\n",
       "      <td>1</td>\n",
       "      <td>0</td>\n",
       "      <td>0</td>\n",
       "      <td>0</td>\n",
       "      <td>...</td>\n",
       "      <td>10.0</td>\n",
       "      <td>5.0</td>\n",
       "      <td>5.0</td>\n",
       "      <td>4.0</td>\n",
       "      <td>1</td>\n",
       "      <td>0</td>\n",
       "      <td>0</td>\n",
       "      <td>0</td>\n",
       "      <td>0</td>\n",
       "      <td>Rusty Lake Paradise</td>\n",
       "    </tr>\n",
       "  </tbody>\n",
       "</table>\n",
       "<p>5 rows × 53 columns</p>\n",
       "</div>"
      ],
      "text/plain": [
       "        compat  editor  iap  price  score    size  age_12  age_17  age_4  \\\n",
       "97032     12.0       1    0   4.99    4.1  1100.0       0       0      1   \n",
       "102552     9.0       1    0   3.99    4.6   136.0       1       0      0   \n",
       "117338     9.0       1    1   3.99    4.6   700.1       0       0      1   \n",
       "148024     8.0       0    0   2.99    4.7   124.0       1       0      0   \n",
       "187663     9.0       0    0   2.99    4.5   513.5       1       0      0   \n",
       "\n",
       "        age_9  ...  star4  star3  star2  star1  sup_family_sharing  \\\n",
       "97032       0  ...   15.0    8.0    3.5   12.0                   1   \n",
       "102552      0  ...    8.0    4.0    2.0    4.0                   1   \n",
       "117338      0  ...    6.0    3.0    3.0    4.0                   1   \n",
       "148024      0  ...    6.0    3.0    2.0    2.0                   1   \n",
       "187663      0  ...   10.0    5.0    5.0    4.0                   1   \n",
       "\n",
       "        sup_game_center  sup_game_controllers  sup_siri  sup_wallet  \\\n",
       "97032                 1                     0         0           0   \n",
       "102552                1                     0         0           0   \n",
       "117338                0                     0         0           0   \n",
       "148024                0                     0         0           0   \n",
       "187663                0                     0         0           0   \n",
       "\n",
       "                        games  \n",
       "97032   Where Shadows Slumber  \n",
       "102552        Monument Valley  \n",
       "117338                  LIMBO  \n",
       "148024                Journey  \n",
       "187663    Rusty Lake Paradise  \n",
       "\n",
       "[5 rows x 53 columns]"
      ]
     },
     "execution_count": 500,
     "metadata": {},
     "output_type": "execute_result"
    }
   ],
   "source": [
    "bar_data"
   ]
  },
  {
   "cell_type": "code",
   "execution_count": 375,
   "metadata": {},
   "outputs": [
    {
     "data": {
      "text/plain": [
       "[<matplotlib.lines.Line2D at 0x50c0c6d8>,\n",
       " <matplotlib.lines.Line2D at 0x42ecaac8>,\n",
       " <matplotlib.lines.Line2D at 0x42ecac18>,\n",
       " <matplotlib.lines.Line2D at 0x42ecad68>,\n",
       " <matplotlib.lines.Line2D at 0x42ecaeb8>]"
      ]
     },
     "execution_count": 375,
     "metadata": {},
     "output_type": "execute_result"
    },
    {
     "data": {
      "image/png": "[encoded data removed]",
      "text/plain": [
       "<Figure size 432x432 with 1 Axes>"
      ]
     },
     "metadata": {
      "needs_background": "light"
     },
     "output_type": "display_data"
    }
   ],
   "source": [
    "fig = plt.figure(figsize=(6,6))\n",
    "ax = plt.axes()\n",
    "\n",
    "ex_feat[feat] = 0\n",
    "predictions[0,:] = estimator.predict(ex_feat)\n",
    "\n",
    "ax.plot(star2_rng, predictions, linestyle='--')"
   ]
  },
  {
   "cell_type": "code",
   "execution_count": 290,
   "metadata": {},
   "outputs": [
    {
     "data": {
      "text/plain": [
       "array([1425.56831512, 1178.32870779, 1118.44241953,  453.2505083 ,\n",
       "        334.11547126,  335.93253047,  331.43815237,  312.90765316,\n",
       "        312.90765316,  312.90765316,  316.04747913,  316.04747913,\n",
       "        315.87056511,  315.87056511,  315.07825311,  315.07825311,\n",
       "        315.07825311,  319.99364404,  318.20733516,  318.20733516,\n",
       "        318.51844965,  318.51844965,  317.51816537,  317.51816537,\n",
       "        317.51816537,  317.51816537,  317.51816537,  318.84388781,\n",
       "        318.84388781,  318.87084888,  318.87084888,  318.87084888,\n",
       "        318.87084888,  318.87084888,  318.87084888,  318.87084888,\n",
       "        318.87084888,  318.87084888,  318.87084888,  318.87084888,\n",
       "        318.87084888,  318.87084888,  318.87084888,  318.87084888,\n",
       "        318.87084888,  318.87084888,  318.87084888,  318.87084888,\n",
       "        318.87084888])"
      ]
     },
     "execution_count": 290,
     "metadata": {},
     "output_type": "execute_result"
    }
   ],
   "source": [
    "predictions"
   ]
  },
  {
   "cell_type": "code",
   "execution_count": 541,
   "metadata": {},
   "outputs": [
    {
     "data": {
      "text/plain": [
       "102552    2100.0\n",
       "Name: nrating, dtype: float64"
      ]
     },
     "execution_count": 541,
     "metadata": {},
     "output_type": "execute_result"
    }
   ],
   "source": [
    "wss = apps[apps['title']=='LIMBO'].copy()\n",
    "wss['nrating']"
   ]
  },
  {
   "cell_type": "code",
   "execution_count": 480,
   "metadata": {},
   "outputs": [
    {
     "data": {
      "text/html": [
       "<div>\n",
       "<style scoped>\n",
       "    .dataframe tbody tr th:only-of-type {\n",
       "        vertical-align: middle;\n",
       "    }\n",
       "\n",
       "    .dataframe tbody tr th {\n",
       "        vertical-align: top;\n",
       "    }\n",
       "\n",
       "    .dataframe thead th {\n",
       "        text-align: right;\n",
       "    }\n",
       "</style>\n",
       "<table border=\"1\" class=\"dataframe\">\n",
       "  <thead>\n",
       "    <tr style=\"text-align: right;\">\n",
       "      <th></th>\n",
       "      <th>title</th>\n",
       "      <th>author</th>\n",
       "      <th>compat</th>\n",
       "      <th>editor</th>\n",
       "      <th>iap</th>\n",
       "      <th>list_rank</th>\n",
       "      <th>nrating</th>\n",
       "      <th>price</th>\n",
       "      <th>score</th>\n",
       "      <th>size</th>\n",
       "      <th>...</th>\n",
       "      <th>star4</th>\n",
       "      <th>star3</th>\n",
       "      <th>star2</th>\n",
       "      <th>star1</th>\n",
       "      <th>sup_family_sharing</th>\n",
       "      <th>sup_game_center</th>\n",
       "      <th>sup_game_controllers</th>\n",
       "      <th>sup_siri</th>\n",
       "      <th>sup_wallet</th>\n",
       "      <th>nrating_cut</th>\n",
       "    </tr>\n",
       "  </thead>\n",
       "  <tbody>\n",
       "    <tr>\n",
       "      <th>187663</th>\n",
       "      <td>Where Shadows Slumber</td>\n",
       "      <td>Game Revenant Ltd</td>\n",
       "      <td>9.0</td>\n",
       "      <td>0</td>\n",
       "      <td>0</td>\n",
       "      <td>0</td>\n",
       "      <td>175.0</td>\n",
       "      <td>2.99</td>\n",
       "      <td>4.5</td>\n",
       "      <td>513.5</td>\n",
       "      <td>...</td>\n",
       "      <td>10.0</td>\n",
       "      <td>5.0</td>\n",
       "      <td>5.0</td>\n",
       "      <td>4.0</td>\n",
       "      <td>1</td>\n",
       "      <td>0</td>\n",
       "      <td>0</td>\n",
       "      <td>0</td>\n",
       "      <td>0</td>\n",
       "      <td>2</td>\n",
       "    </tr>\n",
       "  </tbody>\n",
       "</table>\n",
       "<p>1 rows × 57 columns</p>\n",
       "</div>"
      ],
      "text/plain": [
       "                        title             author  compat  editor  iap  \\\n",
       "187663  Where Shadows Slumber  Game Revenant Ltd     9.0       0    0   \n",
       "\n",
       "        list_rank  nrating  price  score   size  ...  star4  star3  star2  \\\n",
       "187663          0    175.0   2.99    4.5  513.5  ...   10.0    5.0    5.0   \n",
       "\n",
       "        star1  sup_family_sharing  sup_game_center  sup_game_controllers  \\\n",
       "187663    4.0                   1                0                     0   \n",
       "\n",
       "        sup_siri  sup_wallet  nrating_cut  \n",
       "187663         0           0            2  \n",
       "\n",
       "[1 rows x 57 columns]"
      ]
     },
     "execution_count": 480,
     "metadata": {},
     "output_type": "execute_result"
    }
   ],
   "source": [
    "apps[apps['title']=='Where Shadows Slumber']"
   ]
  },
  {
   "cell_type": "code",
   "execution_count": 603,
   "metadata": {},
   "outputs": [
    {
     "data": {
      "text/html": [
       "<div>\n",
       "<style scoped>\n",
       "    .dataframe tbody tr th:only-of-type {\n",
       "        vertical-align: middle;\n",
       "    }\n",
       "\n",
       "    .dataframe tbody tr th {\n",
       "        vertical-align: top;\n",
       "    }\n",
       "\n",
       "    .dataframe thead th {\n",
       "        text-align: right;\n",
       "    }\n",
       "</style>\n",
       "<table border=\"1\" class=\"dataframe\">\n",
       "  <thead>\n",
       "    <tr style=\"text-align: right;\">\n",
       "      <th></th>\n",
       "      <th>star5</th>\n",
       "      <th>star4</th>\n",
       "      <th>star3</th>\n",
       "      <th>star2</th>\n",
       "      <th>star1</th>\n",
       "    </tr>\n",
       "  </thead>\n",
       "  <tbody>\n",
       "    <tr>\n",
       "      <th>187663</th>\n",
       "      <td>77.0</td>\n",
       "      <td>10.0</td>\n",
       "      <td>5.0</td>\n",
       "      <td>5.0</td>\n",
       "      <td>4.0</td>\n",
       "    </tr>\n",
       "  </tbody>\n",
       "</table>\n",
       "</div>"
      ],
      "text/plain": [
       "        star5  star4  star3  star2  star1\n",
       "187663   77.0   10.0    5.0    5.0    4.0"
      ]
     },
     "execution_count": 603,
     "metadata": {},
     "output_type": "execute_result"
    }
   ],
   "source": [
    "apps[apps['title']=='Where Shadows Slumber'][['age_4', 'age_9', 'age_12', 'age_17']]\n",
    "apps[apps['title']=='Where Shadows Slumber'][['star5', 'star4', 'star3', 'star2', 'star1']]\n",
    "# apps[apps['title']=='Where Shadows Slumber'][['lang_cnt', 'lang_dutch', 'lang_english', 'lang_french',\n",
    "#        'lang_german', 'lang_italian', 'lang_japanese', 'lang_korean',\n",
    "#        'lang_polish', 'lang_portuguese', 'lang_russian',\n",
    "#        'lang_simplified_chinese', 'lang_spanish', 'lang_swedish',\n",
    "#        'lang_traditional_chinese', 'lang_turkish']]\n",
    "# apps[apps['title']=='Where Shadows Slumber'][['sup_family_sharing', 'sup_game_center',\n",
    "#        'sup_game_controllers', 'sup_siri', 'sup_wallet']]\n",
    "# apps[apps['title']=='Where Shadows Slumber'][['gen_action', 'gen_adventure', 'gen_board', 'gen_card', 'gen_casino',\n",
    "#        'gen_casual', 'gen_family', 'gen_music', 'gen_puzzle', 'gen_racing',\n",
    "#        'gen_rpg', 'gen_simulation', 'gen_sports', 'gen_strategy', 'gen_trivia',\n",
    "#        'gen_word']]\n",
    "# apps[apps['title']=='Where Shadows Slumber'][['compat', 'editor', 'iap', 'list_rank',\n",
    "#        'price', 'score', 'size']]"
   ]
  },
  {
   "cell_type": "code",
   "execution_count": 537,
   "metadata": {},
   "outputs": [
    {
     "data": {
      "text/html": [
       "<div>\n",
       "<style scoped>\n",
       "    .dataframe tbody tr th:only-of-type {\n",
       "        vertical-align: middle;\n",
       "    }\n",
       "\n",
       "    .dataframe tbody tr th {\n",
       "        vertical-align: top;\n",
       "    }\n",
       "\n",
       "    .dataframe thead th {\n",
       "        text-align: right;\n",
       "    }\n",
       "</style>\n",
       "<table border=\"1\" class=\"dataframe\">\n",
       "  <thead>\n",
       "    <tr style=\"text-align: right;\">\n",
       "      <th></th>\n",
       "      <th>gen_action</th>\n",
       "      <th>gen_adventure</th>\n",
       "      <th>gen_board</th>\n",
       "      <th>gen_card</th>\n",
       "      <th>gen_casino</th>\n",
       "      <th>gen_casual</th>\n",
       "      <th>gen_family</th>\n",
       "      <th>gen_music</th>\n",
       "      <th>gen_puzzle</th>\n",
       "      <th>gen_racing</th>\n",
       "      <th>gen_rpg</th>\n",
       "      <th>gen_simulation</th>\n",
       "      <th>gen_sports</th>\n",
       "      <th>gen_strategy</th>\n",
       "      <th>gen_trivia</th>\n",
       "      <th>gen_word</th>\n",
       "    </tr>\n",
       "  </thead>\n",
       "  <tbody>\n",
       "    <tr>\n",
       "      <th>117338</th>\n",
       "      <td>0</td>\n",
       "      <td>1</td>\n",
       "      <td>0</td>\n",
       "      <td>0</td>\n",
       "      <td>0</td>\n",
       "      <td>0</td>\n",
       "      <td>0</td>\n",
       "      <td>0</td>\n",
       "      <td>1</td>\n",
       "      <td>0</td>\n",
       "      <td>0</td>\n",
       "      <td>0</td>\n",
       "      <td>0</td>\n",
       "      <td>0</td>\n",
       "      <td>0</td>\n",
       "      <td>0</td>\n",
       "    </tr>\n",
       "  </tbody>\n",
       "</table>\n",
       "</div>"
      ],
      "text/plain": [
       "        gen_action  gen_adventure  gen_board  gen_card  gen_casino  \\\n",
       "117338           0              1          0         0           0   \n",
       "\n",
       "        gen_casual  gen_family  gen_music  gen_puzzle  gen_racing  gen_rpg  \\\n",
       "117338           0           0          0           1           0        0   \n",
       "\n",
       "        gen_simulation  gen_sports  gen_strategy  gen_trivia  gen_word  \n",
       "117338               0           0             0           0         0  "
      ]
     },
     "execution_count": 537,
     "metadata": {},
     "output_type": "execute_result"
    }
   ],
   "source": [
    "apps[apps['title']=='Monument Valley'][['age_4', 'age_9', 'age_12', 'age_17']]\n",
    "apps[apps['title']=='Monument Valley'][['star5', 'star4', 'star3', 'star2', 'star1']]\n",
    "apps[apps['title']=='Monument Valley'][['lang_cnt', 'lang_dutch', 'lang_english', 'lang_french',\n",
    "       'lang_german', 'lang_italian', 'lang_japanese', 'lang_korean',\n",
    "       'lang_polish', 'lang_portuguese', 'lang_russian',\n",
    "       'lang_simplified_chinese', 'lang_spanish', 'lang_swedish',\n",
    "       'lang_traditional_chinese', 'lang_turkish']]\n",
    "apps[apps['title']=='Monument Valley'][['sup_family_sharing', 'sup_game_center',\n",
    "       'sup_game_controllers', 'sup_siri', 'sup_wallet']]\n",
    "apps[apps['title']=='Monument Valley'][['gen_action', 'gen_adventure', 'gen_board', 'gen_card', 'gen_casino',\n",
    "       'gen_casual', 'gen_family', 'gen_music', 'gen_puzzle', 'gen_racing',\n",
    "       'gen_rpg', 'gen_simulation', 'gen_sports', 'gen_strategy', 'gen_trivia',\n",
    "       'gen_word']]\n",
    "# apps[apps['title']=='Monument Valley'][['compat', 'editor', 'iap', 'list_rank',\n",
    "#        'price', 'score', 'size']]"
   ]
  }
 ],
 "metadata": {
  "kernelspec": {
   "display_name": "Python 3",
   "language": "python",
   "name": "python3"
  },
  "language_info": {
   "codemirror_mode": {
    "name": "ipython",
    "version": 3
   },
   "file_extension": ".py",
   "mimetype": "text/x-python",
   "name": "python",
   "nbconvert_exporter": "python",
   "pygments_lexer": "ipython3",
   "version": "3.7.3"
  }
 },
 "nbformat": 4,
 "nbformat_minor": 2
}
