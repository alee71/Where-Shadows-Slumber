{
 "cells": [
  {
   "cell_type": "markdown",
   "metadata": {},
   "source": [
    "# Predicting game popularity with iOS App Store data: game descriptions\n",
    "Andrea Lee (last update: January 30, 2020)\n",
    "\n",
    "# Motivation\n",
    "\n",
    "Mobile game market is one of the most competitive markets to break into; according to Apptopia's analysis, top 50 grossing iOS mobile games in the US accounted for 76% of the total revenue in 2017. In addition, a game stays only about 30 days within the top 50 grossing ranks (https://blog.apptopia.com/apple-grossing-ranks). This market is extremely difficult for small developers like Game Revenant, despite the production of a high-quality mobile game. Game Revenant's main mobile game, Where Shadows Slumber (WSS), has been featured multiple times and reviewed positively; however, the number of ratings and sales did not meet the hype that was shown by the free version of WSS.\n",
    "\n",
    "One of the potential reasons maybe that the game is simply not visible to users because it is not optimized for app searches. As App Rader has identified, including keywords in the app title and description can increase the app search ranking that can potentially lead to increase in sales (https://appradar.com/blog/app-store-optimization-for-games/).\n",
    "\n",
    "Thus, the goal of the project is to identify keywords in descriptions used by top games in iOS App Store and engineer new features to predict game popularity by using number of ratings as a target metric. Other features such as game genre, number of reviews, distribution of scores, languages available, and age rating were included in the predictive modeling. Based on the model, we can make additional business recommendations for small developers.\n",
    "\n",
    "Note that this is an extension of an original project that was done by Vincent Sayseng, and please see the original repository for web scraping and original motivation: https://github.com/vin-say/Where-Shadows-Slumber. Some relevant comments and analyses from the original project were left throughout the project.\n",
    "\n",
    "Where Shadows Slumber(WSS) is available here: https://apps.apple.com/us/app/where-shadows-slumber/id1221749074.\n",
    "\n",
    "# Creating Database\n",
    "## Assumptions\n",
    "\n",
    "Profiles of games on the App Store were scraped using the package Scrapy and the scraping code can be found in the original project: https://github.com/vin-say/web-scraping/tree/master/iosgames. \n",
    "- Game profiles were stored in a SQLite database, in a table named after the genre section they were scrapped from.\n",
    "- Game can appear in multiple genre sections.\n",
    "- Regression model will be designed to predict a game's popularity based on features listed in the App Store game profiles. Since the App Store does not report the number of downloads directly, the number of review will be used as a surrogate target metric.\n",
    "- Mean square error will be used as a major parameter, considering the vast number of outliers identified by the original project.\n",
    "- Database was scraped from the US iOS App Store on October 2019 and only represents data at the time of data mining.\n"
   ]
  },
  {
   "cell_type": "markdown",
   "metadata": {},
   "source": [
    "## Preliminary Data Exploration"
   ]
  },
  {
   "cell_type": "code",
   "execution_count": 2,
   "metadata": {},
   "outputs": [],
   "source": [
    "\n",
    "import pandas as pd\n",
    "import sqlalchemy as sa\n",
    "from pathlib import Path\n",
    "from sqlalchemy import create_engine\n",
    "from collections import Counter\n",
    "import numpy as np\n",
    "%matplotlib inline\n"
   ]
  },
  {
   "cell_type": "code",
   "execution_count": 48,
   "metadata": {
    "scrolled": true
   },
   "outputs": [
    {
     "name": "stdout",
     "output_type": "stream",
     "text": [
      "<class 'pandas.core.frame.DataFrame'>\n",
      "RangeIndex: 380969 entries, 0 to 380968\n",
      "Data columns (total 20 columns):\n",
      "age          380969 non-null object\n",
      "age_copy     380969 non-null object\n",
      "author       380690 non-null object\n",
      "category     380969 non-null object\n",
      "compat       380969 non-null object\n",
      "desc         380969 non-null object\n",
      "editor       1384 non-null object\n",
      "iap          148075 non-null object\n",
      "lang         380969 non-null object\n",
      "list_rank    11006 non-null object\n",
      "nrating      234417 non-null object\n",
      "price        380896 non-null object\n",
      "score        234417 non-null object\n",
      "seller       380969 non-null object\n",
      "size         380969 non-null object\n",
      "stars        234417 non-null object\n",
      "subtitle     121114 non-null object\n",
      "support      380969 non-null object\n",
      "title        380969 non-null object\n",
      "genre        380969 non-null object\n",
      "dtypes: object(20)\n",
      "memory usage: 58.1+ MB\n"
     ]
    }
   ],
   "source": [
    "# Assumes that you have the database saved in a SQLite database from a previous project\n",
    "e = sa.create_engine(r'sqlite:///D:\\Program_practices\\IOS\\app-store.sqlite')\n",
    "query = '''\n",
    "        SELECT *, 'action' AS genre FROM iosaction UNION\n",
    "        SELECT *, 'adventure' FROM iosadventure UNION\n",
    "        SELECT *, 'board' FROM iosboard UNION\n",
    "        SELECT *, 'card' FROM ioscard UNION \n",
    "        SELECT *, 'casino' FROM ioscasino UNION\n",
    "        SELECT *, 'casual' FROM ioscasual UNION\n",
    "        SELECT *, 'family' FROM iosfamily UNION\n",
    "        SELECT *, 'music' FROM iosmusic UNION\n",
    "        SELECT *, 'puzzle' FROM iospuzzle UNION\n",
    "        SELECT *, 'racing' FROM iosracing UNION\n",
    "        SELECT *, 'rpg' FROM iosrpg UNION\n",
    "        SELECT *, 'simulation' FROM iossimulation UNION\n",
    "        SELECT *, 'sports' FROM iossports UNION \n",
    "        SELECT *, 'strategy'FROM iosstrategy UNION \n",
    "        SELECT *, 'trivia' FROM iostrivia UNION\n",
    "        SELECT *, 'word' FROM iosword\n",
    "        '''\n",
    "apps = pd.read_sql_query(query, e)\n",
    "apps.info()"
   ]
  },
  {
   "cell_type": "code",
   "execution_count": 27,
   "metadata": {
    "scrolled": true
   },
   "outputs": [
    {
     "data": {
      "text/html": [
       "<div>\n",
       "<style scoped>\n",
       "    .dataframe tbody tr th:only-of-type {\n",
       "        vertical-align: middle;\n",
       "    }\n",
       "\n",
       "    .dataframe tbody tr th {\n",
       "        vertical-align: top;\n",
       "    }\n",
       "\n",
       "    .dataframe thead th {\n",
       "        text-align: right;\n",
       "    }\n",
       "</style>\n",
       "<table border=\"1\" class=\"dataframe\">\n",
       "  <thead>\n",
       "    <tr style=\"text-align: right;\">\n",
       "      <th></th>\n",
       "      <th>age</th>\n",
       "      <th>age_copy</th>\n",
       "      <th>author</th>\n",
       "      <th>category</th>\n",
       "      <th>compat</th>\n",
       "      <th>desc</th>\n",
       "      <th>editor</th>\n",
       "      <th>iap</th>\n",
       "      <th>lang</th>\n",
       "      <th>list_rank</th>\n",
       "      <th>nrating</th>\n",
       "      <th>price</th>\n",
       "      <th>score</th>\n",
       "      <th>seller</th>\n",
       "      <th>size</th>\n",
       "      <th>stars</th>\n",
       "      <th>subtitle</th>\n",
       "      <th>support</th>\n",
       "      <th>title</th>\n",
       "      <th>genre</th>\n",
       "    </tr>\n",
       "  </thead>\n",
       "  <tbody>\n",
       "    <tr>\n",
       "      <td>0</td>\n",
       "      <td>12+</td>\n",
       "      <td>\"Media5 Interactive\" LLC,479.4 MB,,,,,,,Rated ...</td>\n",
       "      <td>\"Media5 Interactive\" LLC</td>\n",
       "      <td>Games</td>\n",
       "      <td>Requires iOS 8.0 or later. Compatible with iPh...</td>\n",
       "      <td>The game allows you to develop and perfect a s...</td>\n",
       "      <td>None</td>\n",
       "      <td>Offers In-App Purchases</td>\n",
       "      <td>English</td>\n",
       "      <td>None</td>\n",
       "      <td>1 Rating</td>\n",
       "      <td>Free</td>\n",
       "      <td>2.0</td>\n",
       "      <td>\"Media5 Interactive\" LLC</td>\n",
       "      <td>479.4 MB</td>\n",
       "      <td>width: 0%;,width: 0%;,width: 0%;,width: 100%;,...</td>\n",
       "      <td>None</td>\n",
       "      <td>Game Center,Family Sharing</td>\n",
       "      <td>Sniper Shooting Champion</td>\n",
       "      <td>simulation</td>\n",
       "    </tr>\n",
       "    <tr>\n",
       "      <td>1</td>\n",
       "      <td>12+</td>\n",
       "      <td>\"Media5 Interactive\" LLC,479.4 MB,,,,,,,Rated ...</td>\n",
       "      <td>\"Media5 Interactive\" LLC</td>\n",
       "      <td>Games</td>\n",
       "      <td>Requires iOS 8.0 or later. Compatible with iPh...</td>\n",
       "      <td>The game allows you to develop and perfect a s...</td>\n",
       "      <td>None</td>\n",
       "      <td>Offers In-App Purchases</td>\n",
       "      <td>English</td>\n",
       "      <td>None</td>\n",
       "      <td>1 Rating</td>\n",
       "      <td>Free</td>\n",
       "      <td>2.0</td>\n",
       "      <td>\"Media5 Interactive\" LLC</td>\n",
       "      <td>479.4 MB</td>\n",
       "      <td>width: 0%;,width: 0%;,width: 0%;,width: 100%;,...</td>\n",
       "      <td>None</td>\n",
       "      <td>Game Center,Family Sharing</td>\n",
       "      <td>Sniper Shooting Champion</td>\n",
       "      <td>sports</td>\n",
       "    </tr>\n",
       "    <tr>\n",
       "      <td>2</td>\n",
       "      <td>12+</td>\n",
       "      <td>\"Media5 Interactive\" LLC,78.2 MB,,,,,,,Rated 1...</td>\n",
       "      <td>\"Media5 Interactive\" LLC</td>\n",
       "      <td>Games</td>\n",
       "      <td>Requires iOS 6.0 or later. Compatible with iPh...</td>\n",
       "      <td>The most stunning flail fighting game ever - R...</td>\n",
       "      <td>None</td>\n",
       "      <td>Offers In-App Purchases</td>\n",
       "      <td>English</td>\n",
       "      <td>None</td>\n",
       "      <td>None</td>\n",
       "      <td>Free</td>\n",
       "      <td>None</td>\n",
       "      <td>\"Media5 Interactive\" LLC</td>\n",
       "      <td>78.2 MB</td>\n",
       "      <td>None</td>\n",
       "      <td>None</td>\n",
       "      <td>Game Center,Family Sharing</td>\n",
       "      <td>Flail Ramble Boom</td>\n",
       "      <td>action</td>\n",
       "    </tr>\n",
       "    <tr>\n",
       "      <td>3</td>\n",
       "      <td>12+</td>\n",
       "      <td>\"Media5 Interactive\" LLC,78.2 MB,,,,,,,Rated 1...</td>\n",
       "      <td>\"Media5 Interactive\" LLC</td>\n",
       "      <td>Games</td>\n",
       "      <td>Requires iOS 6.0 or later. Compatible with iPh...</td>\n",
       "      <td>The most stunning flail fighting game ever - R...</td>\n",
       "      <td>None</td>\n",
       "      <td>Offers In-App Purchases</td>\n",
       "      <td>English</td>\n",
       "      <td>None</td>\n",
       "      <td>None</td>\n",
       "      <td>Free</td>\n",
       "      <td>None</td>\n",
       "      <td>\"Media5 Interactive\" LLC</td>\n",
       "      <td>78.2 MB</td>\n",
       "      <td>None</td>\n",
       "      <td>None</td>\n",
       "      <td>Game Center,Family Sharing</td>\n",
       "      <td>Flail Ramble Boom</td>\n",
       "      <td>sports</td>\n",
       "    </tr>\n",
       "    <tr>\n",
       "      <td>4</td>\n",
       "      <td>12+</td>\n",
       "      <td>. Salim Ullah,96.8 MB,,,,,,,Rated 12+ for the ...</td>\n",
       "      <td>. Salim Ullah</td>\n",
       "      <td>Games</td>\n",
       "      <td>Requires iOS 8.0 or later. Compatible with iPh...</td>\n",
       "      <td>If your looking for a high quality gun applica...</td>\n",
       "      <td>None</td>\n",
       "      <td>None</td>\n",
       "      <td>English</td>\n",
       "      <td>None</td>\n",
       "      <td>2 Ratings</td>\n",
       "      <td>Free</td>\n",
       "      <td>1.0</td>\n",
       "      <td>. Salim Ullah</td>\n",
       "      <td>96.8 MB</td>\n",
       "      <td>width: 0%;,width: 0%;,width: 0%;,width: 0%;,wi...</td>\n",
       "      <td>None</td>\n",
       "      <td>Family Sharing</td>\n",
       "      <td>Guns Simulator 3D</td>\n",
       "      <td>action</td>\n",
       "    </tr>\n",
       "  </tbody>\n",
       "</table>\n",
       "</div>"
      ],
      "text/plain": [
       "   age                                           age_copy  \\\n",
       "0  12+  \"Media5 Interactive\" LLC,479.4 MB,,,,,,,Rated ...   \n",
       "1  12+  \"Media5 Interactive\" LLC,479.4 MB,,,,,,,Rated ...   \n",
       "2  12+  \"Media5 Interactive\" LLC,78.2 MB,,,,,,,Rated 1...   \n",
       "3  12+  \"Media5 Interactive\" LLC,78.2 MB,,,,,,,Rated 1...   \n",
       "4  12+  . Salim Ullah,96.8 MB,,,,,,,Rated 12+ for the ...   \n",
       "\n",
       "                     author category  \\\n",
       "0  \"Media5 Interactive\" LLC    Games   \n",
       "1  \"Media5 Interactive\" LLC    Games   \n",
       "2  \"Media5 Interactive\" LLC    Games   \n",
       "3  \"Media5 Interactive\" LLC    Games   \n",
       "4             . Salim Ullah    Games   \n",
       "\n",
       "                                              compat  \\\n",
       "0  Requires iOS 8.0 or later. Compatible with iPh...   \n",
       "1  Requires iOS 8.0 or later. Compatible with iPh...   \n",
       "2  Requires iOS 6.0 or later. Compatible with iPh...   \n",
       "3  Requires iOS 6.0 or later. Compatible with iPh...   \n",
       "4  Requires iOS 8.0 or later. Compatible with iPh...   \n",
       "\n",
       "                                                desc editor  \\\n",
       "0  The game allows you to develop and perfect a s...   None   \n",
       "1  The game allows you to develop and perfect a s...   None   \n",
       "2  The most stunning flail fighting game ever - R...   None   \n",
       "3  The most stunning flail fighting game ever - R...   None   \n",
       "4  If your looking for a high quality gun applica...   None   \n",
       "\n",
       "                       iap     lang list_rank    nrating price score  \\\n",
       "0  Offers In-App Purchases  English      None   1 Rating  Free   2.0   \n",
       "1  Offers In-App Purchases  English      None   1 Rating  Free   2.0   \n",
       "2  Offers In-App Purchases  English      None       None  Free  None   \n",
       "3  Offers In-App Purchases  English      None       None  Free  None   \n",
       "4                     None  English      None  2 Ratings  Free   1.0   \n",
       "\n",
       "                     seller      size  \\\n",
       "0  \"Media5 Interactive\" LLC  479.4 MB   \n",
       "1  \"Media5 Interactive\" LLC  479.4 MB   \n",
       "2  \"Media5 Interactive\" LLC   78.2 MB   \n",
       "3  \"Media5 Interactive\" LLC   78.2 MB   \n",
       "4             . Salim Ullah   96.8 MB   \n",
       "\n",
       "                                               stars subtitle  \\\n",
       "0  width: 0%;,width: 0%;,width: 0%;,width: 100%;,...     None   \n",
       "1  width: 0%;,width: 0%;,width: 0%;,width: 100%;,...     None   \n",
       "2                                               None     None   \n",
       "3                                               None     None   \n",
       "4  width: 0%;,width: 0%;,width: 0%;,width: 0%;,wi...     None   \n",
       "\n",
       "                      support                     title       genre  \n",
       "0  Game Center,Family Sharing  Sniper Shooting Champion  simulation  \n",
       "1  Game Center,Family Sharing  Sniper Shooting Champion      sports  \n",
       "2  Game Center,Family Sharing         Flail Ramble Boom      action  \n",
       "3  Game Center,Family Sharing         Flail Ramble Boom      sports  \n",
       "4              Family Sharing         Guns Simulator 3D      action  "
      ]
     },
     "execution_count": 27,
     "metadata": {},
     "output_type": "execute_result"
    }
   ],
   "source": [
    "#Data needs to be cleaned and coded; additionally, descriptions need to be processed using natural language processing techniques\n",
    "apps.head()"
   ]
  },
  {
   "cell_type": "markdown",
   "metadata": {},
   "source": [
    "## Data Cleaning\n",
    "Each feature is defined and described in the code cell below; processing required to organize the raw data into numerical and categorical variables. Cleaning can take some time, so the formatted data set is saved into a database at the end. The data cleaning process is almost identical to the original project except for the game descriptions."
   ]
  },
  {
   "cell_type": "code",
   "execution_count": 49,
   "metadata": {},
   "outputs": [],
   "source": [
    "import re\n",
    "\n",
    "# age (categorical)\n",
    "# Age rating for game. Dummy encoded.\n",
    "# Categories are 4+, 9+, 12+, 17+\n",
    "\n",
    "age_encoded = pd.get_dummies(apps['age'])\n",
    "age_encoded.columns = ['age_' + col.replace('+','') for col in age_encoded.columns]\n",
    "apps = pd.concat([apps, age_encoded], axis=1)\n",
    "apps = apps.drop(columns=['age'])\n",
    "\n",
    "# age_copy (str)\n",
    "# Long string containing a variety information, including age rating, memory size, copyright information. \n",
    "# Was initially scraped to get the copyright year, to give estimate of release date. \n",
    "# Copyright year is not included frequently enough, however, so this category was dropped\n",
    "\n",
    "apps = apps.drop(columns=['age_copy'])\n",
    "\n",
    "# author (str)\n",
    "# Author of game. Can be used to consolidate duplicate game titles\n",
    "\n",
    "# category (categorical)\n",
    "# Category of app. Data was scrapped from game storefront, so everything should be listed as 'Games'\n",
    "# There are a few cases where this was not true (e.g. classified as 'Education', or 'Music')\n",
    "# Only concerned with game releases, so we filter for these specifically\n",
    "\n",
    "apps = apps[apps['category'] == 'Games']\n",
    "apps = apps.drop(columns=['category'])\n",
    "\n",
    "# compat (ordinal)\n",
    "# Compatibility of the app. Interested primarily in the minimum OS release requirements. \n",
    "# There are 409 different OS version releases (including minor releases), so we confine our search to major software versions\n",
    "\n",
    "# Very few cases don't contain compatibility information; filter these out\n",
    "apps = apps.dropna(subset=['compat']) \n",
    "# All version requirements starts with the phrase, 'Requires iOS x.x. or later'. First filter for that phrase\n",
    "apps['compat'] = apps['compat'].apply(lambda compat: re.findall(r'Requires\\siOS\\s\\d+', compat)) \n",
    "# Pull out just the major iOS release version. \n",
    "apps['compat'] = apps['compat'].apply(lambda compat: int(re.findall(r'\\d+', compat[0])[0]) if compat else None)\n",
    "# Also filter out apps that are not on iOS (few Apple TV apps)\n",
    "apps = apps.dropna(subset=['compat']) \n",
    "\n",
    "# editor (boolean)\n",
    "# Indicates whether the game was notable enough to receive an 'Editor's Choice' or 'Editor's Note' designation\n",
    "# These recognized games are on the front page most often, and the App Store will promote these apps particularly\n",
    "\n",
    "apps['editor'] = apps['editor'].apply(lambda editor: True if editor else False)\n",
    "\n",
    "# genre (categorical)\n",
    "# Genre of game, based on the page on which the title was scrapped from. Dummy encoded\n",
    "# Note that games can be a part of multiple genres\n",
    "# This was assigned in the SQL code a previous cell. \n",
    "\n",
    "genre_encoded = pd.get_dummies(apps['genre'])\n",
    "genre_encoded.columns = ['gen_' + col.lower() for col in genre_encoded.columns]\n",
    "apps = pd.concat([apps, genre_encoded], axis=1)\n",
    "apps = apps.drop(columns=['genre'])\n",
    "\n",
    "# iap (boolean)\n",
    "# Indicates whether the game contains in-app purchases\n",
    "\n",
    "apps['iap'] = apps['iap'].replace('Offers In-App Purchases', True).fillna(False)\n",
    "\n",
    "# lang (categorical)\n",
    "# Languages the game is available in. Dummy encoded\n",
    "# Hyperparameter 'thresh' limits the number of language categories based on popularity\n",
    "\n",
    "# new category counts number of languages the game is available in\n",
    "apps['lang_cnt'] = apps['lang'].apply(lambda lang: len(lang.split(', ')))\n",
    "\n",
    "lang_encoded = apps['lang'].str.get_dummies(', ')\n",
    "thresh = 0.05 * len(apps)\n",
    "thresh_list = (lang_encoded.sum(axis=0) < thresh).to_list()\n",
    "ind_drop = np.where(thresh_list)\n",
    "lang_encoded = lang_encoded.drop(lang_encoded.columns[ind_drop], axis=1)\n",
    "lang_encoded.columns = ['lang_' + col.replace(' ','_').lower() for col in lang_encoded.columns]\n",
    "\n",
    "apps = pd.concat([apps, lang_encoded], axis=1)\n",
    "apps = apps.drop(columns=['lang'])\n",
    "\n",
    "# list_rank (boolean)\n",
    "# Typically the rank of the game within a given category (assuming the game is ranked)\n",
    "# Field is not strictly limited to rank: it can also contain hardware restrictions ('Only for Apple TV'). \n",
    "# Anticipated release dates can also be found in this field.\n",
    "# Initially seemed like a promising predictive feature, but upon inspection of the data, the ranking system is not consistent.\n",
    "# Games can appear in different genre pages, and be ranked in other genres. Value of rank is inconsistent as well.\n",
    "# Due to the inconsistency of this metric, it was simplified into a boolean: ranked, or not\n",
    "\n",
    "apps['list_rank'] = apps['list_rank'].fillna('').apply(lambda rank: True if re.findall(r'#', rank) else False)\n",
    "\n",
    "# nrating (numeric)\n",
    "# Number ratings the game received\n",
    "\n",
    "apps['nrating'] = apps['nrating'].fillna('0.0') # account for games that haven't been rated\n",
    "# In raw form, if the review count is over a thousand or a million, the abbreviation 'K' or 'M' is used\n",
    "apps['in_K'] = apps['nrating'].apply(lambda nrating: True if re.findall(r'K', nrating) else False)\n",
    "apps['in_M'] = apps['nrating'].apply(lambda nrating: True if re.findall(r'M', nrating) else False)\n",
    "apps['nrating'] = apps['nrating'].apply(lambda nrating: float(re.findall(r'[\\d\\.]+', nrating)[0]))\n",
    "apps['nrating'] = apps.apply(lambda app: 1e3*app['nrating'] \n",
    "                             if app['in_K'] == True \n",
    "                             else app['nrating'], axis=1)\n",
    "apps['nrating'] = apps.apply(lambda app: 1e6*app['nrating'] \n",
    "                             if app['in_M'] == True \n",
    "                             else app['nrating'], axis=1)\n",
    "apps = apps.drop(columns=['in_K', 'in_M'])\n",
    "\n",
    "# price (numeric)\n",
    "# Price of game\n",
    "\n",
    "# we also drop a few cases (73) where a price wasn't listed\n",
    "apps = apps.dropna(subset=['price'])\n",
    "apps['price'] = apps['price'].apply(lambda price: float(re.findall(r'[\\d\\.]+', price)[0]) \n",
    "                                    if price != 'Free' \n",
    "                                    else 0.0)\n",
    "\n",
    "# score (numeric)\n",
    "# Mean score across all ratings. Games that have not been rated will have a NaN assigned in this field\n",
    "\n",
    "apps['score'] = apps['score'].fillna(np.nan).apply(float)\n",
    "\n",
    "# seller (str)\n",
    "# Party that sells the game, usually same as author. Dropped in this project\n",
    "\n",
    "apps = apps.drop(columns=['seller'])\n",
    "\n",
    "# size (float)\n",
    "# Size of game, in MB. Games that are in KB are rounded to 1.0 MB\n",
    "\n",
    "apps['in_KB'] = apps['size'].apply(lambda nrating: True if re.findall(r'KB', nrating) else False)\n",
    "apps['in_GB'] = apps['size'].apply(lambda nrating: True if re.findall(r'GB', nrating) else False)\n",
    "apps['size'] = apps['size'].apply(lambda nrating: float(re.findall(r'[\\d\\.]+', nrating)[0]))\n",
    "apps['size'] = apps.apply(lambda app: 1.0\n",
    "                             if app['in_KB'] == True \n",
    "                             else app['size'], axis=1)\n",
    "apps['size'] = apps.apply(lambda app: 1e3*app['size'] \n",
    "                             if app['in_GB'] == True \n",
    "                             else app['size'], axis=1)\n",
    "apps = apps.drop(columns=['in_KB', 'in_GB'])\n",
    "\n",
    "# stars (numerical)\n",
    "# Rating breakdown for the game, i.e. mean review score\n",
    "# Split into multiple categories, one for each possible rating\n",
    "\n",
    "apps['stars'] = apps['stars'].apply(lambda rating: re.findall(r'\\d+', rating)\n",
    "                                    if rating is not None \n",
    "                                    else [0, 0, 0, 0, 0])\n",
    "apps['star5'] = apps['stars'].apply(lambda rating: float(rating[0]))\n",
    "apps['star4'] = apps['stars'].apply(lambda rating: float(rating[1]))\n",
    "apps['star3'] = apps['stars'].apply(lambda rating: float(rating[2]))\n",
    "apps['star2'] = apps['stars'].apply(lambda rating: float(rating[3]))\n",
    "apps['star1'] = apps['stars'].apply(lambda rating: float(rating[4]))\n",
    "apps = apps.drop(columns=['stars'])\n",
    "\n",
    "# subtitle (str)\n",
    "# Subtitle of game, if it exists. \n",
    "# Could be useful in the future of keyword analysis, but dropped for now\n",
    "\n",
    "apps = apps.drop(columns=['subtitle'])\n",
    "\n",
    "# support (categorical)\n",
    "# iOS supports features such as 'Family Center' and 'Game Center' which can augment a user's experience\n",
    "\n",
    "# one-hot enocde supports category\n",
    "supports_encoded = apps['support'].str.get_dummies(',')\n",
    "supports_encoded.columns = ['sup_' + col.replace(' ','_').lower() for col in supports_encoded.columns]\n",
    "apps = pd.concat([apps, supports_encoded], axis=1)\n",
    "apps = apps.drop(columns=['support'])\n",
    "\n"
   ]
  },
  {
   "cell_type": "code",
   "execution_count": 58,
   "metadata": {},
   "outputs": [],
   "source": [
    "# title (str)\n",
    "# Title of game\n",
    "# Games can be scrapped multiple times since they can be posted on multiple genre pages\n",
    "# Title can be used to consolidate these duplicates\n",
    "def agg_func(x):\n",
    "    '''Dictate the aggregate function to apply based on the data object type\n",
    "\n",
    "    param x: DataFrame groupby object\n",
    "    '''\n",
    "    if x.dtype in ('float64', 'object'):\n",
    "        return x.mean()\n",
    "    elif x.dtype in ('bool', 'uint8', 'int64'):\n",
    "        return x.max()\n",
    "    else:\n",
    "        print('Unrecognized dtype!')\n",
    "\n",
    "# Duplicate game titles can contain different rating and star values. These are will be averaged\n",
    "# Boolean and integer values are dummy categories, so we mark as True/1 if so in at least one row\n",
    "apps = apps.groupby(['title','author','desc']).agg(agg_func).reset_index()"
   ]
  },
  {
   "cell_type": "code",
   "execution_count": 59,
   "metadata": {},
   "outputs": [
    {
     "data": {
      "text/html": [
       "<div>\n",
       "<style scoped>\n",
       "    .dataframe tbody tr th:only-of-type {\n",
       "        vertical-align: middle;\n",
       "    }\n",
       "\n",
       "    .dataframe tbody tr th {\n",
       "        vertical-align: top;\n",
       "    }\n",
       "\n",
       "    .dataframe thead th {\n",
       "        text-align: right;\n",
       "    }\n",
       "</style>\n",
       "<table border=\"1\" class=\"dataframe\">\n",
       "  <thead>\n",
       "    <tr style=\"text-align: right;\">\n",
       "      <th></th>\n",
       "      <th>title</th>\n",
       "      <th>author</th>\n",
       "      <th>desc</th>\n",
       "      <th>compat</th>\n",
       "      <th>editor</th>\n",
       "      <th>iap</th>\n",
       "      <th>list_rank</th>\n",
       "      <th>nrating</th>\n",
       "      <th>price</th>\n",
       "      <th>score</th>\n",
       "      <th>...</th>\n",
       "      <th>star5</th>\n",
       "      <th>star4</th>\n",
       "      <th>star3</th>\n",
       "      <th>star2</th>\n",
       "      <th>star1</th>\n",
       "      <th>sup_family_sharing</th>\n",
       "      <th>sup_game_center</th>\n",
       "      <th>sup_game_controllers</th>\n",
       "      <th>sup_siri</th>\n",
       "      <th>sup_wallet</th>\n",
       "    </tr>\n",
       "  </thead>\n",
       "  <tbody>\n",
       "    <tr>\n",
       "      <td>0</td>\n",
       "      <td>! Brain Game is designed to sharpen your math ...</td>\n",
       "      <td>Evgeny EGOROV</td>\n",
       "      <td>Brain Game is an all-age math game designed to...</td>\n",
       "      <td>6.0</td>\n",
       "      <td>False</td>\n",
       "      <td>False</td>\n",
       "      <td>False</td>\n",
       "      <td>17.0</td>\n",
       "      <td>0.0</td>\n",
       "      <td>4.3</td>\n",
       "      <td>...</td>\n",
       "      <td>65.0</td>\n",
       "      <td>6.0</td>\n",
       "      <td>24.0</td>\n",
       "      <td>6.0</td>\n",
       "      <td>0.0</td>\n",
       "      <td>1</td>\n",
       "      <td>1</td>\n",
       "      <td>0</td>\n",
       "      <td>0</td>\n",
       "      <td>0</td>\n",
       "    </tr>\n",
       "    <tr>\n",
       "      <td>1</td>\n",
       "      <td>! CHEERFUL COOK (Arcade for kids) Lite</td>\n",
       "      <td>Evgeny EGOROV</td>\n",
       "      <td>You take the role of a chef and began a journe...</td>\n",
       "      <td>6.0</td>\n",
       "      <td>False</td>\n",
       "      <td>False</td>\n",
       "      <td>False</td>\n",
       "      <td>0.0</td>\n",
       "      <td>0.0</td>\n",
       "      <td>NaN</td>\n",
       "      <td>...</td>\n",
       "      <td>0.0</td>\n",
       "      <td>0.0</td>\n",
       "      <td>0.0</td>\n",
       "      <td>0.0</td>\n",
       "      <td>0.0</td>\n",
       "      <td>1</td>\n",
       "      <td>0</td>\n",
       "      <td>0</td>\n",
       "      <td>0</td>\n",
       "      <td>0</td>\n",
       "    </tr>\n",
       "    <tr>\n",
       "      <td>2</td>\n",
       "      <td>! Chess !</td>\n",
       "      <td>xiaojian chen</td>\n",
       "      <td>Chess King is the best Chess game. Touch the s...</td>\n",
       "      <td>7.0</td>\n",
       "      <td>False</td>\n",
       "      <td>False</td>\n",
       "      <td>False</td>\n",
       "      <td>199.0</td>\n",
       "      <td>0.0</td>\n",
       "      <td>4.6</td>\n",
       "      <td>...</td>\n",
       "      <td>75.0</td>\n",
       "      <td>17.0</td>\n",
       "      <td>3.0</td>\n",
       "      <td>2.0</td>\n",
       "      <td>3.0</td>\n",
       "      <td>1</td>\n",
       "      <td>1</td>\n",
       "      <td>0</td>\n",
       "      <td>0</td>\n",
       "      <td>0</td>\n",
       "    </tr>\n",
       "    <tr>\n",
       "      <td>3</td>\n",
       "      <td>! Exploding Paintballs !</td>\n",
       "      <td>Peter Kramer</td>\n",
       "      <td>!Exploding Paintballs!  is a tilt-sensitive ar...</td>\n",
       "      <td>8.0</td>\n",
       "      <td>False</td>\n",
       "      <td>True</td>\n",
       "      <td>False</td>\n",
       "      <td>6.0</td>\n",
       "      <td>0.0</td>\n",
       "      <td>4.8</td>\n",
       "      <td>...</td>\n",
       "      <td>83.0</td>\n",
       "      <td>17.0</td>\n",
       "      <td>0.0</td>\n",
       "      <td>0.0</td>\n",
       "      <td>0.0</td>\n",
       "      <td>1</td>\n",
       "      <td>1</td>\n",
       "      <td>0</td>\n",
       "      <td>0</td>\n",
       "      <td>0</td>\n",
       "    </tr>\n",
       "    <tr>\n",
       "      <td>4</td>\n",
       "      <td>! Game Erudite for people who want to develop ...</td>\n",
       "      <td>Evgeny EGOROV</td>\n",
       "      <td>Welcome to the game Erudite, where you can tra...</td>\n",
       "      <td>6.0</td>\n",
       "      <td>False</td>\n",
       "      <td>False</td>\n",
       "      <td>False</td>\n",
       "      <td>0.0</td>\n",
       "      <td>0.0</td>\n",
       "      <td>NaN</td>\n",
       "      <td>...</td>\n",
       "      <td>0.0</td>\n",
       "      <td>0.0</td>\n",
       "      <td>0.0</td>\n",
       "      <td>0.0</td>\n",
       "      <td>0.0</td>\n",
       "      <td>1</td>\n",
       "      <td>0</td>\n",
       "      <td>0</td>\n",
       "      <td>0</td>\n",
       "      <td>0</td>\n",
       "    </tr>\n",
       "  </tbody>\n",
       "</table>\n",
       "<p>5 rows × 57 columns</p>\n",
       "</div>"
      ],
      "text/plain": [
       "                                               title         author  \\\n",
       "0  ! Brain Game is designed to sharpen your math ...  Evgeny EGOROV   \n",
       "1             ! CHEERFUL COOK (Arcade for kids) Lite  Evgeny EGOROV   \n",
       "2                                          ! Chess !  xiaojian chen   \n",
       "3                           ! Exploding Paintballs !   Peter Kramer   \n",
       "4  ! Game Erudite for people who want to develop ...  Evgeny EGOROV   \n",
       "\n",
       "                                                desc  compat  editor    iap  \\\n",
       "0  Brain Game is an all-age math game designed to...     6.0   False  False   \n",
       "1  You take the role of a chef and began a journe...     6.0   False  False   \n",
       "2  Chess King is the best Chess game. Touch the s...     7.0   False  False   \n",
       "3  !Exploding Paintballs!  is a tilt-sensitive ar...     8.0   False   True   \n",
       "4  Welcome to the game Erudite, where you can tra...     6.0   False  False   \n",
       "\n",
       "   list_rank  nrating  price  score  ...  star5  star4  star3  star2  star1  \\\n",
       "0      False     17.0    0.0    4.3  ...   65.0    6.0   24.0    6.0    0.0   \n",
       "1      False      0.0    0.0    NaN  ...    0.0    0.0    0.0    0.0    0.0   \n",
       "2      False    199.0    0.0    4.6  ...   75.0   17.0    3.0    2.0    3.0   \n",
       "3      False      6.0    0.0    4.8  ...   83.0   17.0    0.0    0.0    0.0   \n",
       "4      False      0.0    0.0    NaN  ...    0.0    0.0    0.0    0.0    0.0   \n",
       "\n",
       "   sup_family_sharing  sup_game_center  sup_game_controllers  sup_siri  \\\n",
       "0                   1                1                     0         0   \n",
       "1                   1                0                     0         0   \n",
       "2                   1                1                     0         0   \n",
       "3                   1                1                     0         0   \n",
       "4                   1                0                     0         0   \n",
       "\n",
       "   sup_wallet  \n",
       "0           0  \n",
       "1           0  \n",
       "2           0  \n",
       "3           0  \n",
       "4           0  \n",
       "\n",
       "[5 rows x 57 columns]"
      ]
     },
     "execution_count": 59,
     "metadata": {},
     "output_type": "execute_result"
    }
   ],
   "source": [
    "apps.head()"
   ]
  },
  {
   "cell_type": "code",
   "execution_count": 109,
   "metadata": {},
   "outputs": [],
   "source": [
    "# save the data base for easier execution in the future\n",
    "apps.to_sql('iosformatted_desc', e, if_exists='replace', index=False)"
   ]
  },
  {
   "cell_type": "markdown",
   "metadata": {},
   "source": [
    "## Removing Extraneous Rows\n",
    "Except for the title, author, and description of the game, each feature has been transformed into a numerical variable (dtype=float64) or a dummy-encoded categorical variable (dtype=int64). Furthermore, the missing values have been accounted for or filled in, and every column contains the same number of values. See below for the summary."
   ]
  },
  {
   "cell_type": "code",
   "execution_count": 12,
   "metadata": {
    "scrolled": true
   },
   "outputs": [
    {
     "name": "stdout",
     "output_type": "stream",
     "text": [
      "<class 'pandas.core.frame.DataFrame'>\n",
      "RangeIndex: 195732 entries, 0 to 195731\n",
      "Data columns (total 56 columns):\n",
      "title                       195732 non-null object\n",
      "author                      195732 non-null object\n",
      "age_12                      195732 non-null uint8\n",
      "age_17                      195732 non-null uint8\n",
      "age_4                       195732 non-null uint8\n",
      "age_9                       195732 non-null uint8\n",
      "compat                      195732 non-null float64\n",
      "editor                      195732 non-null bool\n",
      "gen_action                  195732 non-null uint8\n",
      "gen_adventure               195732 non-null uint8\n",
      "gen_board                   195732 non-null uint8\n",
      "gen_card                    195732 non-null uint8\n",
      "gen_casino                  195732 non-null uint8\n",
      "gen_casual                  195732 non-null uint8\n",
      "gen_family                  195732 non-null uint8\n",
      "gen_music                   195732 non-null uint8\n",
      "gen_puzzle                  195732 non-null uint8\n",
      "gen_racing                  195732 non-null uint8\n",
      "gen_rpg                     195732 non-null uint8\n",
      "gen_simulation              195732 non-null uint8\n",
      "gen_sports                  195732 non-null uint8\n",
      "gen_strategy                195732 non-null uint8\n",
      "gen_trivia                  195732 non-null uint8\n",
      "gen_word                    195732 non-null uint8\n",
      "iap                         195732 non-null bool\n",
      "lang_cnt                    195732 non-null int64\n",
      "lang_dutch                  195732 non-null int64\n",
      "lang_english                195732 non-null int64\n",
      "lang_french                 195732 non-null int64\n",
      "lang_german                 195732 non-null int64\n",
      "lang_italian                195732 non-null int64\n",
      "lang_japanese               195732 non-null int64\n",
      "lang_korean                 195732 non-null int64\n",
      "lang_polish                 195732 non-null int64\n",
      "lang_portuguese             195732 non-null int64\n",
      "lang_russian                195732 non-null int64\n",
      "lang_simplified_chinese     195732 non-null int64\n",
      "lang_spanish                195732 non-null int64\n",
      "lang_swedish                195732 non-null int64\n",
      "lang_traditional_chinese    195732 non-null int64\n",
      "lang_turkish                195732 non-null int64\n",
      "list_rank                   195732 non-null bool\n",
      "nrating                     195732 non-null float64\n",
      "price                       195732 non-null float64\n",
      "score                       119988 non-null float64\n",
      "size                        195732 non-null float64\n",
      "star1                       195732 non-null float64\n",
      "star2                       195732 non-null float64\n",
      "star3                       195732 non-null float64\n",
      "star4                       195732 non-null float64\n",
      "star5                       195732 non-null float64\n",
      "sup_family_sharing          195732 non-null int64\n",
      "sup_game_center             195732 non-null int64\n",
      "sup_game_controllers        195732 non-null int64\n",
      "sup_siri                    195732 non-null int64\n",
      "sup_wallet                  195732 non-null int64\n",
      "dtypes: bool(3), float64(10), int64(21), object(2), uint8(20)\n",
      "memory usage: 53.6+ MB\n"
     ]
    }
   ],
   "source": [
    "apps.info()"
   ]
  },
  {
   "cell_type": "code",
   "execution_count": 16,
   "metadata": {},
   "outputs": [
    {
     "data": {
      "text/plain": [
       "<matplotlib.axes._subplots.AxesSubplot at 0x231be4edc48>"
      ]
     },
     "execution_count": 16,
     "metadata": {},
     "output_type": "execute_result"
    },
    {
     "data": {
      "image/png": "[encoded data removed]",
      "text/plain": [
       "<Figure size 432x288 with 1 Axes>"
      ]
     },
     "metadata": {
      "needs_background": "light"
     },
     "output_type": "display_data"
    }
   ],
   "source": [
    "apps['nrating'].hist()"
   ]
  },
  {
   "cell_type": "markdown",
   "metadata": {},
   "source": [
    "As the original project identified, most games receive very few reviews (including WSS), and this will interfere with the model's ability to predict number of ratings. In addition, we're primarily interested in WSS's performance against games with a similiar or greater level of success (as measured by ratings count). The data was filtered only to include games that had more than 36 reviews. At this threshold, the number of WSS ratings (175) would approximately be located at the median of the ratings distribution. \n",
    "\n",
    "Note: we have explored removing games less than 100 reviews, which ended up being 16,583 versus 25,593 games. The model performed much better with a larger data set and this data represents the problem better. Thus, we recommend keeping the threshold as 36 reviews."
   ]
  },
  {
   "cell_type": "code",
   "execution_count": 17,
   "metadata": {},
   "outputs": [
    {
     "data": {
      "text/html": [
       "<div>\n",
       "<style scoped>\n",
       "    .dataframe tbody tr th:only-of-type {\n",
       "        vertical-align: middle;\n",
       "    }\n",
       "\n",
       "    .dataframe tbody tr th {\n",
       "        vertical-align: top;\n",
       "    }\n",
       "\n",
       "    .dataframe thead th {\n",
       "        text-align: right;\n",
       "    }\n",
       "</style>\n",
       "<table border=\"1\" class=\"dataframe\">\n",
       "  <thead>\n",
       "    <tr style=\"text-align: right;\">\n",
       "      <th></th>\n",
       "      <th>title</th>\n",
       "      <th>nrating</th>\n",
       "    </tr>\n",
       "  </thead>\n",
       "  <tbody>\n",
       "    <tr>\n",
       "      <td>187663</td>\n",
       "      <td>Where Shadows Slumber</td>\n",
       "      <td>175.0</td>\n",
       "    </tr>\n",
       "  </tbody>\n",
       "</table>\n",
       "</div>"
      ],
      "text/plain": [
       "                        title  nrating\n",
       "187663  Where Shadows Slumber    175.0"
      ]
     },
     "execution_count": 17,
     "metadata": {},
     "output_type": "execute_result"
    }
   ],
   "source": [
    "apps[apps['title']=='Where Shadows Slumber'][['title','nrating']]"
   ]
  },
  {
   "cell_type": "code",
   "execution_count": 72,
   "metadata": {},
   "outputs": [
    {
     "data": {
      "text/plain": [
       "count    2.562600e+04\n",
       "mean     4.973724e+03\n",
       "std      4.917892e+04\n",
       "min      3.650000e+01\n",
       "25%      7.100000e+01\n",
       "50%      1.765000e+02\n",
       "75%      7.285000e+02\n",
       "max      4.500000e+06\n",
       "Name: nrating, dtype: float64"
      ]
     },
     "execution_count": 72,
     "metadata": {},
     "output_type": "execute_result"
    }
   ],
   "source": [
    "apps = apps[ (apps['nrating']>36)]\n",
    "apps['nrating'].describe()"
   ]
  },
  {
   "cell_type": "markdown",
   "metadata": {},
   "source": [
    "## Cleaning Description\n",
    "Since we included descriptions to the feature, we need to clean the description. We will tokenize and lemmatize the words using nltk. The process is outlined below.\n",
    "- Tokening: use word_tokenize method from NLTK to split the description text into individual words.\n",
    "- Removing stop words: use stop words from 'english' to delete both common lower and upper case stop words.\n",
    "- Joining: join to use Counter function to count the frequency of words in the description.\n",
    "\n",
    "By using Counter, we want to identify frequency of top 100 keywords in descriptions that are common in:\n",
    "- All apps (reviews >36)\n",
    "- Popular apps across all genres\n",
    "- Popular apps in puzzle\n",
    "- Popular apps in adventure\n",
    "\n",
    "Since WSS is listed in both puzzle and adventure genres, we were interested in these two genres. Additionally, we quantified the length of the description because longer descriptions will include more keywords."
   ]
  },
  {
   "cell_type": "code",
   "execution_count": 70,
   "metadata": {},
   "outputs": [
    {
     "name": "stderr",
     "output_type": "stream",
     "text": [
      "[nltk_data] Downloading package stopwords to\n",
      "[nltk_data]     C:\\Users\\Andrea\\AppData\\Roaming\\nltk_data...\n",
      "[nltk_data]   Package stopwords is already up-to-date!\n",
      "[nltk_data] Downloading package punkt to\n",
      "[nltk_data]     C:\\Users\\Andrea\\AppData\\Roaming\\nltk_data...\n",
      "[nltk_data]   Unzipping tokenizers\\punkt.zip.\n"
     ]
    }
   ],
   "source": [
    "import spacy\n",
    "import en_core_web_sm\n",
    "nlp = en_core_web_sm.load()\n",
    "from sklearn.feature_extraction.text import CountVectorizer\n",
    "import nltk\n",
    "import en_core_web_sm\n",
    "nlp = en_core_web_sm.load()\n",
    "nltk.download('stopwords')\n",
    "from nltk import word_tokenize\n",
    "nltk.download('punkt')\n",
    "stops = nltk.corpus.stopwords.words('english')\n",
    "stops.extend(['co', 'https', 'http'])"
   ]
  },
  {
   "cell_type": "code",
   "execution_count": 85,
   "metadata": {},
   "outputs": [
    {
     "data": {
      "text/html": [
       "<div>\n",
       "<style scoped>\n",
       "    .dataframe tbody tr th:only-of-type {\n",
       "        vertical-align: middle;\n",
       "    }\n",
       "\n",
       "    .dataframe tbody tr th {\n",
       "        vertical-align: top;\n",
       "    }\n",
       "\n",
       "    .dataframe thead th {\n",
       "        text-align: right;\n",
       "    }\n",
       "</style>\n",
       "<table border=\"1\" class=\"dataframe\">\n",
       "  <thead>\n",
       "    <tr style=\"text-align: right;\">\n",
       "      <th></th>\n",
       "      <th>All_keyword</th>\n",
       "      <th>All_freq</th>\n",
       "    </tr>\n",
       "  </thead>\n",
       "  <tbody>\n",
       "    <tr>\n",
       "      <td>0</td>\n",
       "      <td>game</td>\n",
       "      <td>83770</td>\n",
       "    </tr>\n",
       "    <tr>\n",
       "      <td>1</td>\n",
       "      <td>play</td>\n",
       "      <td>38681</td>\n",
       "    </tr>\n",
       "    <tr>\n",
       "      <td>2</td>\n",
       "      <td>new</td>\n",
       "      <td>22166</td>\n",
       "    </tr>\n",
       "    <tr>\n",
       "      <td>3</td>\n",
       "      <td>free</td>\n",
       "      <td>20342</td>\n",
       "    </tr>\n",
       "    <tr>\n",
       "      <td>4</td>\n",
       "      <td>get</td>\n",
       "      <td>19022</td>\n",
       "    </tr>\n",
       "  </tbody>\n",
       "</table>\n",
       "</div>"
      ],
      "text/plain": [
       "  All_keyword  All_freq\n",
       "0        game     83770\n",
       "1        play     38681\n",
       "2         new     22166\n",
       "3        free     20342\n",
       "4         get     19022"
      ]
     },
     "execution_count": 85,
     "metadata": {},
     "output_type": "execute_result"
    }
   ],
   "source": [
    "def clean_words(row):\n",
    "    review = row['desc'].lower()\n",
    "    tokens = word_tokenize(review)\n",
    "    token_words = [w for w in tokens if w.isalpha()]\n",
    "    meaningful_words = [w for w in token_words if w.lower() not in stops]\n",
    "    joined_words = ( \" \".join(meaningful_words))\n",
    "    return joined_words \n",
    "\n",
    "def lemmatize_doc(doc):\n",
    "    '''Apply spaCy lemmatization to a document (str)'''\n",
    "    doc = nlp(doc)\n",
    "    doc = ' '.join([word.lemma_ for word in doc])\n",
    "    return doc\n",
    "\n",
    "apps['processed_stem']= apps.apply(clean_words, axis=1)\n",
    "apps['processed_stem'] = apps.apply(lambda x: lemmatize_doc(x['processed_stem']), axis=1)\n",
    "app_number=Counter(' '.join((apps['processed_stem'])).split()).most_common(100)\n",
    "all_num=pd.DataFrame(app_number, columns=['All_keyword','All_freq'])\n",
    "all_num.head()"
   ]
  },
  {
   "cell_type": "code",
   "execution_count": 85,
   "metadata": {},
   "outputs": [],
   "source": [
    "apps['desc_len']=apps['desc'].apply(len)\n",
    "apps['desc_len'].describe()\n",
    "# Turning off the warning...\n",
    "pd.options.mode.chained_assignment = None "
   ]
  },
  {
   "cell_type": "markdown",
   "metadata": {},
   "source": [
    "Let's find a way to define \"popular apps\" by looking at the overall statistics of number of ratings and proportion of star5 ratings."
   ]
  },
  {
   "cell_type": "code",
   "execution_count": 90,
   "metadata": {},
   "outputs": [
    {
     "data": {
      "text/plain": [
       "11600.0"
      ]
     },
     "execution_count": 90,
     "metadata": {},
     "output_type": "execute_result"
    }
   ],
   "source": [
    "apps['nrating'].quantile(.95)"
   ]
  },
  {
   "cell_type": "code",
   "execution_count": 95,
   "metadata": {},
   "outputs": [
    {
     "data": {
      "text/plain": [
       "count    25626.000000\n",
       "mean        66.773433\n",
       "std         16.668268\n",
       "min          0.000000\n",
       "25%         57.000000\n",
       "50%         69.500000\n",
       "75%         79.000000\n",
       "max        100.000000\n",
       "Name: star5, dtype: float64"
      ]
     },
     "execution_count": 95,
     "metadata": {},
     "output_type": "execute_result"
    }
   ],
   "source": [
    "apps['star5'].describe()"
   ]
  },
  {
   "cell_type": "markdown",
   "metadata": {},
   "source": [
    "As we saw above with the overall statistics, the number of rating is skewed so I will examine the top 5%. The proportion of the 5 star ratings are less skewed, so I will consider games with > 79% ratings as popular game. Thus,  popular apps are defined as number of ratings > 11600 and proportion of the 5 star rating > 79%."
   ]
  },
  {
   "cell_type": "code",
   "execution_count": 149,
   "metadata": {},
   "outputs": [],
   "source": [
    "# create a sepearte set with only popular apps and take the top 500 apps, sorted by the number of ratings\n",
    "popular_apps = apps[(apps['nrating']>11600) & (apps['star5']>79)]\n",
    "popular_apps = popular_apps.sort_values('nrating',ascending = False).groupby('nrating').head(500)"
   ]
  },
  {
   "cell_type": "code",
   "execution_count": 150,
   "metadata": {},
   "outputs": [
    {
     "data": {
      "text/html": [
       "<div>\n",
       "<style scoped>\n",
       "    .dataframe tbody tr th:only-of-type {\n",
       "        vertical-align: middle;\n",
       "    }\n",
       "\n",
       "    .dataframe tbody tr th {\n",
       "        vertical-align: top;\n",
       "    }\n",
       "\n",
       "    .dataframe thead th {\n",
       "        text-align: right;\n",
       "    }\n",
       "</style>\n",
       "<table border=\"1\" class=\"dataframe\">\n",
       "  <thead>\n",
       "    <tr style=\"text-align: right;\">\n",
       "      <th></th>\n",
       "      <th>title</th>\n",
       "      <th>author</th>\n",
       "      <th>desc</th>\n",
       "      <th>compat</th>\n",
       "      <th>editor</th>\n",
       "      <th>iap</th>\n",
       "      <th>list_rank</th>\n",
       "      <th>nrating</th>\n",
       "      <th>price</th>\n",
       "      <th>score</th>\n",
       "      <th>...</th>\n",
       "      <th>star3</th>\n",
       "      <th>star2</th>\n",
       "      <th>star1</th>\n",
       "      <th>sup_family_sharing</th>\n",
       "      <th>sup_game_center</th>\n",
       "      <th>sup_game_controllers</th>\n",
       "      <th>sup_siri</th>\n",
       "      <th>sup_wallet</th>\n",
       "      <th>processed_stem</th>\n",
       "      <th>desc_len</th>\n",
       "    </tr>\n",
       "  </thead>\n",
       "  <tbody>\n",
       "    <tr>\n",
       "      <td>73405</td>\n",
       "      <td>Fortnite</td>\n",
       "      <td>Epic Games</td>\n",
       "      <td>Works with: iPhone SE, 6S, 6S Plus, 7, 7 Plus,...</td>\n",
       "      <td>11.0</td>\n",
       "      <td>False</td>\n",
       "      <td>True</td>\n",
       "      <td>True</td>\n",
       "      <td>4500000.0</td>\n",
       "      <td>0.0</td>\n",
       "      <td>4.6</td>\n",
       "      <td>...</td>\n",
       "      <td>3.0</td>\n",
       "      <td>2.0</td>\n",
       "      <td>7.0</td>\n",
       "      <td>1</td>\n",
       "      <td>0</td>\n",
       "      <td>0</td>\n",
       "      <td>0</td>\n",
       "      <td>0</td>\n",
       "      <td>works iphone se plus plus plus x xs xr ipad mi...</td>\n",
       "      <td>1912</td>\n",
       "    </tr>\n",
       "    <tr>\n",
       "      <td>157430</td>\n",
       "      <td>Sniper 3D Assassin: Gun Games</td>\n",
       "      <td>Fun Games For Free</td>\n",
       "      <td>Ready to have FUN? Download now the best shoot...</td>\n",
       "      <td>9.0</td>\n",
       "      <td>False</td>\n",
       "      <td>True</td>\n",
       "      <td>True</td>\n",
       "      <td>1700000.0</td>\n",
       "      <td>0.0</td>\n",
       "      <td>4.8</td>\n",
       "      <td>...</td>\n",
       "      <td>3.0</td>\n",
       "      <td>1.0</td>\n",
       "      <td>1.0</td>\n",
       "      <td>1</td>\n",
       "      <td>1</td>\n",
       "      <td>0</td>\n",
       "      <td>0</td>\n",
       "      <td>0</td>\n",
       "      <td>ready fun download good shooting game free lik...</td>\n",
       "      <td>3364</td>\n",
       "    </tr>\n",
       "    <tr>\n",
       "      <td>145236</td>\n",
       "      <td>Roblox</td>\n",
       "      <td>Roblox Corporation</td>\n",
       "      <td>Roblox is the ultimate virtual universe that l...</td>\n",
       "      <td>8.0</td>\n",
       "      <td>False</td>\n",
       "      <td>True</td>\n",
       "      <td>True</td>\n",
       "      <td>1600000.0</td>\n",
       "      <td>0.0</td>\n",
       "      <td>4.6</td>\n",
       "      <td>...</td>\n",
       "      <td>3.0</td>\n",
       "      <td>2.0</td>\n",
       "      <td>5.0</td>\n",
       "      <td>1</td>\n",
       "      <td>0</td>\n",
       "      <td>0</td>\n",
       "      <td>0</td>\n",
       "      <td>0</td>\n",
       "      <td>roblox ultimate virtual universe let play crea...</td>\n",
       "      <td>1507</td>\n",
       "    </tr>\n",
       "    <tr>\n",
       "      <td>62314</td>\n",
       "      <td>Episode - Choose Your Story</td>\n",
       "      <td>Episode Interactive</td>\n",
       "      <td>Episode lets you LIVE your stories with love, ...</td>\n",
       "      <td>8.0</td>\n",
       "      <td>False</td>\n",
       "      <td>True</td>\n",
       "      <td>True</td>\n",
       "      <td>1500000.0</td>\n",
       "      <td>0.0</td>\n",
       "      <td>4.7</td>\n",
       "      <td>...</td>\n",
       "      <td>5.0</td>\n",
       "      <td>1.0</td>\n",
       "      <td>2.0</td>\n",
       "      <td>1</td>\n",
       "      <td>0</td>\n",
       "      <td>0</td>\n",
       "      <td>0</td>\n",
       "      <td>0</td>\n",
       "      <td>episode let live story love romance adventure ...</td>\n",
       "      <td>3983</td>\n",
       "    </tr>\n",
       "    <tr>\n",
       "      <td>176984</td>\n",
       "      <td>Toon Blast</td>\n",
       "      <td>Peak Games</td>\n",
       "      <td>WELCOME TO THE FUNNIEST CARTOON PUZZLE ADVENTU...</td>\n",
       "      <td>7.0</td>\n",
       "      <td>False</td>\n",
       "      <td>True</td>\n",
       "      <td>True</td>\n",
       "      <td>1400000.0</td>\n",
       "      <td>0.0</td>\n",
       "      <td>4.7</td>\n",
       "      <td>...</td>\n",
       "      <td>5.0</td>\n",
       "      <td>1.0</td>\n",
       "      <td>1.0</td>\n",
       "      <td>1</td>\n",
       "      <td>0</td>\n",
       "      <td>0</td>\n",
       "      <td>0</td>\n",
       "      <td>0</td>\n",
       "      <td>welcome funniest cartoon puzzle adventure crea...</td>\n",
       "      <td>961</td>\n",
       "    </tr>\n",
       "  </tbody>\n",
       "</table>\n",
       "<p>5 rows × 59 columns</p>\n",
       "</div>"
      ],
      "text/plain": [
       "                                title               author  \\\n",
       "73405                        Fortnite           Epic Games   \n",
       "157430  Sniper 3D Assassin: Gun Games   Fun Games For Free   \n",
       "145236                         Roblox   Roblox Corporation   \n",
       "62314     Episode - Choose Your Story  Episode Interactive   \n",
       "176984                     Toon Blast           Peak Games   \n",
       "\n",
       "                                                     desc  compat  editor  \\\n",
       "73405   Works with: iPhone SE, 6S, 6S Plus, 7, 7 Plus,...    11.0   False   \n",
       "157430  Ready to have FUN? Download now the best shoot...     9.0   False   \n",
       "145236  Roblox is the ultimate virtual universe that l...     8.0   False   \n",
       "62314   Episode lets you LIVE your stories with love, ...     8.0   False   \n",
       "176984  WELCOME TO THE FUNNIEST CARTOON PUZZLE ADVENTU...     7.0   False   \n",
       "\n",
       "         iap  list_rank    nrating  price  score  ...  star3  star2  star1  \\\n",
       "73405   True       True  4500000.0    0.0    4.6  ...    3.0    2.0    7.0   \n",
       "157430  True       True  1700000.0    0.0    4.8  ...    3.0    1.0    1.0   \n",
       "145236  True       True  1600000.0    0.0    4.6  ...    3.0    2.0    5.0   \n",
       "62314   True       True  1500000.0    0.0    4.7  ...    5.0    1.0    2.0   \n",
       "176984  True       True  1400000.0    0.0    4.7  ...    5.0    1.0    1.0   \n",
       "\n",
       "        sup_family_sharing  sup_game_center  sup_game_controllers  sup_siri  \\\n",
       "73405                    1                0                     0         0   \n",
       "157430                   1                1                     0         0   \n",
       "145236                   1                0                     0         0   \n",
       "62314                    1                0                     0         0   \n",
       "176984                   1                0                     0         0   \n",
       "\n",
       "        sup_wallet                                     processed_stem  \\\n",
       "73405            0  works iphone se plus plus plus x xs xr ipad mi...   \n",
       "157430           0  ready fun download good shooting game free lik...   \n",
       "145236           0  roblox ultimate virtual universe let play crea...   \n",
       "62314            0  episode let live story love romance adventure ...   \n",
       "176984           0  welcome funniest cartoon puzzle adventure crea...   \n",
       "\n",
       "        desc_len  \n",
       "73405       1912  \n",
       "157430      3364  \n",
       "145236      1507  \n",
       "62314       3983  \n",
       "176984       961  \n",
       "\n",
       "[5 rows x 59 columns]"
      ]
     },
     "execution_count": 150,
     "metadata": {},
     "output_type": "execute_result"
    }
   ],
   "source": [
    "popular_apps.head()"
   ]
  },
  {
   "cell_type": "code",
   "execution_count": 151,
   "metadata": {},
   "outputs": [],
   "source": [
    "# take only the top 200 to save computational time\n",
    "popular_all=popular_apps.head(200)\n",
    "popular_all['processed_stem'] = popular_all.apply(clean_words, axis=1)\n",
    "joined_popular_all=Counter(' '.join(popular_all['processed_stem']).split()).most_common(100)\n",
    "pop_twohun=pd.DataFrame(joined_popular_all, columns=['Pop_all_keyword', 'Pop_all_freq'])"
   ]
  },
  {
   "cell_type": "code",
   "execution_count": 152,
   "metadata": {},
   "outputs": [
    {
     "data": {
      "text/html": [
       "<div>\n",
       "<style scoped>\n",
       "    .dataframe tbody tr th:only-of-type {\n",
       "        vertical-align: middle;\n",
       "    }\n",
       "\n",
       "    .dataframe tbody tr th {\n",
       "        vertical-align: top;\n",
       "    }\n",
       "\n",
       "    .dataframe thead th {\n",
       "        text-align: right;\n",
       "    }\n",
       "</style>\n",
       "<table border=\"1\" class=\"dataframe\">\n",
       "  <thead>\n",
       "    <tr style=\"text-align: right;\">\n",
       "      <th></th>\n",
       "      <th>Pop_all_keyword</th>\n",
       "      <th>Pop_all_freq</th>\n",
       "    </tr>\n",
       "  </thead>\n",
       "  <tbody>\n",
       "    <tr>\n",
       "      <td>0</td>\n",
       "      <td>game</td>\n",
       "      <td>529</td>\n",
       "    </tr>\n",
       "    <tr>\n",
       "      <td>1</td>\n",
       "      <td>subscription</td>\n",
       "      <td>460</td>\n",
       "    </tr>\n",
       "    <tr>\n",
       "      <td>2</td>\n",
       "      <td>play</td>\n",
       "      <td>368</td>\n",
       "    </tr>\n",
       "    <tr>\n",
       "      <td>3</td>\n",
       "      <td>free</td>\n",
       "      <td>317</td>\n",
       "    </tr>\n",
       "    <tr>\n",
       "      <td>4</td>\n",
       "      <td>new</td>\n",
       "      <td>288</td>\n",
       "    </tr>\n",
       "  </tbody>\n",
       "</table>\n",
       "</div>"
      ],
      "text/plain": [
       "  Pop_all_keyword  Pop_all_freq\n",
       "0            game           529\n",
       "1    subscription           460\n",
       "2            play           368\n",
       "3            free           317\n",
       "4             new           288"
      ]
     },
     "execution_count": 152,
     "metadata": {},
     "output_type": "execute_result"
    }
   ],
   "source": [
    "pop_twohun.head()"
   ]
  },
  {
   "cell_type": "code",
   "execution_count": 153,
   "metadata": {},
   "outputs": [
    {
     "data": {
      "text/html": [
       "<div>\n",
       "<style scoped>\n",
       "    .dataframe tbody tr th:only-of-type {\n",
       "        vertical-align: middle;\n",
       "    }\n",
       "\n",
       "    .dataframe tbody tr th {\n",
       "        vertical-align: top;\n",
       "    }\n",
       "\n",
       "    .dataframe thead th {\n",
       "        text-align: right;\n",
       "    }\n",
       "</style>\n",
       "<table border=\"1\" class=\"dataframe\">\n",
       "  <thead>\n",
       "    <tr style=\"text-align: right;\">\n",
       "      <th></th>\n",
       "      <th>Pop_puzz_keyword</th>\n",
       "      <th>Pop_puzz_freq</th>\n",
       "    </tr>\n",
       "  </thead>\n",
       "  <tbody>\n",
       "    <tr>\n",
       "      <td>0</td>\n",
       "      <td>game</td>\n",
       "      <td>478</td>\n",
       "    </tr>\n",
       "    <tr>\n",
       "      <td>1</td>\n",
       "      <td>puzzle</td>\n",
       "      <td>311</td>\n",
       "    </tr>\n",
       "    <tr>\n",
       "      <td>2</td>\n",
       "      <td>play</td>\n",
       "      <td>270</td>\n",
       "    </tr>\n",
       "    <tr>\n",
       "      <td>3</td>\n",
       "      <td>subscription</td>\n",
       "      <td>228</td>\n",
       "    </tr>\n",
       "    <tr>\n",
       "      <td>4</td>\n",
       "      <td>level</td>\n",
       "      <td>202</td>\n",
       "    </tr>\n",
       "  </tbody>\n",
       "</table>\n",
       "</div>"
      ],
      "text/plain": [
       "  Pop_puzz_keyword  Pop_puzz_freq\n",
       "0             game            478\n",
       "1           puzzle            311\n",
       "2             play            270\n",
       "3     subscription            228\n",
       "4            level            202"
      ]
     },
     "execution_count": 153,
     "metadata": {},
     "output_type": "execute_result"
    }
   ],
   "source": [
    "# Observe top key words in puzzle genre\n",
    "puzzle=popular_apps[popular_apps['gen_puzzle']==1]\n",
    "puzzle['processed_stem'] = puzzle.apply(clean_words, axis=1)\n",
    "puzzle['processed_stem'] = puzzle.apply(lambda x: lemmatize_doc(x['processed_stem']), axis=1)\n",
    "joined_puzzle=Counter(' '.join(puzzle['processed_stem']).split()).most_common(100)\n",
    "keyword_puzz=pd.DataFrame(joined_puzzle, columns=['Pop_puzz_keyword', 'Pop_puzz_freq'])\n",
    "keyword_puzz.head()"
   ]
  },
  {
   "cell_type": "code",
   "execution_count": 154,
   "metadata": {},
   "outputs": [
    {
     "data": {
      "text/html": [
       "<div>\n",
       "<style scoped>\n",
       "    .dataframe tbody tr th:only-of-type {\n",
       "        vertical-align: middle;\n",
       "    }\n",
       "\n",
       "    .dataframe tbody tr th {\n",
       "        vertical-align: top;\n",
       "    }\n",
       "\n",
       "    .dataframe thead th {\n",
       "        text-align: right;\n",
       "    }\n",
       "</style>\n",
       "<table border=\"1\" class=\"dataframe\">\n",
       "  <thead>\n",
       "    <tr style=\"text-align: right;\">\n",
       "      <th></th>\n",
       "      <th>Pop_adv_keyword</th>\n",
       "      <th>Pop_adv_freq</th>\n",
       "    </tr>\n",
       "  </thead>\n",
       "  <tbody>\n",
       "    <tr>\n",
       "      <td>0</td>\n",
       "      <td>game</td>\n",
       "      <td>197</td>\n",
       "    </tr>\n",
       "    <tr>\n",
       "      <td>1</td>\n",
       "      <td>new</td>\n",
       "      <td>119</td>\n",
       "    </tr>\n",
       "    <tr>\n",
       "      <td>2</td>\n",
       "      <td>play</td>\n",
       "      <td>110</td>\n",
       "    </tr>\n",
       "    <tr>\n",
       "      <td>3</td>\n",
       "      <td>world</td>\n",
       "      <td>83</td>\n",
       "    </tr>\n",
       "    <tr>\n",
       "      <td>4</td>\n",
       "      <td>subscription</td>\n",
       "      <td>79</td>\n",
       "    </tr>\n",
       "  </tbody>\n",
       "</table>\n",
       "</div>"
      ],
      "text/plain": [
       "  Pop_adv_keyword  Pop_adv_freq\n",
       "0            game           197\n",
       "1             new           119\n",
       "2            play           110\n",
       "3           world            83\n",
       "4    subscription            79"
      ]
     },
     "execution_count": 154,
     "metadata": {},
     "output_type": "execute_result"
    }
   ],
   "source": [
    "adventure=popular_apps[popular_apps['gen_adventure']==1]\n",
    "adventure['processed_stem'] = adventure.apply(clean_words, axis=1)\n",
    "adventure['processed_stem'] = adventure.apply(lambda x: lemmatize_doc(x['processed_stem']), axis=1)\n",
    "joined_adventure=Counter(' '.join(adventure['processed_stem']).split()).most_common(100)\n",
    "keyword_adv=pd.DataFrame(joined_adventure, columns=['Pop_adv_keyword', 'Pop_adv_freq'])\n",
    "keyword_adv.head()"
   ]
  },
  {
   "cell_type": "markdown",
   "metadata": {},
   "source": [
    "## Description Exploration\n",
    "To make a keyword comparison across different groups, we will put all the data in a single dataframe and save the dataframe as a database to give busineess recommendation to Game Revenant. You can see there are some common words that appear across the different genre like \"game\" and \"subscription\". \n",
    "\n",
    "Note: with lemmatization, some pronouns are count as -PRON- and this can be ignored for our purpose."
   ]
  },
  {
   "cell_type": "code",
   "execution_count": 313,
   "metadata": {},
   "outputs": [
    {
     "data": {
      "text/html": [
       "<div>\n",
       "<style scoped>\n",
       "    .dataframe tbody tr th:only-of-type {\n",
       "        vertical-align: middle;\n",
       "    }\n",
       "\n",
       "    .dataframe tbody tr th {\n",
       "        vertical-align: top;\n",
       "    }\n",
       "\n",
       "    .dataframe thead th {\n",
       "        text-align: right;\n",
       "    }\n",
       "</style>\n",
       "<table border=\"1\" class=\"dataframe\">\n",
       "  <thead>\n",
       "    <tr style=\"text-align: right;\">\n",
       "      <th></th>\n",
       "      <th>All_keyword</th>\n",
       "      <th>All_freq</th>\n",
       "      <th>Pop_all_keyword</th>\n",
       "      <th>Pop_all_freq</th>\n",
       "      <th>Pop_puzz_keyword</th>\n",
       "      <th>Pop_puzz_freq</th>\n",
       "      <th>Pop_adv_keyword</th>\n",
       "      <th>Pop_adv_freq</th>\n",
       "    </tr>\n",
       "  </thead>\n",
       "  <tbody>\n",
       "    <tr>\n",
       "      <td>0</td>\n",
       "      <td>game</td>\n",
       "      <td>83770</td>\n",
       "      <td>game</td>\n",
       "      <td>529</td>\n",
       "      <td>game</td>\n",
       "      <td>478</td>\n",
       "      <td>game</td>\n",
       "      <td>197</td>\n",
       "    </tr>\n",
       "    <tr>\n",
       "      <td>1</td>\n",
       "      <td>play</td>\n",
       "      <td>38681</td>\n",
       "      <td>subscription</td>\n",
       "      <td>460</td>\n",
       "      <td>puzzle</td>\n",
       "      <td>311</td>\n",
       "      <td>new</td>\n",
       "      <td>119</td>\n",
       "    </tr>\n",
       "    <tr>\n",
       "      <td>2</td>\n",
       "      <td>new</td>\n",
       "      <td>22166</td>\n",
       "      <td>play</td>\n",
       "      <td>368</td>\n",
       "      <td>play</td>\n",
       "      <td>270</td>\n",
       "      <td>play</td>\n",
       "      <td>110</td>\n",
       "    </tr>\n",
       "    <tr>\n",
       "      <td>3</td>\n",
       "      <td>free</td>\n",
       "      <td>20342</td>\n",
       "      <td>free</td>\n",
       "      <td>317</td>\n",
       "      <td>subscription</td>\n",
       "      <td>228</td>\n",
       "      <td>world</td>\n",
       "      <td>83</td>\n",
       "    </tr>\n",
       "    <tr>\n",
       "      <td>4</td>\n",
       "      <td>get</td>\n",
       "      <td>19022</td>\n",
       "      <td>new</td>\n",
       "      <td>288</td>\n",
       "      <td>level</td>\n",
       "      <td>202</td>\n",
       "      <td>subscription</td>\n",
       "      <td>79</td>\n",
       "    </tr>\n",
       "    <tr>\n",
       "      <td>...</td>\n",
       "      <td>...</td>\n",
       "      <td>...</td>\n",
       "      <td>...</td>\n",
       "      <td>...</td>\n",
       "      <td>...</td>\n",
       "      <td>...</td>\n",
       "      <td>...</td>\n",
       "      <td>...</td>\n",
       "    </tr>\n",
       "    <tr>\n",
       "      <td>95</td>\n",
       "      <td>color</td>\n",
       "      <td>4623</td>\n",
       "      <td>within</td>\n",
       "      <td>60</td>\n",
       "      <td>connect</td>\n",
       "      <td>34</td>\n",
       "      <td>ultimate</td>\n",
       "      <td>20</td>\n",
       "    </tr>\n",
       "    <tr>\n",
       "      <td>96</td>\n",
       "      <td>ipad</td>\n",
       "      <td>4621</td>\n",
       "      <td>easy</td>\n",
       "      <td>60</td>\n",
       "      <td>special</td>\n",
       "      <td>34</td>\n",
       "      <td>action</td>\n",
       "      <td>20</td>\n",
       "    </tr>\n",
       "    <tr>\n",
       "      <td>97</td>\n",
       "      <td>learn</td>\n",
       "      <td>4603</td>\n",
       "      <td>battles</td>\n",
       "      <td>60</td>\n",
       "      <td>itunes</td>\n",
       "      <td>34</td>\n",
       "      <td>control</td>\n",
       "      <td>20</td>\n",
       "    </tr>\n",
       "    <tr>\n",
       "      <td>98</td>\n",
       "      <td>let</td>\n",
       "      <td>4593</td>\n",
       "      <td>skills</td>\n",
       "      <td>59</td>\n",
       "      <td>unique</td>\n",
       "      <td>33</td>\n",
       "      <td>allow</td>\n",
       "      <td>20</td>\n",
       "    </tr>\n",
       "    <tr>\n",
       "      <td>99</td>\n",
       "      <td>user</td>\n",
       "      <td>4570</td>\n",
       "      <td>level</td>\n",
       "      <td>58</td>\n",
       "      <td>master</td>\n",
       "      <td>33</td>\n",
       "      <td>rpg</td>\n",
       "      <td>20</td>\n",
       "    </tr>\n",
       "  </tbody>\n",
       "</table>\n",
       "<p>100 rows × 8 columns</p>\n",
       "</div>"
      ],
      "text/plain": [
       "   All_keyword  All_freq Pop_all_keyword  Pop_all_freq Pop_puzz_keyword  \\\n",
       "0         game     83770            game           529             game   \n",
       "1         play     38681    subscription           460           puzzle   \n",
       "2          new     22166            play           368             play   \n",
       "3         free     20342            free           317     subscription   \n",
       "4          get     19022             new           288            level   \n",
       "..         ...       ...             ...           ...              ...   \n",
       "95       color      4623          within            60          connect   \n",
       "96        ipad      4621            easy            60          special   \n",
       "97       learn      4603         battles            60           itunes   \n",
       "98         let      4593          skills            59           unique   \n",
       "99        user      4570           level            58           master   \n",
       "\n",
       "    Pop_puzz_freq Pop_adv_keyword  Pop_adv_freq  \n",
       "0             478            game           197  \n",
       "1             311             new           119  \n",
       "2             270            play           110  \n",
       "3             228           world            83  \n",
       "4             202    subscription            79  \n",
       "..            ...             ...           ...  \n",
       "95             34        ultimate            20  \n",
       "96             34          action            20  \n",
       "97             34         control            20  \n",
       "98             33           allow            20  \n",
       "99             33             rpg            20  \n",
       "\n",
       "[100 rows x 8 columns]"
      ]
     },
     "execution_count": 313,
     "metadata": {},
     "output_type": "execute_result"
    }
   ],
   "source": [
    "tot_pd=pd.concat([all_num, pop_twohun, keyword_puzz, keyword_adv ], axis=1, join='inner')\n",
    "tot_pd.to_sql('lemmon_key_desc', e, if_exists='replace', index=False)\n",
    "tot_pd"
   ]
  },
  {
   "cell_type": "markdown",
   "metadata": {},
   "source": [
    "To visualize, we can plot them in bar graphs to compare across different groups that we have picked out."
   ]
  },
  {
   "cell_type": "code",
   "execution_count": 99,
   "metadata": {
    "scrolled": true
   },
   "outputs": [
    {
     "data": {
      "image/png": "[encoded data removed]",
      "text/plain": [
       "<Figure size 576x576 with 1 Axes>"
      ]
     },
     "metadata": {
      "needs_background": "light"
     },
     "output_type": "display_data"
    }
   ],
   "source": [
    "import matplotlib.pyplot as plt\n",
    "fig, ax = plt.subplots(figsize=(8, 8))\n",
    "\n",
    "# Plot horizontal bar graph\n",
    "tot_pd.head(25).sort_values(by='All_freq').plot.barh(x='All_keyword', y='All_freq', ax=ax, color=\"orange\")\n",
    "\n",
    "ax.set_title('Common Words Found in Game Description')\n",
    "plt.show()"
   ]
  },
  {
   "cell_type": "code",
   "execution_count": 333,
   "metadata": {},
   "outputs": [
    {
     "data": {
      "text/plain": [
       "Text(0.5, 1.0, 'Common Words Found in Adventure Game Description')"
      ]
     },
     "execution_count": 333,
     "metadata": {},
     "output_type": "execute_result"
    },
    {
     "data": {
      "image/png": "[encoded data removed]",
      "text/plain": [
       "<Figure size 1440x720 with 4 Axes>"
      ]
     },
     "metadata": {
      "needs_background": "light"
     },
     "output_type": "display_data"
    },
    {
     "data": {
      "text/plain": [
       "<Figure size 1440x720 with 0 Axes>"
      ]
     },
     "metadata": {},
     "output_type": "display_data"
    }
   ],
   "source": [
    "fig, axs = plt.subplots(2,2, figsize=(20,10))\n",
    "plt.subplots_adjust(wspace = 0.2,hspace = 0.4)\n",
    "axs = axs.flatten()\n",
    "\n",
    "xpos = np.arange(25)\n",
    "\n",
    "fig = plt.figure(figsize=(20,10))\n",
    "fig.tight_layout()\n",
    "num_list=[0,2]\n",
    "for i in num_list:\n",
    "    axs[i].bar(xpos, list(tot_pd.iloc[:,i+1].head(25)), color='orange')\n",
    "    axs[i].set_ylabel('Frequency of words')\n",
    "    axs[i].set_xticks(xpos)\n",
    "    axs[i].set_xticklabels(list(tot_pd.iloc[:,i]), rotation=90)\n",
    "num_list=[4,6]\n",
    "for i in num_list:\n",
    "    axs[i-3].bar(xpos, list(tot_pd.iloc[:,i+1].head(25)), color='green')\n",
    "    axs[i-3].set_ylabel('Frequency of words')\n",
    "    axs[i-3].set_xticks(xpos)\n",
    "    axs[i-3].set_xticklabels(list(tot_pd.iloc[:,i]), rotation=90)\n",
    "axs[0].set_title('Common Words Found in All Game Description')\n",
    "axs[1].set_title('Common Words Found in Puzzle Game Description')\n",
    "axs[2].set_title('Common Words Found in All Popular Game Description')\n",
    "axs[3].set_title('Common Words Found in Adventure Game Description')\n",
    "#sns.barplot(x='All_keyword', y='All_freq', data=tot_pd.head(25), kind='bar', ax=ax)  # <- notice ax= argument"
   ]
  },
  {
   "cell_type": "markdown",
   "metadata": {},
   "source": [
    "Since top games seem to include subscription as a part of the description, we will consider this as a feature. More on this will be illustrated in a later section.\n"
   ]
  },
  {
   "cell_type": "markdown",
   "metadata": {},
   "source": [
    "## Quantifying Descriptions: Feature Engineering\n",
    "\n",
    "With the list of descriptions and frequencies, we now can quantify description and engineer features to create the regression model. Since some words are mentioned more frequently than other words, the importance of the word needs to be weighted (ie, the word \"game\" may be more important to have than the word \"take\"). To do this, we will use CountVectorizer and create SparseMatrix. To decide which set of words and frequencies to use, let's see if there are enough games with both puzzle and adventure genres in popular games.\n"
   ]
  },
  {
   "cell_type": "code",
   "execution_count": 336,
   "metadata": {},
   "outputs": [
    {
     "data": {
      "text/html": [
       "<div>\n",
       "<style scoped>\n",
       "    .dataframe tbody tr th:only-of-type {\n",
       "        vertical-align: middle;\n",
       "    }\n",
       "\n",
       "    .dataframe tbody tr th {\n",
       "        vertical-align: top;\n",
       "    }\n",
       "\n",
       "    .dataframe thead th {\n",
       "        text-align: right;\n",
       "    }\n",
       "</style>\n",
       "<table border=\"1\" class=\"dataframe\">\n",
       "  <thead>\n",
       "    <tr style=\"text-align: right;\">\n",
       "      <th></th>\n",
       "      <th>title</th>\n",
       "      <th>author</th>\n",
       "      <th>desc</th>\n",
       "      <th>compat</th>\n",
       "      <th>editor</th>\n",
       "      <th>iap</th>\n",
       "      <th>list_rank</th>\n",
       "      <th>nrating</th>\n",
       "      <th>price</th>\n",
       "      <th>score</th>\n",
       "      <th>...</th>\n",
       "      <th>star3</th>\n",
       "      <th>star2</th>\n",
       "      <th>star1</th>\n",
       "      <th>sup_family_sharing</th>\n",
       "      <th>sup_game_center</th>\n",
       "      <th>sup_game_controllers</th>\n",
       "      <th>sup_siri</th>\n",
       "      <th>sup_wallet</th>\n",
       "      <th>processed_stem</th>\n",
       "      <th>desc_len</th>\n",
       "    </tr>\n",
       "  </thead>\n",
       "  <tbody>\n",
       "    <tr>\n",
       "      <td>20665</td>\n",
       "      <td>Best Fiends - Puzzle Adventure</td>\n",
       "      <td>Seriously</td>\n",
       "      <td>Join over 90,000,000 people who are already pl...</td>\n",
       "      <td>9.0</td>\n",
       "      <td>True</td>\n",
       "      <td>True</td>\n",
       "      <td>True</td>\n",
       "      <td>123950.0</td>\n",
       "      <td>0.00</td>\n",
       "      <td>4.8</td>\n",
       "      <td>...</td>\n",
       "      <td>2.0</td>\n",
       "      <td>0.0</td>\n",
       "      <td>1.0</td>\n",
       "      <td>1</td>\n",
       "      <td>1</td>\n",
       "      <td>0</td>\n",
       "      <td>0</td>\n",
       "      <td>0</td>\n",
       "      <td>join people already playing free puzzle advent...</td>\n",
       "      <td>3394</td>\n",
       "    </tr>\n",
       "    <tr>\n",
       "      <td>47797</td>\n",
       "      <td>Criminal Case</td>\n",
       "      <td>Pretty Simple</td>\n",
       "      <td>Join the Police of Grimsborough to solve a ser...</td>\n",
       "      <td>9.0</td>\n",
       "      <td>False</td>\n",
       "      <td>True</td>\n",
       "      <td>True</td>\n",
       "      <td>22000.0</td>\n",
       "      <td>0.00</td>\n",
       "      <td>4.6</td>\n",
       "      <td>...</td>\n",
       "      <td>3.0</td>\n",
       "      <td>2.0</td>\n",
       "      <td>4.0</td>\n",
       "      <td>1</td>\n",
       "      <td>0</td>\n",
       "      <td>0</td>\n",
       "      <td>0</td>\n",
       "      <td>0</td>\n",
       "      <td>join police grimsborough solve series murder c...</td>\n",
       "      <td>1503</td>\n",
       "    </tr>\n",
       "    <tr>\n",
       "      <td>65002</td>\n",
       "      <td>FROST</td>\n",
       "      <td>kunabi brother GmbH</td>\n",
       "      <td>Draw paths to guide the flocking spirits to th...</td>\n",
       "      <td>9.0</td>\n",
       "      <td>True</td>\n",
       "      <td>False</td>\n",
       "      <td>True</td>\n",
       "      <td>13600.0</td>\n",
       "      <td>4.99</td>\n",
       "      <td>4.9</td>\n",
       "      <td>...</td>\n",
       "      <td>2.0</td>\n",
       "      <td>0.0</td>\n",
       "      <td>1.0</td>\n",
       "      <td>1</td>\n",
       "      <td>0</td>\n",
       "      <td>0</td>\n",
       "      <td>0</td>\n",
       "      <td>0</td>\n",
       "      <td>draw path guide flock spirit home planet watch...</td>\n",
       "      <td>769</td>\n",
       "    </tr>\n",
       "  </tbody>\n",
       "</table>\n",
       "<p>3 rows × 59 columns</p>\n",
       "</div>"
      ],
      "text/plain": [
       "                                title               author  \\\n",
       "20665  Best Fiends - Puzzle Adventure            Seriously   \n",
       "47797                   Criminal Case        Pretty Simple   \n",
       "65002                           FROST  kunabi brother GmbH   \n",
       "\n",
       "                                                    desc  compat  editor  \\\n",
       "20665  Join over 90,000,000 people who are already pl...     9.0    True   \n",
       "47797  Join the Police of Grimsborough to solve a ser...     9.0   False   \n",
       "65002  Draw paths to guide the flocking spirits to th...     9.0    True   \n",
       "\n",
       "         iap  list_rank   nrating  price  score  ...  star3  star2  star1  \\\n",
       "20665   True       True  123950.0   0.00    4.8  ...    2.0    0.0    1.0   \n",
       "47797   True       True   22000.0   0.00    4.6  ...    3.0    2.0    4.0   \n",
       "65002  False       True   13600.0   4.99    4.9  ...    2.0    0.0    1.0   \n",
       "\n",
       "       sup_family_sharing  sup_game_center  sup_game_controllers  sup_siri  \\\n",
       "20665                   1                1                     0         0   \n",
       "47797                   1                0                     0         0   \n",
       "65002                   1                0                     0         0   \n",
       "\n",
       "       sup_wallet                                     processed_stem  desc_len  \n",
       "20665           0  join people already playing free puzzle advent...      3394  \n",
       "47797           0  join police grimsborough solve series murder c...      1503  \n",
       "65002           0  draw path guide flock spirit home planet watch...       769  \n",
       "\n",
       "[3 rows x 59 columns]"
      ]
     },
     "execution_count": 336,
     "metadata": {},
     "output_type": "execute_result"
    }
   ],
   "source": [
    "pop_puzadv=popular_apps[(popular_apps['gen_puzzle']==1) & (popular_apps['gen_adventure']==1)]\n",
    "pop_puzadv"
   ]
  },
  {
   "cell_type": "markdown",
   "metadata": {},
   "source": [
    "As shown here, there are only three games that are both listed as puzzle and adventure genres. Since the words listed in puzzle and adventure seem to be too specific and not as relevant to WSS (eg, battle, word), we picked popular game of all genres as a table to use for the feature engineering."
   ]
  },
  {
   "cell_type": "code",
   "execution_count": 451,
   "metadata": {},
   "outputs": [
    {
     "data": {
      "text/plain": [
       "<matplotlib.axes._subplots.AxesSubplot at 0x23252073d08>"
      ]
     },
     "execution_count": 451,
     "metadata": {},
     "output_type": "execute_result"
    },
    {
     "data": {
      "image/png": "[encoded data removed]",
      "text/plain": [
       "<Figure size 432x288 with 1 Axes>"
      ]
     },
     "metadata": {
      "needs_background": "light"
     },
     "output_type": "display_data"
    }
   ],
   "source": [
    "from sklearn.feature_extraction.text import CountVectorizer\n",
    "vectorizer = CountVectorizer()\n",
    "\n",
    "# Use words in top score to weigh the importance of each word by summing the total frequency and dividing by each word \n",
    "pop_twohun['Top score']=pop_twohun['Pop_all_freq'].div(pop_twohun['Pop_all_freq'].sum())\n",
    "corpus=pop_twohun['Pop_all_keyword'].values.tolist()\n",
    "pop_twohun['Top score'].hist(bins=20)"
   ]
  },
  {
   "cell_type": "code",
   "execution_count": 521,
   "metadata": {},
   "outputs": [
    {
     "data": {
      "text/plain": [
       "count    100.000000\n",
       "mean       0.010000\n",
       "std        0.006915\n",
       "min        0.005151\n",
       "25%        0.005951\n",
       "50%        0.007594\n",
       "75%        0.011435\n",
       "max        0.046985\n",
       "Name: Top score, dtype: float64"
      ]
     },
     "execution_count": 521,
     "metadata": {},
     "output_type": "execute_result"
    }
   ],
   "source": [
    "pop_twohun['Top score'].describe()"
   ]
  },
  {
   "cell_type": "code",
   "execution_count": 460,
   "metadata": {},
   "outputs": [
    {
     "data": {
      "text/html": [
       "<div>\n",
       "<style scoped>\n",
       "    .dataframe tbody tr th:only-of-type {\n",
       "        vertical-align: middle;\n",
       "    }\n",
       "\n",
       "    .dataframe tbody tr th {\n",
       "        vertical-align: top;\n",
       "    }\n",
       "\n",
       "    .dataframe thead th {\n",
       "        text-align: right;\n",
       "    }\n",
       "</style>\n",
       "<table border=\"1\" class=\"dataframe\">\n",
       "  <thead>\n",
       "    <tr style=\"text-align: right;\">\n",
       "      <th></th>\n",
       "      <th>Pop_all_keyword</th>\n",
       "      <th>Pop_all_freq</th>\n",
       "      <th>Top score</th>\n",
       "    </tr>\n",
       "  </thead>\n",
       "  <tbody>\n",
       "    <tr>\n",
       "      <td>0</td>\n",
       "      <td>account</td>\n",
       "      <td>209</td>\n",
       "      <td>0.018563</td>\n",
       "    </tr>\n",
       "    <tr>\n",
       "      <td>1</td>\n",
       "      <td>also</td>\n",
       "      <td>62</td>\n",
       "      <td>0.005507</td>\n",
       "    </tr>\n",
       "    <tr>\n",
       "      <td>2</td>\n",
       "      <td>app</td>\n",
       "      <td>131</td>\n",
       "      <td>0.011635</td>\n",
       "    </tr>\n",
       "    <tr>\n",
       "      <td>3</td>\n",
       "      <td>automatically</td>\n",
       "      <td>68</td>\n",
       "      <td>0.006040</td>\n",
       "    </tr>\n",
       "    <tr>\n",
       "      <td>4</td>\n",
       "      <td>battle</td>\n",
       "      <td>109</td>\n",
       "      <td>0.009681</td>\n",
       "    </tr>\n",
       "    <tr>\n",
       "      <td>...</td>\n",
       "      <td>...</td>\n",
       "      <td>...</td>\n",
       "      <td>...</td>\n",
       "    </tr>\n",
       "    <tr>\n",
       "      <td>95</td>\n",
       "      <td>way</td>\n",
       "      <td>78</td>\n",
       "      <td>0.006928</td>\n",
       "    </tr>\n",
       "    <tr>\n",
       "      <td>96</td>\n",
       "      <td>weekly</td>\n",
       "      <td>69</td>\n",
       "      <td>0.006128</td>\n",
       "    </tr>\n",
       "    <tr>\n",
       "      <td>97</td>\n",
       "      <td>win</td>\n",
       "      <td>90</td>\n",
       "      <td>0.007994</td>\n",
       "    </tr>\n",
       "    <tr>\n",
       "      <td>98</td>\n",
       "      <td>within</td>\n",
       "      <td>60</td>\n",
       "      <td>0.005329</td>\n",
       "    </tr>\n",
       "    <tr>\n",
       "      <td>99</td>\n",
       "      <td>world</td>\n",
       "      <td>157</td>\n",
       "      <td>0.013944</td>\n",
       "    </tr>\n",
       "  </tbody>\n",
       "</table>\n",
       "<p>100 rows × 3 columns</p>\n",
       "</div>"
      ],
      "text/plain": [
       "   Pop_all_keyword  Pop_all_freq  Top score\n",
       "0          account           209   0.018563\n",
       "1             also            62   0.005507\n",
       "2              app           131   0.011635\n",
       "3    automatically            68   0.006040\n",
       "4           battle           109   0.009681\n",
       "..             ...           ...        ...\n",
       "95             way            78   0.006928\n",
       "96          weekly            69   0.006128\n",
       "97             win            90   0.007994\n",
       "98          within            60   0.005329\n",
       "99           world           157   0.013944\n",
       "\n",
       "[100 rows x 3 columns]"
      ]
     },
     "execution_count": 460,
     "metadata": {},
     "output_type": "execute_result"
    }
   ],
   "source": [
    "pop_twohun=pop_twohun.sort_values('Pop_all_keyword', ascending=True).reset_index(drop=True)\n",
    "pop_twohun"
   ]
  },
  {
   "cell_type": "markdown",
   "metadata": {},
   "source": [
    "Note that we need to arrange the keyword in alphabetical order to match vectorizer feature names seen below."
   ]
  },
  {
   "cell_type": "code",
   "execution_count": 483,
   "metadata": {},
   "outputs": [
    {
     "data": {
      "text/plain": [
       "['also', 'app', 'automatically', 'battle', 'battles']"
      ]
     },
     "execution_count": 483,
     "metadata": {},
     "output_type": "execute_result"
    }
   ],
   "source": [
    "''' Using CountVectorizer, it will go through the description, count the number of frequency for each word \n",
    "in each desciption, multiply the frequency by the weight, and sum up the total score '''\n",
    "X = vectorizer.fit_transform(corpus)\n",
    "words=vectorizer.get_feature_names()\n",
    "words[1:6]"
   ]
  },
  {
   "cell_type": "markdown",
   "metadata": {},
   "source": [
    "As you can see here, the sps_mat shows you the occurence of the each word for each game."
   ]
  },
  {
   "cell_type": "code",
   "execution_count": 519,
   "metadata": {},
   "outputs": [
    {
     "data": {
      "text/html": [
       "<div>\n",
       "<style scoped>\n",
       "    .dataframe tbody tr th:only-of-type {\n",
       "        vertical-align: middle;\n",
       "    }\n",
       "\n",
       "    .dataframe tbody tr th {\n",
       "        vertical-align: top;\n",
       "    }\n",
       "\n",
       "    .dataframe thead th {\n",
       "        text-align: right;\n",
       "    }\n",
       "</style>\n",
       "<table border=\"1\" class=\"dataframe\">\n",
       "  <thead>\n",
       "    <tr style=\"text-align: right;\">\n",
       "      <th></th>\n",
       "      <th>0</th>\n",
       "      <th>1</th>\n",
       "      <th>2</th>\n",
       "      <th>3</th>\n",
       "      <th>4</th>\n",
       "      <th>5</th>\n",
       "      <th>6</th>\n",
       "      <th>7</th>\n",
       "      <th>8</th>\n",
       "      <th>9</th>\n",
       "      <th>...</th>\n",
       "      <th>25616</th>\n",
       "      <th>25617</th>\n",
       "      <th>25618</th>\n",
       "      <th>25619</th>\n",
       "      <th>25620</th>\n",
       "      <th>25621</th>\n",
       "      <th>25622</th>\n",
       "      <th>25623</th>\n",
       "      <th>25624</th>\n",
       "      <th>25625</th>\n",
       "    </tr>\n",
       "  </thead>\n",
       "  <tbody>\n",
       "    <tr>\n",
       "      <td>0</td>\n",
       "      <td>0</td>\n",
       "      <td>0</td>\n",
       "      <td>0</td>\n",
       "      <td>0</td>\n",
       "      <td>0</td>\n",
       "      <td>0</td>\n",
       "      <td>0</td>\n",
       "      <td>0</td>\n",
       "      <td>0</td>\n",
       "      <td>0</td>\n",
       "      <td>...</td>\n",
       "      <td>0</td>\n",
       "      <td>0</td>\n",
       "      <td>0</td>\n",
       "      <td>3</td>\n",
       "      <td>0</td>\n",
       "      <td>0</td>\n",
       "      <td>0</td>\n",
       "      <td>0</td>\n",
       "      <td>0</td>\n",
       "      <td>0</td>\n",
       "    </tr>\n",
       "    <tr>\n",
       "      <td>1</td>\n",
       "      <td>0</td>\n",
       "      <td>0</td>\n",
       "      <td>0</td>\n",
       "      <td>0</td>\n",
       "      <td>0</td>\n",
       "      <td>0</td>\n",
       "      <td>0</td>\n",
       "      <td>1</td>\n",
       "      <td>0</td>\n",
       "      <td>0</td>\n",
       "      <td>...</td>\n",
       "      <td>0</td>\n",
       "      <td>2</td>\n",
       "      <td>2</td>\n",
       "      <td>0</td>\n",
       "      <td>2</td>\n",
       "      <td>2</td>\n",
       "      <td>0</td>\n",
       "      <td>0</td>\n",
       "      <td>0</td>\n",
       "      <td>0</td>\n",
       "    </tr>\n",
       "    <tr>\n",
       "      <td>2</td>\n",
       "      <td>0</td>\n",
       "      <td>0</td>\n",
       "      <td>0</td>\n",
       "      <td>0</td>\n",
       "      <td>0</td>\n",
       "      <td>0</td>\n",
       "      <td>0</td>\n",
       "      <td>1</td>\n",
       "      <td>0</td>\n",
       "      <td>0</td>\n",
       "      <td>...</td>\n",
       "      <td>1</td>\n",
       "      <td>4</td>\n",
       "      <td>4</td>\n",
       "      <td>4</td>\n",
       "      <td>1</td>\n",
       "      <td>1</td>\n",
       "      <td>1</td>\n",
       "      <td>0</td>\n",
       "      <td>0</td>\n",
       "      <td>0</td>\n",
       "    </tr>\n",
       "    <tr>\n",
       "      <td>3</td>\n",
       "      <td>0</td>\n",
       "      <td>0</td>\n",
       "      <td>0</td>\n",
       "      <td>0</td>\n",
       "      <td>0</td>\n",
       "      <td>0</td>\n",
       "      <td>0</td>\n",
       "      <td>0</td>\n",
       "      <td>0</td>\n",
       "      <td>0</td>\n",
       "      <td>...</td>\n",
       "      <td>0</td>\n",
       "      <td>1</td>\n",
       "      <td>1</td>\n",
       "      <td>1</td>\n",
       "      <td>0</td>\n",
       "      <td>0</td>\n",
       "      <td>1</td>\n",
       "      <td>0</td>\n",
       "      <td>0</td>\n",
       "      <td>0</td>\n",
       "    </tr>\n",
       "    <tr>\n",
       "      <td>4</td>\n",
       "      <td>0</td>\n",
       "      <td>0</td>\n",
       "      <td>0</td>\n",
       "      <td>0</td>\n",
       "      <td>0</td>\n",
       "      <td>0</td>\n",
       "      <td>0</td>\n",
       "      <td>0</td>\n",
       "      <td>0</td>\n",
       "      <td>0</td>\n",
       "      <td>...</td>\n",
       "      <td>1</td>\n",
       "      <td>0</td>\n",
       "      <td>0</td>\n",
       "      <td>1</td>\n",
       "      <td>0</td>\n",
       "      <td>0</td>\n",
       "      <td>0</td>\n",
       "      <td>1</td>\n",
       "      <td>0</td>\n",
       "      <td>0</td>\n",
       "    </tr>\n",
       "    <tr>\n",
       "      <td>...</td>\n",
       "      <td>...</td>\n",
       "      <td>...</td>\n",
       "      <td>...</td>\n",
       "      <td>...</td>\n",
       "      <td>...</td>\n",
       "      <td>...</td>\n",
       "      <td>...</td>\n",
       "      <td>...</td>\n",
       "      <td>...</td>\n",
       "      <td>...</td>\n",
       "      <td>...</td>\n",
       "      <td>...</td>\n",
       "      <td>...</td>\n",
       "      <td>...</td>\n",
       "      <td>...</td>\n",
       "      <td>...</td>\n",
       "      <td>...</td>\n",
       "      <td>...</td>\n",
       "      <td>...</td>\n",
       "      <td>...</td>\n",
       "      <td>...</td>\n",
       "    </tr>\n",
       "    <tr>\n",
       "      <td>95</td>\n",
       "      <td>0</td>\n",
       "      <td>1</td>\n",
       "      <td>0</td>\n",
       "      <td>0</td>\n",
       "      <td>0</td>\n",
       "      <td>0</td>\n",
       "      <td>0</td>\n",
       "      <td>0</td>\n",
       "      <td>0</td>\n",
       "      <td>0</td>\n",
       "      <td>...</td>\n",
       "      <td>1</td>\n",
       "      <td>0</td>\n",
       "      <td>0</td>\n",
       "      <td>1</td>\n",
       "      <td>0</td>\n",
       "      <td>0</td>\n",
       "      <td>1</td>\n",
       "      <td>0</td>\n",
       "      <td>1</td>\n",
       "      <td>0</td>\n",
       "    </tr>\n",
       "    <tr>\n",
       "      <td>96</td>\n",
       "      <td>0</td>\n",
       "      <td>0</td>\n",
       "      <td>0</td>\n",
       "      <td>0</td>\n",
       "      <td>0</td>\n",
       "      <td>0</td>\n",
       "      <td>0</td>\n",
       "      <td>0</td>\n",
       "      <td>0</td>\n",
       "      <td>0</td>\n",
       "      <td>...</td>\n",
       "      <td>0</td>\n",
       "      <td>0</td>\n",
       "      <td>0</td>\n",
       "      <td>0</td>\n",
       "      <td>0</td>\n",
       "      <td>0</td>\n",
       "      <td>0</td>\n",
       "      <td>0</td>\n",
       "      <td>0</td>\n",
       "      <td>0</td>\n",
       "    </tr>\n",
       "    <tr>\n",
       "      <td>97</td>\n",
       "      <td>1</td>\n",
       "      <td>0</td>\n",
       "      <td>0</td>\n",
       "      <td>0</td>\n",
       "      <td>0</td>\n",
       "      <td>0</td>\n",
       "      <td>0</td>\n",
       "      <td>0</td>\n",
       "      <td>0</td>\n",
       "      <td>0</td>\n",
       "      <td>...</td>\n",
       "      <td>0</td>\n",
       "      <td>0</td>\n",
       "      <td>0</td>\n",
       "      <td>0</td>\n",
       "      <td>1</td>\n",
       "      <td>1</td>\n",
       "      <td>0</td>\n",
       "      <td>0</td>\n",
       "      <td>0</td>\n",
       "      <td>0</td>\n",
       "    </tr>\n",
       "    <tr>\n",
       "      <td>98</td>\n",
       "      <td>0</td>\n",
       "      <td>0</td>\n",
       "      <td>0</td>\n",
       "      <td>0</td>\n",
       "      <td>0</td>\n",
       "      <td>0</td>\n",
       "      <td>0</td>\n",
       "      <td>0</td>\n",
       "      <td>0</td>\n",
       "      <td>0</td>\n",
       "      <td>...</td>\n",
       "      <td>1</td>\n",
       "      <td>0</td>\n",
       "      <td>0</td>\n",
       "      <td>1</td>\n",
       "      <td>0</td>\n",
       "      <td>0</td>\n",
       "      <td>0</td>\n",
       "      <td>0</td>\n",
       "      <td>0</td>\n",
       "      <td>0</td>\n",
       "    </tr>\n",
       "    <tr>\n",
       "      <td>99</td>\n",
       "      <td>0</td>\n",
       "      <td>0</td>\n",
       "      <td>0</td>\n",
       "      <td>0</td>\n",
       "      <td>0</td>\n",
       "      <td>0</td>\n",
       "      <td>0</td>\n",
       "      <td>1</td>\n",
       "      <td>0</td>\n",
       "      <td>0</td>\n",
       "      <td>...</td>\n",
       "      <td>2</td>\n",
       "      <td>0</td>\n",
       "      <td>0</td>\n",
       "      <td>4</td>\n",
       "      <td>0</td>\n",
       "      <td>0</td>\n",
       "      <td>0</td>\n",
       "      <td>0</td>\n",
       "      <td>0</td>\n",
       "      <td>0</td>\n",
       "    </tr>\n",
       "  </tbody>\n",
       "</table>\n",
       "<p>100 rows × 25626 columns</p>\n",
       "</div>"
      ],
      "text/plain": [
       "    0      1      2      3      4      5      6      7      8      9      ...  \\\n",
       "0       0      0      0      0      0      0      0      0      0      0  ...   \n",
       "1       0      0      0      0      0      0      0      1      0      0  ...   \n",
       "2       0      0      0      0      0      0      0      1      0      0  ...   \n",
       "3       0      0      0      0      0      0      0      0      0      0  ...   \n",
       "4       0      0      0      0      0      0      0      0      0      0  ...   \n",
       "..    ...    ...    ...    ...    ...    ...    ...    ...    ...    ...  ...   \n",
       "95      0      1      0      0      0      0      0      0      0      0  ...   \n",
       "96      0      0      0      0      0      0      0      0      0      0  ...   \n",
       "97      1      0      0      0      0      0      0      0      0      0  ...   \n",
       "98      0      0      0      0      0      0      0      0      0      0  ...   \n",
       "99      0      0      0      0      0      0      0      1      0      0  ...   \n",
       "\n",
       "    25616  25617  25618  25619  25620  25621  25622  25623  25624  25625  \n",
       "0       0      0      0      3      0      0      0      0      0      0  \n",
       "1       0      2      2      0      2      2      0      0      0      0  \n",
       "2       1      4      4      4      1      1      1      0      0      0  \n",
       "3       0      1      1      1      0      0      1      0      0      0  \n",
       "4       1      0      0      1      0      0      0      1      0      0  \n",
       "..    ...    ...    ...    ...    ...    ...    ...    ...    ...    ...  \n",
       "95      1      0      0      1      0      0      1      0      1      0  \n",
       "96      0      0      0      0      0      0      0      0      0      0  \n",
       "97      0      0      0      0      1      1      0      0      0      0  \n",
       "98      1      0      0      1      0      0      0      0      0      0  \n",
       "99      2      0      0      4      0      0      0      0      0      0  \n",
       "\n",
       "[100 rows x 25626 columns]"
      ]
     },
     "execution_count": 519,
     "metadata": {},
     "output_type": "execute_result"
    }
   ],
   "source": [
    "sps_mat=pd.DataFrame(vectorizer.transform(apps['processed_stem']).toarray()).T\n",
    "sps_mat"
   ]
  },
  {
   "cell_type": "markdown",
   "metadata": {},
   "source": [
    "You can then multiply the sparse matrix with the words that are sorted alphabetically to get a sum of the score."
   ]
  },
  {
   "cell_type": "code",
   "execution_count": 520,
   "metadata": {},
   "outputs": [
    {
     "data": {
      "text/plain": [
       "0        0.156053\n",
       "1        0.374989\n",
       "2        0.135092\n",
       "3        0.142020\n",
       "4        0.228795\n",
       "           ...   \n",
       "25621    0.502887\n",
       "25622    0.279687\n",
       "25623    0.891998\n",
       "25624    0.530242\n",
       "25625    0.000000\n",
       "Length: 25626, dtype: float64"
      ]
     },
     "execution_count": 520,
     "metadata": {},
     "output_type": "execute_result"
    }
   ],
   "source": [
    "ranking_all=sps_mat.mul(pop_twohun['Top score'], axis=0)\n",
    "ranking_all=ranking_all.sum(axis = 0, skipna = True)\n",
    "ranking_all"
   ]
  },
  {
   "cell_type": "markdown",
   "metadata": {},
   "source": [
    "This will be added to the master database \"apps\"."
   ]
  },
  {
   "cell_type": "code",
   "execution_count": 506,
   "metadata": {},
   "outputs": [
    {
     "data": {
      "text/html": [
       "<div>\n",
       "<style scoped>\n",
       "    .dataframe tbody tr th:only-of-type {\n",
       "        vertical-align: middle;\n",
       "    }\n",
       "\n",
       "    .dataframe tbody tr th {\n",
       "        vertical-align: top;\n",
       "    }\n",
       "\n",
       "    .dataframe thead th {\n",
       "        text-align: right;\n",
       "    }\n",
       "</style>\n",
       "<table border=\"1\" class=\"dataframe\">\n",
       "  <thead>\n",
       "    <tr style=\"text-align: right;\">\n",
       "      <th></th>\n",
       "      <th>title</th>\n",
       "      <th>author</th>\n",
       "      <th>desc</th>\n",
       "      <th>desc_score</th>\n",
       "      <th>compat</th>\n",
       "      <th>editor</th>\n",
       "      <th>iap</th>\n",
       "      <th>list_rank</th>\n",
       "      <th>nrating</th>\n",
       "      <th>price</th>\n",
       "      <th>...</th>\n",
       "      <th>star3</th>\n",
       "      <th>star2</th>\n",
       "      <th>star1</th>\n",
       "      <th>sup_family_sharing</th>\n",
       "      <th>sup_game_center</th>\n",
       "      <th>sup_game_controllers</th>\n",
       "      <th>sup_siri</th>\n",
       "      <th>sup_wallet</th>\n",
       "      <th>processed_stem</th>\n",
       "      <th>desc_len</th>\n",
       "    </tr>\n",
       "  </thead>\n",
       "  <tbody>\n",
       "    <tr>\n",
       "      <td>0</td>\n",
       "      <td>! Chess !</td>\n",
       "      <td>xiaojian chen</td>\n",
       "      <td>Chess King is the best Chess game. Touch the s...</td>\n",
       "      <td>0.156053</td>\n",
       "      <td>7.0</td>\n",
       "      <td>False</td>\n",
       "      <td>False</td>\n",
       "      <td>False</td>\n",
       "      <td>199.0</td>\n",
       "      <td>0.00</td>\n",
       "      <td>...</td>\n",
       "      <td>3.0</td>\n",
       "      <td>2.0</td>\n",
       "      <td>3.0</td>\n",
       "      <td>1</td>\n",
       "      <td>1</td>\n",
       "      <td>0</td>\n",
       "      <td>0</td>\n",
       "      <td>0</td>\n",
       "      <td>chess king good chess game touch screen move d...</td>\n",
       "      <td>520</td>\n",
       "    </tr>\n",
       "    <tr>\n",
       "      <td>1</td>\n",
       "      <td>!Rebolt! Lite</td>\n",
       "      <td>Flashbang Studios</td>\n",
       "      <td>This is the Lite version of Rebolt -- if you e...</td>\n",
       "      <td>0.374989</td>\n",
       "      <td>2.0</td>\n",
       "      <td>False</td>\n",
       "      <td>False</td>\n",
       "      <td>False</td>\n",
       "      <td>1500.0</td>\n",
       "      <td>0.00</td>\n",
       "      <td>...</td>\n",
       "      <td>23.0</td>\n",
       "      <td>18.0</td>\n",
       "      <td>26.0</td>\n",
       "      <td>1</td>\n",
       "      <td>0</td>\n",
       "      <td>0</td>\n",
       "      <td>0</td>\n",
       "      <td>0</td>\n",
       "      <td>lite version rebolt enjoy buy full version ext...</td>\n",
       "      <td>1351</td>\n",
       "    </tr>\n",
       "    <tr>\n",
       "      <td>2</td>\n",
       "      <td>\" Snow fall princess High-land \" Dress-up : Th...</td>\n",
       "      <td>Laongdow Panasantikul</td>\n",
       "      <td>If You love Snow Princess. She'll back!! Every...</td>\n",
       "      <td>0.135092</td>\n",
       "      <td>8.0</td>\n",
       "      <td>False</td>\n",
       "      <td>True</td>\n",
       "      <td>False</td>\n",
       "      <td>97.0</td>\n",
       "      <td>0.00</td>\n",
       "      <td>...</td>\n",
       "      <td>11.0</td>\n",
       "      <td>4.0</td>\n",
       "      <td>3.0</td>\n",
       "      <td>1</td>\n",
       "      <td>0</td>\n",
       "      <td>0</td>\n",
       "      <td>0</td>\n",
       "      <td>0</td>\n",
       "      <td>love snow princess back everyone love dress ge...</td>\n",
       "      <td>426</td>\n",
       "    </tr>\n",
       "    <tr>\n",
       "      <td>3</td>\n",
       "      <td>\"HOOK\"</td>\n",
       "      <td>Maciej Targoni</td>\n",
       "      <td>\"Hook\" is a relaxing, minimal, puzzle game. It...</td>\n",
       "      <td>0.142020</td>\n",
       "      <td>8.0</td>\n",
       "      <td>False</td>\n",
       "      <td>False</td>\n",
       "      <td>True</td>\n",
       "      <td>349.0</td>\n",
       "      <td>0.99</td>\n",
       "      <td>...</td>\n",
       "      <td>2.0</td>\n",
       "      <td>1.0</td>\n",
       "      <td>1.0</td>\n",
       "      <td>1</td>\n",
       "      <td>0</td>\n",
       "      <td>0</td>\n",
       "      <td>0</td>\n",
       "      <td>0</td>\n",
       "      <td>hook relax minimal puzzle game experience chal...</td>\n",
       "      <td>358</td>\n",
       "    </tr>\n",
       "    <tr>\n",
       "      <td>4</td>\n",
       "      <td>\"OXXO\"</td>\n",
       "      <td>Michal Pawlowski</td>\n",
       "      <td>Hey, Hamster here! I create puzzle games for y...</td>\n",
       "      <td>0.228795</td>\n",
       "      <td>8.0</td>\n",
       "      <td>False</td>\n",
       "      <td>False</td>\n",
       "      <td>True</td>\n",
       "      <td>107.0</td>\n",
       "      <td>1.99</td>\n",
       "      <td>...</td>\n",
       "      <td>2.0</td>\n",
       "      <td>1.0</td>\n",
       "      <td>0.0</td>\n",
       "      <td>1</td>\n",
       "      <td>0</td>\n",
       "      <td>0</td>\n",
       "      <td>0</td>\n",
       "      <td>0</td>\n",
       "      <td>hey hamster create puzzle game scalak zenge pu...</td>\n",
       "      <td>616</td>\n",
       "    </tr>\n",
       "  </tbody>\n",
       "</table>\n",
       "<p>5 rows × 60 columns</p>\n",
       "</div>"
      ],
      "text/plain": [
       "                                               title                 author  \\\n",
       "0                                          ! Chess !          xiaojian chen   \n",
       "1                                      !Rebolt! Lite      Flashbang Studios   \n",
       "2  \" Snow fall princess High-land \" Dress-up : Th...  Laongdow Panasantikul   \n",
       "3                                             \"HOOK\"         Maciej Targoni   \n",
       "4                                             \"OXXO\"       Michal Pawlowski   \n",
       "\n",
       "                                                desc  desc_score  compat  \\\n",
       "0  Chess King is the best Chess game. Touch the s...    0.156053     7.0   \n",
       "1  This is the Lite version of Rebolt -- if you e...    0.374989     2.0   \n",
       "2  If You love Snow Princess. She'll back!! Every...    0.135092     8.0   \n",
       "3  \"Hook\" is a relaxing, minimal, puzzle game. It...    0.142020     8.0   \n",
       "4  Hey, Hamster here! I create puzzle games for y...    0.228795     8.0   \n",
       "\n",
       "   editor    iap  list_rank  nrating  price  ...  star3  star2  star1  \\\n",
       "0   False  False      False    199.0   0.00  ...    3.0    2.0    3.0   \n",
       "1   False  False      False   1500.0   0.00  ...   23.0   18.0   26.0   \n",
       "2   False   True      False     97.0   0.00  ...   11.0    4.0    3.0   \n",
       "3   False  False       True    349.0   0.99  ...    2.0    1.0    1.0   \n",
       "4   False  False       True    107.0   1.99  ...    2.0    1.0    0.0   \n",
       "\n",
       "   sup_family_sharing  sup_game_center  sup_game_controllers  sup_siri  \\\n",
       "0                   1                1                     0         0   \n",
       "1                   1                0                     0         0   \n",
       "2                   1                0                     0         0   \n",
       "3                   1                0                     0         0   \n",
       "4                   1                0                     0         0   \n",
       "\n",
       "   sup_wallet                                     processed_stem  desc_len  \n",
       "0           0  chess king good chess game touch screen move d...       520  \n",
       "1           0  lite version rebolt enjoy buy full version ext...      1351  \n",
       "2           0  love snow princess back everyone love dress ge...       426  \n",
       "3           0  hook relax minimal puzzle game experience chal...       358  \n",
       "4           0  hey hamster create puzzle game scalak zenge pu...       616  \n",
       "\n",
       "[5 rows x 60 columns]"
      ]
     },
     "execution_count": 506,
     "metadata": {},
     "output_type": "execute_result"
    }
   ],
   "source": [
    "apps.insert(loc=3, column='desc_score', value=ranking_all)\n",
    "apps.head()"
   ]
  },
  {
   "cell_type": "markdown",
   "metadata": {},
   "source": [
    "We can do an overall check to see if the desc_score captures what we intend to by looking at some examples."
   ]
  },
  {
   "cell_type": "code",
   "execution_count": 508,
   "metadata": {},
   "outputs": [
    {
     "data": {
      "text/plain": [
       "count    25626.000000\n",
       "mean         0.444243\n",
       "std          0.373504\n",
       "min          0.000000\n",
       "25%          0.178169\n",
       "50%          0.345501\n",
       "75%          0.592681\n",
       "max          2.943157\n",
       "Name: desc_score, dtype: float64"
      ]
     },
     "execution_count": 508,
     "metadata": {},
     "output_type": "execute_result"
    }
   ],
   "source": [
    "apps['desc_score'].describe()"
   ]
  },
  {
   "cell_type": "code",
   "execution_count": 509,
   "metadata": {},
   "outputs": [
    {
     "data": {
      "text/plain": [
       "<matplotlib.axes._subplots.AxesSubplot at 0x23251ff4408>"
      ]
     },
     "execution_count": 509,
     "metadata": {},
     "output_type": "execute_result"
    },
    {
     "data": {
      "image/png": "[encoded data removed]",
      "text/plain": [
       "<Figure size 432x288 with 1 Axes>"
      ]
     },
     "metadata": {
      "needs_background": "light"
     },
     "output_type": "display_data"
    }
   ],
   "source": [
    "apps['desc_score'].hist()"
   ]
  },
  {
   "cell_type": "code",
   "execution_count": 510,
   "metadata": {},
   "outputs": [
    {
     "data": {
      "text/html": [
       "<div>\n",
       "<style scoped>\n",
       "    .dataframe tbody tr th:only-of-type {\n",
       "        vertical-align: middle;\n",
       "    }\n",
       "\n",
       "    .dataframe tbody tr th {\n",
       "        vertical-align: top;\n",
       "    }\n",
       "\n",
       "    .dataframe thead th {\n",
       "        text-align: right;\n",
       "    }\n",
       "</style>\n",
       "<table border=\"1\" class=\"dataframe\">\n",
       "  <thead>\n",
       "    <tr style=\"text-align: right;\">\n",
       "      <th></th>\n",
       "      <th>title</th>\n",
       "      <th>author</th>\n",
       "      <th>desc</th>\n",
       "      <th>desc_score</th>\n",
       "      <th>compat</th>\n",
       "      <th>editor</th>\n",
       "      <th>iap</th>\n",
       "      <th>list_rank</th>\n",
       "      <th>nrating</th>\n",
       "      <th>price</th>\n",
       "      <th>...</th>\n",
       "      <th>star3</th>\n",
       "      <th>star2</th>\n",
       "      <th>star1</th>\n",
       "      <th>sup_family_sharing</th>\n",
       "      <th>sup_game_center</th>\n",
       "      <th>sup_game_controllers</th>\n",
       "      <th>sup_siri</th>\n",
       "      <th>sup_wallet</th>\n",
       "      <th>processed_stem</th>\n",
       "      <th>desc_len</th>\n",
       "    </tr>\n",
       "  </thead>\n",
       "  <tbody>\n",
       "    <tr>\n",
       "      <td>2088</td>\n",
       "      <td>Basketball MMC</td>\n",
       "      <td>MobileMediaCom</td>\n",
       "      <td>Basketball game</td>\n",
       "      <td>0.046985</td>\n",
       "      <td>3.0</td>\n",
       "      <td>False</td>\n",
       "      <td>False</td>\n",
       "      <td>False</td>\n",
       "      <td>104.0</td>\n",
       "      <td>0.0</td>\n",
       "      <td>...</td>\n",
       "      <td>9.0</td>\n",
       "      <td>14.0</td>\n",
       "      <td>22.0</td>\n",
       "      <td>1</td>\n",
       "      <td>0</td>\n",
       "      <td>0</td>\n",
       "      <td>0</td>\n",
       "      <td>0</td>\n",
       "      <td>basketball game</td>\n",
       "      <td>15</td>\n",
       "    </tr>\n",
       "  </tbody>\n",
       "</table>\n",
       "<p>1 rows × 60 columns</p>\n",
       "</div>"
      ],
      "text/plain": [
       "               title          author             desc  desc_score  compat  \\\n",
       "2088  Basketball MMC  MobileMediaCom  Basketball game    0.046985     3.0   \n",
       "\n",
       "      editor    iap  list_rank  nrating  price  ...  star3  star2  star1  \\\n",
       "2088   False  False      False    104.0    0.0  ...    9.0   14.0   22.0   \n",
       "\n",
       "      sup_family_sharing  sup_game_center  sup_game_controllers  sup_siri  \\\n",
       "2088                   1                0                     0         0   \n",
       "\n",
       "      sup_wallet   processed_stem  desc_len  \n",
       "2088           0  basketball game        15  \n",
       "\n",
       "[1 rows x 60 columns]"
      ]
     },
     "execution_count": 510,
     "metadata": {},
     "output_type": "execute_result"
    }
   ],
   "source": [
    "# Find the game with the shorted desc length to check the score\n",
    "apps[(apps['desc_len'])==(min(apps['desc_len']))]"
   ]
  },
  {
   "cell_type": "code",
   "execution_count": 518,
   "metadata": {},
   "outputs": [
    {
     "data": {
      "text/html": [
       "<div>\n",
       "<style scoped>\n",
       "    .dataframe tbody tr th:only-of-type {\n",
       "        vertical-align: middle;\n",
       "    }\n",
       "\n",
       "    .dataframe tbody tr th {\n",
       "        vertical-align: top;\n",
       "    }\n",
       "\n",
       "    .dataframe thead th {\n",
       "        text-align: right;\n",
       "    }\n",
       "</style>\n",
       "<table border=\"1\" class=\"dataframe\">\n",
       "  <thead>\n",
       "    <tr style=\"text-align: right;\">\n",
       "      <th></th>\n",
       "      <th>Pop_all_keyword</th>\n",
       "      <th>Pop_all_freq</th>\n",
       "      <th>Top score</th>\n",
       "    </tr>\n",
       "  </thead>\n",
       "  <tbody>\n",
       "    <tr>\n",
       "      <td>38</td>\n",
       "      <td>game</td>\n",
       "      <td>529</td>\n",
       "      <td>0.046985</td>\n",
       "    </tr>\n",
       "  </tbody>\n",
       "</table>\n",
       "</div>"
      ],
      "text/plain": [
       "   Pop_all_keyword  Pop_all_freq  Top score\n",
       "38            game           529   0.046985"
      ]
     },
     "execution_count": 518,
     "metadata": {},
     "output_type": "execute_result"
    }
   ],
   "source": [
    "''' Since the description of the game is \"basketbal game\" and we know game is one of the top words used in description, \n",
    "we can easily check if the score of game and desc_score match''' \n",
    "pop_twohun[pop_twohun['Pop_all_keyword']==('game')]"
   ]
  },
  {
   "cell_type": "code",
   "execution_count": 527,
   "metadata": {},
   "outputs": [
    {
     "data": {
      "text/plain": [
       "desc          《Puzzle8填字》是由益智游戏网站Puzzle8.com 推出的中文填字游戏app，Pu...\n",
       "desc_score                                                    0\n",
       "Name: 25625, dtype: object"
      ]
     },
     "execution_count": 527,
     "metadata": {},
     "output_type": "execute_result"
    }
   ],
   "source": [
    "# Additionally, the last game in the apps is in Chinese, which means that the desc_score has to be zero\n",
    "apps[['desc', 'desc_score']].iloc[-1]"
   ]
  },
  {
   "cell_type": "markdown",
   "metadata": {},
   "source": [
    "Since they both output expected value, we can create one last feature. We can pick out the word 'subscription' from processed words to create a categorical value. Then, we are finally done with creating the database!"
   ]
  },
  {
   "cell_type": "code",
   "execution_count": 535,
   "metadata": {},
   "outputs": [
    {
     "data": {
      "text/plain": [
       "count    25626.000000\n",
       "mean         0.038828\n",
       "std          0.193188\n",
       "min          0.000000\n",
       "25%          0.000000\n",
       "50%          0.000000\n",
       "75%          0.000000\n",
       "max          1.000000\n",
       "Name: subscription, dtype: float64"
      ]
     },
     "execution_count": 535,
     "metadata": {},
     "output_type": "execute_result"
    }
   ],
   "source": [
    "apps['subscription']=0\n",
    "apps.loc[apps['processed_stem'].str.contains('subscription', case=False), 'subscription'] = 1\n",
    "apps['subscription'].describe()"
   ]
  },
  {
   "cell_type": "code",
   "execution_count": 536,
   "metadata": {},
   "outputs": [],
   "source": [
    "apps.to_sql('clean_db', e, if_exists='replace', index=False)"
   ]
  },
  {
   "cell_type": "markdown",
   "metadata": {},
   "source": [
    "# Creating Regression Models\n",
    "## Generating Test and Training Sets\n",
    "\n",
    "Number of rating is our target metric. Since the number of rating is not normally distributed, we will use StratifiedShuffleSplit to create test and training sets. Then we will transform skewed data through the pipeline to help with the model performance."
   ]
  },
  {
   "cell_type": "code",
   "execution_count": 7,
   "metadata": {},
   "outputs": [
    {
     "data": {
      "text/html": [
       "<div>\n",
       "<style scoped>\n",
       "    .dataframe tbody tr th:only-of-type {\n",
       "        vertical-align: middle;\n",
       "    }\n",
       "\n",
       "    .dataframe tbody tr th {\n",
       "        vertical-align: top;\n",
       "    }\n",
       "\n",
       "    .dataframe thead th {\n",
       "        text-align: right;\n",
       "    }\n",
       "</style>\n",
       "<table border=\"1\" class=\"dataframe\">\n",
       "  <thead>\n",
       "    <tr style=\"text-align: right;\">\n",
       "      <th></th>\n",
       "      <th>title</th>\n",
       "      <th>author</th>\n",
       "      <th>desc</th>\n",
       "      <th>desc_score</th>\n",
       "      <th>compat</th>\n",
       "      <th>editor</th>\n",
       "      <th>iap</th>\n",
       "      <th>list_rank</th>\n",
       "      <th>nrating</th>\n",
       "      <th>price</th>\n",
       "      <th>...</th>\n",
       "      <th>star2</th>\n",
       "      <th>star1</th>\n",
       "      <th>sup_family_sharing</th>\n",
       "      <th>sup_game_center</th>\n",
       "      <th>sup_game_controllers</th>\n",
       "      <th>sup_siri</th>\n",
       "      <th>sup_wallet</th>\n",
       "      <th>processed_stem</th>\n",
       "      <th>desc_len</th>\n",
       "      <th>subscription</th>\n",
       "    </tr>\n",
       "  </thead>\n",
       "  <tbody>\n",
       "    <tr>\n",
       "      <td>0</td>\n",
       "      <td>! Chess !</td>\n",
       "      <td>xiaojian chen</td>\n",
       "      <td>Chess King is the best Chess game. Touch the s...</td>\n",
       "      <td>0.156053</td>\n",
       "      <td>7.0</td>\n",
       "      <td>0</td>\n",
       "      <td>0</td>\n",
       "      <td>0</td>\n",
       "      <td>199.0</td>\n",
       "      <td>0.00</td>\n",
       "      <td>...</td>\n",
       "      <td>2.0</td>\n",
       "      <td>3.0</td>\n",
       "      <td>1</td>\n",
       "      <td>1</td>\n",
       "      <td>0</td>\n",
       "      <td>0</td>\n",
       "      <td>0</td>\n",
       "      <td>chess king good chess game touch screen move d...</td>\n",
       "      <td>520</td>\n",
       "      <td>0</td>\n",
       "    </tr>\n",
       "    <tr>\n",
       "      <td>1</td>\n",
       "      <td>!Rebolt! Lite</td>\n",
       "      <td>Flashbang Studios</td>\n",
       "      <td>This is the Lite version of Rebolt -- if you e...</td>\n",
       "      <td>0.374989</td>\n",
       "      <td>2.0</td>\n",
       "      <td>0</td>\n",
       "      <td>0</td>\n",
       "      <td>0</td>\n",
       "      <td>1500.0</td>\n",
       "      <td>0.00</td>\n",
       "      <td>...</td>\n",
       "      <td>18.0</td>\n",
       "      <td>26.0</td>\n",
       "      <td>1</td>\n",
       "      <td>0</td>\n",
       "      <td>0</td>\n",
       "      <td>0</td>\n",
       "      <td>0</td>\n",
       "      <td>lite version rebolt enjoy buy full version ext...</td>\n",
       "      <td>1351</td>\n",
       "      <td>0</td>\n",
       "    </tr>\n",
       "    <tr>\n",
       "      <td>2</td>\n",
       "      <td>\" Snow fall princess High-land \" Dress-up : Th...</td>\n",
       "      <td>Laongdow Panasantikul</td>\n",
       "      <td>If You love Snow Princess. She'll back!! Every...</td>\n",
       "      <td>0.135092</td>\n",
       "      <td>8.0</td>\n",
       "      <td>0</td>\n",
       "      <td>1</td>\n",
       "      <td>0</td>\n",
       "      <td>97.0</td>\n",
       "      <td>0.00</td>\n",
       "      <td>...</td>\n",
       "      <td>4.0</td>\n",
       "      <td>3.0</td>\n",
       "      <td>1</td>\n",
       "      <td>0</td>\n",
       "      <td>0</td>\n",
       "      <td>0</td>\n",
       "      <td>0</td>\n",
       "      <td>love snow princess back everyone love dress ge...</td>\n",
       "      <td>426</td>\n",
       "      <td>0</td>\n",
       "    </tr>\n",
       "    <tr>\n",
       "      <td>3</td>\n",
       "      <td>\"HOOK\"</td>\n",
       "      <td>Maciej Targoni</td>\n",
       "      <td>\"Hook\" is a relaxing, minimal, puzzle game. It...</td>\n",
       "      <td>0.142020</td>\n",
       "      <td>8.0</td>\n",
       "      <td>0</td>\n",
       "      <td>0</td>\n",
       "      <td>1</td>\n",
       "      <td>349.0</td>\n",
       "      <td>0.99</td>\n",
       "      <td>...</td>\n",
       "      <td>1.0</td>\n",
       "      <td>1.0</td>\n",
       "      <td>1</td>\n",
       "      <td>0</td>\n",
       "      <td>0</td>\n",
       "      <td>0</td>\n",
       "      <td>0</td>\n",
       "      <td>hook relax minimal puzzle game experience chal...</td>\n",
       "      <td>358</td>\n",
       "      <td>0</td>\n",
       "    </tr>\n",
       "    <tr>\n",
       "      <td>4</td>\n",
       "      <td>\"OXXO\"</td>\n",
       "      <td>Michal Pawlowski</td>\n",
       "      <td>Hey, Hamster here! I create puzzle games for y...</td>\n",
       "      <td>0.228795</td>\n",
       "      <td>8.0</td>\n",
       "      <td>0</td>\n",
       "      <td>0</td>\n",
       "      <td>1</td>\n",
       "      <td>107.0</td>\n",
       "      <td>1.99</td>\n",
       "      <td>...</td>\n",
       "      <td>1.0</td>\n",
       "      <td>0.0</td>\n",
       "      <td>1</td>\n",
       "      <td>0</td>\n",
       "      <td>0</td>\n",
       "      <td>0</td>\n",
       "      <td>0</td>\n",
       "      <td>hey hamster create puzzle game scalak zenge pu...</td>\n",
       "      <td>616</td>\n",
       "      <td>0</td>\n",
       "    </tr>\n",
       "  </tbody>\n",
       "</table>\n",
       "<p>5 rows × 61 columns</p>\n",
       "</div>"
      ],
      "text/plain": [
       "                                               title                 author  \\\n",
       "0                                          ! Chess !          xiaojian chen   \n",
       "1                                      !Rebolt! Lite      Flashbang Studios   \n",
       "2  \" Snow fall princess High-land \" Dress-up : Th...  Laongdow Panasantikul   \n",
       "3                                             \"HOOK\"         Maciej Targoni   \n",
       "4                                             \"OXXO\"       Michal Pawlowski   \n",
       "\n",
       "                                                desc  desc_score  compat  \\\n",
       "0  Chess King is the best Chess game. Touch the s...    0.156053     7.0   \n",
       "1  This is the Lite version of Rebolt -- if you e...    0.374989     2.0   \n",
       "2  If You love Snow Princess. She'll back!! Every...    0.135092     8.0   \n",
       "3  \"Hook\" is a relaxing, minimal, puzzle game. It...    0.142020     8.0   \n",
       "4  Hey, Hamster here! I create puzzle games for y...    0.228795     8.0   \n",
       "\n",
       "   editor  iap  list_rank  nrating  price  ...  star2  star1  \\\n",
       "0       0    0          0    199.0   0.00  ...    2.0    3.0   \n",
       "1       0    0          0   1500.0   0.00  ...   18.0   26.0   \n",
       "2       0    1          0     97.0   0.00  ...    4.0    3.0   \n",
       "3       0    0          1    349.0   0.99  ...    1.0    1.0   \n",
       "4       0    0          1    107.0   1.99  ...    1.0    0.0   \n",
       "\n",
       "   sup_family_sharing  sup_game_center  sup_game_controllers  sup_siri  \\\n",
       "0                   1                1                     0         0   \n",
       "1                   1                0                     0         0   \n",
       "2                   1                0                     0         0   \n",
       "3                   1                0                     0         0   \n",
       "4                   1                0                     0         0   \n",
       "\n",
       "   sup_wallet                                     processed_stem  desc_len  \\\n",
       "0           0  chess king good chess game touch screen move d...       520   \n",
       "1           0  lite version rebolt enjoy buy full version ext...      1351   \n",
       "2           0  love snow princess back everyone love dress ge...       426   \n",
       "3           0  hook relax minimal puzzle game experience chal...       358   \n",
       "4           0  hey hamster create puzzle game scalak zenge pu...       616   \n",
       "\n",
       "   subscription  \n",
       "0             0  \n",
       "1             0  \n",
       "2             0  \n",
       "3             0  \n",
       "4             0  \n",
       "\n",
       "[5 rows x 61 columns]"
      ]
     },
     "execution_count": 7,
     "metadata": {},
     "output_type": "execute_result"
    }
   ],
   "source": [
    "apps=pd.read_sql_query('''SELECT * FROM clean_db''', sa.create_engine(r'sqlite:///D:\\Program_practices\\IOS\\app-store.sqlite'))\n",
    "apps.head()"
   ]
  },
  {
   "cell_type": "code",
   "execution_count": 8,
   "metadata": {},
   "outputs": [
    {
     "name": "stdout",
     "output_type": "stream",
     "text": [
      "<class 'pandas.core.frame.DataFrame'>\n",
      "Int64Index: 5126 entries, 13595 to 23826\n",
      "Data columns (total 55 columns):\n",
      "desc_score                  5126 non-null float64\n",
      "compat                      5126 non-null float64\n",
      "editor                      5126 non-null int64\n",
      "iap                         5126 non-null int64\n",
      "price                       5126 non-null float64\n",
      "score                       5126 non-null float64\n",
      "size                        5126 non-null float64\n",
      "age_12                      5126 non-null int64\n",
      "age_17                      5126 non-null int64\n",
      "age_4                       5126 non-null int64\n",
      "age_9                       5126 non-null int64\n",
      "gen_action                  5126 non-null int64\n",
      "gen_adventure               5126 non-null int64\n",
      "gen_board                   5126 non-null int64\n",
      "gen_card                    5126 non-null int64\n",
      "gen_casino                  5126 non-null int64\n",
      "gen_casual                  5126 non-null int64\n",
      "gen_family                  5126 non-null int64\n",
      "gen_music                   5126 non-null int64\n",
      "gen_puzzle                  5126 non-null int64\n",
      "gen_racing                  5126 non-null int64\n",
      "gen_rpg                     5126 non-null int64\n",
      "gen_simulation              5126 non-null int64\n",
      "gen_sports                  5126 non-null int64\n",
      "gen_strategy                5126 non-null int64\n",
      "gen_trivia                  5126 non-null int64\n",
      "gen_word                    5126 non-null int64\n",
      "lang_cnt                    5126 non-null int64\n",
      "lang_dutch                  5126 non-null int64\n",
      "lang_english                5126 non-null int64\n",
      "lang_french                 5126 non-null int64\n",
      "lang_german                 5126 non-null int64\n",
      "lang_italian                5126 non-null int64\n",
      "lang_japanese               5126 non-null int64\n",
      "lang_korean                 5126 non-null int64\n",
      "lang_polish                 5126 non-null int64\n",
      "lang_portuguese             5126 non-null int64\n",
      "lang_russian                5126 non-null int64\n",
      "lang_simplified_chinese     5126 non-null int64\n",
      "lang_spanish                5126 non-null int64\n",
      "lang_swedish                5126 non-null int64\n",
      "lang_traditional_chinese    5126 non-null int64\n",
      "lang_turkish                5126 non-null int64\n",
      "star5                       5126 non-null float64\n",
      "star4                       5126 non-null float64\n",
      "star3                       5126 non-null float64\n",
      "star2                       5126 non-null float64\n",
      "star1                       5126 non-null float64\n",
      "sup_family_sharing          5126 non-null int64\n",
      "sup_game_center             5126 non-null int64\n",
      "sup_game_controllers        5126 non-null int64\n",
      "sup_siri                    5126 non-null int64\n",
      "sup_wallet                  5126 non-null int64\n",
      "desc_len                    5126 non-null int64\n",
      "subscription                5126 non-null int64\n",
      "dtypes: float64(10), int64(45)\n",
      "memory usage: 2.2 MB\n"
     ]
    }
   ],
   "source": [
    "from sklearn.model_selection import StratifiedShuffleSplit\n",
    "\n",
    "# Divide them into given bins to ensure that the number of ratings distribution represents the train and test sets\n",
    "bins = [36, 100, 1000, 10000, 100000, np.inf]\n",
    "labels=[1, 2, 3, 4, 5]\n",
    "# create a new column containing the ratings bin the game is associated with\n",
    "apps['nrating_cut'] = pd.cut(apps['nrating'], bins=bins, labels=labels)\n",
    "\n",
    "# split data into training (80%) and testing (20%) sets\n",
    "split = StratifiedShuffleSplit(n_splits=1, test_size=0.2, random_state=42)\n",
    "for train_ind, test_ind in split.split(apps, apps['nrating_cut']):\n",
    "    train_set, test_set = apps.iloc[train_ind], apps.iloc[test_ind]\n",
    "\n",
    "test_label = test_set['nrating'].copy()\n",
    "test_identity = test_set[['title','author', 'desc']].copy()\n",
    "test_set = test_set.drop(columns=['nrating_cut','nrating','title','author','desc','processed_stem', 'list_rank'])\n",
    "\n",
    "train_label = train_set['nrating'].copy()\n",
    "train_identity = train_set[['title','author', 'desc']].copy()\n",
    "train_set_binned = train_set['nrating_cut'].copy() # label identifying the ratings bin the game occupies\n",
    "train_set = train_set.drop(columns=['nrating_cut','nrating','title','author','desc','processed_stem','list_rank']) \n",
    "test_set.info()"
   ]
  },
  {
   "cell_type": "code",
   "execution_count": 9,
   "metadata": {},
   "outputs": [
    {
     "data": {
      "text/plain": [
       "array([[<matplotlib.axes._subplots.AxesSubplot object at 0x000001C6378A8948>,\n",
       "        <matplotlib.axes._subplots.AxesSubplot object at 0x000001C6356D1708>,\n",
       "        <matplotlib.axes._subplots.AxesSubplot object at 0x000001C639CF8188>],\n",
       "       [<matplotlib.axes._subplots.AxesSubplot object at 0x000001C637943EC8>,\n",
       "        <matplotlib.axes._subplots.AxesSubplot object at 0x000001C63788EC48>,\n",
       "        <matplotlib.axes._subplots.AxesSubplot object at 0x000001C63C21A9C8>],\n",
       "       [<matplotlib.axes._subplots.AxesSubplot object at 0x000001C63B04C748>,\n",
       "        <matplotlib.axes._subplots.AxesSubplot object at 0x000001C638AA04C8>,\n",
       "        <matplotlib.axes._subplots.AxesSubplot object at 0x000001C638ABB348>],\n",
       "       [<matplotlib.axes._subplots.AxesSubplot object at 0x000001C639E012C8>,\n",
       "        <matplotlib.axes._subplots.AxesSubplot object at 0x000001C63D5BA6C8>,\n",
       "        <matplotlib.axes._subplots.AxesSubplot object at 0x000001C639ECD808>]],\n",
       "      dtype=object)"
      ]
     },
     "execution_count": 9,
     "metadata": {},
     "output_type": "execute_result"
    },
    {
     "data": {
      "image/png": "[encoded data removed]",
      "text/plain": [
       "<Figure size 648x648 with 12 Axes>"
      ]
     },
     "metadata": {
      "needs_background": "light"
     },
     "output_type": "display_data"
    }
   ],
   "source": [
    "# get index of numeric features (as opposed to categorical features) that will need to be preprocesse\n",
    "train_set['desc_len']=train_set['desc_len'].astype(float)\n",
    "numeric_feat = train_set.dtypes[train_set.dtypes == 'float64'].index\n",
    "\n",
    "train_set[numeric_feat].hist(bins=10, figsize=(9,9))"
   ]
  },
  {
   "cell_type": "markdown",
   "metadata": {},
   "source": [
    "## Data Transformation\n",
    "To streamline skew correction, a custom transformer is created in conjunction with a data pipeline. The pipeline also implements StandardScalar, which normalizes the features to have a mean of 0 and standard deviation of 1."
   ]
  },
  {
   "cell_type": "code",
   "execution_count": 10,
   "metadata": {},
   "outputs": [],
   "source": [
    "# Apply transformation \n",
    "from sklearn.base import BaseEstimator, TransformerMixin\n",
    "from scipy.stats import skew\n",
    "from scipy.stats import boxcox\n",
    "\n",
    "class SkewCorrector(BaseEstimator, TransformerMixin):\n",
    "    \n",
    "    def __init__(self, skew_bound=0.2): # skew_bound is amount of skew that is acceptable\n",
    "        self.skew_bound = skew_bound\n",
    "        \n",
    "    def fit(self, X, y=None):\n",
    "        return self\n",
    "    \n",
    "    def transform(self, X, y=None):\n",
    "        X_val = X.to_numpy()\n",
    "        # different distributions require different transforms; indicies are defined below for specific data types\n",
    "        ind_skewed = np.absolute(skew(X_val)) > self.skew_bound\n",
    "        ind_right_skew = skew(X_val) > 0\n",
    "        ind_left_skew = skew(X_val) < 0\n",
    "        ind_no_zeros = [0 not in X_val[:,col] for col in np.arange(X_val.shape[1])]\n",
    "        ind_has_zeros = [0 in X_val[:,col] for col in np.arange(X_val.shape[1])]\n",
    "        # if all elements in a feature column are positive, the sum of all those should be equal to the number of rows in that feature matrix\n",
    "        ind_positive = [np.sign(X_val[:,col]).sum() == X_val.shape[0] for col in np.arange(X_val.shape[1])]\n",
    "\n",
    "        # transform right and left skewed data that does not include zero values with boxcox\n",
    "        X_trans, _ = np.apply_along_axis(boxcox, 0, X_val[:,ind_skewed & ind_no_zeros & ind_positive]) # returns list of arrays\n",
    "        X_val[:,ind_skewed & ind_no_zeros & ind_positive] = np.vstack(X_trans).T\n",
    "        \n",
    "        # transform right skewed data that contains zero values with log plus one\n",
    "        X_trans = np.log1p(X_val[:,ind_skewed & ind_right_skew & ind_has_zeros])\n",
    "        X_val[:,ind_skewed * ind_right_skew * ind_has_zeros] = X_trans\n",
    "        \n",
    "        # transform left skewed data that contains zero values by increasing power incrementally\n",
    "        for pwr in range(2, 5): #arbitarily set the power limit to 5; maybe make this a user-defined parameter?\n",
    "            X_trans = X_val[:,ind_skewed * ind_left_skew * ind_has_zeros]**pwr\n",
    "            if skew(X_trans) < self.skew_bound:\n",
    "                break\n",
    "        \n",
    "        X_val[:,ind_skewed * ind_left_skew * ind_has_zeros] = X_trans\n",
    "        \n",
    "        # Update the input data frame with transformed values\n",
    "        X_out = pd.DataFrame(X_val, index=X.index, columns=X.columns)\n",
    "        return X_out"
   ]
  },
  {
   "cell_type": "code",
   "execution_count": 11,
   "metadata": {},
   "outputs": [],
   "source": [
    "from sklearn.pipeline import Pipeline\n",
    "from sklearn.preprocessing import StandardScaler\n",
    "from sklearn.compose import ColumnTransformer\n",
    "\n",
    "num_pipeline = Pipeline([\n",
    "    ('trans_skew', SkewCorrector(skew_bound=0.2)),\n",
    "    ('std_scaler', StandardScaler())\n",
    "])\n",
    "numeric_feat = train_set.dtypes[train_set.dtypes == 'float64'].index\n",
    "cat_feat = train_set.dtypes[train_set.dtypes != 'float64'].index\n",
    "\n",
    "full_pipeline = ColumnTransformer([\n",
    "    ('num', num_pipeline, numeric_feat)\n",
    "])\n",
    "\n",
    "train_set_processed = train_set.copy()"
   ]
  },
  {
   "cell_type": "markdown",
   "metadata": {},
   "source": [
    "Plotting the numeric features after preprocessing indicates that most of the distributions have become approximately normal including the new features. Again, as shown in the previous work, the price is heavily skewed (ie, almost all games have a price of $0.00)."
   ]
  },
  {
   "cell_type": "code",
   "execution_count": 12,
   "metadata": {},
   "outputs": [
    {
     "data": {
      "text/plain": [
       "array([[<matplotlib.axes._subplots.AxesSubplot object at 0x000001C63D535E88>,\n",
       "        <matplotlib.axes._subplots.AxesSubplot object at 0x000001C63FF3BD08>,\n",
       "        <matplotlib.axes._subplots.AxesSubplot object at 0x000001C63FCB8208>],\n",
       "       [<matplotlib.axes._subplots.AxesSubplot object at 0x000001C63E7C4848>,\n",
       "        <matplotlib.axes._subplots.AxesSubplot object at 0x000001C63FE6C388>,\n",
       "        <matplotlib.axes._subplots.AxesSubplot object at 0x000001C63FDCACC8>],\n",
       "       [<matplotlib.axes._subplots.AxesSubplot object at 0x000001C63FCE2A88>,\n",
       "        <matplotlib.axes._subplots.AxesSubplot object at 0x000001C63FAF6B88>,\n",
       "        <matplotlib.axes._subplots.AxesSubplot object at 0x000001C63FAE3788>],\n",
       "       [<matplotlib.axes._subplots.AxesSubplot object at 0x000001C63F9FB948>,\n",
       "        <matplotlib.axes._subplots.AxesSubplot object at 0x000001C63E7F1EC8>,\n",
       "        <matplotlib.axes._subplots.AxesSubplot object at 0x000001C63FD5BF48>]],\n",
       "      dtype=object)"
      ]
     },
     "execution_count": 12,
     "metadata": {},
     "output_type": "execute_result"
    },
    {
     "data": {
      "image/png": "[encoded data removed]",
      "text/plain": [
       "<Figure size 648x648 with 12 Axes>"
      ]
     },
     "metadata": {
      "needs_background": "light"
     },
     "output_type": "display_data"
    }
   ],
   "source": [
    "train_set_processed[numeric_feat] = full_pipeline.fit_transform(train_set[numeric_feat])\n",
    "train_set_processed[numeric_feat].hist(bins=10, figsize=(9,9))"
   ]
  },
  {
   "cell_type": "markdown",
   "metadata": {},
   "source": [
    "## Choosing Models: Cross-validation\n",
    "\n",
    "The next step is to choose an appropriate model for the data that we have. We will be fitting multiple models to subsets of the training data, mostly using the default hyperparameters to get a general sense of what are appropriate models. Due to the large outliers, mean absolute error was used in calculating the cross validation scores.\n",
    "\n",
    "The following regressors were evaluated: linear regression, elastic net, stochastic gradient descent, linear support vector, k-nearest neighbor, random forest, and gradient tree boosting.\n",
    "\n",
    "Prior to cross validation, stratified sampling was used to ensure that the training and validation folds had similiar ratings distributions (in the same way stratified sampling was used to separate the initial data set into training and testing sets). The k-fold has been decreased to 5 to speed up the computation."
   ]
  },
  {
   "cell_type": "code",
   "execution_count": 13,
   "metadata": {},
   "outputs": [],
   "source": [
    "from sklearn.model_selection import cross_val_score, StratifiedKFold\n",
    "from functools import partial\n",
    "    \n",
    "def init_cv_gen():\n",
    "    '''Helper function that returns a generator for cross-validation'''\n",
    "    skf = StratifiedKFold(5, shuffle=True, random_state=42).split(train_set_processed, train_set_binned)\n",
    "    return skf\n",
    "\n",
    "def cv_score(estimator):\n",
    "    '''Generates cross validation scores; used to keep code clean when testing different models (estimator)'''\n",
    "    cv = init_cv_gen()\n",
    "    cv_score = cross_val_score(estimator=estimator, X=train_set_processed, y=train_label, cv=cv, scoring='neg_mean_absolute_error', n_jobs=-1)\n",
    "    return cv_score\n",
    "\n",
    "def show_cv_result(scores):\n",
    "    '''Print mean and standard deviation of an array of cross validation scores'''\n",
    "    print(f'Cross validation mean score is : {np.mean(scores)} ± {np.std(scores)}')"
   ]
  },
  {
   "cell_type": "code",
   "execution_count": 14,
   "metadata": {},
   "outputs": [
    {
     "name": "stdout",
     "output_type": "stream",
     "text": [
      "Cross validation mean score is : 9612.370247892077 ± 342.3359223404699\n"
     ]
    }
   ],
   "source": [
    "from sklearn.linear_model import LinearRegression\n",
    "\n",
    "reg = LinearRegression()\n",
    "reg.fit(train_set_processed, train_label)\n",
    "\n",
    "scores = cv_score(reg)\n",
    "show_cv_result(-scores)"
   ]
  },
  {
   "cell_type": "code",
   "execution_count": 547,
   "metadata": {},
   "outputs": [
    {
     "name": "stdout",
     "output_type": "stream",
     "text": [
      "Cross validation mean score is : 8437.83886320506 ± 448.46708074120056\n"
     ]
    }
   ],
   "source": [
    "from sklearn.linear_model import ElasticNet\n",
    "\n",
    "ENreg = ElasticNet()\n",
    "ENreg.fit(train_set_processed, train_label)\n",
    "\n",
    "ENscores = cv_score(ENreg)\n",
    "show_cv_result(-ENscores)"
   ]
  },
  {
   "cell_type": "code",
   "execution_count": 18,
   "metadata": {},
   "outputs": [
    {
     "name": "stdout",
     "output_type": "stream",
     "text": [
      "Cross validation mean score is : 4837.49845176845 ± 645.0717451775793\n"
     ]
    }
   ],
   "source": [
    "from sklearn.linear_model import SGDRegressor\n",
    "\n",
    "SGDreg = SGDRegressor(loss='huber',max_iter=5000, tol=1e-3)\n",
    "SGDreg.fit(train_set_processed, train_label)\n",
    "\n",
    "SGDscores = cv_score(SGDreg)\n",
    "show_cv_result(-SGDscores)"
   ]
  },
  {
   "cell_type": "code",
   "execution_count": 16,
   "metadata": {},
   "outputs": [
    {
     "name": "stdout",
     "output_type": "stream",
     "text": [
      "Cross validation mean score is : 4821.370609979162 ± 644.5908067532516\n"
     ]
    }
   ],
   "source": [
    "from sklearn.svm import LinearSVR\n",
    "\n",
    "SVRreg = LinearSVR()\n",
    "SVRreg.fit(train_set_processed, train_label)\n",
    "\n",
    "SVRscores = cv_score(SVRreg)\n",
    "show_cv_result(-SVRscores)"
   ]
  },
  {
   "cell_type": "code",
   "execution_count": 550,
   "metadata": {},
   "outputs": [
    {
     "name": "stdout",
     "output_type": "stream",
     "text": [
      "Cross validation mean score is : 8799.735751219512 ± 503.06535527321734\n"
     ]
    }
   ],
   "source": [
    "from sklearn.neighbors import KNeighborsRegressor\n",
    "\n",
    "KNreg = KNeighborsRegressor()\n",
    "KNreg.fit(train_set_processed, train_label)\n",
    "\n",
    "KNscores = cv_score(KNreg)\n",
    "show_cv_result(-KNscores)"
   ]
  },
  {
   "cell_type": "markdown",
   "metadata": {},
   "source": [
    "Since random forest and gradient tree boosting both rely on decision trees (non-parametric), there is no need to standardize the input data or correct for skew."
   ]
  },
  {
   "cell_type": "code",
   "execution_count": 551,
   "metadata": {},
   "outputs": [
    {
     "name": "stdout",
     "output_type": "stream",
     "text": [
      "Cross validation mean score is : 7928.398585203252 ± 562.4162081217484\n"
     ]
    }
   ],
   "source": [
    "from sklearn.ensemble import RandomForestRegressor\n",
    "\n",
    "RFRreg = RandomForestRegressor(n_estimators=100, random_state=42)\n",
    "RFRreg.fit(train_set, train_label)\n",
    "\n",
    "RFRscores = cv_score(RFRreg)\n",
    "show_cv_result(-RFRscores)"
   ]
  },
  {
   "cell_type": "code",
   "execution_count": 15,
   "metadata": {},
   "outputs": [
    {
     "name": "stdout",
     "output_type": "stream",
     "text": [
      "Cross validation mean score is : 4802.2026366431965 ± 638.5378810763157\n"
     ]
    }
   ],
   "source": [
    "from sklearn.ensemble import GradientBoostingRegressor\n",
    "\n",
    "GBRreg = GradientBoostingRegressor(loss='huber', random_state=42)\n",
    "GBRreg.fit(train_set, train_label)\n",
    "\n",
    "GBRscores = cv_score(GBRreg)\n",
    "show_cv_result(-GBRscores)"
   ]
  },
  {
   "cell_type": "markdown",
   "metadata": {},
   "source": [
    "With the lowest MAE, the best models to optimize further are stochastic gradient descent regression (SGD), linear support vector regression (SVR), and gradient boosted regression (GBR). A grid search was performed to find the optimal hyperparameters."
   ]
  },
  {
   "cell_type": "code",
   "execution_count": 19,
   "metadata": {},
   "outputs": [
    {
     "data": {
      "text/plain": [
       "4828.452417481478"
      ]
     },
     "execution_count": 19,
     "metadata": {},
     "output_type": "execute_result"
    }
   ],
   "source": [
    "from sklearn.model_selection import GridSearchCV\n",
    "# SGD\n",
    "param_grid = [\n",
    "    {\n",
    "        'penalty': ['none', 'elasticnet'],\n",
    "        'loss': ['huber', 'epsilon_insensitive'],\n",
    "        'alpha': [1, 0.1, 1e-2, 1e-3, 1e-4],\n",
    "        'learning_rate': ['invscaling', 'adaptive']\n",
    "    }\n",
    "]\n",
    "SGDreg = SGDRegressor(max_iter=2000, tol=1e-3, early_stopping=True)\n",
    "\n",
    "sgd_grid = GridSearchCV(SGDreg, param_grid, cv=5, scoring='neg_mean_absolute_error', return_train_score=True, n_jobs=-1)\n",
    "sgd_grid.fit(train_set_processed, train_label)\n",
    "-sgd_grid.best_score_"
   ]
  },
  {
   "cell_type": "code",
   "execution_count": 21,
   "metadata": {},
   "outputs": [
    {
     "data": {
      "text/plain": [
       "4710.173851625326"
      ]
     },
     "execution_count": 21,
     "metadata": {},
     "output_type": "execute_result"
    }
   ],
   "source": [
    "# GBR\n",
    "param_grid = [\n",
    "    {\n",
    "        'max_depth': [3, 9],\n",
    "        'learning_rate': [0.01, 0.1, 1],\n",
    "        'loss' : ['huber', 'lad']\n",
    "    }\n",
    "]\n",
    "\n",
    "GBRreg = GradientBoostingRegressor(random_state=42)\n",
    "\n",
    "GBR_grid = GridSearchCV(GBRreg, param_grid, cv=5, scoring='neg_mean_absolute_error', return_train_score=True, n_jobs=-1)\n",
    "GBR_grid.fit(train_set, train_label)\n",
    "-GBR_grid.best_score_\n"
   ]
  },
  {
   "cell_type": "code",
   "execution_count": 22,
   "metadata": {},
   "outputs": [
    {
     "data": {
      "text/plain": [
       "4814.611082188063"
      ]
     },
     "execution_count": 22,
     "metadata": {},
     "output_type": "execute_result"
    }
   ],
   "source": [
    "# SVR\n",
    "param_grid = [\n",
    "    {\n",
    "        'epsilon': [0, .1, 1, 10, 100],\n",
    "        'C': [1, 10, 100, 1000]\n",
    "    }\n",
    "]\n",
    "\n",
    "SVRreg = LinearSVR(max_iter=10000)\n",
    "\n",
    "SVR_grid = GridSearchCV(SVRreg, param_grid, cv=5, scoring='neg_mean_absolute_error', return_train_score=True, n_jobs=-1)\n",
    "SVR_grid.fit(train_set_processed, train_label)\n",
    "-SVR_grid.best_score_"
   ]
  },
  {
   "cell_type": "markdown",
   "metadata": {},
   "source": [
    "We will take GBR to do one more round of grid search."
   ]
  },
  {
   "cell_type": "code",
   "execution_count": 58,
   "metadata": {},
   "outputs": [
    {
     "data": {
      "text/plain": [
       "GradientBoostingRegressor(alpha=0.9, ccp_alpha=0.0, criterion='friedman_mse',\n",
       "                          init=None, learning_rate=0.1, loss='lad', max_depth=9,\n",
       "                          max_features=None, max_leaf_nodes=None,\n",
       "                          min_impurity_decrease=0.0, min_impurity_split=None,\n",
       "                          min_samples_leaf=1, min_samples_split=2,\n",
       "                          min_weight_fraction_leaf=0.0, n_estimators=100,\n",
       "                          n_iter_no_change=None, presort='deprecated',\n",
       "                          random_state=42, subsample=1.0, tol=0.0001,\n",
       "                          validation_fraction=0.1, verbose=0, warm_start=False)"
      ]
     },
     "execution_count": 58,
     "metadata": {},
     "output_type": "execute_result"
    }
   ],
   "source": [
    "GBR_grid.best_estimator_"
   ]
  },
  {
   "cell_type": "code",
   "execution_count": 66,
   "metadata": {},
   "outputs": [
    {
     "data": {
      "text/plain": [
       "4679.497650960591"
      ]
     },
     "execution_count": 66,
     "metadata": {},
     "output_type": "execute_result"
    }
   ],
   "source": [
    "param_grid = [\n",
    "    {\n",
    "          'max_depth': [9],\n",
    "        'n_estimators': [50],\n",
    "        'loss' : ['lad'],\n",
    "       'learning_rate' : [0.1],\n",
    "        'warm_start' :[True, False],\n",
    "        'min_samples_split' : [10, 20, 100]\n",
    "    }\n",
    "]\n",
    "\n",
    "GBRreg = GradientBoostingRegressor(random_state=42)\n",
    "\n",
    "GBR_grid = GridSearchCV(GBRreg, param_grid, cv=5, scoring='neg_mean_absolute_error', return_train_score=True, n_jobs=-1)\n",
    "GBR_grid.fit(train_set, train_label)\n",
    "-GBR_grid.best_score_"
   ]
  },
  {
   "cell_type": "code",
   "execution_count": 67,
   "metadata": {},
   "outputs": [
    {
     "data": {
      "text/plain": [
       "GradientBoostingRegressor(alpha=0.9, ccp_alpha=0.0, criterion='friedman_mse',\n",
       "                          init=None, learning_rate=0.1, loss='lad', max_depth=9,\n",
       "                          max_features=None, max_leaf_nodes=None,\n",
       "                          min_impurity_decrease=0.0, min_impurity_split=None,\n",
       "                          min_samples_leaf=1, min_samples_split=20,\n",
       "                          min_weight_fraction_leaf=0.0, n_estimators=50,\n",
       "                          n_iter_no_change=None, presort='deprecated',\n",
       "                          random_state=42, subsample=1.0, tol=0.0001,\n",
       "                          validation_fraction=0.1, verbose=0, warm_start=True)"
      ]
     },
     "execution_count": 67,
     "metadata": {},
     "output_type": "execute_result"
    }
   ],
   "source": [
    "GBR_grid.best_estimator_"
   ]
  },
  {
   "cell_type": "markdown",
   "metadata": {},
   "source": [
    "We choose GBR as the model based on the score we received. Running the grid search again did not improve the score as much."
   ]
  },
  {
   "cell_type": "code",
   "execution_count": 82,
   "metadata": {},
   "outputs": [
    {
     "name": "stdout",
     "output_type": "stream",
     "text": [
      "Training set mean absolute error and median absolute error is 4574.398156996493 and 120.01356389912016, respectively\n",
      "Test set mean absolute error and median absolute error is 4900.880365482868 and 149.8916420251503, respectively\n"
     ]
    }
   ],
   "source": [
    "from sklearn.metrics import mean_absolute_error, median_absolute_error\n",
    "\n",
    "train_predict = GBR_grid.best_estimator_.predict(train_set)\n",
    "test_predict = GBR_grid.best_estimator_.predict(test_set)\n",
    "\n",
    "# mean absolute error calculation\n",
    "mae_train = mean_absolute_error(train_label, train_predict)\n",
    "mae_test = mean_absolute_error(test_label, test_predict)\n",
    "# median absolute error calculation\n",
    "medae_train = median_absolute_error(train_label, train_predict)\n",
    "medae_test = median_absolute_error(test_label, test_predict)\n",
    "# print results\n",
    "print(f'Training set mean absolute error and median absolute error is {mae_train} and {medae_train}, respectively')\n",
    "print(f'Test set mean absolute error and median absolute error is {mae_test} and {medae_test}, respectively')"
   ]
  },
  {
   "cell_type": "markdown",
   "metadata": {},
   "source": [
    "Testing error is slightly higher compared to the training error as expected. Since there are many outliers in the dataset with some apps with high number of ratings, mean absolute error is much higher compared to median absolute error. To improve the model, we will remove some of the outliers from the database since we are more interested in predicting how WSS will perform and WSS only has 175 reviews at the point of analysis."
   ]
  },
  {
   "cell_type": "code",
   "execution_count": 70,
   "metadata": {},
   "outputs": [
    {
     "data": {
      "text/plain": [
       "count    2.562600e+04\n",
       "mean     4.973724e+03\n",
       "std      4.917892e+04\n",
       "min      3.650000e+01\n",
       "25%      7.100000e+01\n",
       "50%      1.765000e+02\n",
       "75%      7.285000e+02\n",
       "max      4.500000e+06\n",
       "Name: nrating, dtype: float64"
      ]
     },
     "execution_count": 70,
     "metadata": {},
     "output_type": "execute_result"
    }
   ],
   "source": [
    "apps['nrating'].quantile(.99)"
   ]
  },
  {
   "cell_type": "code",
   "execution_count": 77,
   "metadata": {},
   "outputs": [
    {
     "data": {
      "text/plain": [
       "11600.0"
      ]
     },
     "execution_count": 77,
     "metadata": {},
     "output_type": "execute_result"
    }
   ],
   "source": [
    "apps['nrating'].quantile(.95)"
   ]
  },
  {
   "cell_type": "code",
   "execution_count": 79,
   "metadata": {},
   "outputs": [
    {
     "data": {
      "text/plain": [
       "1279"
      ]
     },
     "execution_count": 79,
     "metadata": {},
     "output_type": "execute_result"
    }
   ],
   "source": [
    "len(apps[apps['nrating']>11600])"
   ]
  },
  {
   "cell_type": "code",
   "execution_count": 81,
   "metadata": {},
   "outputs": [],
   "source": [
    "# removing top 5% of the game\n",
    "apps=apps[apps['nrating']<=11600]"
   ]
  },
  {
   "cell_type": "code",
   "execution_count": 86,
   "metadata": {},
   "outputs": [
    {
     "data": {
      "text/plain": [
       "array([[<matplotlib.axes._subplots.AxesSubplot object at 0x000001C64E235A48>,\n",
       "        <matplotlib.axes._subplots.AxesSubplot object at 0x000001C64E22FB08>,\n",
       "        <matplotlib.axes._subplots.AxesSubplot object at 0x000001C64E242F88>],\n",
       "       [<matplotlib.axes._subplots.AxesSubplot object at 0x000001C64E27C608>,\n",
       "        <matplotlib.axes._subplots.AxesSubplot object at 0x000001C64E2ADC48>,\n",
       "        <matplotlib.axes._subplots.AxesSubplot object at 0x000001C64E2E8588>],\n",
       "       [<matplotlib.axes._subplots.AxesSubplot object at 0x000001C64D396EC8>,\n",
       "        <matplotlib.axes._subplots.AxesSubplot object at 0x000001C64CD6ECC8>,\n",
       "        <matplotlib.axes._subplots.AxesSubplot object at 0x000001C646A00A08>],\n",
       "       [<matplotlib.axes._subplots.AxesSubplot object at 0x000001C64C24F8C8>,\n",
       "        <matplotlib.axes._subplots.AxesSubplot object at 0x000001C64D414508>,\n",
       "        <matplotlib.axes._subplots.AxesSubplot object at 0x000001C64C1E0508>]],\n",
       "      dtype=object)"
      ]
     },
     "execution_count": 86,
     "metadata": {},
     "output_type": "execute_result"
    },
    {
     "data": {
      "image/png": "[encoded data removed]",
      "text/plain": [
       "<Figure size 648x648 with 12 Axes>"
      ]
     },
     "metadata": {
      "needs_background": "light"
     },
     "output_type": "display_data"
    }
   ],
   "source": [
    "# Rerunning all the analyses until the model...\n",
    "\n",
    "# Divide them into given bins to ensure that the number of ratings distribution represents the train and test sets\n",
    "bins = [36, 100, 1000, 10000, 100000, np.inf]\n",
    "labels=[1, 2, 3, 4, 5]\n",
    "# create a new column containing the ratings bin the game is associated with\n",
    "apps['nrating_cut'] = pd.cut(apps['nrating'], bins=bins, labels=labels)\n",
    "\n",
    "# split data into training (80%) and testing (20%) sets\n",
    "split = StratifiedShuffleSplit(n_splits=1, test_size=0.2, random_state=42)\n",
    "for train_ind, test_ind in split.split(apps, apps['nrating_cut']):\n",
    "    train_set, test_set = apps.iloc[train_ind], apps.iloc[test_ind]\n",
    "\n",
    "test_label = test_set['nrating'].copy()\n",
    "test_identity = test_set[['title','author', 'desc']].copy()\n",
    "test_set = test_set.drop(columns=['nrating_cut','nrating','title','author','desc','processed_stem', 'list_rank'])\n",
    "\n",
    "train_label = train_set['nrating'].copy()\n",
    "train_identity = train_set[['title','author', 'desc']].copy()\n",
    "train_set_binned = train_set['nrating_cut'].copy() # label identifying the ratings bin the game occupies\n",
    "train_set = train_set.drop(columns=['nrating_cut','nrating','title','author','desc','processed_stem','list_rank']) \n",
    "# get index of numeric features (as opposed to categorical features) that will need to be preprocesse\n",
    "train_set['desc_len']=train_set['desc_len'].astype(float)\n",
    "numeric_feat = train_set.dtypes[train_set.dtypes == 'float64'].index\n",
    "\n",
    "num_pipeline = Pipeline([\n",
    "    ('trans_skew', SkewCorrector(skew_bound=0.2)),\n",
    "    ('std_scaler', StandardScaler())\n",
    "])\n",
    "numeric_feat = train_set.dtypes[train_set.dtypes == 'float64'].index\n",
    "cat_feat = train_set.dtypes[train_set.dtypes != 'float64'].index\n",
    "\n",
    "full_pipeline = ColumnTransformer([\n",
    "    ('num', num_pipeline, numeric_feat)\n",
    "])\n",
    "\n",
    "train_set_processed = train_set.copy()\n",
    "train_set_processed[numeric_feat] = full_pipeline.fit_transform(train_set[numeric_feat])\n",
    "train_set_processed[numeric_feat].hist(bins=10, figsize=(9,9))"
   ]
  },
  {
   "cell_type": "code",
   "execution_count": 87,
   "metadata": {},
   "outputs": [
    {
     "name": "stdout",
     "output_type": "stream",
     "text": [
      "Cross validation mean score is : 654.5301214170929 ± 16.33174362246879\n"
     ]
    }
   ],
   "source": [
    "# We will run the top 3 models again here for choosing the model\n",
    "SVRreg = LinearSVR()\n",
    "SVRreg.fit(train_set_processed, train_label)\n",
    "\n",
    "SVRscores = cv_score(SVRreg)\n",
    "show_cv_result(-SVRscores)"
   ]
  },
  {
   "cell_type": "code",
   "execution_count": 88,
   "metadata": {},
   "outputs": [
    {
     "name": "stdout",
     "output_type": "stream",
     "text": [
      "Cross validation mean score is : 664.2086874935368 ± 16.58444717375029\n"
     ]
    }
   ],
   "source": [
    "SGDreg = SGDRegressor(loss='huber',max_iter=5000, tol=1e-3)\n",
    "SGDreg.fit(train_set_processed, train_label)\n",
    "\n",
    "SGDscores = cv_score(SGDreg)\n",
    "show_cv_result(-SGDscores)"
   ]
  },
  {
   "cell_type": "code",
   "execution_count": 89,
   "metadata": {},
   "outputs": [
    {
     "name": "stdout",
     "output_type": "stream",
     "text": [
      "Cross validation mean score is : 653.0811111425517 ± 12.582171705959524\n"
     ]
    }
   ],
   "source": [
    "GBRreg = GradientBoostingRegressor(loss='huber', random_state=42)\n",
    "GBRreg.fit(train_set, train_label)\n",
    "\n",
    "GBRscores = cv_score(GBRreg)\n",
    "show_cv_result(-GBRscores)"
   ]
  },
  {
   "cell_type": "markdown",
   "metadata": {},
   "source": [
    "The model performs considerably better than the previous model. We will use SVR and GBR to do a grid search."
   ]
  },
  {
   "cell_type": "code",
   "execution_count": 90,
   "metadata": {},
   "outputs": [
    {
     "data": {
      "text/plain": [
       "652.2262197206785"
      ]
     },
     "execution_count": 90,
     "metadata": {},
     "output_type": "execute_result"
    }
   ],
   "source": [
    "param_grid = [\n",
    "    {\n",
    "        'epsilon': [0, .1, 1, 10, 100],\n",
    "        'C': [1, 10, 100, 1000]\n",
    "    }\n",
    "]\n",
    "\n",
    "SVRreg = LinearSVR(max_iter=10000)\n",
    "\n",
    "SVR_grid = GridSearchCV(SVRreg, param_grid, cv=5, scoring='neg_mean_absolute_error', return_train_score=True, n_jobs=-1)\n",
    "SVR_grid.fit(train_set_processed, train_label)\n",
    "-SVR_grid.best_score_"
   ]
  },
  {
   "cell_type": "code",
   "execution_count": 91,
   "metadata": {},
   "outputs": [
    {
     "data": {
      "text/plain": [
       "LinearSVR(C=100, dual=True, epsilon=10, fit_intercept=True,\n",
       "          intercept_scaling=1.0, loss='epsilon_insensitive', max_iter=10000,\n",
       "          random_state=None, tol=0.0001, verbose=0)"
      ]
     },
     "execution_count": 91,
     "metadata": {},
     "output_type": "execute_result"
    }
   ],
   "source": [
    "SVR_grid.best_estimator_"
   ]
  },
  {
   "cell_type": "code",
   "execution_count": 92,
   "metadata": {},
   "outputs": [
    {
     "data": {
      "text/plain": [
       "603.2427000511611"
      ]
     },
     "execution_count": 92,
     "metadata": {},
     "output_type": "execute_result"
    }
   ],
   "source": [
    "param_grid = [\n",
    "    {\n",
    "          'max_depth': [9],\n",
    "        'n_estimators': [50, 100],\n",
    "        'loss' : ['lad'],\n",
    "       'learning_rate' : [0.1],\n",
    "        'warm_start' :[True],\n",
    "        'min_samples_split' : [10, 20, 50]\n",
    "    }\n",
    "]\n",
    "\n",
    "GBRreg = GradientBoostingRegressor(random_state=42)\n",
    "\n",
    "GBR_grid = GridSearchCV(GBRreg, param_grid, cv=5, scoring='neg_mean_absolute_error', return_train_score=True, n_jobs=-1)\n",
    "GBR_grid.fit(train_set, train_label)\n",
    "-GBR_grid.best_score_"
   ]
  },
  {
   "cell_type": "code",
   "execution_count": 93,
   "metadata": {},
   "outputs": [
    {
     "data": {
      "text/plain": [
       "GradientBoostingRegressor(alpha=0.9, ccp_alpha=0.0, criterion='friedman_mse',\n",
       "                          init=None, learning_rate=0.1, loss='lad', max_depth=9,\n",
       "                          max_features=None, max_leaf_nodes=None,\n",
       "                          min_impurity_decrease=0.0, min_impurity_split=None,\n",
       "                          min_samples_leaf=1, min_samples_split=50,\n",
       "                          min_weight_fraction_leaf=0.0, n_estimators=100,\n",
       "                          n_iter_no_change=None, presort='deprecated',\n",
       "                          random_state=42, subsample=1.0, tol=0.0001,\n",
       "                          validation_fraction=0.1, verbose=0, warm_start=True)"
      ]
     },
     "execution_count": 93,
     "metadata": {},
     "output_type": "execute_result"
    }
   ],
   "source": [
    "GBR_grid.best_estimator_"
   ]
  },
  {
   "cell_type": "code",
   "execution_count": 94,
   "metadata": {},
   "outputs": [
    {
     "name": "stdout",
     "output_type": "stream",
     "text": [
      "Training set mean absolute error and median absolute error is 570.8695796691522 and 94.58134870319958, respectively\n",
      "Test set mean absolute error and median absolute error is 608.844839683292 and 120.93932569004346, respectively\n"
     ]
    }
   ],
   "source": [
    "train_predict = GBR_grid.best_estimator_.predict(train_set)\n",
    "test_predict = GBR_grid.best_estimator_.predict(test_set)\n",
    "\n",
    "# mean absolute error calculation\n",
    "mae_train = mean_absolute_error(train_label, train_predict)\n",
    "mae_test = mean_absolute_error(test_label, test_predict)\n",
    "# median absolute error calculation\n",
    "medae_train = median_absolute_error(train_label, train_predict)\n",
    "medae_test = median_absolute_error(test_label, test_predict)\n",
    "# print results\n",
    "print(f'Training set mean absolute error and median absolute error is {mae_train} and {medae_train}, respectively')\n",
    "print(f'Test set mean absolute error and median absolute error is {mae_test} and {medae_test}, respectively')"
   ]
  },
  {
   "cell_type": "markdown",
   "metadata": {},
   "source": [
    "The model is much better, and now we will look at what features are important in predicting the number of rating."
   ]
  },
  {
   "cell_type": "markdown",
   "metadata": {},
   "source": [
    "# Interpreting the Model\n",
    "## Feature Importance\n",
    "\n",
    "As mentioned in the previous project, we used permutation importances, which are based on the test set and are not biased towards high cardinality features (https://scikit-learn.org/stable/auto_examples/inspection/plot_permutation_importance.html).\n",
    "\n",
    "Here, the features are plotted in order of importance."
   ]
  },
  {
   "cell_type": "code",
   "execution_count": 100,
   "metadata": {},
   "outputs": [
    {
     "data": {
      "text/plain": [
       "Text(0.5, 1.0, 'Permutation Importances (based on test set)')"
      ]
     },
     "execution_count": 100,
     "metadata": {},
     "output_type": "execute_result"
    },
    {
     "data": {
      "image/png": "[encoded data removed]",
      "text/plain": [
       "<Figure size 1152x1152 with 1 Axes>"
      ]
     },
     "metadata": {
      "needs_background": "light"
     },
     "output_type": "display_data"
    }
   ],
   "source": [
    "from sklearn.inspection import permutation_importance\n",
    "\n",
    "result = permutation_importance(GBR_grid.best_estimator_, test_set, test_label, n_repeats=10,\n",
    "                                random_state=42)\n",
    "\n",
    "# sort to plot in order of importance\n",
    "sorted_idx = result.importances_mean.argsort()\n",
    "\n",
    "fig, ax = plt.subplots(figsize=(16,16))\n",
    "\n",
    "ax.boxplot(result.importances[sorted_idx].T,\n",
    "           vert=False, labels=test_set.columns[sorted_idx])\n",
    "\n",
    "ax.set_title(\"Permutation Importances (based on test set)\")"
   ]
  },
  {
   "cell_type": "markdown",
   "metadata": {},
   "source": [
    "Based on the results above, we can suggest that:\n",
    "\n",
    "- Previous project has discussed that he Chinese market is not particularly influential, but we recently learned that each country has a separate app store. The fact that simplified Chinese feature is ranked the lowest informs that users in the US do not consider this feature important since most US users will likely download games in English. Thus, we have to keep in mind that this represents the US iOS App store information. \n",
    "\n",
    "- Still, this model agrees with the previous work that that adding additional languages, specific genre, age ratings, and app supplementary features (eg, game controller) are not important in predicting the number of rating.\n",
    "\n",
    "- Surprisingly, the three new features that we added, description score, description length, and subscription are not as important as we expected; however, modifying the description still can influence the number of ratings or even downloads by increasing a search appearance within the App store. It may be worth it to monitor the number of ratings after changing the description of WSS to see if there are benefits that are not measured by the model.\n",
    "\n",
    "- Both star 2 and 3 ratings are considered to be the most important features for the model. When thinking from a user's point of view, users who give 2 or 3 stars tend to write detailed explanation for the rating, whereas users who give 5 and 1 ratings tend to be brief. You might consider users who give 2 or 3 starts tend to be more serious with mobile gaming and giving feedback, and these users are more likely to leave ratings than other casual players. With the increase in game populatrity, it is likely that more serious users download and leave reviews.\n",
    "\n",
    "- Compared to the previous project, price was ranked much lower in importance. We are particularly interested in price because WSS requires you to buy the game upfront and does not offer any additional in-app purchases. Even though the price was ranked much lower, it is hard to imagine that this does not influence the number of ratings, considering that the many top games are free. This can be due to a small number of games that require to buy the game upfront, and thus we may not have enough training set to properly train the model and make the conclusion. Yet, the higher ranking of in-app purchase and subscription than price may suggest that this is a general trend that mobile games are heading toward. Future mobile games should consider in-app purchases and subscription as a business model instead of charging games upfront. Game Reverant is currently working on changing the business model based on the previous recommendation.\n",
    "\n",
    "The most 15 important features are:\n",
    "- Star 2\n",
    "- Star 3\n",
    "- Score\n",
    "- Star 1\n",
    "- Size\n",
    "- Star 4\n",
    "- Compatibility\n",
    "- Star 5\n",
    "- Availability of in-app purchase\n",
    "- Editor's choice \n",
    "- Length of description\n",
    "- Score by description\n",
    "- Language count\n",
    "- Subscription\n",
    "- Korean language\n",
    "- Price \n",
    "\n",
    "To better illustrate the influence of each feature, the WSS and four similiar game titles are examined. These games are similar to WSS in genre, style, and tone. All of these titles are \"premium\" games (ie, not free to play)."
   ]
  },
  {
   "cell_type": "code",
   "execution_count": 118,
   "metadata": {},
   "outputs": [
    {
     "data": {
      "text/html": [
       "<div>\n",
       "<style scoped>\n",
       "    .dataframe tbody tr th:only-of-type {\n",
       "        vertical-align: middle;\n",
       "    }\n",
       "\n",
       "    .dataframe tbody tr th {\n",
       "        vertical-align: top;\n",
       "    }\n",
       "\n",
       "    .dataframe thead th {\n",
       "        text-align: right;\n",
       "    }\n",
       "</style>\n",
       "<table border=\"1\" class=\"dataframe\">\n",
       "  <thead>\n",
       "    <tr style=\"text-align: right;\">\n",
       "      <th></th>\n",
       "      <th>title</th>\n",
       "      <th>nrating</th>\n",
       "      <th>predicted_nrating</th>\n",
       "    </tr>\n",
       "  </thead>\n",
       "  <tbody>\n",
       "    <tr>\n",
       "      <td>12391</td>\n",
       "      <td>Journey</td>\n",
       "      <td>61.0</td>\n",
       "      <td>190.712330</td>\n",
       "    </tr>\n",
       "    <tr>\n",
       "      <td>13016</td>\n",
       "      <td>LIMBO</td>\n",
       "      <td>2100.0</td>\n",
       "      <td>1267.335462</td>\n",
       "    </tr>\n",
       "    <tr>\n",
       "      <td>14987</td>\n",
       "      <td>Monument Valley</td>\n",
       "      <td>3300.0</td>\n",
       "      <td>1094.464699</td>\n",
       "    </tr>\n",
       "    <tr>\n",
       "      <td>18965</td>\n",
       "      <td>Rusty Lake Paradise</td>\n",
       "      <td>1100.0</td>\n",
       "      <td>487.813328</td>\n",
       "    </tr>\n",
       "    <tr>\n",
       "      <td>24332</td>\n",
       "      <td>Where Shadows Slumber</td>\n",
       "      <td>175.0</td>\n",
       "      <td>155.992049</td>\n",
       "    </tr>\n",
       "  </tbody>\n",
       "</table>\n",
       "</div>"
      ],
      "text/plain": [
       "                       title  nrating  predicted_nrating\n",
       "12391                Journey     61.0         190.712330\n",
       "13016                  LIMBO   2100.0        1267.335462\n",
       "14987        Monument Valley   3300.0        1094.464699\n",
       "18965    Rusty Lake Paradise   1100.0         487.813328\n",
       "24332  Where Shadows Slumber    175.0         155.992049"
      ]
     },
     "execution_count": 118,
     "metadata": {},
     "output_type": "execute_result"
    }
   ],
   "source": [
    "examples = ['Where Shadows Slumber', 'Monument Valley',\n",
    "            'LIMBO', 'Journey', 'Rusty Lake Paradise']\n",
    "\n",
    "ex = apps[apps['title'].isin(examples)].copy()\n",
    "\n",
    "ex_summary = ex[['title','nrating']].copy()\n",
    "ex_feat = ex.drop(columns=['nrating','title','author','desc','processed_stem', 'nrating_cut', 'list_rank','processed_stem'])\n",
    "ex_summary['predicted_nrating'] = GBR_grid.best_estimator_.predict(ex_feat)\n",
    "\n",
    "ex_summary"
   ]
  },
  {
   "cell_type": "code",
   "execution_count": 109,
   "metadata": {},
   "outputs": [
    {
     "data": {
      "text/html": [
       "<div>\n",
       "<style scoped>\n",
       "    .dataframe tbody tr th:only-of-type {\n",
       "        vertical-align: middle;\n",
       "    }\n",
       "\n",
       "    .dataframe tbody tr th {\n",
       "        vertical-align: top;\n",
       "    }\n",
       "\n",
       "    .dataframe thead th {\n",
       "        text-align: right;\n",
       "    }\n",
       "</style>\n",
       "<table border=\"1\" class=\"dataframe\">\n",
       "  <thead>\n",
       "    <tr style=\"text-align: right;\">\n",
       "      <th></th>\n",
       "      <th>title</th>\n",
       "      <th>nrating</th>\n",
       "      <th>predicted_nrating</th>\n",
       "    </tr>\n",
       "  </thead>\n",
       "  <tbody>\n",
       "    <tr>\n",
       "      <td>23648</td>\n",
       "      <td>Underworld Football Manager 19</td>\n",
       "      <td>242.5</td>\n",
       "      <td>458.887562</td>\n",
       "    </tr>\n",
       "    <tr>\n",
       "      <td>5528</td>\n",
       "      <td>Cover Orange 2 (Ad Supported)</td>\n",
       "      <td>3900.0</td>\n",
       "      <td>1059.226757</td>\n",
       "    </tr>\n",
       "    <tr>\n",
       "      <td>13144</td>\n",
       "      <td>League of Light: The Gatherer - Hidden Objects</td>\n",
       "      <td>306.0</td>\n",
       "      <td>530.411401</td>\n",
       "    </tr>\n",
       "    <tr>\n",
       "      <td>17228</td>\n",
       "      <td>Poker Game: World Poker Club</td>\n",
       "      <td>459.0</td>\n",
       "      <td>615.984162</td>\n",
       "    </tr>\n",
       "    <tr>\n",
       "      <td>21991</td>\n",
       "      <td>Sweet and Delicious World - Blast Juicy Candies</td>\n",
       "      <td>119.0</td>\n",
       "      <td>320.821240</td>\n",
       "    </tr>\n",
       "    <tr>\n",
       "      <td>2561</td>\n",
       "      <td>Bingo Number Generator</td>\n",
       "      <td>37.0</td>\n",
       "      <td>177.747053</td>\n",
       "    </tr>\n",
       "    <tr>\n",
       "      <td>20200</td>\n",
       "      <td>Snake Scream - Hungry Color Wormate</td>\n",
       "      <td>1700.0</td>\n",
       "      <td>368.081944</td>\n",
       "    </tr>\n",
       "    <tr>\n",
       "      <td>18002</td>\n",
       "      <td>RPG Elemental Knights R</td>\n",
       "      <td>52.0</td>\n",
       "      <td>248.410495</td>\n",
       "    </tr>\n",
       "    <tr>\n",
       "      <td>1785</td>\n",
       "      <td>Baby Learn Painting &amp; Craft Make &amp; Shopping - ...</td>\n",
       "      <td>225.0</td>\n",
       "      <td>83.396617</td>\n",
       "    </tr>\n",
       "    <tr>\n",
       "      <td>6211</td>\n",
       "      <td>Dart Score LITE</td>\n",
       "      <td>288.0</td>\n",
       "      <td>513.442478</td>\n",
       "    </tr>\n",
       "    <tr>\n",
       "      <td>12267</td>\n",
       "      <td>Jewel Legends Magical Kingdom HD - A Match 3 P...</td>\n",
       "      <td>37.0</td>\n",
       "      <td>36.655624</td>\n",
       "    </tr>\n",
       "    <tr>\n",
       "      <td>8796</td>\n",
       "      <td>Fish Farm</td>\n",
       "      <td>220.0</td>\n",
       "      <td>236.351834</td>\n",
       "    </tr>\n",
       "    <tr>\n",
       "      <td>1792</td>\n",
       "      <td>Baby Nail Doctor- Girls &amp; Fun Kids Games</td>\n",
       "      <td>329.0</td>\n",
       "      <td>247.205918</td>\n",
       "    </tr>\n",
       "    <tr>\n",
       "      <td>16540</td>\n",
       "      <td>PathPix Alice</td>\n",
       "      <td>51.5</td>\n",
       "      <td>50.045978</td>\n",
       "    </tr>\n",
       "    <tr>\n",
       "      <td>14564</td>\n",
       "      <td>Miami Vice Town</td>\n",
       "      <td>39.0</td>\n",
       "      <td>149.956339</td>\n",
       "    </tr>\n",
       "  </tbody>\n",
       "</table>\n",
       "</div>"
      ],
      "text/plain": [
       "                                                   title  nrating  \\\n",
       "23648                     Underworld Football Manager 19    242.5   \n",
       "5528                       Cover Orange 2 (Ad Supported)   3900.0   \n",
       "13144     League of Light: The Gatherer - Hidden Objects    306.0   \n",
       "17228                       Poker Game: World Poker Club    459.0   \n",
       "21991    Sweet and Delicious World - Blast Juicy Candies    119.0   \n",
       "2561                              Bingo Number Generator     37.0   \n",
       "20200                Snake Scream - Hungry Color Wormate   1700.0   \n",
       "18002                            RPG Elemental Knights R     52.0   \n",
       "1785   Baby Learn Painting & Craft Make & Shopping - ...    225.0   \n",
       "6211                                     Dart Score LITE    288.0   \n",
       "12267  Jewel Legends Magical Kingdom HD - A Match 3 P...     37.0   \n",
       "8796                                           Fish Farm    220.0   \n",
       "1792            Baby Nail Doctor- Girls & Fun Kids Games    329.0   \n",
       "16540                                      PathPix Alice     51.5   \n",
       "14564                                    Miami Vice Town     39.0   \n",
       "\n",
       "       predicted_nrating  \n",
       "23648         458.887562  \n",
       "5528         1059.226757  \n",
       "13144         530.411401  \n",
       "17228         615.984162  \n",
       "21991         320.821240  \n",
       "2561          177.747053  \n",
       "20200         368.081944  \n",
       "18002         248.410495  \n",
       "1785           83.396617  \n",
       "6211          513.442478  \n",
       "12267          36.655624  \n",
       "8796          236.351834  \n",
       "1792          247.205918  \n",
       "16540          50.045978  \n",
       "14564         149.956339  "
      ]
     },
     "execution_count": 109,
     "metadata": {},
     "output_type": "execute_result"
    }
   ],
   "source": [
    "# We can also look at 15 random games\n",
    "ex = apps.sample(n = 15)\n",
    "\n",
    "ex_summary = ex[['title','nrating']].copy()\n",
    "ex_feat = ex.drop(columns=['nrating','title','author','desc','processed_stem', 'nrating_cut','list_rank','processed_stem'])\n",
    "ex_summary['predicted_nrating'] = GBR_grid.best_estimator_.predict(ex_feat)\n",
    "\n",
    "ex_summary"
   ]
  },
  {
   "cell_type": "markdown",
   "metadata": {},
   "source": [
    "The model behaves decently well in predicting the number of ratings, even though it is not perfect. "
   ]
  },
  {
   "cell_type": "markdown",
   "metadata": {},
   "source": [
    "## Important Numerical Features\n",
    "\n",
    "We will now select the top fifteen features + price to investigate how changes to each parameter may influence the number of ratings. The numerical features that we will use are:\n",
    "- Star 2\n",
    "- Star 3\n",
    "- Score\n",
    "- Star 1\n",
    "- Size\n",
    "- Star 4\n",
    "- Compatibility\n",
    "- Star 5\n",
    "- Length of description\n",
    "- Score by description\n",
    "- Language count\n",
    "- Price \n",
    "\n",
    "Here, only feature values that lie between the 15th and 85th percentile in frequency of occurence will be tested. Feature values that do not occur often are not tested. Note that analysis of price will require a larger range of values to be considered (1-99th percentile), since free games greatly outnumber premium ones."
   ]
  },
  {
   "cell_type": "code",
   "execution_count": 115,
   "metadata": {},
   "outputs": [
    {
     "name": "stdout",
     "output_type": "stream",
     "text": [
      "<class 'pandas.core.frame.DataFrame'>\n",
      "Int64Index: 24347 entries, 0 to 25625\n",
      "Data columns (total 62 columns):\n",
      "title                       24347 non-null object\n",
      "author                      24347 non-null object\n",
      "desc                        24347 non-null object\n",
      "desc_score                  24347 non-null float64\n",
      "compat                      24347 non-null float64\n",
      "editor                      24347 non-null int64\n",
      "iap                         24347 non-null int64\n",
      "list_rank                   24347 non-null int64\n",
      "nrating                     24347 non-null float64\n",
      "price                       24347 non-null float64\n",
      "score                       24347 non-null float64\n",
      "size                        24347 non-null float64\n",
      "age_12                      24347 non-null int64\n",
      "age_17                      24347 non-null int64\n",
      "age_4                       24347 non-null int64\n",
      "age_9                       24347 non-null int64\n",
      "gen_action                  24347 non-null int64\n",
      "gen_adventure               24347 non-null int64\n",
      "gen_board                   24347 non-null int64\n",
      "gen_card                    24347 non-null int64\n",
      "gen_casino                  24347 non-null int64\n",
      "gen_casual                  24347 non-null int64\n",
      "gen_family                  24347 non-null int64\n",
      "gen_music                   24347 non-null int64\n",
      "gen_puzzle                  24347 non-null int64\n",
      "gen_racing                  24347 non-null int64\n",
      "gen_rpg                     24347 non-null int64\n",
      "gen_simulation              24347 non-null int64\n",
      "gen_sports                  24347 non-null int64\n",
      "gen_strategy                24347 non-null int64\n",
      "gen_trivia                  24347 non-null int64\n",
      "gen_word                    24347 non-null int64\n",
      "lang_cnt                    24347 non-null int64\n",
      "lang_dutch                  24347 non-null int64\n",
      "lang_english                24347 non-null int64\n",
      "lang_french                 24347 non-null int64\n",
      "lang_german                 24347 non-null int64\n",
      "lang_italian                24347 non-null int64\n",
      "lang_japanese               24347 non-null int64\n",
      "lang_korean                 24347 non-null int64\n",
      "lang_polish                 24347 non-null int64\n",
      "lang_portuguese             24347 non-null int64\n",
      "lang_russian                24347 non-null int64\n",
      "lang_simplified_chinese     24347 non-null int64\n",
      "lang_spanish                24347 non-null int64\n",
      "lang_swedish                24347 non-null int64\n",
      "lang_traditional_chinese    24347 non-null int64\n",
      "lang_turkish                24347 non-null int64\n",
      "star5                       24347 non-null float64\n",
      "star4                       24347 non-null float64\n",
      "star3                       24347 non-null float64\n",
      "star2                       24347 non-null float64\n",
      "star1                       24347 non-null float64\n",
      "sup_family_sharing          24347 non-null int64\n",
      "sup_game_center             24347 non-null int64\n",
      "sup_game_controllers        24347 non-null int64\n",
      "sup_siri                    24347 non-null int64\n",
      "sup_wallet                  24347 non-null int64\n",
      "processed_stem              24347 non-null object\n",
      "desc_len                    24347 non-null int64\n",
      "subscription                24347 non-null int64\n",
      "nrating_cut                 24347 non-null category\n",
      "dtypes: category(1), float64(11), int64(46), object(4)\n",
      "memory usage: 11.5+ MB\n"
     ]
    }
   ],
   "source": [
    "apps.info()"
   ]
  },
  {
   "cell_type": "code",
   "execution_count": 134,
   "metadata": {},
   "outputs": [
    {
     "data": {
      "text/plain": [
       "0.7542410516031618"
      ]
     },
     "execution_count": 134,
     "metadata": {},
     "output_type": "execute_result"
    }
   ],
   "source": [
    "apps['desc_score'].quantile(0.85)"
   ]
  },
  {
   "cell_type": "code",
   "execution_count": 166,
   "metadata": {},
   "outputs": [
    {
     "data": {
      "text/plain": [
       "<matplotlib.legend.Legend at 0x1c6621fca88>"
      ]
     },
     "execution_count": 166,
     "metadata": {},
     "output_type": "execute_result"
    },
    {
     "data": {
      "image/png": "[encoded data removed]",
      "text/plain": [
       "<Figure size 1008x1080 with 12 Axes>"
      ]
     },
     "metadata": {
      "needs_background": "light"
     },
     "output_type": "display_data"
    }
   ],
   "source": [
    "fig, axs = plt.subplots(3,4, figsize=(14, 15))\n",
    "axs = axs.flatten()\n",
    "\n",
    "import warnings\n",
    "warnings.simplefilter(action='ignore', category=FutureWarning)\n",
    "\n",
    "# numerical features to test\n",
    "star_feats = ['star2', 'star3', 'score', 'star1', 'size', 'star4','compat',\n",
    "              'star5', 'desc_len','desc_score','lang_cnt','price']\n",
    "\n",
    "# features of float type (rest are integers)\n",
    "float_feats = ['size',\n",
    "               'score',\n",
    "               'compat',\n",
    "               'desc_score',\n",
    "               'price']\n",
    "\n",
    "# xlabels to add based on feature being plotted\n",
    "feats_xlabel = ['% of 2-star reviews', '% of 3-star reviews','mean review score', '% of 1-star reviews',\n",
    "                'megabytes', '% of 4-star reviews', 'minimum compatible iOS version', '% of 5-star reviews',\n",
    "                'length of the description', 'score by description','# languages available','game price ($)'\n",
    "               ]\n",
    "non_trainable_feat = ['nrating','title','author','nrating_cut','list_rank','processed_stem','desc']\n",
    "\n",
    "# loop through each feature and produce a subplot\n",
    "for feat_ind, feat in enumerate(star_feats):\n",
    "    \n",
    "    # isolate predictor variables to input in model\n",
    "    ex_feat = ex.drop(columns=non_trainable_feat)\n",
    "    \n",
    "    # if feature is float type, test a range of values that lie in between the 15th and 85th percentiles \n",
    "    # (in terms of frequency of occurance)\n",
    "    if feat in float_feats: \n",
    "        low_bnd = apps[[feat]].quantile(q=0.15, axis=0).item()\n",
    "        up_bnd = apps[[feat]].quantile(q=0.85, axis=0).item()\n",
    "        \n",
    "        # price is heavily skewed; if we consider only titles that lie in the 15-85th percentile range, they would all have a price of $0.00\n",
    "        # consequently, we will consider all but the most extreme outliers in price\n",
    "        if feat == 'price':\n",
    "            low_bnd = apps[[feat]].quantile(q=0.01, axis=0).item()\n",
    "            up_bnd = apps[[feat]].quantile(q=0.99, axis=0).item()\n",
    "        \n",
    "        # for float types, we plot equispaced points between the percentile range described above\n",
    "        x_rng = np.linspace(low_bnd, up_bnd, num=10)\n",
    "    \n",
    "    # if feature is integer type, likewise test values between the 15th and 85th percentile\n",
    "    # difference from float is that we test all integer values within the prescribed range\n",
    "    else:\n",
    "        low_bnd = apps[[feat]].quantile(q=0.15, axis=0).item()\n",
    "        up_bnd = apps[[feat]].quantile(q=0.85, axis=0).item()\n",
    "        x_rng = list(range(int(low_bnd), int(up_bnd)))\n",
    "\n",
    "    # preallocate variable that will contain predicted number of ratings \n",
    "    predictions = np.zeros((len(x_rng), len(ex_feat)))\n",
    "\n",
    "    # calculate predictions for example games\n",
    "    for ind, val in enumerate(x_rng):\n",
    "        ex_feat[feat] = val\n",
    "        predictions[ind,:] = GBR_grid.best_estimator_.predict(ex_feat)\n",
    "    \n",
    "    # plotting code\n",
    "    fig.tight_layout()\n",
    "    axs[feat_ind].plot(x_rng, predictions, linestyle='--', marker='o')\n",
    "    axs[feat_ind].set_title(feat)\n",
    "    axs[feat_ind].set_ylabel('predicted ratings count')\n",
    "    axs[feat_ind].set_xlabel(feats_xlabel[feat_ind])\n",
    "    \n",
    "fig.legend(ex_summary['title'].tolist(), \n",
    "           loc='upper center', \n",
    "           ncol=3,\n",
    "           bbox_to_anchor=(0.5, 1.03))"
   ]
  },
  {
   "cell_type": "markdown",
   "metadata": {},
   "source": [
    "## Important Categorical Features\n",
    "\n",
    "Now, we can look at key categorical features that was identified above. The categorical features are editor's choice, Korean language, in-app purchases, and subscription. "
   ]
  },
  {
   "cell_type": "code",
   "execution_count": 168,
   "metadata": {},
   "outputs": [
    {
     "data": {
      "image/png": "[encoded data removed]",
      "text/plain": [
       "<Figure size 350.125x288 with 1 Axes>"
      ]
     },
     "metadata": {
      "needs_background": "light"
     },
     "output_type": "display_data"
    },
    {
     "data": {
      "image/png": "[encoded data removed]",
      "text/plain": [
       "<Figure size 357.25x288 with 1 Axes>"
      ]
     },
     "metadata": {
      "needs_background": "light"
     },
     "output_type": "display_data"
    },
    {
     "data": {
      "image/png": "[encoded data removed]",
      "text/plain": [
       "<Figure size 350.125x288 with 1 Axes>"
      ]
     },
     "metadata": {
      "needs_background": "light"
     },
     "output_type": "display_data"
    },
    {
     "data": {
      "image/png": "[encoded data removed]",
      "text/plain": [
       "<Figure size 357x288 with 1 Axes>"
      ]
     },
     "metadata": {
      "needs_background": "light"
     },
     "output_type": "display_data"
    }
   ],
   "source": [
    "import seaborn as sns\n",
    "\n",
    "# isolate predictor variables to input in model\n",
    "bar_data = ex.drop(columns=non_trainable_feat)\n",
    "\n",
    "# categorical features to test\n",
    "cat_feat = ['editor', 'lang_korean', 'iap','subscription']\n",
    "\n",
    "# titles for subplots\n",
    "bar_title = ['Editor\\'s choice', 'Korean language', 'In-App Purchases','Subscription']\n",
    "\n",
    "# loop through each feature and generate a subplot\n",
    "for feat, title in zip(cat_feat, bar_title):\n",
    "    \n",
    "    # preallocate DataFrame containing predictions\n",
    "    bar_data_pred = pd.DataFrame()\n",
    "    \n",
    "    # set tested feature to false for all example games\n",
    "    bar_data_false = bar_data.copy()\n",
    "    bar_data_false[feat] = False\n",
    "    \n",
    "    # set tested feature to true for all example games\n",
    "    bar_data_true = bar_data.copy()\n",
    "    bar_data_true[feat] = True\n",
    "    \n",
    "    # combine 'false' and 'true' versions\n",
    "    bar_data_pred = bar_data_true.append(bar_data_false)\n",
    "    \n",
    "    # almost all games with in-app purchases are free\n",
    "    # for this specific feature we also change the price to 0.00\n",
    "    if feat == 'iap':\n",
    "        bar_data_pred['price'] = 0.00\n",
    "\n",
    "    # calculate predictions for example games\n",
    "    bar_data_pred['predicted_nratings'] = GBR_grid.best_estimator_.predict(bar_data_pred)\n",
    "    \n",
    "    # add game titles to DataFrame (in proper order)\n",
    "    # note that the list of titles has to be repeated\n",
    "    # one set for feature set to True, another for the feature set to False\n",
    "    bar_data_pred['games'] = 2 * ex_summary['title'].tolist()\n",
    "\n",
    "    # plotting code\n",
    "    g = sns.catplot(x='games', y='predicted_nratings', hue=feat, \n",
    "            data=bar_data_pred, kind='bar', height=4)\n",
    "    \n",
    "    plt.title(title)\n",
    "    g.set_xticklabels(rotation=90)"
   ]
  },
  {
   "cell_type": "markdown",
   "metadata": {},
   "source": [
    "# Business Recommendations\n",
    "## Overall recommendations\n",
    "In general, the overall recommendations follow the previous recommendations. This project recommends the following:\n",
    "- **Create in-app purchase options to increase number of ratings.** The model strongly predicts that the increase in in-app purchase can increase the rating. Surprisingly, numerical features did not contribute to noticeable increase in number of ratings for WSS. Previous recommendation suggested allowing users to play upfront levels of WSS for free and purchasing later levels. This analysis agrees with the previous recommendation. In addition to allowing users to buy levels, we can allow users to buy \"hints\" to help them guide through the level. \n",
    "\n",
    "- **Consider revenue through advertisements.** Alternatively, Game Revenant can release the game for free but include advertisements to generate revenue. Game Revenant can allow no-ad version if users decide to buy the game. Increasing the number of ratings is the most important steps the Game Revenant should take to increase visibility. Revenue through in-app purchase and advertisement is aligned with top games and will likely to be the future of mobile gaming industry based on teh trend that we observed in this analysis. On the other hand, subscription did not increase the number of ratings; based on the game play of WSS, subscription model is not recommended.  \n",
    "\n",
    "- **Strive for Editor's choice.** The model predicts that Editor's choice can increase the number of ratings across all games. How Editor's choice is selected is not as well-known, except that free or paid apps is reviewed by professional App Store curators. Given the quality of the WSS, crafting a convincing pitch that outlines unique features of the game is recommended. Additionally, it is important to keep the app up-to-date and consider compatibility as one of the important features as it was determined in this project.  (https://clearbridgemobile.com/top-10-ways-to-get-your-app-featured-in-the-app-store/). Many Editor's Choice games are free, so changing the business strategy to allow in-app purchases instead charging the game upfront can help WSS be selected as Editor's Choice. \n",
    "\n",
    "## Model limitations \n",
    "\n",
    "Again, the largest limitation is that the model assumes that the number of ratings a game receives is strongly correlated with the actual number of downloads. In addition, some variables are innately related to each other and not completely independent (eg, score feature is related to star 5-1). Decreasing the number of features in the future can improve the model performance. \n",
    "\n",
    "Ultimately, consumer behavior needs to complement the analysis above to make actionable business recommendations. While free games perform better in number of ratings, it is unclear if these games are profitable. Even with in-app purchases, in-app purchases may not lead to increase in revenue, and the recommendations above need to be taken with caution.\n"
   ]
  }
 ],
 "metadata": {
  "kernelspec": {
   "display_name": "Python 3",
   "language": "python",
   "name": "python3"
  },
  "language_info": {
   "codemirror_mode": {
    "name": "ipython",
    "version": 3
   },
   "file_extension": ".py",
   "mimetype": "text/x-python",
   "name": "python",
   "nbconvert_exporter": "python",
   "pygments_lexer": "ipython3",
   "version": "3.7.4"
  },
  "toc": {
   "base_numbering": 1,
   "nav_menu": {},
   "number_sections": true,
   "sideBar": true,
   "skip_h1_title": false,
   "title_cell": "Table of Contents",
   "title_sidebar": "Contents",
   "toc_cell": false,
   "toc_position": {},
   "toc_section_display": true,
   "toc_window_display": true
  }
 },
 "nbformat": 4,
 "nbformat_minor": 2
}
